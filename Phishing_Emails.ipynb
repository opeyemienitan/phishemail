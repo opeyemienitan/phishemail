{
  "cells": [
    {
      "cell_type": "markdown",
      "metadata": {
        "id": "view-in-github",
        "colab_type": "text"
      },
      "source": [
        "<a href=\"https://colab.research.google.com/github/opeyemienitan/phishemail/blob/main/Phishing_Emails.ipynb\" target=\"_parent\"><img src=\"https://colab.research.google.com/assets/colab-badge.svg\" alt=\"Open In Colab\"/></a>"
      ]
    },
    {
      "cell_type": "markdown",
      "metadata": {
        "id": "6BiieDN_-GQE"
      },
      "source": [
        "I. Importing essential libraries"
      ]
    },
    {
      "cell_type": "code",
      "execution_count": 17,
      "metadata": {
        "id": "C1QYcEZJj44X",
        "colab": {
          "base_uri": "https://localhost:8080/"
        },
        "outputId": "618fbeeb-8628-4496-892b-03269f6bd7b3"
      },
      "outputs": [
        {
          "output_type": "stream",
          "name": "stdout",
          "text": [
            "['.config', 'drive', 'sample_data']\n"
          ]
        }
      ],
      "source": [
        "import numpy as np\n",
        "import pandas as pd\n",
        "import matplotlib.pyplot as plt\n",
        "import seaborn as sns\n",
        "from sklearn.metrics import classification_report\n",
        "from sklearn.metrics import confusion_matrix\n",
        "from sklearn.metrics import confusion_matrix, accuracy_score\n",
        "%matplotlib inline\n",
        "from sklearn.model_selection import learning_curve\n",
        "import os\n",
        "print(os.listdir())\n",
        "\n",
        "import warnings\n",
        "warnings.filterwarnings('ignore')"
      ]
    },
    {
      "cell_type": "markdown",
      "metadata": {
        "id": "L6YomgkBTite"
      },
      "source": [
        "II. Importing and understanding our dataset"
      ]
    },
    {
      "cell_type": "code",
      "execution_count": 18,
      "metadata": {
        "id": "rA9vXK4D_cSK",
        "colab": {
          "base_uri": "https://localhost:8080/"
        },
        "outputId": "7defd5e8-e656-4f7f-f117-5d477e0f7c45"
      },
      "outputs": [
        {
          "output_type": "stream",
          "name": "stdout",
          "text": [
            "Drive already mounted at /content/drive; to attempt to forcibly remount, call drive.mount(\"/content/drive\", force_remount=True).\n"
          ]
        }
      ],
      "source": [
        "from google.colab import drive\n",
        "drive.mount('/content/drive')"
      ]
    },
    {
      "cell_type": "code",
      "execution_count": 19,
      "metadata": {
        "id": "zT01Kxx5waB3"
      },
      "outputs": [],
      "source": [
        "dataset = pd.read_csv(\"/content/drive/MyDrive/Phishing_Email.csv\")"
      ]
    },
    {
      "cell_type": "markdown",
      "metadata": {
        "id": "2qQ15mRkBLPG"
      },
      "source": []
    },
    {
      "cell_type": "code",
      "execution_count": 20,
      "metadata": {
        "id": "64XNoJ-o-EEu",
        "colab": {
          "base_uri": "https://localhost:8080/",
          "height": 204
        },
        "outputId": "242267ca-6951-47de-c6db-45b5176dc8ed"
      },
      "outputs": [
        {
          "output_type": "execute_result",
          "data": {
            "text/plain": [
              "pandas.core.frame.DataFrame"
            ],
            "text/html": [
              "<div style=\"max-width:800px; border: 1px solid var(--colab-border-color);\"><style>\n",
              "      pre.function-repr-contents {\n",
              "        overflow-x: auto;\n",
              "        padding: 8px 12px;\n",
              "        max-height: 500px;\n",
              "      }\n",
              "\n",
              "      pre.function-repr-contents.function-repr-contents-collapsed {\n",
              "        cursor: pointer;\n",
              "        max-height: 100px;\n",
              "      }\n",
              "    </style>\n",
              "    <pre style=\"white-space: initial; background:\n",
              "         var(--colab-secondary-surface-color); padding: 8px 12px;\n",
              "         border-bottom: 1px solid var(--colab-border-color);\"><b>pandas.core.frame.DataFrame</b><br/>def __init__(data=None, index: Axes | None=None, columns: Axes | None=None, dtype: Dtype | None=None, copy: bool | None=None) -&gt; None</pre><pre class=\"function-repr-contents function-repr-contents-collapsed\" style=\"\"><a class=\"filepath\" style=\"display:none\" href=\"#\">/usr/local/lib/python3.10/dist-packages/pandas/core/frame.py</a>Two-dimensional, size-mutable, potentially heterogeneous tabular data.\n",
              "\n",
              "Data structure also contains labeled axes (rows and columns).\n",
              "Arithmetic operations align on both row and column labels. Can be\n",
              "thought of as a dict-like container for Series objects. The primary\n",
              "pandas data structure.\n",
              "\n",
              "Parameters\n",
              "----------\n",
              "data : ndarray (structured or homogeneous), Iterable, dict, or DataFrame\n",
              "    Dict can contain Series, arrays, constants, dataclass or list-like objects. If\n",
              "    data is a dict, column order follows insertion-order. If a dict contains Series\n",
              "    which have an index defined, it is aligned by its index. This alignment also\n",
              "    occurs if data is a Series or a DataFrame itself. Alignment is done on\n",
              "    Series/DataFrame inputs.\n",
              "\n",
              "    If data is a list of dicts, column order follows insertion-order.\n",
              "\n",
              "index : Index or array-like\n",
              "    Index to use for resulting frame. Will default to RangeIndex if\n",
              "    no indexing information part of input data and no index provided.\n",
              "columns : Index or array-like\n",
              "    Column labels to use for resulting frame when data does not have them,\n",
              "    defaulting to RangeIndex(0, 1, 2, ..., n). If data contains column labels,\n",
              "    will perform column selection instead.\n",
              "dtype : dtype, default None\n",
              "    Data type to force. Only a single dtype is allowed. If None, infer.\n",
              "copy : bool or None, default None\n",
              "    Copy data from inputs.\n",
              "    For dict data, the default of None behaves like ``copy=True``.  For DataFrame\n",
              "    or 2d ndarray input, the default of None behaves like ``copy=False``.\n",
              "    If data is a dict containing one or more Series (possibly of different dtypes),\n",
              "    ``copy=False`` will ensure that these inputs are not copied.\n",
              "\n",
              "    .. versionchanged:: 1.3.0\n",
              "\n",
              "See Also\n",
              "--------\n",
              "DataFrame.from_records : Constructor from tuples, also record arrays.\n",
              "DataFrame.from_dict : From dicts of Series, arrays, or dicts.\n",
              "read_csv : Read a comma-separated values (csv) file into DataFrame.\n",
              "read_table : Read general delimited file into DataFrame.\n",
              "read_clipboard : Read text from clipboard into DataFrame.\n",
              "\n",
              "Notes\n",
              "-----\n",
              "Please reference the :ref:`User Guide &lt;basics.dataframe&gt;` for more information.\n",
              "\n",
              "Examples\n",
              "--------\n",
              "Constructing DataFrame from a dictionary.\n",
              "\n",
              "&gt;&gt;&gt; d = {&#x27;col1&#x27;: [1, 2], &#x27;col2&#x27;: [3, 4]}\n",
              "&gt;&gt;&gt; df = pd.DataFrame(data=d)\n",
              "&gt;&gt;&gt; df\n",
              "   col1  col2\n",
              "0     1     3\n",
              "1     2     4\n",
              "\n",
              "Notice that the inferred dtype is int64.\n",
              "\n",
              "&gt;&gt;&gt; df.dtypes\n",
              "col1    int64\n",
              "col2    int64\n",
              "dtype: object\n",
              "\n",
              "To enforce a single dtype:\n",
              "\n",
              "&gt;&gt;&gt; df = pd.DataFrame(data=d, dtype=np.int8)\n",
              "&gt;&gt;&gt; df.dtypes\n",
              "col1    int8\n",
              "col2    int8\n",
              "dtype: object\n",
              "\n",
              "Constructing DataFrame from a dictionary including Series:\n",
              "\n",
              "&gt;&gt;&gt; d = {&#x27;col1&#x27;: [0, 1, 2, 3], &#x27;col2&#x27;: pd.Series([2, 3], index=[2, 3])}\n",
              "&gt;&gt;&gt; pd.DataFrame(data=d, index=[0, 1, 2, 3])\n",
              "   col1  col2\n",
              "0     0   NaN\n",
              "1     1   NaN\n",
              "2     2   2.0\n",
              "3     3   3.0\n",
              "\n",
              "Constructing DataFrame from numpy ndarray:\n",
              "\n",
              "&gt;&gt;&gt; df2 = pd.DataFrame(np.array([[1, 2, 3], [4, 5, 6], [7, 8, 9]]),\n",
              "...                    columns=[&#x27;a&#x27;, &#x27;b&#x27;, &#x27;c&#x27;])\n",
              "&gt;&gt;&gt; df2\n",
              "   a  b  c\n",
              "0  1  2  3\n",
              "1  4  5  6\n",
              "2  7  8  9\n",
              "\n",
              "Constructing DataFrame from a numpy ndarray that has labeled columns:\n",
              "\n",
              "&gt;&gt;&gt; data = np.array([(1, 2, 3), (4, 5, 6), (7, 8, 9)],\n",
              "...                 dtype=[(&quot;a&quot;, &quot;i4&quot;), (&quot;b&quot;, &quot;i4&quot;), (&quot;c&quot;, &quot;i4&quot;)])\n",
              "&gt;&gt;&gt; df3 = pd.DataFrame(data, columns=[&#x27;c&#x27;, &#x27;a&#x27;])\n",
              "...\n",
              "&gt;&gt;&gt; df3\n",
              "   c  a\n",
              "0  3  1\n",
              "1  6  4\n",
              "2  9  7\n",
              "\n",
              "Constructing DataFrame from dataclass:\n",
              "\n",
              "&gt;&gt;&gt; from dataclasses import make_dataclass\n",
              "&gt;&gt;&gt; Point = make_dataclass(&quot;Point&quot;, [(&quot;x&quot;, int), (&quot;y&quot;, int)])\n",
              "&gt;&gt;&gt; pd.DataFrame([Point(0, 0), Point(0, 3), Point(2, 3)])\n",
              "   x  y\n",
              "0  0  0\n",
              "1  0  3\n",
              "2  2  3\n",
              "\n",
              "Constructing DataFrame from Series/DataFrame:\n",
              "\n",
              "&gt;&gt;&gt; ser = pd.Series([1, 2, 3], index=[&quot;a&quot;, &quot;b&quot;, &quot;c&quot;])\n",
              "&gt;&gt;&gt; df = pd.DataFrame(data=ser, index=[&quot;a&quot;, &quot;c&quot;])\n",
              "&gt;&gt;&gt; df\n",
              "   0\n",
              "a  1\n",
              "c  3\n",
              "\n",
              "&gt;&gt;&gt; df1 = pd.DataFrame([1, 2, 3], index=[&quot;a&quot;, &quot;b&quot;, &quot;c&quot;], columns=[&quot;x&quot;])\n",
              "&gt;&gt;&gt; df2 = pd.DataFrame(data=df1, index=[&quot;a&quot;, &quot;c&quot;])\n",
              "&gt;&gt;&gt; df2\n",
              "   x\n",
              "a  1\n",
              "c  3</pre>\n",
              "      <script>\n",
              "      if (google.colab.kernel.accessAllowed && google.colab.files && google.colab.files.view) {\n",
              "        for (const element of document.querySelectorAll('.filepath')) {\n",
              "          element.style.display = 'block'\n",
              "          element.onclick = (event) => {\n",
              "            event.preventDefault();\n",
              "            event.stopPropagation();\n",
              "            google.colab.files.view(element.textContent, 509);\n",
              "          };\n",
              "        }\n",
              "      }\n",
              "      for (const element of document.querySelectorAll('.function-repr-contents')) {\n",
              "        element.onclick = (event) => {\n",
              "          event.preventDefault();\n",
              "          event.stopPropagation();\n",
              "          element.classList.toggle('function-repr-contents-collapsed');\n",
              "        };\n",
              "      }\n",
              "      </script>\n",
              "      </div>"
            ]
          },
          "metadata": {},
          "execution_count": 20
        }
      ],
      "source": [
        "type(dataset)"
      ]
    },
    {
      "cell_type": "code",
      "execution_count": 21,
      "metadata": {
        "id": "8qC9bTzyBKC8",
        "colab": {
          "base_uri": "https://localhost:8080/"
        },
        "outputId": "28c9edeb-fa09-472c-b45c-5e37ea8e5679"
      },
      "outputs": [
        {
          "output_type": "execute_result",
          "data": {
            "text/plain": [
              "(18650, 3)"
            ]
          },
          "metadata": {},
          "execution_count": 21
        }
      ],
      "source": [
        "dataset.shape"
      ]
    },
    {
      "cell_type": "code",
      "execution_count": 22,
      "metadata": {
        "id": "MTg7JMNwBVIJ",
        "colab": {
          "base_uri": "https://localhost:8080/",
          "height": 300
        },
        "outputId": "e45b395e-7372-4cc2-88c8-3405dd4f3b2c"
      },
      "outputs": [
        {
          "output_type": "execute_result",
          "data": {
            "text/plain": [
              "         Unnamed: 0\n",
              "count  18650.000000\n",
              "mean    9325.154477\n",
              "std     5384.327293\n",
              "min        0.000000\n",
              "25%     4662.250000\n",
              "50%     9325.500000\n",
              "75%    13987.750000\n",
              "max    18650.000000"
            ],
            "text/html": [
              "\n",
              "  <div id=\"df-568be070-c81f-430b-ab14-ed37aae01044\" class=\"colab-df-container\">\n",
              "    <div>\n",
              "<style scoped>\n",
              "    .dataframe tbody tr th:only-of-type {\n",
              "        vertical-align: middle;\n",
              "    }\n",
              "\n",
              "    .dataframe tbody tr th {\n",
              "        vertical-align: top;\n",
              "    }\n",
              "\n",
              "    .dataframe thead th {\n",
              "        text-align: right;\n",
              "    }\n",
              "</style>\n",
              "<table border=\"1\" class=\"dataframe\">\n",
              "  <thead>\n",
              "    <tr style=\"text-align: right;\">\n",
              "      <th></th>\n",
              "      <th>Unnamed: 0</th>\n",
              "    </tr>\n",
              "  </thead>\n",
              "  <tbody>\n",
              "    <tr>\n",
              "      <th>count</th>\n",
              "      <td>18650.000000</td>\n",
              "    </tr>\n",
              "    <tr>\n",
              "      <th>mean</th>\n",
              "      <td>9325.154477</td>\n",
              "    </tr>\n",
              "    <tr>\n",
              "      <th>std</th>\n",
              "      <td>5384.327293</td>\n",
              "    </tr>\n",
              "    <tr>\n",
              "      <th>min</th>\n",
              "      <td>0.000000</td>\n",
              "    </tr>\n",
              "    <tr>\n",
              "      <th>25%</th>\n",
              "      <td>4662.250000</td>\n",
              "    </tr>\n",
              "    <tr>\n",
              "      <th>50%</th>\n",
              "      <td>9325.500000</td>\n",
              "    </tr>\n",
              "    <tr>\n",
              "      <th>75%</th>\n",
              "      <td>13987.750000</td>\n",
              "    </tr>\n",
              "    <tr>\n",
              "      <th>max</th>\n",
              "      <td>18650.000000</td>\n",
              "    </tr>\n",
              "  </tbody>\n",
              "</table>\n",
              "</div>\n",
              "    <div class=\"colab-df-buttons\">\n",
              "\n",
              "  <div class=\"colab-df-container\">\n",
              "    <button class=\"colab-df-convert\" onclick=\"convertToInteractive('df-568be070-c81f-430b-ab14-ed37aae01044')\"\n",
              "            title=\"Convert this dataframe to an interactive table.\"\n",
              "            style=\"display:none;\">\n",
              "\n",
              "  <svg xmlns=\"http://www.w3.org/2000/svg\" height=\"24px\" viewBox=\"0 -960 960 960\">\n",
              "    <path d=\"M120-120v-720h720v720H120Zm60-500h600v-160H180v160Zm220 220h160v-160H400v160Zm0 220h160v-160H400v160ZM180-400h160v-160H180v160Zm440 0h160v-160H620v160ZM180-180h160v-160H180v160Zm440 0h160v-160H620v160Z\"/>\n",
              "  </svg>\n",
              "    </button>\n",
              "\n",
              "  <style>\n",
              "    .colab-df-container {\n",
              "      display:flex;\n",
              "      gap: 12px;\n",
              "    }\n",
              "\n",
              "    .colab-df-convert {\n",
              "      background-color: #E8F0FE;\n",
              "      border: none;\n",
              "      border-radius: 50%;\n",
              "      cursor: pointer;\n",
              "      display: none;\n",
              "      fill: #1967D2;\n",
              "      height: 32px;\n",
              "      padding: 0 0 0 0;\n",
              "      width: 32px;\n",
              "    }\n",
              "\n",
              "    .colab-df-convert:hover {\n",
              "      background-color: #E2EBFA;\n",
              "      box-shadow: 0px 1px 2px rgba(60, 64, 67, 0.3), 0px 1px 3px 1px rgba(60, 64, 67, 0.15);\n",
              "      fill: #174EA6;\n",
              "    }\n",
              "\n",
              "    .colab-df-buttons div {\n",
              "      margin-bottom: 4px;\n",
              "    }\n",
              "\n",
              "    [theme=dark] .colab-df-convert {\n",
              "      background-color: #3B4455;\n",
              "      fill: #D2E3FC;\n",
              "    }\n",
              "\n",
              "    [theme=dark] .colab-df-convert:hover {\n",
              "      background-color: #434B5C;\n",
              "      box-shadow: 0px 1px 3px 1px rgba(0, 0, 0, 0.15);\n",
              "      filter: drop-shadow(0px 1px 2px rgba(0, 0, 0, 0.3));\n",
              "      fill: #FFFFFF;\n",
              "    }\n",
              "  </style>\n",
              "\n",
              "    <script>\n",
              "      const buttonEl =\n",
              "        document.querySelector('#df-568be070-c81f-430b-ab14-ed37aae01044 button.colab-df-convert');\n",
              "      buttonEl.style.display =\n",
              "        google.colab.kernel.accessAllowed ? 'block' : 'none';\n",
              "\n",
              "      async function convertToInteractive(key) {\n",
              "        const element = document.querySelector('#df-568be070-c81f-430b-ab14-ed37aae01044');\n",
              "        const dataTable =\n",
              "          await google.colab.kernel.invokeFunction('convertToInteractive',\n",
              "                                                    [key], {});\n",
              "        if (!dataTable) return;\n",
              "\n",
              "        const docLinkHtml = 'Like what you see? Visit the ' +\n",
              "          '<a target=\"_blank\" href=https://colab.research.google.com/notebooks/data_table.ipynb>data table notebook</a>'\n",
              "          + ' to learn more about interactive tables.';\n",
              "        element.innerHTML = '';\n",
              "        dataTable['output_type'] = 'display_data';\n",
              "        await google.colab.output.renderOutput(dataTable, element);\n",
              "        const docLink = document.createElement('div');\n",
              "        docLink.innerHTML = docLinkHtml;\n",
              "        element.appendChild(docLink);\n",
              "      }\n",
              "    </script>\n",
              "  </div>\n",
              "\n",
              "\n",
              "<div id=\"df-aefc08ae-7feb-4566-ad58-4753425ac1a8\">\n",
              "  <button class=\"colab-df-quickchart\" onclick=\"quickchart('df-aefc08ae-7feb-4566-ad58-4753425ac1a8')\"\n",
              "            title=\"Suggest charts\"\n",
              "            style=\"display:none;\">\n",
              "\n",
              "<svg xmlns=\"http://www.w3.org/2000/svg\" height=\"24px\"viewBox=\"0 0 24 24\"\n",
              "     width=\"24px\">\n",
              "    <g>\n",
              "        <path d=\"M19 3H5c-1.1 0-2 .9-2 2v14c0 1.1.9 2 2 2h14c1.1 0 2-.9 2-2V5c0-1.1-.9-2-2-2zM9 17H7v-7h2v7zm4 0h-2V7h2v10zm4 0h-2v-4h2v4z\"/>\n",
              "    </g>\n",
              "</svg>\n",
              "  </button>\n",
              "\n",
              "<style>\n",
              "  .colab-df-quickchart {\n",
              "      --bg-color: #E8F0FE;\n",
              "      --fill-color: #1967D2;\n",
              "      --hover-bg-color: #E2EBFA;\n",
              "      --hover-fill-color: #174EA6;\n",
              "      --disabled-fill-color: #AAA;\n",
              "      --disabled-bg-color: #DDD;\n",
              "  }\n",
              "\n",
              "  [theme=dark] .colab-df-quickchart {\n",
              "      --bg-color: #3B4455;\n",
              "      --fill-color: #D2E3FC;\n",
              "      --hover-bg-color: #434B5C;\n",
              "      --hover-fill-color: #FFFFFF;\n",
              "      --disabled-bg-color: #3B4455;\n",
              "      --disabled-fill-color: #666;\n",
              "  }\n",
              "\n",
              "  .colab-df-quickchart {\n",
              "    background-color: var(--bg-color);\n",
              "    border: none;\n",
              "    border-radius: 50%;\n",
              "    cursor: pointer;\n",
              "    display: none;\n",
              "    fill: var(--fill-color);\n",
              "    height: 32px;\n",
              "    padding: 0;\n",
              "    width: 32px;\n",
              "  }\n",
              "\n",
              "  .colab-df-quickchart:hover {\n",
              "    background-color: var(--hover-bg-color);\n",
              "    box-shadow: 0 1px 2px rgba(60, 64, 67, 0.3), 0 1px 3px 1px rgba(60, 64, 67, 0.15);\n",
              "    fill: var(--button-hover-fill-color);\n",
              "  }\n",
              "\n",
              "  .colab-df-quickchart-complete:disabled,\n",
              "  .colab-df-quickchart-complete:disabled:hover {\n",
              "    background-color: var(--disabled-bg-color);\n",
              "    fill: var(--disabled-fill-color);\n",
              "    box-shadow: none;\n",
              "  }\n",
              "\n",
              "  .colab-df-spinner {\n",
              "    border: 2px solid var(--fill-color);\n",
              "    border-color: transparent;\n",
              "    border-bottom-color: var(--fill-color);\n",
              "    animation:\n",
              "      spin 1s steps(1) infinite;\n",
              "  }\n",
              "\n",
              "  @keyframes spin {\n",
              "    0% {\n",
              "      border-color: transparent;\n",
              "      border-bottom-color: var(--fill-color);\n",
              "      border-left-color: var(--fill-color);\n",
              "    }\n",
              "    20% {\n",
              "      border-color: transparent;\n",
              "      border-left-color: var(--fill-color);\n",
              "      border-top-color: var(--fill-color);\n",
              "    }\n",
              "    30% {\n",
              "      border-color: transparent;\n",
              "      border-left-color: var(--fill-color);\n",
              "      border-top-color: var(--fill-color);\n",
              "      border-right-color: var(--fill-color);\n",
              "    }\n",
              "    40% {\n",
              "      border-color: transparent;\n",
              "      border-right-color: var(--fill-color);\n",
              "      border-top-color: var(--fill-color);\n",
              "    }\n",
              "    60% {\n",
              "      border-color: transparent;\n",
              "      border-right-color: var(--fill-color);\n",
              "    }\n",
              "    80% {\n",
              "      border-color: transparent;\n",
              "      border-right-color: var(--fill-color);\n",
              "      border-bottom-color: var(--fill-color);\n",
              "    }\n",
              "    90% {\n",
              "      border-color: transparent;\n",
              "      border-bottom-color: var(--fill-color);\n",
              "    }\n",
              "  }\n",
              "</style>\n",
              "\n",
              "  <script>\n",
              "    async function quickchart(key) {\n",
              "      const quickchartButtonEl =\n",
              "        document.querySelector('#' + key + ' button');\n",
              "      quickchartButtonEl.disabled = true;  // To prevent multiple clicks.\n",
              "      quickchartButtonEl.classList.add('colab-df-spinner');\n",
              "      try {\n",
              "        const charts = await google.colab.kernel.invokeFunction(\n",
              "            'suggestCharts', [key], {});\n",
              "      } catch (error) {\n",
              "        console.error('Error during call to suggestCharts:', error);\n",
              "      }\n",
              "      quickchartButtonEl.classList.remove('colab-df-spinner');\n",
              "      quickchartButtonEl.classList.add('colab-df-quickchart-complete');\n",
              "    }\n",
              "    (() => {\n",
              "      let quickchartButtonEl =\n",
              "        document.querySelector('#df-aefc08ae-7feb-4566-ad58-4753425ac1a8 button');\n",
              "      quickchartButtonEl.style.display =\n",
              "        google.colab.kernel.accessAllowed ? 'block' : 'none';\n",
              "    })();\n",
              "  </script>\n",
              "</div>\n",
              "\n",
              "    </div>\n",
              "  </div>\n"
            ],
            "application/vnd.google.colaboratory.intrinsic+json": {
              "type": "dataframe",
              "summary": "{\n  \"name\": \"dataset\",\n  \"rows\": 8,\n  \"fields\": [\n    {\n      \"column\": \"Unnamed: 0\",\n      \"properties\": {\n        \"dtype\": \"number\",\n        \"std\": 6721.537857565698,\n        \"min\": 0.0,\n        \"max\": 18650.0,\n        \"num_unique_values\": 7,\n        \"samples\": [\n          18650.0,\n          9325.154477211796,\n          9325.5\n        ],\n        \"semantic_type\": \"\",\n        \"description\": \"\"\n      }\n    }\n  ]\n}"
            }
          },
          "metadata": {},
          "execution_count": 22
        }
      ],
      "source": [
        "dataset.describe()"
      ]
    },
    {
      "cell_type": "code",
      "execution_count": 23,
      "metadata": {
        "id": "XBQ4XOWQBqCz",
        "colab": {
          "base_uri": "https://localhost:8080/"
        },
        "outputId": "8849198f-9541-48b6-facc-2b17472757b4"
      },
      "outputs": [
        {
          "output_type": "stream",
          "name": "stdout",
          "text": [
            "<class 'pandas.core.frame.DataFrame'>\n",
            "RangeIndex: 18650 entries, 0 to 18649\n",
            "Data columns (total 3 columns):\n",
            " #   Column      Non-Null Count  Dtype \n",
            "---  ------      --------------  ----- \n",
            " 0   Unnamed: 0  18650 non-null  int64 \n",
            " 1   Email Text  18634 non-null  object\n",
            " 2   Email Type  18650 non-null  object\n",
            "dtypes: int64(1), object(2)\n",
            "memory usage: 437.2+ KB\n"
          ]
        }
      ],
      "source": [
        "dataset.info()"
      ]
    },
    {
      "cell_type": "code",
      "execution_count": 24,
      "metadata": {
        "id": "lnB7ia_V619I",
        "colab": {
          "base_uri": "https://localhost:8080/"
        },
        "outputId": "e54674b8-f697-418f-d0a2-9e2176a5c46f"
      },
      "outputs": [
        {
          "output_type": "stream",
          "name": "stdout",
          "text": [
            "   Unnamed: 0                                         Email Text  \\\n",
            "0           0  re : 6 . 1100 , disc : uniformitarianism , re ...   \n",
            "1           1  the other side of * galicismos * * galicismo *...   \n",
            "2           2  re : equistar deal tickets are you still avail...   \n",
            "3           3  \\nHello I am your hot lil horny toy.\\n    I am...   \n",
            "4           4  software at incredibly low prices ( 86 % lower...   \n",
            "\n",
            "       Email Type  Email Category  \n",
            "0      Safe Email               0  \n",
            "1      Safe Email               0  \n",
            "2      Safe Email               0  \n",
            "3  Phishing Email               1  \n",
            "4  Phishing Email               1  \n"
          ]
        }
      ],
      "source": [
        "df = dataset.copy()\n",
        "# Create a new column 'Label' based on the values in 'Email Type'\n",
        "df['Email Category'] = df['Email Type'].apply(lambda x: 0 if x == 'Safe Email' else 1)\n",
        "\n",
        "# Print the modified DataFrame\n",
        "print(df.head())"
      ]
    },
    {
      "cell_type": "code",
      "execution_count": 25,
      "metadata": {
        "id": "Z0UFEfCJ7N1P"
      },
      "outputs": [],
      "source": [
        "df_new = df.drop(['Email Type'], axis=1)"
      ]
    },
    {
      "cell_type": "code",
      "execution_count": 26,
      "metadata": {
        "id": "vBgB8v2J8Lm8",
        "colab": {
          "base_uri": "https://localhost:8080/"
        },
        "outputId": "5431e5b7-ebdb-4e0e-895a-9cd2d6e3972a"
      },
      "outputs": [
        {
          "output_type": "stream",
          "name": "stdout",
          "text": [
            "   Unnamed: 0                                         Email Text  Email Type\n",
            "0           0  re : 6 . 1100 , disc : uniformitarianism , re ...           0\n",
            "1           1  the other side of * galicismos * * galicismo *...           0\n",
            "2           2  re : equistar deal tickets are you still avail...           0\n",
            "3           3  \\nHello I am your hot lil horny toy.\\n    I am...           1\n",
            "4           4  software at incredibly low prices ( 86 % lower...           1\n"
          ]
        }
      ],
      "source": [
        "# Rename the 'Email Category' column to 'Email Type'\n",
        "df_new.rename(columns={'Email Category': 'Email Type'}, inplace=True)\n",
        "dataset = df_new.copy()\n",
        "data = df_new.copy()\n",
        "print(data.head())"
      ]
    },
    {
      "cell_type": "code",
      "execution_count": 27,
      "metadata": {
        "id": "Qyl9-XpcX9SO"
      },
      "outputs": [],
      "source": [
        "def read_data(file_path):\n",
        "    data = pd.read_csv(file_path, encoding='latin-1')\n",
        "    data.dropna(inplace=True)\n",
        "\n",
        "    label_encoder = LabelEncoder()\n",
        "    T_vectorizer = TfidfVectorizer(sublinear_tf=True, ngram_range=(1, 2), max_features=5000)\n",
        "\n",
        "    X = data['Email Text'].values\n",
        "    y = data['Email Type'].values\n",
        "\n",
        "    for i in range(len(y)):\n",
        "        if y[i] == 'Phishing Email':\n",
        "            y[i] = 1\n",
        "        else:\n",
        "            y[i] = 0\n",
        "\n",
        "    X = T_vectorizer.fit_transform(X)\n",
        "    y = label_encoder.fit_transform(y)\n",
        "    return X, y\n",
        "\n",
        "\n",
        "def print_report(y_val, y_pred, fold):\n",
        "    print(f'Fold: {fold}')\n",
        "    print(f'Accuracy Score: {accuracy_score(y_val, y_pred)}')\n",
        "    print(f'Confusion Matrix: \\n {confusion_matrix(y_val, y_pred)}')\n",
        "    print(f'Classification Report: \\n {classification_report(y_val, y_pred)}')"
      ]
    },
    {
      "cell_type": "code",
      "execution_count": 28,
      "metadata": {
        "id": "6hoCNCDoYkuc",
        "colab": {
          "base_uri": "https://localhost:8080/"
        },
        "outputId": "d5eed528-4b4e-4193-b0b7-f9ed58e5819b"
      },
      "outputs": [
        {
          "output_type": "stream",
          "name": "stdout",
          "text": [
            "   Unnamed: 0                                         Email Text  Email Type\n",
            "0           0  re : 6 . 1100 , disc : uniformitarianism , re ...           0\n",
            "1           1  the other side of * galicismos * * galicismo *...           0\n",
            "2           2  re : equistar deal tickets are you still avail...           0\n",
            "3           3  \\nHello I am your hot lil horny toy.\\n    I am...           1\n",
            "4           4  software at incredibly low prices ( 86 % lower...           1\n",
            "Email Type\n",
            "0    11322\n",
            "1     7328\n",
            "Name: count, dtype: int64\n"
          ]
        }
      ],
      "source": [
        "# data set preview\n",
        "data = dataset.copy()\n",
        "print(data.head())\n",
        "print(data['Email Type'].value_counts())"
      ]
    },
    {
      "cell_type": "code",
      "execution_count": 29,
      "metadata": {
        "id": "AP26oqRwaJ_0",
        "colab": {
          "base_uri": "https://localhost:8080/"
        },
        "outputId": "230a7462-1659-445d-d96d-3b6d27c64adf"
      },
      "outputs": [
        {
          "output_type": "stream",
          "name": "stdout",
          "text": [
            "\u001b[31mERROR: Could not find a version that satisfies the requirement numpy==1.22.5 (from versions: 1.3.0, 1.4.1, 1.5.0, 1.5.1, 1.6.0, 1.6.1, 1.6.2, 1.7.0, 1.7.1, 1.7.2, 1.8.0, 1.8.1, 1.8.2, 1.9.0, 1.9.1, 1.9.2, 1.9.3, 1.10.0.post2, 1.10.1, 1.10.2, 1.10.4, 1.11.0, 1.11.1, 1.11.2, 1.11.3, 1.12.0, 1.12.1, 1.13.0, 1.13.1, 1.13.3, 1.14.0, 1.14.1, 1.14.2, 1.14.3, 1.14.4, 1.14.5, 1.14.6, 1.15.0, 1.15.1, 1.15.2, 1.15.3, 1.15.4, 1.16.0, 1.16.1, 1.16.2, 1.16.3, 1.16.4, 1.16.5, 1.16.6, 1.17.0, 1.17.1, 1.17.2, 1.17.3, 1.17.4, 1.17.5, 1.18.0, 1.18.1, 1.18.2, 1.18.3, 1.18.4, 1.18.5, 1.19.0, 1.19.1, 1.19.2, 1.19.3, 1.19.4, 1.19.5, 1.20.0, 1.20.1, 1.20.2, 1.20.3, 1.21.0, 1.21.1, 1.21.2, 1.21.3, 1.21.4, 1.21.5, 1.21.6, 1.22.0, 1.22.1, 1.22.2, 1.22.3, 1.22.4, 1.23.0, 1.23.1, 1.23.2, 1.23.3, 1.23.4, 1.23.5, 1.24.0, 1.24.1, 1.24.2, 1.24.3, 1.24.4, 1.25.0, 1.25.1, 1.25.2, 1.26.0, 1.26.1, 1.26.2, 1.26.3, 1.26.4, 2.0.0, 2.0.1, 2.0.2, 2.1.0rc1, 2.1.0, 2.1.1)\u001b[0m\u001b[31m\n",
            "\u001b[0m\u001b[31mERROR: No matching distribution found for numpy==1.22.5\u001b[0m\u001b[31m\n",
            "\u001b[0m"
          ]
        }
      ],
      "source": [
        "!pip install numpy==1.22.5"
      ]
    },
    {
      "cell_type": "code",
      "execution_count": 30,
      "metadata": {
        "id": "mEeD47kAaVRS",
        "colab": {
          "base_uri": "https://localhost:8080/"
        },
        "outputId": "18a33592-f528-417e-c98a-f6fe42a071c4"
      },
      "outputs": [
        {
          "output_type": "stream",
          "name": "stderr",
          "text": [
            "[nltk_data] Downloading package stopwords to /root/nltk_data...\n",
            "[nltk_data]   Package stopwords is already up-to-date!\n"
          ]
        }
      ],
      "source": [
        "import nltk\n",
        "import re\n",
        "from nltk.corpus import stopwords\n",
        "nltk.download('stopwords')\n",
        "stop_words = set(stopwords.words('english'))"
      ]
    },
    {
      "cell_type": "code",
      "execution_count": 31,
      "metadata": {
        "id": "ycTvcBcqaWAV",
        "colab": {
          "base_uri": "https://localhost:8080/"
        },
        "outputId": "1c5ff96a-e809-4243-b4d9-b29a5be1972a"
      },
      "outputs": [
        {
          "output_type": "execute_result",
          "data": {
            "text/plain": [
              "16"
            ]
          },
          "metadata": {},
          "execution_count": 31
        }
      ],
      "source": [
        "dataset['Email Text'].isnull().sum()"
      ]
    },
    {
      "cell_type": "code",
      "execution_count": 32,
      "metadata": {
        "id": "N3CAOqoeaZq4",
        "colab": {
          "base_uri": "https://localhost:8080/"
        },
        "outputId": "1e9ce467-2304-4bcd-8a7a-8aadc7749ec5"
      },
      "outputs": [
        {
          "output_type": "execute_result",
          "data": {
            "text/plain": [
              "0"
            ]
          },
          "metadata": {},
          "execution_count": 32
        }
      ],
      "source": [
        "dataset['Email Type'].isnull().sum()"
      ]
    },
    {
      "cell_type": "code",
      "execution_count": 33,
      "metadata": {
        "id": "XEypwWd8am-o",
        "colab": {
          "base_uri": "https://localhost:8080/"
        },
        "outputId": "cc53932d-a408-4546-fd0b-c5a1d8f2242f"
      },
      "outputs": [
        {
          "output_type": "stream",
          "name": "stdout",
          "text": [
            "   Unnamed: 0                                         Email Text  Email Type\n",
            "0           0  re : 6 . 1100 , disc : uniformitarianism , re ...           0\n",
            "1           1  the other side of * galicismos * * galicismo *...           0\n",
            "2           2  re : equistar deal tickets are you still avail...           0\n",
            "3           3  \\nHello I am your hot lil horny toy.\\n    I am...           1\n",
            "4           4  software at incredibly low prices ( 86 % lower...           1\n"
          ]
        }
      ],
      "source": [
        "print(dataset.head())"
      ]
    },
    {
      "cell_type": "code",
      "execution_count": null,
      "metadata": {
        "id": "Dtgt73SOadmO"
      },
      "outputs": [],
      "source": [
        "from nltk.stem.porter import PorterStemmer\n",
        "corpus = []\n",
        "for i in range(0, 18650):\n",
        "    email = re.sub('[^a-zA-Z]', ' ', str(dataset['Email Text'][i]))\n",
        "    email = email.lower()\n",
        "    email = email.split()\n",
        "    ps = PorterStemmer()\n",
        "    email = [ps.stem(word) for word in email if word not in set(stop_words)]\n",
        "    email = ' '.join(email)\n",
        "    corpus.append(email)"
      ]
    },
    {
      "cell_type": "code",
      "execution_count": null,
      "metadata": {
        "id": "TiS-yc8Ya3Zb"
      },
      "outputs": [],
      "source": [
        "from sklearn.feature_extraction.text import CountVectorizer\n",
        "cv = CountVectorizer(max_features = 18000)\n",
        "X = cv.fit_transform(corpus).toarray()\n",
        "y = dataset.iloc[:, -1].values"
      ]
    },
    {
      "cell_type": "code",
      "execution_count": null,
      "metadata": {
        "id": "nYhpcZYZa8qZ"
      },
      "outputs": [],
      "source": [
        "y"
      ]
    },
    {
      "cell_type": "code",
      "execution_count": null,
      "metadata": {
        "id": "9azl6pCUbCw6"
      },
      "outputs": [],
      "source": [
        "X"
      ]
    },
    {
      "cell_type": "code",
      "execution_count": null,
      "metadata": {
        "id": "dIvA4eI7bCkN"
      },
      "outputs": [],
      "source": [
        "from sklearn.model_selection import train_test_split\n",
        "X_train, X_test, y_train, y_test = train_test_split(X, y, test_size = 0.20, random_state = 40)"
      ]
    },
    {
      "cell_type": "markdown",
      "metadata": {
        "id": "dWb0IajeBOKl"
      },
      "source": [
        "Naive Bayes"
      ]
    },
    {
      "cell_type": "code",
      "execution_count": null,
      "metadata": {
        "id": "B3KbBuzvc0jm"
      },
      "outputs": [],
      "source": [
        "from sklearn.naive_bayes import GaussianNB\n",
        "classifier = GaussianNB()\n",
        "classifier.fit(X_train, y_train)"
      ]
    },
    {
      "cell_type": "code",
      "execution_count": null,
      "metadata": {
        "id": "UU2MHi7lc5NC"
      },
      "outputs": [],
      "source": [
        "y_pred = classifier.predict(X_test)\n",
        "print(np.concatenate((y_pred.reshape(len(y_pred),1), y_test.reshape(len(y_test),1)),1))"
      ]
    },
    {
      "cell_type": "code",
      "execution_count": null,
      "metadata": {
        "id": "MnAtN-lHc-0Q"
      },
      "outputs": [],
      "source": [
        "from sklearn.metrics import confusion_matrix, accuracy_score\n",
        "cm = confusion_matrix(y_test, y_pred)\n",
        "print(cm)\n",
        "accuracy_score(y_test, y_pred)"
      ]
    },
    {
      "cell_type": "markdown",
      "metadata": {
        "id": "bu2YLW5QBRMh"
      },
      "source": [
        "Logistic Regression"
      ]
    },
    {
      "cell_type": "code",
      "execution_count": null,
      "metadata": {
        "id": "LdXFkybQdki9"
      },
      "outputs": [],
      "source": [
        "from sklearn.linear_model import LogisticRegression\n",
        "\n",
        "lor = LogisticRegression()\n",
        "\n",
        "lor.fit(X_train,y_train)\n",
        "\n",
        "Y_pred_lor = lor.predict(X_test)"
      ]
    },
    {
      "cell_type": "code",
      "execution_count": null,
      "metadata": {
        "id": "cZZzmCtgd43l"
      },
      "outputs": [],
      "source": [
        "cm = confusion_matrix(y_test, Y_pred_lor)\n",
        "print(cm)\n",
        "accuracy_score(y_test, Y_pred_lor)"
      ]
    },
    {
      "cell_type": "code",
      "execution_count": null,
      "metadata": {
        "id": "-skE_4F7f9_W"
      },
      "outputs": [],
      "source": [
        "print(classification_report(y_test, Y_pred_lor))"
      ]
    },
    {
      "cell_type": "code",
      "execution_count": null,
      "metadata": {
        "id": "SF1tpbTFg0Lm"
      },
      "outputs": [],
      "source": [
        "from sklearn.metrics import confusion_matrix\n",
        "import seaborn as sns\n",
        "import matplotlib.pyplot as plt\n",
        "\n",
        "# predict on test set\n",
        "Y_pred_lor = lor.predict(X_test)\n",
        "\n",
        "# create confusion matrix\n",
        "cm = confusion_matrix(y_test, Y_pred_lor)\n",
        "\n",
        "# plot confusion matrix using seaborn heatmap\n",
        "sns.heatmap(cm, annot=True, cmap='Blues', fmt='g')\n",
        "plt.xlabel('Predicted')\n",
        "plt.ylabel('True')\n",
        "plt.show()\n"
      ]
    },
    {
      "cell_type": "markdown",
      "metadata": {
        "id": "q3Gas5gJL9J9"
      },
      "source": [
        "Gradient Boosting Machines"
      ]
    },
    {
      "cell_type": "code",
      "execution_count": null,
      "metadata": {
        "id": "SGVRLLhMm477"
      },
      "outputs": [],
      "source": [
        "from sklearn.ensemble import GradientBoostingClassifier\n",
        "from sklearn.metrics import accuracy_score, classification_report\n",
        "\n",
        "gbm = GradientBoostingClassifier()\n",
        "\n",
        "gbm.fit(X_train, y_train)"
      ]
    },
    {
      "cell_type": "code",
      "execution_count": null,
      "metadata": {
        "id": "upeUxMPSL3qQ"
      },
      "outputs": [],
      "source": [
        "\n",
        "Y_pred_gbm = gbm.predict(X_test)\n",
        "\n",
        "print(\"Accuracy score: {:.2f}\".format(accuracy_score(y_test, Y_pred_gbm)))\n",
        "print(classification_report(y_test, Y_pred_gbm))\n"
      ]
    },
    {
      "cell_type": "code",
      "execution_count": null,
      "metadata": {
        "id": "7ufHE5UjSxUE"
      },
      "outputs": [],
      "source": [
        "from sklearn.metrics import confusion_matrix\n",
        "import seaborn as sns\n",
        "import matplotlib.pyplot as plt\n",
        "\n",
        "# predict on test set\n",
        "Y_pred_gbm = gbm.predict(X_test)\n",
        "\n",
        "# create confusion matrix\n",
        "cm = confusion_matrix(y_test, Y_pred_gbm)\n",
        "\n",
        "# plot confusion matrix using seaborn heatmap\n",
        "sns.heatmap(cm, annot=True, cmap='Blues', fmt='g')\n",
        "plt.xlabel('Predicted')\n",
        "plt.ylabel('True')\n",
        "plt.show()\n"
      ]
    },
    {
      "cell_type": "markdown",
      "metadata": {
        "id": "EwNBgGTrrWmn"
      },
      "source": [
        "Xgboost"
      ]
    },
    {
      "cell_type": "code",
      "execution_count": null,
      "metadata": {
        "id": "tMPiPzaXpLy5"
      },
      "outputs": [],
      "source": [
        "import xgboost as xgb\n",
        "\n",
        "xgb_model = xgb.XGBClassifier(objective=\"binary:logistic\", random_state=42)\n",
        "xgb_model.fit(X_train, y_train)"
      ]
    },
    {
      "cell_type": "code",
      "execution_count": null,
      "metadata": {
        "id": "EXEPfASJrbdU"
      },
      "outputs": [],
      "source": [
        "\n",
        "Y_pred_xgb = xgb_model.predict(X_test)\n",
        "print(classification_report(y_test, Y_pred_xgb))"
      ]
    },
    {
      "cell_type": "code",
      "execution_count": null,
      "metadata": {
        "id": "wngOSZu4TSZ6"
      },
      "outputs": [],
      "source": [
        "from sklearn.metrics import confusion_matrix\n",
        "import seaborn as sns\n",
        "import matplotlib.pyplot as plt\n",
        "\n",
        "# predict on test set\n",
        "Y_pred_xgb = xgb_model.predict(X_test)\n",
        "\n",
        "# create confusion matrix\n",
        "cm = confusion_matrix(y_test, Y_pred_xgb)\n",
        "\n",
        "# plot confusion matrix using seaborn heatmap\n",
        "sns.heatmap(cm, annot=True, cmap='Blues', fmt='g')\n",
        "plt.xlabel('Predicted')\n",
        "plt.ylabel('True')\n",
        "plt.show()\n"
      ]
    },
    {
      "cell_type": "markdown",
      "metadata": {
        "id": "ZXvGXbzJHoJ6"
      },
      "source": [
        "SVM"
      ]
    },
    {
      "cell_type": "code",
      "execution_count": null,
      "metadata": {
        "id": "iujgjuB9r36Z"
      },
      "outputs": [],
      "source": [
        "from sklearn import svm\n",
        "\n",
        "svm = svm.SVC(kernel='linear')\n",
        "\n",
        "svm.fit(X_train, y_train)"
      ]
    },
    {
      "cell_type": "code",
      "execution_count": null,
      "metadata": {
        "id": "FWmm-ZBgHhXE"
      },
      "outputs": [],
      "source": [
        "Y_pred_svm = svm.predict(X_test)\n",
        "print(classification_report(y_test, Y_pred_svm))"
      ]
    },
    {
      "cell_type": "code",
      "execution_count": null,
      "metadata": {
        "id": "-n1WkTceTfYe"
      },
      "outputs": [],
      "source": [
        "from sklearn.metrics import confusion_matrix\n",
        "import seaborn as sns\n",
        "import matplotlib.pyplot as plt\n",
        "\n",
        "# predict on test set\n",
        "Y_pred_svm = svm.predict(X_test)\n",
        "\n",
        "# create confusion matrix\n",
        "cm = confusion_matrix(y_test, Y_pred_svm)\n",
        "\n",
        "# plot confusion matrix using seaborn heatmap\n",
        "sns.heatmap(cm, annot=True, cmap='Blues', fmt='g')\n",
        "plt.xlabel('Predicted')\n",
        "plt.ylabel('True')\n",
        "plt.show()\n"
      ]
    },
    {
      "cell_type": "markdown",
      "metadata": {
        "id": "k9XWSfzaQ_9G"
      },
      "source": [
        "DT"
      ]
    },
    {
      "cell_type": "code",
      "execution_count": null,
      "metadata": {
        "id": "fimPWO1wLQr1"
      },
      "outputs": [],
      "source": [
        "from sklearn.tree import DecisionTreeClassifier\n",
        "\n",
        "max_accuracy = 0\n",
        "\n",
        "\n",
        "for x in range(20):\n",
        "    dt = DecisionTreeClassifier(random_state=x)\n",
        "    dt.fit(X_train,y_train)\n",
        "    Y_pred_dt = dt.predict(X_test)\n",
        "    current_accuracy = round(accuracy_score(Y_pred_dt,y_test)*100,2)\n",
        "    if(current_accuracy>max_accuracy):\n",
        "        max_accuracy = current_accuracy\n",
        "        best_x = x\n",
        "\n",
        "#print(max_accuracy)\n",
        "#print(best_x)\n",
        "\n",
        "\n",
        "dt = DecisionTreeClassifier(random_state=best_x)\n",
        "dt.fit(X_train,y_train)"
      ]
    },
    {
      "cell_type": "code",
      "execution_count": null,
      "metadata": {
        "id": "zNbj9M1ULRzs"
      },
      "outputs": [],
      "source": [
        "Y_pred_dt = dt.predict(X_test)\n",
        "print(classification_report(y_test, Y_pred_dt))"
      ]
    },
    {
      "cell_type": "code",
      "execution_count": null,
      "metadata": {
        "id": "iIPno8DWQ8aV"
      },
      "outputs": [],
      "source": [
        "from sklearn.metrics import confusion_matrix\n",
        "import seaborn as sns\n",
        "import matplotlib.pyplot as plt\n",
        "\n",
        "# predict on test set\n",
        "Y_pred_dt = dt.predict(X_test)\n",
        "\n",
        "# create confusion matrix\n",
        "cm = confusion_matrix(y_test, Y_pred_dt)\n",
        "\n",
        "# plot confusion matrix using seaborn heatmap\n",
        "sns.heatmap(cm, annot=True, cmap='Blues', fmt='g')\n",
        "plt.xlabel('Predicted')\n",
        "plt.ylabel('True')\n",
        "plt.show()\n"
      ]
    },
    {
      "cell_type": "markdown",
      "metadata": {
        "id": "1k6aGOhDRB_z"
      },
      "source": [
        "RF"
      ]
    },
    {
      "cell_type": "code",
      "execution_count": null,
      "metadata": {
        "id": "XQPp4OTXRDIH"
      },
      "outputs": [],
      "source": [
        "from sklearn.ensemble import RandomForestClassifier\n",
        "\n",
        "max_accuracy = 0\n",
        "\n",
        "\n",
        "for x in range(20):\n",
        "    rf = RandomForestClassifier(random_state=x)\n",
        "    rf.fit(X_train,y_train)\n",
        "    Y_pred_rf = rf.predict(X_test)\n",
        "    current_accuracy = round(accuracy_score(Y_pred_rf,y_test)*100,2)\n",
        "    if(current_accuracy>max_accuracy):\n",
        "        max_accuracy = current_accuracy\n",
        "        best_x = x\n",
        "\n",
        "#print(max_accuracy)\n",
        "#print(best_x)\n",
        "\n",
        "rf = RandomForestClassifier(random_state=best_x)\n",
        "rf.fit(X_train,y_train)"
      ]
    },
    {
      "cell_type": "code",
      "execution_count": null,
      "metadata": {
        "id": "5FdZxE3nRYDn"
      },
      "outputs": [],
      "source": [
        "Y_pred_rf = rf.predict(X_test)\n",
        "print(classification_report(y_test, Y_pred_rf))\n"
      ]
    },
    {
      "cell_type": "code",
      "execution_count": null,
      "metadata": {
        "id": "CFlxgEvHRbJl"
      },
      "outputs": [],
      "source": [
        "from sklearn.metrics import confusion_matrix\n",
        "import seaborn as sns\n",
        "import matplotlib.pyplot as plt\n",
        "\n",
        "# predict on test set\n",
        "Y_pred_rf = rf.predict(X_test)\n",
        "\n",
        "# create confusion matrix\n",
        "cm = confusion_matrix(y_test, Y_pred_rf)\n",
        "\n",
        "# plot confusion matrix using seaborn heatmap\n",
        "sns.heatmap(cm, annot=True, cmap='Blues', fmt='g')\n",
        "plt.xlabel('Predicted')\n",
        "plt.ylabel('True')\n",
        "plt.show()\n"
      ]
    },
    {
      "cell_type": "markdown",
      "metadata": {
        "id": "QledglFAqsja"
      },
      "source": [
        "AdaBoost"
      ]
    },
    {
      "cell_type": "code",
      "execution_count": null,
      "metadata": {
        "id": "6wsrWk8Fqtkk"
      },
      "outputs": [],
      "source": [
        "from sklearn.ensemble import AdaBoostClassifier\n",
        "from sklearn.metrics import accuracy_score, classification_report\n",
        "\n",
        "# create AdaBoost model\n",
        "adaboost = AdaBoostClassifier()\n",
        "\n",
        "# train the model on the training set\n",
        "adaboost.fit(X_train, y_train)"
      ]
    },
    {
      "cell_type": "code",
      "execution_count": null,
      "metadata": {
        "id": "meznvVy4q1-u"
      },
      "outputs": [],
      "source": [
        "# predict on the test set\n",
        "Y_pred_adaboost = adaboost.predict(X_test)\n",
        "\n",
        "# print accuracy score\n",
        "accuracy = accuracy_score(y_test, Y_pred_adaboost)\n",
        "print(\"Accuracy:\", accuracy)\n",
        "\n",
        "# print classification report\n",
        "report = classification_report(y_test, Y_pred_adaboost)\n",
        "print(\"classification_report\\n\\n\", report)"
      ]
    },
    {
      "cell_type": "code",
      "execution_count": null,
      "metadata": {
        "id": "DJwGinbdq-Va"
      },
      "outputs": [],
      "source": [
        "from sklearn.metrics import confusion_matrix\n",
        "import seaborn as sns\n",
        "import matplotlib.pyplot as plt\n",
        "\n",
        "# predict on test set\n",
        "Y_pred_adaboost = adaboost.predict(X_test)\n",
        "\n",
        "# create confusion matrix\n",
        "cm = confusion_matrix(y_test, Y_pred_adaboost )\n",
        "\n",
        "# plot confusion matrix using seaborn heatmap\n",
        "sns.heatmap(cm, annot=True, cmap='Blues', fmt='g')\n",
        "plt.xlabel('Predicted')\n",
        "plt.ylabel('True')\n",
        "plt.show()\n"
      ]
    },
    {
      "cell_type": "markdown",
      "metadata": {
        "id": "715hDQDWq_zk"
      },
      "source": [
        "CatBoost"
      ]
    },
    {
      "cell_type": "code",
      "execution_count": null,
      "metadata": {
        "id": "WElYXsGPrBNn"
      },
      "outputs": [],
      "source": [
        "pip install catboost"
      ]
    },
    {
      "cell_type": "code",
      "execution_count": null,
      "metadata": {
        "id": "ngj1t5msrDfZ"
      },
      "outputs": [],
      "source": [
        "from catboost import CatBoostClassifier\n",
        "from sklearn.metrics import classification_report\n",
        "\n",
        "# create an instance of the model\n",
        "cat = CatBoostClassifier()\n",
        "\n",
        "# train the model\n",
        "cat.fit(X_train, y_train, eval_set=(X_test, y_test))"
      ]
    },
    {
      "cell_type": "code",
      "execution_count": null,
      "metadata": {
        "id": "BQSRFTOIrQid"
      },
      "outputs": [],
      "source": [
        "# make predictions\n",
        "Y_pred_cat = cat.predict(X_test)\n",
        "\n",
        "# print the accuracy score and classification report\n",
        "print(\"Accuracy score:\", cat.score(X_test, y_test))\n",
        "print(classification_report(y_test, Y_pred_cat))"
      ]
    },
    {
      "cell_type": "code",
      "execution_count": null,
      "metadata": {
        "id": "TS-EcUthrmIW"
      },
      "outputs": [],
      "source": [
        "from sklearn.metrics import confusion_matrix\n",
        "import seaborn as sns\n",
        "import matplotlib.pyplot as plt\n",
        "\n",
        "# predict on test set\n",
        "Y_pred_cat = cat.predict(X_test)\n",
        "\n",
        "# create confusion matrix\n",
        "cm = confusion_matrix(y_test, Y_pred_cat)\n",
        "\n",
        "# plot confusion matrix using seaborn heatmap\n",
        "sns.heatmap(cm, annot=True, cmap='Blues', fmt='g')\n",
        "plt.xlabel('Predicted')\n",
        "plt.ylabel('True')\n",
        "plt.show()\n"
      ]
    },
    {
      "cell_type": "code",
      "execution_count": null,
      "metadata": {
        "id": "IqJytTYBKjq1"
      },
      "outputs": [],
      "source": [
        "score_lor = 97.2386\n",
        "score_svm = 96.1394\n",
        "score_rf = 96.756\n",
        "score_xgb = 96.2198\n",
        "score_cat = 96.622\n",
        "\n",
        "# Define the data\n",
        "scores = [score_lor, score_svm, score_rf, score_xgb, score_cat]\n",
        "algorithms = [\"Logistic Regression\", \"Support Vector Machine\", \"Random Forest\", \"Xgboost\", \"CatBoost\"]\n",
        "\n",
        "for i in range(len(algorithms)):\n",
        "    print(\"The accuracy score achieved using \" + algorithms[i] + \" is: \" + str(scores[i]) + \" %\")\n"
      ]
    },
    {
      "cell_type": "code",
      "execution_count": null,
      "metadata": {
        "id": "IkuM9raBKkw3"
      },
      "outputs": [],
      "source": [
        "import matplotlib.pyplot as plt\n",
        "import numpy as np\n",
        "\n",
        "# Define the data\n",
        "scores = [score_lor, score_svm, score_rf, score_xgb, score_cat]\n",
        "algorithms = [\"LR\", \"SVM\", \"RF\", \"Xgboost\", \"CatBoost\"]\n",
        "\n",
        "# Sort the scores in descending order\n",
        "sorted_scores, sorted_algorithms = zip(*sorted(zip(scores, algorithms), reverse=False))\n",
        "\n",
        "# Define the colors\n",
        "colors = plt.cm.tab20(np.linspace(0, 1, len(algorithms)))\n",
        "\n",
        "# Set the style to use a dark grid\n",
        "sns.set_style(\"darkgrid\")\n",
        "\n",
        "# Create the vertical bar plot\n",
        "fig, ax = plt.subplots()\n",
        "ax.bar(sorted_algorithms, sorted_scores, color=colors, width=0.8)\n",
        "\n",
        "# Set the x-axis label and the y-axis label\n",
        "ax.set_xlabel('\\nAlgorithm')\n",
        "ax.set_ylabel('Accuracy Score')\n",
        "\n",
        "# Set the title of the plot\n",
        "ax.set_title('Accuracy Scores for Different Classification Algorithms\\n')\n",
        "\n",
        "# Rotate the x-axis labels for better readability\n",
        "plt.xticks(rotation=60)\n",
        "\n",
        "# Show the plot\n",
        "plt.show()\n"
      ]
    },
    {
      "cell_type": "code",
      "execution_count": null,
      "metadata": {
        "id": "WVXeycKKKptQ"
      },
      "outputs": [],
      "source": [
        "import matplotlib.pyplot as plt\n",
        "import numpy as np\n",
        "\n",
        "# Define the data\n",
        "scores = [score_lor, score_svm, score_rf, score_xgb, score_cat]\n",
        "algorithms = [\"LR\", \"SVM\", \"RF\", \"Xgboost\", \"CatBoost\"]\n",
        "\n",
        "# Sort the scores in descending order\n",
        "sorted_scores, sorted_algorithms = zip(*sorted(zip(scores, algorithms), reverse=False))\n",
        "\n",
        "# Define the colors\n",
        "colors = plt.cm.tab10(np.linspace(0, 1, len(algorithms)))\n",
        "\n",
        "# Set the style to use no grid\n",
        "sns.set_style(\"darkgrid\")\n",
        "\n",
        "# Create the first bar plot with hollow bars\n",
        "fig, ax = plt.subplots()\n",
        "bars = ax.bar(sorted_algorithms, sorted_scores, color='none', edgecolor=colors, width=0.8, linewidth=7)\n",
        "\n",
        "# Add text labels with the scores on top of each bar\n",
        "for bar, score in zip(bars, sorted_scores):\n",
        "    ax.text(bar.get_x() + bar.get_width() / 2, bar.get_height() + 1.4, round(score, 2), ha='center', va='bottom', fontsize=8)\n",
        "\n",
        "# Set the x-axis label and the y-axis label\n",
        "ax.set_xlabel('\\nAlgorithm')\n",
        "ax.set_ylabel('Accuracy Score')\n",
        "\n",
        "# Set the title of the plot\n",
        "ax.set_title('Accuracy Scores for Different Classification Algorithms\\n')\n",
        "\n",
        "# Rotate the x-axis labels for better readability\n",
        "plt.xticks(rotation=60)\n",
        "\n",
        "# Show the plot\n",
        "plt.show()\n"
      ]
    },
    {
      "cell_type": "code",
      "execution_count": null,
      "metadata": {
        "id": "SuPW_hCygku-"
      },
      "outputs": [],
      "source": [
        "import numpy as np\n",
        "import matplotlib.pyplot as plt\n",
        "\n",
        "# Performance measures for each model and class\n",
        "models = ['Xgboost', 'SVM', 'CatBoost', 'RF', 'LR']\n",
        "# classes = ['Normal', 'Mild', 'Moderate', 'Severe']\n",
        "accuracy = [96.1394, 96.2198, 96.622, 96.756, 97.2386]\n",
        "precision = [96, 95.5, 96.5, 96.5, 96.5]\n",
        "recall = [96.5, 96.5, 97, 97, 97.5]\n",
        "f1_score = [96, 96, 96.5, 96.5, 97.5]\n",
        "\n",
        "# Set the width of the bars\n",
        "bar_width = 0.15\n",
        "\n",
        "# Set the positions of the bars on the x-axis\n",
        "r1 = np.arange(len(models))\n",
        "r2 = [x + bar_width + 0.05 for x in r1]\n",
        "r3 = [x + 2*bar_width + 0.1 for x in r1]\n",
        "r4 = [x + 3*bar_width + 0.15 for x in r1]  # Adjust the offset here\n",
        "\n",
        "# Create the bar chart\n",
        "plt.bar(r1, accuracy, color='b', width=bar_width, edgecolor='white', linewidth=2.2, label='Accuracy')\n",
        "plt.bar(r2, precision, width=bar_width, color='g', edgecolor='white', linewidth=2.2, label='Precision')\n",
        "plt.bar(r3, recall, color='r', width=bar_width, edgecolor='white', linewidth=2.2, label='Recall')\n",
        "plt.bar(r4, f1_score, color='y', width=bar_width, edgecolor='white', linewidth=2.2, label='F1-score')\n",
        "\n",
        "# Add x-axis labels and tick labels\n",
        "plt.xlabel('')\n",
        "plt.ylabel('')\n",
        "plt.title('Model Evaluation Metrics\\n')\n",
        "\n",
        "# Customize x-axis tick labels\n",
        "plt.xticks(r1 + 1.5*bar_width + 0.025, models)  # Adjust the offset here\n",
        "\n",
        "# Add a legend as a horizontal line below the plot\n",
        "legend = plt.legend(loc='lower center', bbox_to_anchor=(0.5, -0.2), ncol=4, handlelength=1, handletextpad=0.5)\n",
        "\n",
        "# Set the size of the bars in the legend to make them square\n",
        "for handle in legend.legendHandles:\n",
        "    handle.set_height(10)  # Adjust the size here\n",
        "    handle.set_width(10)  # Adjust the size here\n",
        "\n",
        "# Display the chart\n",
        "plt.tight_layout()\n",
        "plt.show()\n"
      ]
    },
    {
      "cell_type": "code",
      "execution_count": null,
      "metadata": {
        "id": "0a19mgEXe53b"
      },
      "outputs": [],
      "source": [
        "import numpy as np\n",
        "import matplotlib.pyplot as plt\n",
        "\n",
        "# Performance measures for each model and class\n",
        "models = ['Xgboost', 'SVM', 'CatBoost', 'RF', 'LR']\n",
        "# classes = ['Normal', 'Mild', 'Moderate', 'Severe']\n",
        "accuracy = [96.1394, 96.2198, 96.622, 96.756, 97.2386]\n",
        "precision = [96, 95.5, 96.5, 96.5, 96.5]\n",
        "recall = [96.5, 96.5, 97, 97, 97.5]\n",
        "f1_score = [96, 96, 96.5, 96.5, 97.5]\n",
        "\n",
        "# Set the width of the bars\n",
        "bar_width = 0.15\n",
        "\n",
        "# Set the positions of the bars on the x-axis\n",
        "r1 = np.arange(len(models))\n",
        "r2 = [x + bar_width + 0.05 for x in r1]\n",
        "r3 = [x + 2*bar_width + 0.1 for x in r1]\n",
        "r4 = [x + 3*bar_width + 0.15 for x in r1]  # Adjust the offset here\n",
        "\n",
        "# Create the bar chart\n",
        "plt.bar(r1, accuracy, color='none', width=bar_width, edgecolor='b', linewidth=2.2, label='Accuracy')\n",
        "plt.bar(r2, precision, width=bar_width, color='none', edgecolor='black', linewidth=2.2, label='Precision')\n",
        "plt.bar(r3, recall, color='none', width=bar_width, edgecolor='r', linewidth=2.2, label='Recall')\n",
        "plt.bar(r4, f1_score, color='none', width=bar_width, edgecolor='darkgreen', linewidth=2.2, label='F1-score')\n",
        "\n",
        "# Add x-axis labels and tick labels\n",
        "plt.xlabel('')\n",
        "plt.ylabel('')\n",
        "plt.title('Model Evaluation Metrics\\n')\n",
        "\n",
        "# Customize x-axis tick labels\n",
        "plt.xticks(r1 + 1.5*bar_width + 0.025, models)  # Adjust the offset here\n",
        "\n",
        "# Add a legend as a horizontal line below the plot\n",
        "legend = plt.legend(loc='lower center', bbox_to_anchor=(0.5, -0.2), ncol=4, handlelength=1, handletextpad=0.5)\n",
        "\n",
        "# Set the size of the bars in the legend to make them square\n",
        "for handle in legend.legendHandles:\n",
        "    handle.set_height(10)  # Adjust the size here\n",
        "    handle.set_width(10)  # Adjust the size here\n",
        "\n",
        "# Display the chart\n",
        "plt.tight_layout()\n",
        "plt.show()\n"
      ]
    },
    {
      "cell_type": "code",
      "execution_count": null,
      "metadata": {
        "id": "FgvhwBiIiDAO"
      },
      "outputs": [],
      "source": [
        "import numpy as np\n",
        "import matplotlib.pyplot as plt\n",
        "\n",
        "# Performance measures for each model and class\n",
        "models = ['Xgboost', 'SVM', 'CatBoost', 'RF', 'LR']\n",
        "# classes = ['Normal', 'Mild', 'Moderate', 'Severe']\n",
        "accuracy = [96.1394, 96.2198, 96.622, 96.756, 97.2386]\n",
        "precision = [96, 95.5, 96.5, 96.5, 96.5]\n",
        "recall = [96.5, 96.5, 97, 97, 97.5]\n",
        "f1_score = [96, 96, 96.5, 96.5, 97.5]\n",
        "\n",
        "\n",
        "# Set the width of the bars\n",
        "bar_width = 0.2\n",
        "\n",
        "# Set the positions of the bars on the x-axis\n",
        "r1 = range(len(models))\n",
        "r2 = [x + bar_width for x in r1]\n",
        "r3 = [x + 2*bar_width for x in r1]\n",
        "r4 = [x + 3*bar_width for x in r1]\n",
        "\n",
        "# Create the bar chart\n",
        "plt.bar(r1, accuracy, color='b', width=bar_width, edgecolor='white', label='Accuracy')\n",
        "plt.bar(r2, precision, color='g', width=bar_width, edgecolor='white', label='Precision')\n",
        "plt.bar(r3, recall, color='r', width=bar_width, edgecolor='white', label='Recall')\n",
        "plt.bar(r4, f1_score, color='y', width=bar_width, edgecolor='white', label='F1-score')\n",
        "\n",
        "# Add x-axis labels and tick labels\n",
        "plt.xlabel('Models')\n",
        "plt.ylabel('Scores')\n",
        "plt.title('Model Evaluation Metrics')\n",
        "\n",
        "# Customize x-axis tick labels\n",
        "plt.xticks([r + 1.5*bar_width for r in range(len(models))], models)\n",
        "\n",
        "# Add a legend\n",
        "plt.legend()\n",
        "\n",
        "# Display the chart\n",
        "plt.show()"
      ]
    },
    {
      "cell_type": "code",
      "execution_count": null,
      "metadata": {
        "id": "cpknDFSrimPX"
      },
      "outputs": [],
      "source": [
        "import numpy as np\n",
        "import matplotlib.pyplot as plt\n",
        "\n",
        "# Performance measures for each model and class\n",
        "models = ['Xgboost', 'SVM', 'CatBoost', 'RF', 'LR']\n",
        "# classes = ['Normal', 'Mild', 'Moderate', 'Severe']\n",
        "accuracy = [96.1394, 96.2198, 96.622, 96.756, 97.2386]\n",
        "precision = [89, 81, 90, 89, 91]\n",
        "recall = [88, 69, 84, 87, 90]\n",
        "f1_score = [88, 73, 86, 88, 90]\n",
        "\n",
        "# Set the width of the bars\n",
        "bar_width = 0.15\n",
        "\n",
        "# Set the positions of the bars on the x-axis\n",
        "r1 = np.arange(len(models))\n",
        "r2 = [x + bar_width + 0.05 for x in r1]\n",
        "r3 = [x + 2*bar_width + 0.1 for x in r1]\n",
        "r4 = [x + 3*bar_width + 0.15 for x in r1]  # Adjust the offset here\n",
        "\n",
        "# Create the bar chart\n",
        "plt.bar(r1, accuracy, color='none', width=bar_width, edgecolor='b', linewidth=2.2, label='Accuracy')\n",
        "plt.bar(r2, precision, width=bar_width, color='none', edgecolor='black', linewidth=2.2, label='Precision')\n",
        "plt.bar(r3, recall, color='none', width=bar_width, edgecolor='r', linewidth=2.2, label='Recall')\n",
        "plt.bar(r4, f1_score, color='none', width=bar_width, edgecolor='darkgreen', linewidth=2.2, label='F1-score')\n",
        "\n",
        "# Add x-axis labels and tick labels\n",
        "plt.xlabel('')\n",
        "plt.ylabel('')\n",
        "plt.title('Model Evaluation Metrics\\n')\n",
        "\n",
        "# Customize x-axis tick labels\n",
        "plt.xticks(r1 + 1.5*bar_width + 0.025, models)  # Adjust the offset here\n",
        "\n",
        "# Add a legend as a horizontal line below the plot\n",
        "legend = plt.legend(loc='lower center', bbox_to_anchor=(0.5, -0.2), ncol=4, handlelength=1, handletextpad=0.5)\n",
        "\n",
        "# Set the size of the bars in the legend to make them square\n",
        "for handle in legend.legendHandles:\n",
        "    handle.set_height(10)  # Adjust the size here\n",
        "    handle.set_width(10)  # Adjust the size here\n",
        "\n",
        "# Display the chart\n",
        "plt.tight_layout()\n",
        "plt.show()\n"
      ]
    },
    {
      "cell_type": "code",
      "execution_count": null,
      "metadata": {
        "id": "m93pS3EgaMAh"
      },
      "outputs": [],
      "source": [
        "import numpy as np\n",
        "import matplotlib.pyplot as plt\n",
        "\n",
        "# Performance measures for each model and class\n",
        "models = ['Xgboost', 'SVM', 'CatBoost', 'RF', 'LR']\n",
        "# classes = ['Normal', 'Mild', 'Moderate', 'Severe']\n",
        "accuracy = [96.1394, 96.2198, 96.622, 96.756, 97.2386]\n",
        "precision = [96, 95.5, 96.5, 96.5, 96.5]\n",
        "recall = [96.5, 96.5, 97, 97, 97.5]\n",
        "f1_score = [96, 96, 96.5, 96.5, 97.5]\n",
        "\n",
        "\n",
        "# Set the width of the bars\n",
        "bar_width = 0.2\n",
        "\n",
        "# Set the positions of the bars on the x-axis\n",
        "r1 = range(len(models))\n",
        "r2 = [x + bar_width for x in r1]\n",
        "r3 = [x + 2*bar_width for x in r1]\n",
        "r4 = [x + 3*bar_width for x in r1]\n",
        "\n",
        "# Create the bar chart\n",
        "plt.bar(r1, accuracy, color='b', width=bar_width, edgecolor='white', label='Accuracy')\n",
        "plt.bar(r2, precision, color='g', width=bar_width, edgecolor='white', label='Precision')\n",
        "plt.bar(r3, recall, color='r', width=bar_width, edgecolor='white', label='Recall')\n",
        "plt.bar(r4, f1_score, color='y', width=bar_width, edgecolor='white', label='F1-score')\n",
        "\n",
        "# Add x-axis labels and tick labels\n",
        "plt.xlabel('Models')\n",
        "plt.ylabel('Scores')\n",
        "plt.title('Model Evaluation Metrics')\n",
        "\n",
        "# Customize x-axis tick labels\n",
        "plt.xticks([r + 1.5*bar_width for r in range(len(models))], models)\n",
        "\n",
        "# Add a legend\n",
        "plt.legend()\n",
        "\n",
        "# Display the chart\n",
        "plt.show()"
      ]
    },
    {
      "cell_type": "code",
      "execution_count": null,
      "metadata": {
        "id": "LM9gExsttVAB"
      },
      "outputs": [],
      "source": [
        "import joblib\n",
        "\n",
        "# Assuming 'lor' is your trained LogisticRegression model\n",
        "joblib.dump(lor, 'phishing_model.pkl')\n"
      ]
    },
    {
      "cell_type": "code",
      "execution_count": null,
      "metadata": {
        "id": "f_jX3zTYw0ec"
      },
      "outputs": [],
      "source": [
        "import nltk\n",
        "import re\n",
        "from nltk.corpus import stopwords\n",
        "from nltk.stem.porter import PorterStemmer\n",
        "from sklearn.feature_extraction.text import CountVectorizer\n",
        "from sklearn.linear_model import LogisticRegression\n",
        "import joblib\n",
        "\n",
        "# Download NLTK stopwords (only needs to be done once)\n",
        "nltk.download('stopwords')\n",
        "\n",
        "# Load the trained Logistic Regression model\n",
        "model = joblib.load('phishing_model.pkl')\n",
        "\n",
        "# Preprocessing function\n",
        "def preprocess_email(email_text):\n",
        "    stop_words = set(stopwords.words('english'))\n",
        "    ps = PorterStemmer()\n",
        "    email = re.sub('[^a-zA-Z]', ' ', email_text)\n",
        "    email = email.lower()\n",
        "    email = email.split()\n",
        "    email = [ps.stem(word) for word in email if word not in stop_words]\n",
        "    email = ' '.join(email)\n",
        "    return email\n",
        "\n",
        "# Example new email text\n",
        "new_email_text = \"webcam dating is hot - - - - - - - - - - - - - - - - please no more\"\n",
        "preprocessed_email = preprocess_email(new_email_text)\n",
        "\n",
        "# Load CountVectorizer and transform preprocessed email\n",
        "cv = CountVectorizer(vocabulary=cv.vocabulary_)  # Use the same vocabulary as in training\n",
        "X_new = cv.transform([preprocessed_email]).toarray()\n",
        "\n",
        "# Make a prediction using the trained model\n",
        "predicted_prob = model.predict_proba(X_new)[:, 1]  # Probability of being a phishing email\n",
        "\n",
        "# Set a threshold (adjust as needed)\n",
        "threshold = 0.5\n",
        "\n",
        "# Determine email classification\n",
        "classification = \"Phishing Email\" if predicted_prob > threshold else \"Safe Email\"\n",
        "\n",
        "# Print the formatted output\n",
        "print(\"=\" * 40)\n",
        "print(\"Email Text:\")\n",
        "print(new_email_text)\n",
        "print(\"=\" * 40)\n",
        "print(\"Preprocessed Email:\")\n",
        "print(preprocessed_email)\n",
        "print(\"=\" * 40)\n",
        "print(\"Classification:\", classification)\n",
        "print(\"=\" * 40)\n"
      ]
    },
    {
      "cell_type": "code",
      "execution_count": null,
      "metadata": {
        "id": "ayE8UYgJxj45"
      },
      "outputs": [],
      "source": [
        "import nltk\n",
        "import re\n",
        "from nltk.corpus import stopwords\n",
        "from nltk.stem.porter import PorterStemmer\n",
        "from sklearn.feature_extraction.text import CountVectorizer\n",
        "from sklearn.linear_model import LogisticRegression\n",
        "import joblib\n",
        "\n",
        "# Download NLTK stopwords (only needs to be done once)\n",
        "nltk.download('stopwords')\n",
        "\n",
        "# Load the trained Logistic Regression model\n",
        "model = joblib.load('phishing_model.pkl')\n",
        "\n",
        "# Preprocessing function\n",
        "def preprocess_email(email_text):\n",
        "    stop_words = set(stopwords.words('english'))\n",
        "    ps = PorterStemmer()\n",
        "    email = re.sub('[^a-zA-Z]', ' ', email_text)\n",
        "    email = email.lower()\n",
        "    email = email.split()\n",
        "    email = [ps.stem(word) for word in email if word not in stop_words]\n",
        "    email = ' '.join(email)\n",
        "    return email\n",
        "\n",
        "# Example new email text\n",
        "new_email_text = \"webcam dating is hot - - - - - - - - - - - - - - - - please no more\"\n",
        "preprocessed_email = preprocess_email(new_email_text)\n",
        "\n",
        "# Load CountVectorizer and transform preprocessed email\n",
        "cv = CountVectorizer(vocabulary=cv.vocabulary_)  # Use the same vocabulary as in training\n",
        "X_new = cv.transform([preprocessed_email]).toarray()\n",
        "\n",
        "# Make a prediction using the trained model\n",
        "predicted_prob = model.predict_proba(X_new)[:, 1]  # Probability of being a phishing email\n",
        "\n",
        "# Set a threshold (adjust as needed)\n",
        "threshold = 0.5\n",
        "\n",
        "# Determine email classification\n",
        "classification = \"Phishing Email\" if predicted_prob > threshold else \"Safe Email\"\n",
        "\n",
        "# Print the formatted output\n",
        "print(\"=\" * 60)\n",
        "print(\"Email Text\")\n",
        "print(new_email_text)\n",
        "print(\"=\" * 60)\n",
        "print(\"Classification:\", classification)\n",
        "print(\"=\" * 60)\n"
      ]
    },
    {
      "cell_type": "code",
      "execution_count": null,
      "metadata": {
        "id": "6-xYjfCAyVqZ"
      },
      "outputs": [],
      "source": [
        "import nltk\n",
        "import re\n",
        "from nltk.corpus import stopwords\n",
        "from nltk.stem.porter import PorterStemmer\n",
        "from sklearn.feature_extraction.text import CountVectorizer\n",
        "from sklearn.linear_model import LogisticRegression\n",
        "import joblib\n",
        "\n",
        "# Download NLTK stopwords (only needs to be done once)\n",
        "nltk.download('stopwords')\n",
        "\n",
        "# Load the trained Logistic Regression model\n",
        "model = joblib.load('phishing_model.pkl')\n",
        "\n",
        "# Preprocessing function\n",
        "def preprocess_email(email_text):\n",
        "    stop_words = set(stopwords.words('english'))\n",
        "    ps = PorterStemmer()\n",
        "    email = re.sub('[^a-zA-Z]', ' ', email_text)\n",
        "    email = email.lower()\n",
        "    email = email.split()\n",
        "    email = [ps.stem(word) for word in email if word not in stop_words]\n",
        "    email = ' '.join(email)\n",
        "    return email\n",
        "\n",
        "# Example new email text\n",
        "new_email_text = \"pictures streamlined denizen ajar chased heavens hostesses stolid pinched saturated staten seventeens juggler abashed ice guts centrifugal bauxite wader shyness whirr ukrainian understandingly conditioner barges entitles vanderpoel preset wigwam storming alexei supergroup tab mare birthright brutalize tolerates depots bubbling - - phone : 439 - 120 - 6060 mobile : 590 - 203 - 5805 email : darden . audley @ houston . rr . com\"\n",
        "preprocessed_email = preprocess_email(new_email_text)\n",
        "\n",
        "# Load CountVectorizer and transform preprocessed email\n",
        "cv = CountVectorizer(vocabulary=cv.vocabulary_)  # Use the same vocabulary as in training\n",
        "X_new = cv.transform([preprocessed_email]).toarray()\n",
        "\n",
        "# Make a prediction using the trained model\n",
        "predicted_prob = model.predict_proba(X_new)[:, 1]  # Probability of being a phishing email\n",
        "\n",
        "# Set a threshold (adjust as needed)\n",
        "threshold = 0.5\n",
        "\n",
        "# Determine email classification\n",
        "classification = \"Phishing Email\" if predicted_prob > threshold else \"Safe Email\"\n",
        "\n",
        "# Print the formatted output\n",
        "print(\"=\" * 60)\n",
        "print(\"Email Text\")\n",
        "print(new_email_text)\n",
        "print(\"=\" * 60)\n",
        "print(\"Classification:\", classification)\n",
        "print(\"=\" * 60)\n"
      ]
    },
    {
      "cell_type": "code",
      "execution_count": null,
      "metadata": {
        "id": "HjELs3WA1kFg"
      },
      "outputs": [],
      "source": [
        "import nltk\n",
        "import re\n",
        "from nltk.corpus import stopwords\n",
        "from nltk.stem.porter import PorterStemmer\n",
        "from sklearn.feature_extraction.text import CountVectorizer\n",
        "from sklearn.linear_model import LogisticRegression\n",
        "import joblib\n",
        "\n",
        "# Download NLTK stopwords (only needs to be done once)\n",
        "nltk.download('stopwords')\n",
        "\n",
        "# Load the trained Logistic Regression model\n",
        "model = joblib.load('phishing_model.pkl')\n",
        "\n",
        "# Preprocessing function\n",
        "def preprocess_email(email_text):\n",
        "    stop_words = set(stopwords.words('english'))\n",
        "    ps = PorterStemmer()\n",
        "    email = re.sub('[^a-zA-Z]', ' ', email_text)\n",
        "    email = email.lower()\n",
        "    email = email.split()\n",
        "    email = [ps.stem(word) for word in email if word not in stop_words]\n",
        "    email = ' '.join(email)\n",
        "    return email\n",
        "\n",
        "# Example new email text\n",
        "new_email_text = \"On Sat, 24 Aug 2002, Adam L. Beberg wrote:--]And yet STILL noone is out there creating _public domain_ content. Is there\"\n",
        "preprocessed_email = preprocess_email(new_email_text)\n",
        "\n",
        "# Load CountVectorizer and transform preprocessed email\n",
        "cv = CountVectorizer(vocabulary=cv.vocabulary_)  # Use the same vocabulary as in training\n",
        "X_new = cv.transform([preprocessed_email]).toarray()\n",
        "\n",
        "# Make a prediction using the trained model\n",
        "predicted_prob = model.predict_proba(X_new)[:, 1]  # Probability of being a phishing email\n",
        "\n",
        "# Set a threshold (adjust as needed)\n",
        "threshold = 0.5\n",
        "\n",
        "# Determine email classification\n",
        "classification = \"Phishing Email\" if predicted_prob > threshold else \"Safe Email\"\n",
        "\n",
        "# Print the formatted output\n",
        "print(\"=\" * 60)\n",
        "print(\"Email Text\")\n",
        "print(new_email_text)\n",
        "print(\"=\" * 60)\n",
        "print(\"Classification:\", classification)\n",
        "print(\"=\" * 60)\n"
      ]
    },
    {
      "cell_type": "code",
      "execution_count": null,
      "metadata": {
        "id": "AQiaHqUE4aL2"
      },
      "outputs": [],
      "source": [
        "import nltk\n",
        "import re\n",
        "from nltk.corpus import stopwords\n",
        "from nltk.stem.porter import PorterStemmer\n",
        "from sklearn.feature_extraction.text import CountVectorizer\n",
        "from sklearn.linear_model import LogisticRegression\n",
        "import joblib\n",
        "\n",
        "# Download NLTK stopwords (only needs to be done once)\n",
        "nltk.download('stopwords')\n",
        "\n",
        "# Load the trained Logistic Regression model\n",
        "model = joblib.load('phishing_model.pkl')\n",
        "\n",
        "# Preprocessing function\n",
        "def preprocess_email(email_text):\n",
        "    stop_words = set(stopwords.words('english'))\n",
        "    ps = PorterStemmer()\n",
        "    email = re.sub('[^a-zA-Z]', ' ', email_text)\n",
        "    email = email.lower()\n",
        "    email = email.split()\n",
        "    email = [ps.stem(word) for word in email if word not in stop_words]\n",
        "    email = ' '.join(email)\n",
        "    return email\n",
        "\n",
        "# Example new email text\n",
        "new_email_text = \"Actually, this is common. I've known a couple of people who have suffered this. Believe it or not, you were lucky. You were home, rather than on vacation, and so you didn't have the intake line flowing onto the floor for two weeks.\"\n",
        "preprocessed_email = preprocess_email(new_email_text)\n",
        "\n",
        "# Load CountVectorizer and transform preprocessed email\n",
        "cv = CountVectorizer(vocabulary=cv.vocabulary_)  # Use the same vocabulary as in training\n",
        "X_new = cv.transform([preprocessed_email]).toarray()\n",
        "\n",
        "# Make a prediction using the trained model\n",
        "predicted_prob = model.predict_proba(X_new)[:, 1]  # Probability of being a phishing email\n",
        "\n",
        "# Set a threshold (adjust as needed)\n",
        "threshold = 0.5\n",
        "\n",
        "# Determine email classification\n",
        "classification = \"Phishing Email\" if predicted_prob > threshold else \"Safe Email\"\n",
        "\n",
        "# Print the formatted output\n",
        "print(\"=\" * 60)\n",
        "print(\"Email Text\")\n",
        "print(new_email_text)\n",
        "print(\"=\" * 60)\n",
        "print(\"Classification:\", classification)\n",
        "print(\"=\" * 60)\n"
      ]
    },
    {
      "cell_type": "code",
      "execution_count": null,
      "metadata": {
        "id": "SHMmaOlh2y_d"
      },
      "outputs": [],
      "source": []
    }
  ],
  "metadata": {
    "colab": {
      "provenance": [],
      "include_colab_link": true
    },
    "kernelspec": {
      "display_name": "Python 3 (ipykernel)",
      "language": "python",
      "name": "python3"
    },
    "language_info": {
      "codemirror_mode": {
        "name": "ipython",
        "version": 3
      },
      "file_extension": ".py",
      "mimetype": "text/x-python",
      "name": "python",
      "nbconvert_exporter": "python",
      "pygments_lexer": "ipython3",
      "version": "3.9.13"
    }
  },
  "nbformat": 4,
  "nbformat_minor": 0
}