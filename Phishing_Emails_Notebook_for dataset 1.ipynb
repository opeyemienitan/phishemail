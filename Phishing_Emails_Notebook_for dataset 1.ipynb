{
 "cells": [
  {
   "cell_type": "markdown",
   "metadata": {
    "id": "6BiieDN_-GQE"
   },
   "source": [
    "I. Importing essential libraries"
   ]
  },
  {
   "cell_type": "code",
   "execution_count": 1,
   "metadata": {
    "colab": {
     "base_uri": "https://localhost:8080/"
    },
    "id": "C1QYcEZJj44X",
    "outputId": "77f143c3-9af1-447f-a68a-eb90ff07f434"
   },
   "outputs": [
    {
     "name": "stdout",
     "output_type": "stream",
     "text": [
      "['#AOforever 1.jpg', '#AOforever 2.jpg', '#AOforever [b].jpg', '#AOforever.jpg', '-Cyber Security-ASSIGNMENT (1) (1).pdf', '.ipynb_checkpoints', '.opera', '000918635_Oluwaseun_Enitan_967_Pre-Admit.pdf', '017301239.pdf', '01_Tools.zip', '02 Supplier Master.xlsx', '026D6ADA-DD3B-4E78-8B93-F112982225C2.pdf', '1-1_extracted_Scanned Documents-1.jpg', '1-s2.0-S1319157822001604-main (1).pdf', '1-s2.0-S1319157822001604-main.pdf', '1-s2.0-S1742287611000326-main.pdf', '1.jpeg', '1.png', '1005KI 1.3.0版本更新说明.xlsx', '12-07-21 PRICE-LIST DOC.docx', '15KVA QUOTE (1).pdf', '15KVA QUOTE.pdf', '1675612945205_INVOICE FOR TERMINATION OF ELV POINTS FOR OLAM-IGANMU v1-20221215.pdf', '1678179868611_1678179789888_1678179667290_Maintenance sheet for firealarm.xlsx', '18-06-439-REP-monero-bulletproof-sec-assessment.pdf', '19-07-21 PRICE-LIST DOC.docx', '191218_CHL_Mutual_NDA_2.pdf_-_yenitan1yahoo.zip', '1_updated_CONTROL RM.pdf', '1_updated_DGS-1210_SERIES_REVF_DATASHEET_211_EN_US.pdf', '2-1_extracted_Scanned Documents-1.jpg', '2019-03-EX-101&102-Site Plan Showing Proposed Civil Infrastructure & Finished Site Levels Rev3ABC.dwg', '2021_06_11 Recommendation Letter for Enitan Opeyemi.docx', '2022-11-21_-_Worker_and_Temporary_Worker.csv', '2023 IT BUDGET (1).xlsx', '2023 IT BUDGET (2).xlsx', '2023 IT BUDGET.xlsx', '2023-01-05_-_Worker_and_Temporary_Worker.csv', '21091449032', '21091449032.zip', '21110716884.zip', '21STCESL_BILL OF ELV SERVICES_MMLO_19-09-2023.pdf', '22032320542', '22032320542.zip', '22032589806.zip', '22120725834', '22120725834.zip', '22548645.xlsx', '2CWK50 Assignment (1) (1).pdf', '2CWK50 Assignment (1) (2) (1).pdf', '2CWK50 Assignment (1) (2) (2) (1).pdf', '2CWK50 Assignment (1) (2) (2).pdf', '2CWK50 Assignment (1) (2).pdf', '2dc7ab05-82f9-44d0-b0a7-92ca9698c011.ics', '3863486d-7cec-43c9-b02d-508c61afc652.tmp', '4.1.23 Repair-Guarantee Request Form (1).docx', '4.1.23 Repair-Guarantee Request Form (4).docx', '4.1.23 Repair-Guarantee Request Form.docx', '4064b939-9d6e-4288-87af-4a562c548846 (1).ics', '4064b939-9d6e-4288-87af-4a562c548846.ics', '410742179917-5117419369-ticket.pdf', '4843796.pdf', '5SR ELECTRICAL BOQ - CATV.XLS', '6-month 2023 Invoice.pdf', '6d9a22ce-bbb4-47a2-aa14-0e85fb5132f5 (1).pdf', '6d9a22ce-bbb4-47a2-aa14-0e85fb5132f5.pdf', '6G7V0030-Secure Systems Development (2).pdf', '6G7V0030-Secure Systems Development.pdf', '6G7V0031_Advanced Network Security- Assignment.pdf', '6G7V0033 - Cryptography and Applications 1CWK50 Assignment Brief.pdf', '6G7V0034_Information Security Management_Coursework.pdf', '70505-Design.jpg', '745210_4340_productsheet_me.pdf', '772f1fe5-4b30-4f7b-b5d3-8e770feae18d.ics', '7V0007_assignment_Presentation_2022_v1.pdf', '7V0007_student_proposal_2021_v1.pdf', '8955_2.76_Siemens Customer Base - Order Generated (1).mhtml', '8955_2.76_Siemens Customer Base - Order Generated(1).mhtml', '8955_2.76_Siemens Customer Base - Order Generated.mhtml', 'A Survey of Privacy-Aware Mobile Social Network  with challenges new.docx', 'A Survey of Privacy-Aware Mobile Social Network Protocols (1).pptx', 'A Survey of Privacy-Aware Mobile Social Network Protocols (2).pptx', 'A Survey of Privacy-Aware Mobile Social Network Protocols (3).pdf', 'A Survey of Privacy-Aware Mobile Social Network Protocols (3).pptx', 'A Survey of Privacy-Aware Mobile Social Network Protocols.pptx', 'A Survey of Privacy-Aware Mobile Social Network with Self assessment.docx', 'A Survey of Privacy-Aware Mobile Social Network with Self assessment.pdf', 'A6V10061982_ASA Linear smoke detector_en.pdf', 'A6V10224529_Manual call points_BR__collective_SynoLINE600 con_en.pdf', 'A6V10229261.xlsx', 'A6V10324754_EC Declaration - FC724_xx.pdf', 'A6V10381979_en.pdf', 'A6V10390897_en.pdf', 'A6V11562124_en', 'A6V13602196_Aspirating smoke detector_en.pdf', 'ABDUL AZIZ_QUOTE 10.08.23.pdf', 'Abdulqoyum Sanni.pdf', 'Abstract and Introduction (1).docx', 'Abstract and Introduction (2) updated 08052023.docx', 'Abstract and Introduction (2) updated 08052023.docx.pdf', 'Abstract and Introduction (2).docx', 'Abstract and Introduction.docx', 'Acceptable Use Policy.pdf', 'Access-Template.doc', 'Accessories.jpeg', 'ACD_PriceList_2023_Q4_EUR', 'ACD_PriceList_2023_Q4_EUR.zip', 'ACT-pro-V3.3_Datasheet_EN-07-11-2022.pdf', 'activity-10376 (1).ics', 'activity-10376 (2).ics', 'activity-10376.ics', 'activity-10379.ics', 'activity-10382.ics', 'activity-10385.ics', 'activity-10387.ics', 'activity-10396.ics', 'activity-10657 (1).ics', 'activity-10657.ics', 'ACTpro-EV1-Readers-en.pdf', 'ACTpro-MF-Readers-EN.pdf', 'ACTpro100-REV-06-05-2022-EN.pdf', 'ACTpro120--EN_merged.pdf', 'Add-WebApp.intunewin', 'additional info.pdf', 'AddTeamstoGroupsExpirationPolicy.ps1', 'Adebanjo.docx', 'Adeola Hassan - No Objection letter (1).pdf', 'Adeola Hassan - No Objection letter (2).pdf', 'Adeola Hassan - No Objection letter.pdf', 'Adeola Hassan.jpeg', \"ADESEWA ADELOWO'S CV (2023 updated)).pdf\", 'Adlink Vulnerability_Scan_Issues_Report.docx', 'Admission letter.pdf', 'Adobe Scan Sep 06, 2022-1.jpg', 'Advance network security-1.docx (1).pdf', 'Advance network security-1.docx.pdf', 'Advance network security.docx.pdf', 'Advanced Computer Networks (6G7V0029_2223_9F).docx', 'aes.py', 'aes2.txt', 'aes3.py', 'AFFIDAVIT FOR CHANGE OF NAME.jpeg', 'agentsetup.exe', 'Agent_Install (1).MSI', 'Agent_Install (2).MSI', 'Agent_Install (3).MSI', 'Agent_Install (4).MSI', 'Agent_Install (5).MSI', 'Agent_Install (6).MSI', 'Agent_Install.MSI', 'ALB & ASG(Practice).docx', 'Alex Emelieze (1).docx', 'Alex Emelieze.docx', 'AlexEmeliezeResume_4 (1).docx', 'Algorithm (1).docx', 'Algorithm (1).docx.pdf', 'Algorithm Description.docx', 'Algorithm Revised (1).docx', 'Algorithm Revised.docx', 'Algorithm.docx', 'All-Presentation Schedule-Final list (Updated).xlsx', 'ALMADIES USG FIRE ALARM PROJECT.rvt', 'alonso cv (1).docx', 'alonso cv (2).docx', 'alonso cv (3).docx', 'alonso cv.docx', 'AnyDesk.exe', 'APC UPS QUOTE.pdf', 'API Testing.docx', 'apk .py', 'apk R.py', 'App registration details.txt', 'app.py', 'app4.py', 'Application description (1).pdf', 'Application description (2).pdf', 'Application description.pdf', 'application update.py', 'Application.py', 'April-Batch Assignment-Project.docx', 'archive (1).zip', 'archive (2)', 'archive (2).zip', 'archive (3)', 'archive (3).zip', 'archive (4)', 'archive (4).zip', 'archive (5)', 'archive (5).zip', 'archive (6).zip', 'archive (7).zip', 'archive (8)', 'archive (8).zip', 'archive.zip', 'Asimina.odt', 'Assessment File', 'Assessment File.zip', 'AssetManagentapp-main', 'AssetManagentapp-main.zip', 'Assignment Tasks for Last Year (2021_2022).pdf', 'Asyst-Tool_V2_Installation_A6V10344957_b_en.pdf', 'Asyst-Tool_V2_User Guide_A6V10728226_en_a.pdf', 'Attachments_Fwd_Re_Inquiry_from_', 'attendance_id_upload_template (1).csv', 'attendance_id_upload_template (2).csv', 'attendance_id_upload_template (3).csv', 'attendance_id_upload_template.csv', 'Australian High Commission.fsc', 'Authentication methods.jpeg', 'AV RACK.rar', 'AWS Get Certified - Solutions Architect - Associate .ics', 'Azure+Webinar+Series+Run+Resilient+Scale-out+Apps+with+Virtual+Machine+Scale+Sets.ics', 'AzureStorageAccounts.csv', 'B.png', 'B355506E-E8CD-48ED-A9CE-1B54B29EE4FF.pdf', 'baba t.pdf', 'backup_2022203_185959.tar', 'backup__20200811_090630.zc', 'Backview section.jpeg', 'Balance 2.jpeg', 'Balance.jpeg', 'bamdev1988-attachments (1).zip', 'bamdev1988-attachments.zip', 'Bank 2.jpeg', 'Bank details.jpeg', 'BastionHostingCreds', 'BastionHostingCreds.zip', 'BAT DECOMMISIONING BILL.xlsx', 'BAT EXPENSES (1).xlsx', 'BAT EXPENSES.xlsx', 'BAT FIRE ALARM MAINTENANCE PFI Q1 JUNE - SEPT 2022.pdf', 'BAT FIRE ALARM MAINTENANCE PFI Q2 June-Sept 2023.pdf', 'BAT FIRE ALARM MAINTENANCE PFI Q2 June-Sept 2023.xlsx', 'BAT LOG.xlsx', 'BAT SIEMENS FIRE ALAM BOQ! (1).pdf', 'BAT SIEMENS FIRE ALAM BOQ!.pdf', 'BAT SIEMENS FIRE ALAM BOQ!.xlsx', 'BAT-MAINTENANCE-CORRECTIVE ACTION PLAN  REPORT.doc', 'BATCH 1 2023 BID FORM (1).pdf', 'BATCH 1 2023 BID FORM.pdf', 'BATCH 1 2023.xlsx', 'BENIN MALL BASEMENT  ELV BOQ.xlsx', 'BENIN MALL BASEMENT & MASSEY CAR PACK F.A.S MINT ORDER.xlsx', 'BENIN MALL BASEMENT ELV RFQ.xlsx', 'BENIN MALL BASEMENT F.A.S.xlsx', 'Benin Mall Television.jpeg', 'BHF Benefits - Office and Field.pdf', 'bill-683004607476.pdf', 'bill-697004426388.pdf', 'Biometric Residence Permit.jpg', 'Birth Certificate.pdf', 'Bleichenbacher-1998-Chosen-ciphertext-attacks-against-p (1).pdf', 'Bleichenbacher-1998-Chosen-ciphertext-attacks-against-p.pdf', 'Bleichenbacher-1998-Chosen-ciphertext-attacks-against-p.ris', \"Blessing Abifarin's CV (1).pdf\", 'BMS Presentation (draft 1).docx', 'BN4010-Coursework Assessment-1(2) (1).docx', 'BOM- DATA AND VOICE - PTT.xlsx', 'Booking #2957997756.pdf', 'BOQ_-__DAPO_ABE(1).xlsx', 'Bottle blower section.jpeg', 'Brooklyn Bridge Park - 10.0.30.0_24.xlsx', 'Brooklyn Bridge Park - 10.10.10.0_24.xlsx', 'Brooklyn Bridge Park - 192.168.1.0_24.xlsx', 'Brooklyn Bridge Park - 192.168.30.0_24.xlsx', 'Brooklyn Bridge Park - BBP-Fortigate100D - Configuration from July 26th 2023 10-51_27 pm.txt', 'Brooklyn Bridge Park - BBP-Fortigate100D.xlsx', 'Brooklyn Bridge Park - bbp-sw1.xlsx', 'Brooklyn Bridge Park - Discovery (1).xlsx', 'Brooklyn Bridge Park - Discovery (2).xlsx', 'Brooklyn Bridge Park - Discovery.xlsx', 'Brooklyn Bridge Park - Map (1).pdf', 'Brooklyn Bridge Park - Map.pdf', 'Browser forensics (1).docx', 'Browser forensics (2).docx', 'Browser forensics Jessica 1st draft.docx', 'Browser forensics Jessica 1st draft.docx (1).pdf', 'Browser forensics Jessica 1st draft.docx.pdf', 'Browser forensics.docx', 'Browser forensics.docx.pdf', 'BrowserHistoryCapturer_v1.4.1', 'BrowserHistoryCapturer_v1.4.1.zip', 'BrowserHistoryExaminer_v1.18.0', 'BRP', 'Building-Management-System.pdf', 'Building-Management-Systems-History,-Benefits,-Disadvantages,-Standards,-and-Use-Cases (1).pdf', 'Building-Management-Systems-History,-Benefits,-Disadvantages,-Standards,-and-Use-Cases.pdf', 'Building-Management-Systems-History,-Benefits,-Disadvantages,-Standards,-and-Use-Cases_merged.pdf', 'BulkImport_Devices_Errors.csv', 'BulkImport_Devices_Template (1).csv', 'BulkImport_Devices_Template (2).csv', 'BulkImport_Devices_Template (5).csv', 'BulkImport_Devices_Template.csv', 'BulkImport_Devices_Template_redd.csv', 'BulkUpdateMFASampleFile (1).csv', 'BulkUpdateMFASampleFile.csv', 'Bullte Proof Algo--Solution (1).docx', 'Bullte Proof Algo--Solution.docx', 'Bullte Proof Algo.docx', 'Bullte Proof Algorithm complete (1).pdf', 'Bullte Proof Algorithm complete (2).pdf', 'Bullte Proof Algorithm complete.pdf', 'Business Analysis cv.docx', 'by9DZ5lfcngJBVQRZVkgf.endpoint_protection_instructions.docx', 'Caliberation fault.zip', 'CamScanner 03-17-2023 13.27.pdf', 'CamScanner 04-17-2023 08.53.pdf', 'CamScanner 08-16-2023 17.39 (1).pdf', 'CamScanner 08-16-2023 17.39.pdf', 'CAS_statement.htm', 'Cat 6A Faceplate.jpeg', 'CCTV and voice system.xlsx', 'CEACAA00C8OG2P.PDF', 'CEH Materials.zip', 'CEHv11 ISO', 'CEHv11 Module 04 Enumeration.zip', 'ceiling mounted.jpeg', 'CerberusPRO_QuantitiesTool_V1.10_A6V10211118.xlsm', 'Cerberus_PRO_IP7_product_presentation_EN_final.pptx', 'Certificate.pdf', 'Certified Student Information (1).pdf', 'Certified Student Information.pdf', 'CE_SCHLC2023-83611-A.pdf', 'CE_SCHLC2023-83611-B.pdf', 'CHAPTER FOUR.docx', 'character ref form completed.docx', 'cisco_usbconsole_driver_3_1', 'cism oct. 2022.pdf', 'CISSP', 'CMF_PriceList_2022_Q1', 'CMF_PriceList_2022_Q1.zip', 'CMF_PriceList_2022_Q4', 'CMF_PriceList_2022_Q4.zip', 'CMF_PriceList_2023_Q1_EUR', 'CMF_PriceList_2023_Q1_EUR.zip', 'CMF_Pricelist_EUR_PL2021_1', 'CMS_V4.0.2', 'CMS_V4.0.2.zip', 'Code', 'Code of Practice.docx', 'Code rivision', 'Code rivision (2)', 'code to update', 'code to update.rar', 'CombinedCode2.py', 'Company Presentation.pdf', 'CompanyPortal-Installer.pkg', 'Compare_Endpoint Protection Platforms_bitdefender-vs-microsoft_vendor.pdf', 'Complete Browser Profile.zip', 'Complete MSN PPT.pptx', 'Complete Solution BullteProof (1).docx', 'Complete Solution BullteProof.docx', 'Compressed', 'CompTIA Security+ ce certificate.pdf', 'configuration fault.jpeg', 'ConnectWise-Internet-Client.msi', 'ConnectWise-Manage-Internet-Client-x64 (1).msi', 'ConnectWise-Manage-Internet-Client-x64.msi', 'convert', 'cookies.sqlite', 'Copy of Copy of OPEYEMI ENITAN (CS resume).pdf', 'Copy-Copy of Quotation for fiber installation at ijebu.xlsx', 'Core Installers- DSTV Installation.jpeg', 'Core Installers.jpeg', 'coursework_starting_point', 'coursework_starting_point (1)', 'coursework_starting_point (1).zip', 'coursework_starting_point.zip', 'Cover letter for IT Specialist - Cyber Security.pdf', 'cp049467.compsig', 'CQ-Pizza-CallCenter.vsdx', 'CQD-Power-BI-query-templates.zip', 'Create New Tenant Via Pax8 V1.1.docx', 'CreateDesktopIcon.intunewin', 'Crypto101.pdf', 'Cryptographic Application Report (1).docx', 'Cryptographic Application Report.docx', 'Cryptography and Applications (1).pdf', 'CRYPTOGRAPHY AND APPLICATIONS.pdf', 'cryptography.docx', 'Crystalball', 'Customer Service Manager,.pdf', 'Customer.xls', 'cwa-computers.csv', 'CyberSecurity first draft.docx', 'CyberSecurity Solved (1).pdf', 'CyberSecurity Solved.docx', 'CyberSecurity Solved.pdf', \"D&O's Reception_103.jpg\", \"D&O's Reception_104.jpg\", \"D&O's Reception_105.jpg\", \"D&O's Reception_108.jpg\", \"D&O's Reception_109.jpg\", \"D&O's Reception_110.jpg\", \"D&O's Reception_111.jpg\", \"D&O's Reception_114.jpg\", \"D&O's Reception_115.jpg\", \"D&O's Reception_143.jpg\", \"D&O's Reception_150.jpg\", \"D&O's Reception_151.jpg\", \"D&O's Reception_155.jpg\", \"D&O's Reception_165.jpg\", \"D&O's Reception_166.jpg\", \"D&O's Reception_170.jpg\", \"D&O's Reception_182.jpg\", \"D&O's Reception_183.jpg\", \"D&O's Reception_189.jpg\", \"D&O's Reception_190 (1).jpg\", \"D&O's Reception_190.jpg\", \"D&O's Reception_194.jpg\", \"D&O's Reception_195.jpg\", \"D&O's Reception_198.jpg\", \"D&O's Reception_226.jpg\", \"D&O's Reception_227.jpg\", \"D&O's Reception_230.jpg\", \"D&O's Reception_263.jpg\", \"D&O's Reception_267.jpg\", \"D&O's Reception_287 (1).jpg\", \"D&O's Reception_287.jpg\", \"D&O's Reception_310.jpg\", \"D&O's Reception_312.jpg\", \"D&O's Reception_314.jpg\", \"D&O's Reception_317 (1).jpg\", \"D&O's Reception_317.jpg\", \"D&O's Reception_33.jpg\", \"D&O's Reception_331.jpg\", \"D&O's Reception_332.jpg\", \"D&O's Reception_334.jpg\", \"D&O's Reception_336.jpg\", \"D&O's Reception_337.jpg\", \"D&O's Reception_339 (1).jpg\", \"D&O's Reception_339.jpg\", \"D&O's Reception_34.jpg\", \"D&O's Reception_351.jpg\", \"D&O's Reception_353.jpg\", \"D&O's Reception_354.jpg\", \"D&O's Reception_355.jpg\", \"D&O's Reception_361.jpg\", \"D&O's Reception_362.jpg\", \"D&O's Reception_363.jpg\", \"D&O's Reception_37.jpg\", \"D&O's Reception_39.jpg\", \"D&O's Reception_40.jpg\", \"D&O's Reception_428 (1).jpg\", \"D&O's Reception_428.jpg\", \"D&O's Reception_430.jpg\", \"D&O's Reception_432.jpg\", \"D&O's Reception_435.jpg\", \"D&O's Reception_45.jpg\", \"D&O's Reception_450.jpg\", \"D&O's Reception_455.jpg\", \"D&O's Reception_477.jpg\", \"D&O's Reception_493.jpg\", \"D&O's Reception_494.jpg\", \"D&O's Reception_51.jpg\", \"D&O's Reception_512.jpg\", \"D&O's Reception_513 (1).jpg\", \"D&O's Reception_513.jpg\", \"D&O's Reception_514 (1).jpg\", \"D&O's Reception_514.jpg\", \"D&O's Reception_515.jpg\", \"D&O's Reception_517.jpg\", \"D&O's Reception_53.jpg\", 'Daniel local drive image.001.txt', 'DATA AND VOICE SCHEMATIC.pdf', 'Data Collectors.csv', 'DATA.BKP', 'dataentry386-attachments', 'dataentry386-attachments.zip', 'Datasheet-XS4-Original-PLUS-Ex4-ENG-01-22 (1).pdf', 'Datasheets.zip', 'day-2-2-exercise.zip', 'DB.Browser.for.SQLite-3.12.2-win64.msi', 'DBN ELV Services BEME Rev. 1.xlsx', 'DBN ELV SERVICES CONSTRUCTION DRAWINGS (1).pdf', 'DBN ELV SERVICES CONSTRUCTION DRAWINGS.pdf', 'DBN MEP Services Summary MarandMor Rev. 1.xlsx', 'DBN MINT ORDER 1.xlsx', 'DBN- CCTV RFQ D.xlsx', 'debitadvis - Original 1 of 1.pdf', 'debug attack3.py', 'default.PDF', 'Degree certificate.pdf', 'DELTA MALL Quotation Analysis 1.xlsx', 'Design_Final.mov', 'DESKTOP & MONITOR (1).xlsx', 'DESKTOP & MONITOR.xlsx', 'desktop.ini', 'Detailed Guidelines - Assessment (Survey Paper) (1) (1).docx', 'Detailed Guidelines - Assessment (Survey Paper) (1).docx', 'Detailed Guidelines - Assessment (Survey Paper).docx', 'devop.pem', 'DevSecOps+Forum+Middle+East+and+Africa+Shifting+Left+on+App+Security+with+GitHub+&+Microsoft.ics', 'DF Literature Review (1) (1).docx', 'DF Literature Review (1).docx', 'DF Literature Review (2).docx', 'DF Literature Review.docx', 'DF Literature Review.docx (1).pdf', 'DF Literature Review.docx.pdf', 'DGS-1210_SERIES_REVF_DATASHEET_211_EN_US.pdf', 'digital Forensics copy.docx', \"Dignity Do's.png\", 'DirectoryConnector', 'DirHash.zip', 'DiscoveryAgent.msi', 'DISK1.DB', 'disk2vhd.exe', 'DLA1191A.jpeg', 'DNSFilter_Agent_Setup.msi', 'doc', 'DOC-20230815-WA0005..pdf', 'doc06611420221027141132 (003).pdf', 'Document structure and Marking scheme (UPDATED) (1)-2.docx', 'Documents', 'Downlaoded Data to USB', 'Downlaoded Data to USB.rar', 'download (1).htm', 'download (1).xls', 'download (2).xls', 'download.htm', 'download.xls', 'draft Swift Assurance Group.docx', 'DRW_Ad_Google_Installer_20220215.27584a512394.exe', 'DRW_Ad_Google_Installer_20220215.27584a512395.exe', 'DRW_Ad_Google_Installer_20220215.27584a512397.exe', 'DS-KIS203.pdf', 'DS06170380_000_ES-EN-FR-RU-PT.pdf', 'DuoSupport_2023-08-15-07-00-36', 'DuoSupport_2023-08-15-07-04-02', 'Dynamic communication.jpeg', 'Dynamics communication.jpeg', 'E2 MSP Technical Readiness Document.docx', 'eb0bd691-0fae-4ca6-858b-d73604d3eaa5.ics', 'eccouncil-ceh31250v11.zip', 'EdAid Challenge - Olatunji Fagbore.pdf', 'eecpro_results.csv', 'EGH-SPP-230032 INVOICE (1).pdf', 'EGH-SPP-230032 INVOICE.pdf', 'Electrical Room.pdf', 'ELV SUPPORT UNIT- BALANCE SCORECARD 2022.xlsx', 'ELV TOOLS.xlsx', 'ELV.xls', 'email phishing AI BG(ieee).docx', 'email phishing AI BG.docx', 'email phishing AI LR.docx', 'Email users with licenses.csv', 'Email-and-Security-Phishing-Awareness-Training.pptx', 'email.csv', 'employment reference Ademola Adebanjo 2.docx', 'encrypted backup application.py', 'ENITAN OPEYEMI 22548645 (1).pdf', 'Enitan Opeyemi 22548645 (2).pdf', 'ENITAN OPEYEMI 22548645 (3).pdf', 'Enitan Opeyemi 22548645 (4).pdf', 'ENITAN OPEYEMI 22548645-han.pdf', 'ENITAN OPEYEMI 22548645.pdf', \"ENITAN OPEYEMI'S LETTER.pdf\", 'enitan.PNG', 'Enitan_feedback.pdf', 'EP-KTF071-23 (1).pdf', 'EP-KTF071-23.pdf', 'EpcCertificate.pdf', 'EPIH JOSEPHINE OAMEN CV.docx', 'epm.exe', 'ERESOURCE ERP TRAINING_ SITE EXECUTION PORTAL AND PART OF STORES MODULE-20210531_110107-Meeting Recording.mp4', 'Estimate_1904217.pdf.pdf', 'EVS-KDLX57 - Logs.zip', 'EVS-KDLX57 - Scans (1).zip', 'EVS-KDLX57 - Scans.zip', 'Eworitse+CV+-+EYURUNTELA+PRECIOUS (1).doc', 'ExchangeDataCollector.exe', 'export-intune.ps1', 'exportDevice_2023-6-27.csv', 'exported_table_6_1_15_19.xls.htm', 'exported_table_6_1_15_19.xls_files', 'exportUsers_2023-6-12.csv', 'Extinguising generator fp4200.pdf', 'EXT_EN_Chemical_Gas_PriceList_2022_Q3', 'EXT_EN_Chemical_Gas_PriceList_2022_Q4', 'F-FX2050-XX_xx_x-2.0.1.R1', 'F-FX2055-XX_xx_x-1.0.0.R1.exe', 'FALEYE OLUWATOSIN ABIDEMI CV (Autosaved).docx', 'FH112954610007.pdf', 'Fiber optics termination.pdf', 'file (1).pdf', 'file.pdf', 'file.zip', 'Filez', 'filtered-D3CB4334-C2DC-4DEC-9A67-DC54A182AE70.MP4', 'Final Forensics 04012023.pdf', 'Final MSN PPT.pptx', 'Final Presentation..pptx', 'Final Presentation.pdf', 'Final Presentation.pptx', 'Final Presentationnn.pdf', 'Final Update Forensics.docx', 'finalapk.py', 'Finance View.xls', 'Fire Alarm Devices.xlsx', 'FIRE ALARM SCHEMATIC.pdf', 'firepro kentec sequential activator data-sheet.pdf', 'First code', 'FM 200 EXTINGUISHING SYSTEM MISA GLOVER (1).pdf', 'FM 200 EXTINGUISHING SYSTEM MISA GLOVER.pdf', 'ForeignSupplier.xlsx', 'forensic (1) (1) (1) (1).pdf', 'forensic (1) (1) (1).pdf', 'forensic (1) (1).pdf', 'forensic (1).odt', 'forensic (1).pdf', 'forensic.docx', 'forensic.odt', 'ForensicLab..docx', 'Forensics for juliet.docx', 'Forensics for juliet.pdf', 'Forensic_Science.enw', 'foreshore', 'FortiClientVPNOnlineInstaller.exe', 'Franco Eleectronics.jpeg', 'free_pst_report_05_01_2023.csv', 'FRICC (1).pdf', 'FRICC (2).pdf', 'FRICC.pdf', 'Front Line Operational Colleagues (England) Opeyemi Enitan.docx', 'FS EN PriceList 2022 Q1', 'FS EN PriceList 2022 Q1.zip', 'FS_Cerberus_ECO_EN_PL2018_3.xlsx', 'FS_EN-NF-Desigo_CC_PriceList_2023_Q2', 'FS_EN-NF-Desigo_CC_PriceList_2023_Q2.zip', 'FS_EN-NF-Desigo_CC_PriceList_2023_Q4_EUR', 'FS_EN-NF-Desigo_CC_PriceList_2023_Q4_EUR.zip', 'FS_EN_PriceList_2020_4 (1).xlsm', 'FS_EN_PriceList_2020_4.xlsm', 'FS_EN_PriceList_2022_Q4', 'FS_EN_Sinteso_PriceList_2022_Q2', 'FS_Overall_Protection_matters_c-level_final.pptx', 'FW%3a_Repair_and_Gurantee', 'FW%3a_RFQ_-Fire_Protection_Systems (2)', 'FW_HDL-MHRCU.433-V05.14U-2020-08-12-STM32F107VCT6(Buspro version).bin', 'Gadnet Services.jpeg', 'Galaxy Fibre Termination.xlsx', 'GBMAS-GR0068085.pdf', 'GBMAS-GR0070124.pdf', 'GBMASA-GR0058140 (1).pdf', 'GBMASA-GR0058140.pdf', 'GBMASA-GR0058141 (1).pdf', 'GBMASA-GR0058141.pdf', 'gcapi.dll', 'Geophysical Survey report for  a site @ Tudun-fulani ext.Bwari 6th June,,,Abuja.pdf', 'GEORGE BATOR GIMBASON.pdf', 'Getfolderhash.ps1', 'Gigs', 'Gigs-20170515T153801Z-001', 'Git-2.33.0.2-64-bit.exe', 'github-recovery-codes.txt', \"God's Purpose Ventures new-1(15) (1).pdf\", \"God's Purpose Ventures new-1(15).pdf\", \"God's Purpose Ventures new-1(35).pdf\", \"God's Purpose Ventures new-1(39).pdf\", \"God's Purpose Ventures new-1(46).pdf\", \"God's Purpose Ventures new-1(5).pdf\", 'Godspurpose1.docx', 'GoodSync-vsub-WD-Setup (1).exe', 'GoodSync-vsub-WD-Setup.exe', 'GoogleEarthProSetup.exe', 'googleearthprowin-7.3.1-x64.exe', 'google_api_response.rtf', 'Graphic1.pdf', 'Groom men Confirmation.pdf', 'Groups.csv', 'GSPEAK ULTRA_QUOTE 10.08.23.pdf', 'GTWorld - Transaction Receipt.pdf', 'h3cgnj8hft-1', 'h3cgnj8hft-1.zip', 'hash digest.docx', 'HAUSBA_MMLO_ProposalQuotation_rel20210401-final-converted.xlsx', 'HDL Buspro', 'HDL Buspro Online Basic Training-March, 2021-20210510T091408Z-002', 'HDMI extender.jpeg', 'Headshot.jpg', 'Heea2458a0145433aa0d73f3840b5dc1c6.jpg', 'High resistance.jpeg', 'Hotel & Cab Invoice-images', 'Hotel-invoice', 'HotspotShield-12.2.1-plain-773-plain.exe', 'House rent invoice.pdf', 'How to access Shared Teams.docx', 'hpdj510wx64glen.exe', 'HR_Hiring Manager Interview Feedback_Form (1).docx', 'HR_Hiring Manager Interview Feedback_Form.docx', 'HSB-SO0133-4_OsunCresentAutomation_ProposalQuotation_rel20230407.pdf', 'HSB-SO0133-5_OsunCresentAutomation_ProposalQuotation_rel20230414.pdf', 'HSB-SO0133-5_OsunCresentAutomation_ProposalQuotation_rel20230415.pdf', 'HSB_MMLO_AccessControl_ProposalQuotation_rel20221121.pdf', 'IDDSI Whole Framework A3 Poster.pdf', 'IDM 6.27 Build 2 Registered (32bit + 64bit Patch) [CrackingPatching]', 'IDM 6.30 Build 3 incl Patch [32bit + 64bit] [CrackingPatching]', 'IEEE Template.docx', 'IISCrypto (1).exe', 'IISCrypto.exe', 'IISCryptoCli.exe', 'iisexpress_amd64_en-US.msi', 'IKECHUKWU EZEOFOR  SALARY REVIEW.pdf', 'image (1).png', 'image (2).png', 'image (3).png', 'image (4).png', 'image.png', 'image.webp', 'image0 (1).jpeg', 'image0 (1).png', 'image0.jpeg', 'image0.png', 'Images', 'images and log.txt', 'IMG_1056 (1).jpg', 'IMG_1056 (2).jpg', 'IMG_1056.jpg', 'IMG_2039.jpg', 'IMG_2045.jpg', 'IMG_2048.jpg', 'IMG_3342.jpg', 'IMG_4035.jpg', 'IMG_4278.JPG', 'IMG_5083.jpg', 'IMG_7009.jpg', 'IMG_7488.jpg', 'IMG_7836.jpg', 'IMG_7917.JPEG', 'IMG_7918.JPEG', 'IMM10003_1-Q4NV78A.pdf', 'IMM5786_1-Q4NV77Y (1).pdf', 'IMM5786_1-Q4NV77Y.pdf', 'IMM5787_1-Q4NV784.pdf', 'IMM5788_1-S11VI3O.pdf', 'Implemantion code.py', 'import-intune.ps1', 'IMS 2023', 'IMS 2023.rar', 'imsm_tbt_dch_sw_rev59.2_1.41.648.2_0x2d2253ff', 'includes.php', 'index.php', 'Installations', 'Install_WD_Discovery_for_Windows.exe', 'instruction.txt', 'Integrated Audio Collaboration System.pdf', 'Interest receipt.jpeg', 'International passport.pdf', 'Introduction (1).docx', 'Introduction (2).docx', 'Introduction (3).docx', 'Introduction to Building Management System.pdf', 'Introduction.docx', 'INV-00072 - Yemi Enitan .pdf', 'invite (1).ics', 'invite (2).ics', 'invite (3).ics', 'invite.ics', 'Invoice #3535.pdf', 'Invoice (1).pdf', 'Invoice (2).jpeg', 'Invoice (2).pdf', 'Invoice for Abuja region.pdf', 'Invoice for Graphic designs.jpeg', 'Invoice for Lagos region.jpeg', 'Invoice for laptop battery.jpeg', 'Invoice-1411745 (1).pdf', 'Invoice-1411745.pdf', 'Invoice-1553894 (1).pdf', 'Invoice-1553894.pdf', 'Invoice.jpeg', 'invoice.pdf', 'Invoice_0002793_1692956560041 (1).pdf', 'Invoice_0002793_1692956560041 (2).pdf', 'Invoice_0002793_1692956560041.pdf', 'Invoice_627_2021-02-01 (2)_230118_150928.pdf', 'Invoice_998_2022-11-15.pdf', 'iot-security-example (1).pptx', 'iot-security-example.pptx', 'iperf-3.1.3-win64.zip', 'ism (1).pdf', 'ISM IEEE format (1).docx', 'ISM IEEE format.docx', 'ISM.docx', 'ism.pdf', 'ISO_IEC 27001;2022 ed.3 - id.82875 Publication PDF (en).pdf', 'isunshare-windows-password-genius-standard.exe', 'IT ELV 06_02_2023 [Autosaved].pptx', 'IT Handover Note.docx', 'IT SUPPORT UNIT- BALANCE SCORECARD (2023).xlsx', 'J211201NM-3.pdf', 'JAM APPROVALS (1).pdf', 'JAM APPROVALS.pdf', 'Job Description IT ADMIN.pdf', 'juliet rc5.docx', 'Juliet TOR..pdf', 'Juliets Application', 'Juliets project.pdf', 'Juls network visualizzation', 'JUN - SEPT 2022 purchase_order.html', 'K7 - COWRIE CREEK _ Basement Layout & Section.pdf', 'kali-linux-2023.2a-hyperv-amd64', 'kali-linux-2023.2a-hyperv-amd64.7z', 'key storage', 'keys.zip', \"Kike's 4.docx\", 'KMSAuto Lite Portable TEST4 (1)', 'KX-TE-Maintenance-ConsoleV3.0', 'Lab-Firewall-20230117.zip', 'Lab_04_Discrete_Log.pdf.sig', 'LALIT', 'Laptop Repair.xlsx', 'laptop screen.jpeg', 'Latest code', 'latest rsa', 'Layer 2-3 Diagram Export to Microsoft Visio (1).vsdx', 'LDPlayer9_ens_31815734_ld.exe', 'leave.docx', 'Lec 04 RSA', 'Lec 04 RSA.zip', 'LEChain.pdf', 'Lecture3_SSD_Israfil.pptx', 'Line tester result for high resistance fault 1 (2).jpeg', 'Line tester result for high resistance fault 1.jpeg', 'LIST OF INVESTORS IN EMMATAWIO AND AMOUNT INVESTED.docx', 'LITERATURE REVIEW - Artificial Intelligence for Fraud Detection in Financial Transactions (1).pdf', 'LITERATURE REVIEW - Artificial Intelligence for Fraud Detection in Financial Transactions.pdf', 'Literature Survey Report (1).docx', 'Literature Survey Report.docx', 'Literature Survey Report.docx.pdf', 'LoxoneConfigSetup_12010617', 'LoxoneConfigSetup_12010716', 'LOYALTY PROGRAMME_FINAL.pptx', 'LSC.docx', 'LSC.mpp', 'LTechAgent (1).zip', 'LTechAgent.zip', 'Mahaju-2017-Evaluation-of-firefox-browser-foren (1).pdf', 'Mahaju-2017-Evaluation-of-firefox-browser-foren.pdf', 'Mahaju-2017-Evaluation-of-firefox-browser-foren.ris', 'Mailboxes.csv', 'main (1).py', 'main 2.py', 'main 3.py', 'main app.docx', 'Mar & Mor Proforma Invoice rev3 (1).pdf', 'Mar & Mor Proforma Invoice rev3.pdf', 'Mar & Mor proforma invoice.docx', 'MAR & MOR TAMS INVOICE (1).pdf', 'MAR & MOR TAMS INVOICE.pdf', 'MAR&MOR-1.pdf', 'MarandMorDomainSSL.pdf', 'Marriage', 'MBOs Form Revised 10_17_2013.docx', 'MCH1-IT-UFPS01P_MCH1-PS-6B_0524_001.pdf', 'MEA-Blueprint-for-BYOD-Use-v1.0-Final-Version.pdf', 'MediaCreationTool22H2 (1).exe', 'MEP_2023_English_Win_64bit_H050_en-US_setup_webinstall (1).exe', 'MEP_2023_English_Win_64bit_H050_en-US_setup_webinstall.exe', 'Mercy Ojo’s CV.docx', 'Message from UK in Nigeria (1).jpeg', 'Message from UK in Nigeria.jpeg', 'MessageTraceResult (1).csv', 'MessageTraceResult.csv', 'MICROSOFT OUTLOOK RECALL GUIDE.pdf', 'Microsoft-Win32-Content-Prep-Tool-master', 'Microsoft-Win32-Content-Prep-Tool-master (1)', 'Microsoft-Win32-Content-Prep-Tool-master (1).zip', 'Microsoft-Win32-Content-Prep-Tool-master.zip', 'microsoftcertificate', 'microsoftcertificate (1)', 'microsoftcertificate (1).zip', 'MicrosoftTeams-image (1).png', 'MicrosoftTeams-image (10).png', 'MicrosoftTeams-image (11).png', 'MicrosoftTeams-image (12).png', 'MicrosoftTeams-image (13).png', 'MicrosoftTeams-image (14).png', 'MicrosoftTeams-image (15).png', 'MicrosoftTeams-image (16).png', 'MicrosoftTeams-image (17).png', 'MicrosoftTeams-image (18).png', 'MicrosoftTeams-image (19).png', 'MicrosoftTeams-image (2).png', 'MicrosoftTeams-image (20).png', 'MicrosoftTeams-image (21).png', 'MicrosoftTeams-image (22).png', 'MicrosoftTeams-image (23).png', 'MicrosoftTeams-image (24).png', 'MicrosoftTeams-image (25).png', 'MicrosoftTeams-image (26).png', 'MicrosoftTeams-image (27).png', 'MicrosoftTeams-image (28).png', 'MicrosoftTeams-image (3).png', 'MicrosoftTeams-image (4).png', 'MicrosoftTeams-image (5).png', 'MicrosoftTeams-image (6).png', 'MicrosoftTeams-image (7).png', 'MicrosoftTeams-image (8).png', 'MicrosoftTeams-image (9).png', 'MicrosoftTeams-image.png', 'Microsoft_Dynamics_365_Cloud_Service_Compliance_Datasheet.pdf', 'Microsoft_Office_License_Removal_2.7.pkg', 'Minutes of the Meeting_UAG with Ope_20221118.docx', 'MM-119 NEW ERP BOM 30-7-2022.xlsx', 'MM-ASO-PR-PO-230901-HAUSBA.pdf', 'MM-IHC-PR-PO-231666 Venderbilt.pdf', 'MM-RDO-PR-PO-230325 DPIS.pdf', 'MM-SD-PR-PO-222583Rev1 Siemens.pdf', 'MM-Site Name -OTS 2022.xlsx', 'MMBM FPL GW WINNERS.pdf', 'MMBM FPL GW WINNERS.xlsx', 'MMES_ELV_PHOENIX_MATERIALS_SCHEDULE.pdf', 'MMES_ELV_PHOENIX_MATERIALS_SCHEDULE.xlsx', 'MMIS-C-002 PHOENIX ELECTRICAL ELV BOQ  RevC.xlsx', 'MMIS_ADIDAS_ADDITIONALCAMERA_BOM_05182023.pdf', 'MMLO VALUATION.xlsx', 'MMU Cyber Community Guest Speakers-20221007', 'MMU_Harvard (1).ens', 'MMU_Harvard.ens', 'MobaXterm_Installer_v21.2', 'Modular Power_Battery_Calculation_v5.3.6_2020-09.zip', 'MOTORIZED TRACK CONTROL.xlsx', 'MPC.jpeg', 'mpc0000c-v3.1.16', 'Mr abdulrashed seat (1).pdf', 'Mr abdulrashed seat.pdf', \"MR GBOYEGA'S RESIDENT ... DISCOUNTED.pdf\", 'MS-500 Exam – Free Actual Q&As, Page 1 _ ExamTopics1.pdf', 'MSEdge.Win10.VirtualBox', 'MSIPackageBuilderSetup.exe', 'MSN PPT.pptx', 'MSP', 'MTSummary_Message trace report - _2023-06-21T073816.266Z__bca4bd6a-88cd-4e99-af09-0cec70abf1c9.csv', 'MTSummary_Message trace report - _2023-07-21T110020.416Z__d298c82e-9245-4372-85a5-2efc47d687de.csv', 'MTSummary_Message trace report - _2023-07-21T110416.214Z__3e572744-8d41-4ab9-8665-fe51d05ff042.csv', 'MTSummary_Message trace report - _2023-07-21T111257.953Z__e17907b9-5639-4bae-8152-50b09247adcb.csv', 'Music', 'My book v1.pdf', 'MY Resume.docx', 'NC Form for IT.docx', 'NDDC Pictures', 'Nelly', 'Netsuite.xml', 'network3.py', 'networkattack3.py', 'Networkcapture1.pcap', 'Networkcapture2.pcap', 'Networkcapture3.pcap', 'NetworkDetectiveDataCollector.exe', 'NEW COMBINED QUOTE.docx', 'New folder', 'New folder (2)', 'New folder (3)', 'New project. 1.docx', 'NewPackage Implementation.xlsx', 'newputtykey.ppk', 'NIgeria Payment Guide - Salford.pdf', 'Nova IP Theft.001.txt', 'npp.8.5.2.Installer.x64.exe', 'NSE_1_Certification.pdf', 'nvr_n10_bl_ml_std_v3.4.5_171229_hc', 'Ny Edit (1).pdf', 'Ny Edit.pdf', 'ny.edited (1).docx', 'ny.edited.docx', 'NYSC certificate.pdf', 'OA_200123848.pdf', 'OA_9569227.pdf', 'Oduala Uthman CV.pdf', 'Odulu Amos-1.pdf', 'Offer - Opeyemi Enitan.docx', 'Offer Letter.htm', 'Office.zip', 'OfficeSetup (1).exe', 'OfficeSetup (2).exe', 'OfficeSetup (3).exe', 'OfficeSetup.exe', 'OLAM (1).vpd', 'OLAM ILORIN ELV TENDER.xlsx', 'OLAM.vpd', 'Onboarding to CloudFirst package.docx', 'OneDrive_1_1-6-2022.zip', 'OneDrive_1_1-9-2022.zip', 'OneDrive_1_12-9-2021.zip', 'OneDrive_2022-06-06.zip', 'OneDrive_2023-01-18', 'OnlineSvcsConsolidatedSLA(WW)(English)(July2023)(CR).docx', 'OnVUE-22.8.85.exe', 'OpenJDK11U-jdk_x64_windows_hotspot_11.0.20_8.msi', 'OpenJDK11U-jre_x64_windows_hotspot_11.0.20_8.msi', 'Operations & Supply Chain Mgmt (Slides) updated.pdf', 'opesy.ovpn', 'opeyemi (1).pem', 'OPEYEMI ENITAN (1).pdf', 'OPEYEMI ENITAN (CS resume) (1).pdf', 'OPEYEMI ENITAN (CS resume) (2).pdf', 'OPEYEMI ENITAN (CS resume).docx', 'OPEYEMI ENITAN (CS resume).pdf', 'OPEYEMI ENITAN (M365 resume).pdf', 'OPEYEMI ENITAN (MS resume) (1).pdf', 'OPEYEMI ENITAN (MS resume) (2) (1).pdf', 'OPEYEMI ENITAN (MS resume) (2).pdf', 'OPEYEMI ENITAN (MS resume).pdf', 'Opeyemi Enitan 6G7V0032_Penetration Testing (2).pdf', 'OPEYEMI ENITAN.pdf', 'Opeyemi Isaiah Enitan e-Certificate LI ISMS.pdf', 'OPEYEMI+ENITAN+(CS+resume).pdf', 'OPEYEMI+ENITAN+(MS+resume)+(1).pdf', 'Opeyemi+Enitan+(Resume)-.pdf', 'Opeyemi-Isaiah-Cyber-Security-Training.pdf', 'Opeyemi.pdf', 'opeyemi.pem', 'Optimizing Windows 10 Update Adoption.pdf', 'Optimizing-Building-Performance-with-BMS.pdf', 'original.reg', 'osfclone', 'Osun Creasent - Blind automation shop drawing.pdf', 'OSUN CRESCENT', 'OSUN CRESCENT.rar', 'OSUN CRESTON', 'OSUN CRESTON.rar', 'Our Code October2022v2.pdf', 'P.I  Tyrus Technology            13-02-2023.pdf', 'p2schild (1).pfx', 'p2schild.pfx', 'P60 2022.pdf', 'P60_D_221026_6GL0NFVBI.PDF', 'Paid Pictures', 'panel configurator.jpeg', 'panel with cards.jpeg', 'Panel.jpeg', 'paper review.docx', 'paper.docx', 'PARAMOUNT TWIN TOWER.xlsx', 'Party Item Relation.xlsx', 'payslips-download-28_06_2023 09_05_20.zip', 'PC Linetester Tool-FXS2017-3.5.0', 'PC Linetester Tool-FXS2017-3.5.0.zip', 'pcap assi.docx', 'PEN TESTING (1).docx', 'PEN TESTING.docx', 'Pentestting SWIFT ASSURED GROUP (1).docx', 'Pentestting SWIFT ASSURED GROUP.docx', 'PhishAlertButtonSetup.exe', 'PhishAlertManifest.xml', 'phishing.jsonl', 'Phishing_Email.csv (1)', 'Phishing_Email.csv (1).zip', 'Phishing_Email.csv.zip', 'Phishing_Emails.ipynb', 'PHOENIX CCTV CAMERA SCHEMATIC DRAWING.pdf', 'PHOTO-2022-03-27-14-39-44.jpg', 'PHOTO-2022-06-21-22-01-05 (1).jpg', 'PHOTO-2022-06-21-22-01-05.jpg', 'Physical-Access-Control-Keeping-Your-Space-Safe.pdf', 'PLA Planning Graduate Programme .docx', 'places.sqlite', 'Plagiarism Report (1).pdf', 'Plagiarism Report (2).pdf', 'Plagiarism Report.pdf', 'Please_DocuSign_Opeyemi_Isaiah_Enitan-Employ (1).zip', 'Please_DocuSign_Opeyemi_Isaiah_Enitan-Employ.zip', 'Please_DocuSign_Opeyemi_Isaiah_Enitan-UP_Fit.zip', 'Plena V3.01.01 - download', 'PlenaVAS_SW_Software_Plena_V3.01.01___download_enUS_14552177163', 'POE Extender.jpeg', 'policy_templates', 'PopcornTime', 'postal-vote-application-A3KCY268X5.pdf', 'Potential Processes.docx', 'PowerShellSupport.ps1', 'pr16_951_4367.pdf', 'Practical Digital Forensic Excersice (1).docx', 'Presentation(1) copy.pptx', 'press release-new fx market rules.pdf', 'PRICELIST 14-11-2022 (1).docx', 'PRICELIST 14-11-2022.docx', 'PRICELIST 27-03-2023.docx', 'PRINCIPLES AND PRACTICES OF DIGITAL FORENSICS (6G7V0027_2223_9F) (1).pdf', 'PRINCIPLES AND PRACTICES OF DIGITAL FORENSICS (6G7V0027_2223_9F).pdf', 'PRINCIPLES AND PRACTICES OF DIGITAL FORENSICS (6G7V0027_2223_9F.docx', 'Printer head.jpeg', 'prjstd.ww', 'Professional_transcript20230604 (1).pdf', 'Professional_transcript20230604.pdf', 'Profile (1).pdf', 'Profile.pdf', 'Programs', 'Progress - Shortcut.lnk', 'Progress.docx', 'Project', 'Project Enquiry.xls', 'Project Estimation.xls', 'Project proposal TOR (1) (1).pdf', 'Project proposal TOR (1).pdf', 'Project proposal TOR.pdf', 'Project proposal(AI).docx', 'Project proposal(AI)_merged.pdf', 'Project proposal_merged.pdf', 'Project Report-1 (1).docx', 'Project Report-1 (2).docx', 'Project Report-1 (3).docx', 'Project Report-1.docx', 'Project Report.docx', 'Project Status.xlsx', 'PROJECT TERM OF REFERENCE (1).docx', 'Project.rar', 'PROPOSAL QUOTATION FOR PAS. ADIDAS.xlsx', 'PROPOSED SALVATION MINISTRY CATHEDRAL DEV PH_ELV_FIRE ALARM BOQ.xlsx', 'ps10.3.0.50prom.exe', 'PSQL11.30-20220225T194859Z-001', 'public address system.rar', 'Purchase-Order-Template-01-TemplateLab', 'putty private key.ppk', 'putty-64bit-0.75-installer.msi', 'Python Script.docx', 'python-3.10.0-amd64.exe', 'Quotation - HSB-MMIS-ACS-discounted.pdf', 'QUOTATION FOR  EQUIPMENTS AND WIRING ACCESSORIES.docx', 'Quotation for fiber installation at pinnock prime Estate, Lekki.xlsx', 'Quote_Matrix_Mar&Mor (Adidas)_090522.pdf', 'rapidfire_tools_2022_11_16_471688.txt', 'RDPWrap-v1.6.2', 'RDPWrap-v1.6.2.zip', 'readerdc64_uk_jd_cra_install.exe', 'readerdc64_uk_ka_cra_install (1).exe', 'readerdc64_uk_ka_cra_install.exe', 'readme.md', 'Receipt- Opeyemi (owerri)-1.jpg', 'receipt-0040136935-0162005081-100000000-202308182023.pdf', 'Recommedation Letter.docx', 'RecordExport.csv', 'recoverit_64bit_full4134.exe', 'recoverit_setup_full4134.exe', 'recruitment@jobarena.ng Secure Email Setup.mobileconfig', 'Redd Electrical Services - External - Silver Managed Services.pptx', 'Redd Electrical Services - SOW - Silver Package (1).pdf', 'Redd Electrical Services - SOW - Silver Package.pdf', 'REEVESHIRE - ELECTRICAL RFQ ON ELV.xlsx', 'Reeveshire Project.docx', 'References.pdf', 'Refrence 1 (2022_03_02 13_39_44 UTC) (3) (1).docx', 'Refrence 1 (2022_03_02 13_39_44 UTC) (3) (2).docx', 'Refrence 1 (2022_03_02 13_39_44 UTC) (3).docx', 'Reimagine+secure+access+with+Microsoft+Entra+digital+event.ics', 'REMINDER.docx', 'Report (1).docx', 'Report 1.docx', 'Report.docx', 'Requirement for Time Sheet.docx', 'RESIDENCE PERMIT (1).pdf', 'RESIDENCE PERMIT (2).pdf', 'RESIDENCE PERMIT.pdf', 'restaurant-release.apk', 'Resume for Adeola Hassan.docx', 'Resume for Adeola Hassan.pdf', 'Resume for Hassan Adeola Kehinde.docx', 'ResumeAndyNelson.docx', 'returns_detail-reports-05312023113704PM.pdf', 'return_order_RP4U20230124458.pdf', 'revision.docx', 'Revit_2023_RTC_Win_64bit_di_ML_setup_webinstall (1).exe', 'Revit_2023_RTC_Win_64bit_di_ML_setup_webinstall.exe', 'REVO Stock Promotion 230315.pdf', 'RFQ ELV fbcn.xlsx', 'rota week com 19th Feb 23.docx', 'RPNow-Bridge-Syscheck-Results-Debug-2022-11-15T22_45_57.297Z.csv', 'RS-1 Operations & Supply Chain Mgmt (Slides)-pages-1,3-6,9-10,12-14,16-17,20-22,24,26-28,31,34.pdf', 'RS-1 Operations & Supply Chain Mgmt (Slides).pdf', 'RSA (1).py', 'RSA (2).py', 'RSA (3).py', 'RSA A4 WORD DOC.docx', 'RSA Algorithm.pdf', 'RSA.py', 'rsa_sign', 'rsa_sign.zip', 'S.-Mahaju-and-T.-Atkison-2017-Evaluation-of-Firefox-Browser-Forensics-Tools.pdf', 's40012-012-0008-7.pdf', 'SAG edited.pptx', 'SAGAMU Command Hub 2 upload 27, June 2022.fsc', 'sample (2)-1-1.docx', 'Sample 1 (1).pdf', 'Sample 1.pdf', 'Sample 1_2.jpeg', 'Sample 3_4.jpeg', 'Sample ID.jpeg', 'Sample Work-PA', 'SANGO PROJECT EXPENSES.pdf', 'SANGO PROJECT EXPENSES.xlsx', 'Sanni Jamiu.jpg', 'SaRA_17_00_9663_002', 'SaRA_17_00_9663_002.zip', 'Save+the+date+Microsoft+Azure+Virtual+Training+Day+Azure+Virtual+Desktop+ (1).ics', 'Save+the+date+Microsoft+Azure+Virtual+Training+Day+Azure+Virtual+Desktop+.ics', 'Save+the+date+Microsoft+Azure+Virtual+Training+Day+Migrating+On-Premises+Infrastructure+and+Data+Part+1.ics', 'Save+the+date+Microsoft+Azure+Virtual+Training+Day+Migrating+On-Premises+Infrastructure+and+Data+Part+2.ics', 'Save+the+date+Microsoft+Security+Virtual+Training+Day+Security,+Compliance,+&+Identity+Fundamentals+Part+1 (1).ics', 'Save+the+date+Microsoft+Security+Virtual+Training+Day+Security,+Compliance,+&+Identity+Fundamentals+Part+1 (2).ics', 'Save+the+date+Microsoft+Security+Virtual+Training+Day+Security,+Compliance,+&+Identity+Fundamentals+Part+1.ics', 'Save+the+date+Microsoft+Security+Virtual+Training+Day+Security,+Compliance,+&+Identity+Fundamentals+Part+2 (1).ics', 'Save+the+date+Microsoft+Security+Virtual+Training+Day+Security,+Compliance,+&+Identity+Fundamentals+Part+2.ics', 'Save+the+date+Microsoft+Security+Virtual+Training+Day+Zero+Trust+Part+1.ics', 'Save+the+date+Microsoft+Security+Virtual+Training+Day+Zero+Trust+Part+2.ics', 'Scanned Documents (1).pdf', 'Scanned Documents (2).pdf', 'Scanned Documents.pdf', 'scholar (1).enw', 'scholar.enw', 'School fees bill.pdf', 'Screen Shot 2023-05-10 at 12.09.26 PM.png', 'Screenshot 2023-03-07 160741.png', 'Screenshot 2023-04-14 204521.png', 'Screenshot 2023-05-09 102604.png', 'screenshot from browser forensic for juliet.odt', 'screenshot.docx', 'scripts.zip', 'SC_SCHLC2023-83611-B.pdf', 'SD-master', 'Secure software development lifecycle in banking.docx', 'Security and Privacy in Healthcare...docx', 'Security and Privacy in Healthcare.docx', 'Security Awareness Training Project QA.xlsx', 'SecurityAwarenessTrainingandTestingModelPolicyTemplate (1).docx', 'SecurityAwarenessTrainingandTestingModelPolicyTemplate.docx', 'Seimens field devices', 'sejda-TZFRDS.zip', 'sejda-UXB02E.zip', 'Self Reflection Guidelines - Assessment (Survey Paper).docx', 'Sentinel Pricing (1).pdf', 'Sentinel Pricing.pdf', 'ServiceLogin.htm', 'setup (1).exe', 'setup.exe', 'SetupProd_AuthChk.exe', 'ShareX-15.0.0-setup.exe', 'sigma-xt control panel.pdf', 'Signature.jpg', 'Signatures.html', 'Signatures_files', 'simple_attendance_report_9513_1634110031.csv', 'SiPass MP2.76.26 EN SP2_2_2020.iso', 'SIWES request letter.pdf', 'SM9 Algorithm Assessment.docx', 'SM9 Algorithm Assessment_New.docx', 'Smart Home Products Price - July 2023.xls', 'smart homes.docx', 'smarthealthcare task  (1).docx', 'smarthealthcare task .docx', 'smarthealthcare task updated april 6.docx', 'smarthealthcare updated april 6-1.docx.pdf', 'smarthealthcare updated may 10.docx', 'Social engr.docx', 'SolarWinds-FT-TracerouteNG-2021.3.0.130.zip', 'Solved Forensics (1).docx', 'Solved Forensics.docx', 'some wireshark filters.txt', 'SOPHOS-XG-MIB.mib', 'SOP_Mohawk 21062023.docx', 'spacedesk_driver_Win_10_64_v0931_BETA.msi', 'SPOCK_2022-02-08_15-37-45.html', 'SqliteExaminer_v1.1.0', 'SqliteExaminer_v1.1.0.zip', 'Staff letter.pdf', 'Starboy - SOCO ft. Wizkid x Terri x Spotless x Ceeza Milli.mp3', 'Statement of Experience-1.jpg', 'Statement_2023_2 (1).pdf', 'Statement_2023_2.pdf', 'Statement_2023_3 (1).pdf', 'Statement_2023_3.pdf', 'Statement_2023_4.pdf', 'Statement_2023_6.pdf', 'Statement_2023_7.pdf', 'Statement_2023_8.pdf', 'stats Q2.xlsx', 'Stats Q3.docx', 'Stats question.docx', 'stats work.xlsx', 'STATS.docx', 'STATS.txt', 'steghide', 'steghide-0.5.1-win32.zip', 'SteVE CV.pdf', 'Strip light.jpeg', 'Structure cabling.jpeg', 'Structured-Cabling-in-Extra-Low-Voltage.pdf', 'Student ID.pdf', 'style.zip', 'Sugarboy - Hola Hola.mp3', 'Sugarboy ft. Ycee - Chop (prod. Princeton).mp3', 'Supplier Master.xlsx', 'Supplier.xls', 'SupplierMaster.xlsx', 'Supplier_files', 'Support-LogMeInRescue.exe', 'support_chat_transcript_b2b38d0e479747cabfab8905bbe6cc34.txt', 'Suppression datasheet.rar', 'Survey 1 (1).pdf', 'Survey 1 (2).pdf', 'Survey 1.pdf', 'Survey Paper-1 (1).docx', 'Survey Paper-1 (2).docx', 'Survey Paper-1 (3).docx', 'Survey Paper-1.docx', 'Survey Paper.docx', 'Survey-1_presentation.pdf', 'svm.pkl', 'SWIFT ASSURANCE GROUP (1).pdf', 'SWIFT ASSURANCE GROUP (2).pdf', 'SWIFT ASSURANCE GROUP.pdf', 'Swift Assurance Penetration Testing Presentation (1).pptx', 'Swift Assurance Penetration Testing Presentation (3) (1).pptx', 'Swift Assurance Penetration Testing Presentation (3).pptx', 'Swift Assurance Penetration Testing Presentation updated with references (1).pptx', 'Swift Assurance Penetration Testing Presentation updated with references.pptx', 'Swift Assurance Penetration Testing Presentation.pptx', 'Swift Assurance Presentation.pdf', 'swiftadv - Original 1 of 1.pdf', 'Swing gate operators; centurion.pdf', 'Symantec_Endpoint_Protection_14.0.1_MP2_Win64-bit_Client_EN.zip', 'systemConfig.png', 'Systems Administrator.docx', 'T3 tones 2 cycles ulaw.wav', 'table floorbox 1.jpg', 'TAMS_Ambassador_Report.xlsx', 'Task 1 Tabular data (1).docx', 'Task 1 Tabular data (2).docx', 'Task 1 Tabular data.docx', 'Task 2 (1).docx', 'Task 2.docx', 'task5.4 (1).py', 'task5.4.py', 'Tax Clearance Certificate (1).pdf', 'Tax Clearance Certificate.pdf', 'Team Member Enterprise Systems X86 Wintel Estate Virt  docx.docx', 'technical_specifications_en_GB_TEC09210006_4340.pdf', 'Technican ID.jpeg', 'TEK-EXPERT PREVIOUS EMPLOYMENT FORM (4) (3) (1).docx', 'TEK-EXPERT PREVIOUS EMPLOYMENT FORM (4) (3) (2).docx', 'TEK-EXPERT PREVIOUS EMPLOYMENT FORM (4) (3).docx', 'template (1).json', 'template.json', 'Tenancy_Agreement_flat_4_82_ince_green_lane_wigan_wn2_2dg (1).pdf', 'Tenancy_Agreement_flat_4_82_ince_green_lane_wigan_wn2_2dg.pdf', 'Terms Of Reference.docx', 'termsrv', 'termsrv.zip', 'test.xlsx', 'test1.txt', 'test2.txt', 'test3.docx', 'test3.pdf', 'testtt.txt', 'TH23-INV-23008_ ISO 27001 LEAD IMPLEMENTER LIVE VIRTUAL TRAINING & CERTIFICATION _OPEYEMI ISAIA.pdf', 'Thesis (Phishing Emails).docx', 'this_message_in_html (1).html', 'this_message_in_html (2).html', 'this_message_in_html (3).html', 'this_message_in_html.html', 'Time-Tracking-Sheet-version-1.0.xlsm', 'Time-Tracking-Sheet-version-1.0222.xlsm', 'timi fernet.py', 'tmp (1).zip', 'TMP-GBMAS-GR0048800.pdf', 'TMP-GBMAS-GR0062256.pdf', 'tmp.zip', 'TMT7.application', 'TOA', 'Toa quote-84551.pdf', 'TOA software', 'toolSettings_Q4.enc', 'TOP TRAINING HEIGHTS COURSES (1).xlsx', 'ToR_example3.pdf', 'Traffic.jpeg', 'Training Heights ISO 27001 2022 New Version.pdf', 'Training-Content-By-Subscription-Level (1).pdf', 'Training-Content-By-Subscription-Level.pdf', 'TRAVELLING EXPENSES.xlsx', 'Tropicana mall hotel.jpeg', 'Truvision cctv datasheet.pdf', 'Turnitin Report (1).pdf', 'Turnitin Report (2).pdf', 'Turnitin Report.pdf', 'TurnitinUK - Originality Report - Advanced Computer Networks Assessment - 22543570.pdf', 'UAG MSP Requirement documentation.docx', 'UAG MSP Technical Readiness Document.docx', 'UAG_Azure_VPN_Setup_Guide.pdf', 'UK in Nigeria (1).jpeg', 'UK in Nigeria (2).jpeg', 'UK in Nigeria.jpeg', 'uk_checklist_schengen_visa_tourism_2022_0.pdf', 'UltraViewer_setup_6.6_en.exe', 'Unconfirmed 404612.crdownload', 'Unconfirmed 88280.crdownload', 'UNICEM。891 power removed_08302022 (1).zip', 'UNICEM。891 power removed_08302022.zip', 'UniFi-installer (1).exe', 'UniFi-installer.exe', 'unifiedit_1-attachments', 'UniversalPrintConnectorInstaller.1.84.8342.42256 (1).exe', 'UniversalPrintConnectorInstaller.1.84.8342.42256 (2).exe', 'UniversalPrintConnectorInstaller.1.84.8342.42256.exe', 'UniversalPrintConnectorInstaller.1.87.8489.31785.exe', 'Untitled', 'Untitled (1)', 'Untitled (10)', 'Untitled (2)', 'Untitled (3)', 'Untitled (4)', 'Untitled (5)', 'Untitled (6)', 'Untitled (7)', 'Untitled (8)', 'Untitled (9)', 'Untitled-1.py', 'Untitled.pptx', 'UofH Official Conditional Offer Letter opeyemi.html', 'UP 30082023_16kktm.pdf', 'Up Fitness - Ultimate Performance Internal Remediation Report v2.0.pdf', 'UP Vulnerability Scan Report (By Issue.docx', 'update 2.py', 'update cv.pdf', 'update.py', 'update1.1.py', 'update4 (1).py', 'update4.py', 'Updated Bill within 90days (1).pdf', 'Updated Bill within 90days.pdf', 'Updated Forensics.docx', 'Updated MSN PPT.pptx', 'Updated Survey Paper.docx', 'Updated USB Evidence.zip', 'updated.py', 'UP_5c22a0.pdf', 'users_12_20_2022 2_15_42 AM.csv', 'users_12_20_2022 2_17_16 AM.csv', 'users_6_12_2023 8_37_03 PM.csv', 'users_8_30_2023 7_29_28 PM.csv', 'using.md', 'ussf', 'ussf.zip', 'V210304NM2 (1).pdf', 'V210304NM2.pdf', 'V54504-F101-A100_Product_Data_Sheet DK.pdf', 'V54504-F116-A100.pdf', 'Vesda 1.jpeg', 'vesda xtralis.jpeg', 'Vesda.jpeg', 'VH Rentals (1).pdf', 'VH Rentals.pdf', 'VICTOR ADEYEMO-CV (1).pdf', 'VICTOR ADEYEMO-CV (2).pdf', 'VICTOR ADEYEMO-CV.pdf', 'Video', 'Visa page 1.jpeg', 'Visa page 2.jpeg', 'Visa page 3.jpeg', 'Visa page 4.jpeg', 'Visa page.pdf', 'VisualStudioSetup.exe', 'VIU OFFER F23 MBA_ Enitan, Oluwaseun Isaac   665 765 699 Nigeria.PDF', 'VNet1GW', 'Voucher-Ikechukwu.jpeg', 'Voucher-Jamiu.jpeg', 'Voucher-Okon.jpeg', 'Vpckeypair.pem', 'Vpckeypairpriv.pem', 'Vulnerability Scan Excel Report (By Issue) (1).xlsx', 'Vulnerability Scan Excel Report (By Issue).xlsx', 'Vulnerability Scan Report (By Device).docx', 'Vulnerability Scan Report (By Issue) (1).docx', 'Vulnerability Scan Report (By Issue) (2).docx', 'Vulnerability Scan Report (By Issue) (3).docx', 'Vulnerability Scan Report (By Issue) (4).docx', 'Vulnerability Scan Report (By Issue).docx', 'Vulnerability Scan Report (By Issue)_31082023.docx', 'VulnerabilityScannerSetup (1).exe', 'VulnerabilityScannerSetup.exe', 'Vulnerability_Scan_Detail_Report (1).docx', 'Vulnerability_Scan_Detail_Report (2).docx', 'Vulnerability_Scan_Detail_Report for Azure hosted servers.docx', 'Vulnerability_Scan_Detail_Report.docx', 'Vulnerability_Scan_Issues_Report (1).docx', 'Vulnerability_Scan_Issues_Report (2).docx', 'Vulnerability_Scan_Issues_Report (3).docx', 'Vulnerability_Scan_Issues_Report (4).docx', 'Vulnerability_Scan_Issues_Report (5).docx', 'Vulnerability_Scan_Issues_Report (6).docx', 'Vulnerability_Scan_Issues_Report (7).docx', 'Vulnerability_Scan_Issues_Report 27012023.docx', 'Vulnerability_Scan_Issues_Report.docx', 'Wall-mounted room thermostat with LCD RDG400_en.pdf', 'WAYBILL.xlsx', 'WCC_EXPORT_69152149.csv', 'web', 'web.zip', 'WebBrowser.pdf', 'webinar-95854288440 (1).ics', 'webinar-95854288440 (2).ics', 'webinar-95854288440.ics', 'WEEKLY CASH REPORT 2021 (version 1).xls', 'Weekly Movement Schedule (1).xlsx', 'Weekly Movement Schedule (2).xlsx', 'Weekly Movement Schedule (3).xlsx', 'Weekly Movement Schedule.xlsx', 'WEMABOD ELV COST ESTIMATES.xlsx', 'WEMABOD ENQUIRES.xlsx', 'wetransfer_aoforever_2022-06-15_1137', 'wetransfer_aoforever_2022-06-15_1137.zip', 'wetransfer_elv-drawings_2022-07-01_0919', 'wetransfer_pinnock-submittals_2023-02-08_1132', 'wetransfer_sql-injection-project_2023-03-21_2126.zip', 'wetransfer_sql-injection-project_2023-03-22_1051.zip', 'WhatsApp Chat with Aulbtech Networking Services Ltd. Fibre Guy.txt', 'WhatsApp Image 2021-06-16 at 14.15.16.jpeg', 'WhatsApp Image 2021-08-11 at 15.13.48.jpeg', 'WhatsApp Image 2021-09-16 at 12.19.28.jpeg', 'WhatsApp Image 2021-09-30 at 09.46.53.jpeg', 'WhatsApp Image 2021-10-05 at 14.11.22.jpeg', 'WhatsApp Image 2021-10-07 at 15.13.26.jpeg', 'WhatsApp Image 2021-10-19 at 05.39.09.jpeg', 'WhatsApp Image 2021-10-20 at 14.20.05.jpeg', 'WhatsApp Image 2021-11-20 at 16.01.27.jpeg', 'WhatsApp Image 2021-12-02 at 15.03.38.jpeg', 'WhatsApp Image 2021-12-02 at 15.12.37.jpeg', 'WhatsApp Image 2021-12-04 at 09.32.10.jpeg', 'WhatsApp Image 2022-01-15 at 10.35.34.jpeg', 'WhatsApp Image 2022-01-17 at 08.44.48 (1).jpeg', 'WhatsApp Image 2022-01-17 at 08.44.48.jpeg', 'WhatsApp Image 2022-01-17 at 08.44.50.jpeg', 'WhatsApp Image 2022-01-17 at 08.44.52.jpeg', 'WhatsApp Image 2022-01-17 at 08.44.53.jpeg', 'WhatsApp Image 2022-01-17 at 08.44.54.jpeg', 'WhatsApp Image 2022-01-21 at 14.35.15 (1).jpeg', 'WhatsApp Image 2022-01-21 at 14.35.15.jpeg', 'WhatsApp Image 2022-02-09 at 9.16.25 AM.jpeg', 'WhatsApp Image 2022-02-09 at 9.16.27 AM.jpeg', 'WhatsApp Image 2022-02-09 at 9.16.28 AM (1).jpeg', 'WhatsApp Image 2022-02-09 at 9.16.28 AM (2).jpeg', 'WhatsApp Image 2022-02-09 at 9.16.28 AM.jpeg', 'WhatsApp Image 2022-02-09 at 9.16.29 AM.jpeg', 'WhatsApp Image 2022-02-09 at 9.16.31 AM.jpeg', 'WhatsApp Image 2022-02-14 at 10.35.14 AM.jpeg', 'WhatsApp Image 2022-03-02 at 12.07.06 PM.jpeg', 'WhatsApp Image 2022-04-16 at 9.33.52 AM.jpeg', 'WhatsApp Image 2022-04-20 at 8.22.47 PM.jpeg', 'WhatsApp Image 2022-05-19 at 1.35.48 PM.jpeg', 'WhatsApp Image 2022-05-23 at 9.45.55 AM.jpeg', 'WhatsApp Image 2022-05-27 at 9.21.41 AM.jpeg', 'WhatsApp Image 2022-06-06 at 6.08.50 PM.jpeg', 'WhatsApp Image 2022-06-10 at 2.12.56 PM.jpeg', 'WhatsApp Image 2022-06-23 at 11.46.54 AM.jpeg', 'WhatsApp Image 2022-06-24 at 8.42.28 PM.jpeg', 'WhatsApp Image 2022-07-14 at 9.24.02 AM.jpeg', 'WhatsApp Image 2022-07-31 at 12.37.09 PM.jpeg', 'WhatsApp Image 2022-08-01 at 5.29.25 PM.jpeg', 'WhatsApp Image 2022-08-03 at 12.39.36 PM.jpeg', 'WhatsApp Image 2022-08-10 at 2.14.36 PM.jpeg', 'WhatsApp Image 2022-08-15 at 11.42.23 AM.jpeg', 'WhatsApp Image 2022-08-16 at 8.24.32 AM.jpeg', 'WhatsApp Image 2022-08-19 at 1.28.59 PM.jpeg', 'WhatsApp Image 2022-08-19 at 8.28.40 AM.jpeg', 'WhatsApp Image 2022-08-19 at 8.31.10 AM.jpeg', 'WhatsApp Image 2022-08-19 at 8.50.16 AM.jpeg', 'WhatsApp Image 2022-08-22 at 3.15.11 PM.jpeg', 'WhatsApp Image 2022-08-23 at 7.54.31 AM.jpeg', 'WhatsApp Image 2022-08-23 at 8.01.36 AM.jpeg', 'WhatsApp Image 2022-08-30 at 10.33.09 AM.jpeg', 'WhatsApp Image 2022-09-06 at 3.10.31 PM.jpeg', 'WhatsApp Image 2022-09-07 at 7.53.40 PM.jpeg', 'WhatsApp Image 2022-09-07 at 8.20.22 AM.jpeg', 'WhatsApp Image 2022-12-02 at 7.15.15 PM.jpeg', 'WhatsApp Image 2022-12-08 at 13.32.19.jpeg', 'WhatsApp Image 2022-12-29 at 13.51.33 (1).pdf', 'WhatsApp Image 2022-12-29 at 13.51.33.jpeg', 'WhatsApp Image 2022-12-29 at 13.51.33.pdf', 'WhatsApp Image 2023-01-03 at 11.45.42 (1).jpeg', 'WhatsApp Image 2023-01-03 at 11.45.42.jpeg', 'WhatsApp Image 2023-01-03 at 12.00.06.jpeg', 'WhatsApp Image 2023-01-23 at 19.19.23.jpeg', 'WhatsApp Image 2023-01-24 at 18.06.31.jpeg', 'WhatsApp Image 2023-01-24 at 18.09.57.jpeg', 'WhatsApp Image 2023-01-26 at 15.38.57.jpeg', 'WhatsApp Image 2023-01-28 at 09.01.31.jpeg', 'WhatsApp Image 2023-02-10 at 14.30.50.jpeg', 'WhatsApp Image 2023-03-02 at 15.40.49.jpeg', 'WhatsApp Image 2023-03-03 at 09.33.32.jpeg', 'WhatsApp Image 2023-03-03 at 09.35.49.jpeg', 'WhatsApp Image 2023-03-03 at 09.38.08.jpeg', 'WhatsApp Image 2023-03-03 at 09.40.30.jpeg', 'WhatsApp Image 2023-03-03 at 09.55.41.jpeg', 'WhatsApp Image 2023-03-03 at 10.03.25.jpeg', 'WhatsApp Image 2023-03-03 at 10.18.14.jpeg', 'WhatsApp Image 2023-03-20 at 10.50.37.jpeg', 'WhatsApp Image 2023-03-30 at 16.29.45.jpeg', 'WhatsApp Image 2023-03-30 at 16.29.46 (1).jpeg', 'WhatsApp Image 2023-03-30 at 16.29.46.jpeg', 'WhatsApp Image 2023-03-31 at 17.36.29.jpeg', 'WhatsApp Image 2023-03-31 at 17.44.47.jpeg', 'WhatsApp Image 2023-03-31 at 17.58.01.jpeg', 'WhatsApp Image 2023-04-03 at 19.13.44.jpeg', 'WhatsApp Image 2023-04-17 at 10.18.30.jpeg', 'WhatsApp Image 2023-04-19 at 14.54.00.jpeg', 'WhatsApp Image 2023-04-19 at 14.54.21.jpeg', 'WhatsApp Image 2023-04-19 at 14.54.24.jpeg', 'WhatsApp Image 2023-04-19 at 21.22.48.jpeg', 'WhatsApp Image 2023-04-19 at 21.26.49.jpeg', 'WhatsApp Image 2023-04-20 at 13.08.41.jpeg', 'WhatsApp Image 2023-05-16 at 13.48.11.jpeg', 'WhatsApp Image 2023-05-23 at 14.00.30 (1).jpeg', 'WhatsApp Image 2023-05-23 at 14.00.30.jpeg', 'WhatsApp Image 2023-05-30 at 16.44.08 (1).jpeg', 'WhatsApp Image 2023-05-30 at 16.44.08.jpeg', 'WhatsApp Image 2023-06-23 at 14.11.20.jpeg', 'WhatsApp Image 2023-06-27 at 10.49.37.jpeg', 'WhatsApp Image 2023-06-27 at 17.18.48.jpeg', 'WhatsApp Image 2023-06-27 at 17.18.49.jpeg', 'WhatsApp Image 2023-06-27 at 17.18.50.jpeg', 'WhatsApp Image 2023-06-27 at 17.18.51.jpeg', 'WhatsApp Image 2023-06-27 at 17.18.53 (1).jpeg', 'WhatsApp Image 2023-06-27 at 17.18.53.jpeg', 'WhatsApp Image 2023-06-27 at 17.18.55.jpeg', 'WhatsApp Image 2023-06-27 at 17.27.59.jpeg', 'WhatsApp Image 2023-07-22 at 20.26.32.jpeg', 'WhatsApp Image 2023-07-22 at 20.26.35.jpeg', 'WhatsApp Image 2023-07-22 at 20.26.36.jpeg', 'WhatsApp Image 2023-07-22 at 20.48.22.jpeg', 'WhatsApp Image 2023-07-22 at 20.48.24.jpeg', 'WhatsApp Image 2023-08-10 at 19.03.15.jpeg', 'WhatsApp Image 2023-08-13 at 19.18.36.jpeg', 'WhatsApp Image 2023-08-17 at 20.22.41.jpeg', 'WhatsApp Image 2023-08-18 at 11.13.00.jpeg', 'WhatsApp Image 2023-08-30 at 23.01.28.jpeg', 'WhatsApp Image 2023-09-01 at 21.35.40.jpeg', 'WhatsApp Image 2023-09-12 at 14.02.37.jpeg', 'WhatsApp Unknown 2021-10-15 at 10.26.10.zip', 'WhatsApp Unknown 2021-12-22 at 13.59.21.zip', 'WhatsApp Video 2023-05-23 at 14.01.05.mp4', 'WhatsApp Video 2023-06-13 at 14.58.52.mp4', 'WhatsApp Video 2023-06-14 at 00.28.54 (1).mp4', 'WhatsApp Video 2023-06-14 at 00.28.54 (2).mp4', 'WhatsApp Video 2023-06-14 at 00.28.54 (3).mp4', 'WhatsApp Video 2023-06-14 at 00.28.54.mp4', 'Wifi controller.jpeg', 'Wigan rents intervention.docx', 'Wilson+Nwaoko+CV4.pdf', 'Win32IntuneWebApp-master', 'Win32IntuneWebApp-master.zip', 'Windows10FeatureUpdateReport_2022-06-20T13_48_02.329Z.csv.zip', 'Windows10QualityUpdateReport_2022-06-20T13_47_05.200Z.csv', 'Windows10QualityUpdateReport_2022-06-20T13_47_05.200Z.csv.zip', 'Windscribe_2.4.exe', 'wordlists-main', 'Work Unit_files', 'Work-1-1-1-1.docx', 'Workplace Pensions (Support Worker only).docx', 'xc10-multisector-animation-cerberus-pro.ppt', 'xc10-sales-presentation.ppt', 'XinkOutlookAddinManifest (17).xml', 'Your Welcome Days - What to expect.pdf', 'ZERO-KNOWLEDGE - BULLETPROOF CRYPTOGRAPHIC ALGORITHM.pdf', 'Zoom_cm_ff5f3surrZ9vvrZo4_mepSNRXCA9nSMrrUOkFmVuXEZUZprT6Fc2hY@QK6NGaH0QiwJAcJn_k0237a044223c0552_.exe', 'Zoom_cm_fgfvntklZ9vvrZo4_mG7ZcBXU7JplSAcnKw+sjudkPOUHuDyaEsqrF@tFC8u50Npo19nbW+_k9535062b00322145_.exe', '_ELV DRAWING- REVISED.pdf', '_Wilson Nwaoko-- CV.pdf', '__PINNOCK PRIME ACCESSORIES QA.xlsx', '{11fe641a-81f3-4dae-9d3c-855abd26c066}_Desigo_CC_online_training_-_Basic_Engineering_Level_1_FS_specific_Warm_UP.ics', '{6b0032a0-cc38-4916-8748-d05cd97f4194}_Desigo_PXC4_5_7_Sales_Presentation_and_Training.ics', '{92306e72-d3b9-48ad-91c2-7886884b435e}_Desigo_CC_online_training_-_Basic_Engineering_Level_1_FS_specific.ics', '{d88e6155-8c5e-4e72-bd93-d0d6c6c54690}_Desigo_Xworks_Plus_training (1).ics', '{d88e6155-8c5e-4e72-bd93-d0d6c6c54690}_Desigo_Xworks_Plus_training (2).ics', '{d88e6155-8c5e-4e72-bd93-d0d6c6c54690}_Desigo_Xworks_Plus_training (3).ics', '{d88e6155-8c5e-4e72-bd93-d0d6c6c54690}_Desigo_Xworks_Plus_training.ics', '~$ Form for IT.docx', '~$4010-Coursework Assessment-1(2).docx', '~$ail phishing AI LR.docx', '~$berSecurity Solved.docx', '~$Brooklyn Bridge Park - BBP-Fortigate100D.xlsx', '~$Copy of IDF_AS_RF_OK_ED_SS_PRICED BOQ_15.2.22.xlsx', '~$dated Forensics.docx', '~$fiche de reclamation.xlsx', \"~$ke's 4.docx\", '~$Lecture3_SSD_Israfil.pptx', '~$lf Reflection Guidelines - Assessment (Survey Paper).docx', '~$lineSvcsConsolidatedSLA(WW)(English)(July2023)(CR).docx', '~$lnerability Scan Report (By Issue) (2).docx', '~$MMIS-C-002 PHOENIX ELECTRICAL ELV BOQ  RevC.xlsx', '~$MOTORIZED TRACK CONTROL.xlsx', '~$nel error message.docx', '~$PARAMOUNT TWIN TOWER.xlsx', '~$ril-Batch Assignment-Project.docx', '~$Security Awareness Training Project QA.xlsx', '~$stract and Introduction (2).docx', '~$sume for Adeola Hassan.docx', '~$troduction.docx', '~$U BANK DETAILS (2).docx', '~$undland Shift Patterns  Pay Rates June 2021 (2).docx', '~$Untitled.pptx', '~$Vulnerability Scan Excel Report (By Issue) (1).xlsx', '~WRL0138.tmp', '~WRL0848.tmp', '~WRL2787.tmp', '~WRL3006.tmp', '~WRL3082.tmp', '~WRL3438.tmp']\n"
     ]
    }
   ],
   "source": [
    "import numpy as np\n",
    "import pandas as pd\n",
    "import matplotlib.pyplot as plt\n",
    "import seaborn as sns\n",
    "from sklearn.metrics import classification_report\n",
    "from sklearn.metrics import confusion_matrix\n",
    "from sklearn.metrics import confusion_matrix, accuracy_score\n",
    "%matplotlib inline\n",
    "from sklearn.model_selection import learning_curve\n",
    "import os\n",
    "print(os.listdir())\n",
    "\n",
    "import warnings\n",
    "warnings.filterwarnings('ignore')"
   ]
  },
  {
   "cell_type": "markdown",
   "metadata": {
    "id": "L6YomgkBTite"
   },
   "source": [
    "II. Importing and understanding our dataset"
   ]
  },
  {
   "cell_type": "code",
   "execution_count": 2,
   "metadata": {
    "colab": {
     "base_uri": "https://localhost:8080/"
    },
    "id": "rA9vXK4D_cSK",
    "outputId": "9d0d9743-2e94-4803-b1fa-358649aa17f3"
   },
   "outputs": [
    {
     "ename": "ModuleNotFoundError",
     "evalue": "No module named 'google'",
     "output_type": "error",
     "traceback": [
      "\u001b[1;31m---------------------------------------------------------------------------\u001b[0m",
      "\u001b[1;31mModuleNotFoundError\u001b[0m                       Traceback (most recent call last)",
      "\u001b[1;32m~\\AppData\\Local\\Temp\\ipykernel_11296\\1408506528.py\u001b[0m in \u001b[0;36m<module>\u001b[1;34m\u001b[0m\n\u001b[1;32m----> 1\u001b[1;33m \u001b[1;32mfrom\u001b[0m \u001b[0mgoogle\u001b[0m\u001b[1;33m.\u001b[0m\u001b[0mcolab\u001b[0m \u001b[1;32mimport\u001b[0m \u001b[0mdrive\u001b[0m\u001b[1;33m\u001b[0m\u001b[1;33m\u001b[0m\u001b[0m\n\u001b[0m\u001b[0;32m      2\u001b[0m \u001b[0mdrive\u001b[0m\u001b[1;33m.\u001b[0m\u001b[0mmount\u001b[0m\u001b[1;33m(\u001b[0m\u001b[1;34m'/content/drive'\u001b[0m\u001b[1;33m)\u001b[0m\u001b[1;33m\u001b[0m\u001b[1;33m\u001b[0m\u001b[0m\n",
      "\u001b[1;31mModuleNotFoundError\u001b[0m: No module named 'google'"
     ]
    }
   ],
   "source": [
    "from google.colab import drive\n",
    "drive.mount('/content/drive')"
   ]
  },
  {
   "cell_type": "code",
   "execution_count": null,
   "metadata": {
    "id": "zT01Kxx5waB3"
   },
   "outputs": [],
   "source": [
    "dataset = pd.read_csv(\"/content/drive/MyDrive/Phishing_Email.csv\")"
   ]
  },
  {
   "cell_type": "markdown",
   "metadata": {
    "id": "wzuhHYds-C5M"
   },
   "source": [
    "II. Importing and understanding our dataset"
   ]
  },
  {
   "cell_type": "code",
   "execution_count": null,
   "metadata": {
    "id": "ue3s4qwy-D7-"
   },
   "outputs": [],
   "source": [
    "dataset = pd.read_excel(\"/content/data.xlsx\")"
   ]
  },
  {
   "cell_type": "markdown",
   "metadata": {
    "id": "2qQ15mRkBLPG"
   },
   "source": []
  },
  {
   "cell_type": "code",
   "execution_count": null,
   "metadata": {
    "colab": {
     "base_uri": "https://localhost:8080/"
    },
    "id": "64XNoJ-o-EEu",
    "outputId": "7843bee0-d0af-41f0-a32f-f98cad2e10c8"
   },
   "outputs": [],
   "source": [
    "type(dataset)"
   ]
  },
  {
   "cell_type": "code",
   "execution_count": null,
   "metadata": {
    "colab": {
     "base_uri": "https://localhost:8080/"
    },
    "id": "8qC9bTzyBKC8",
    "outputId": "16a5c3e5-a9e8-4a74-e0f0-8ce3a5472959"
   },
   "outputs": [],
   "source": [
    "dataset.shape"
   ]
  },
  {
   "cell_type": "code",
   "execution_count": null,
   "metadata": {
    "colab": {
     "base_uri": "https://localhost:8080/",
     "height": 300
    },
    "id": "MTg7JMNwBVIJ",
    "outputId": "c8689150-7cd3-4dd3-b331-152f3f36425a"
   },
   "outputs": [],
   "source": [
    "dataset.describe()"
   ]
  },
  {
   "cell_type": "code",
   "execution_count": null,
   "metadata": {
    "colab": {
     "base_uri": "https://localhost:8080/"
    },
    "id": "XBQ4XOWQBqCz",
    "outputId": "2912cc14-1c4f-4377-9506-48b277c9dfc3"
   },
   "outputs": [],
   "source": [
    "dataset.info()"
   ]
  },
  {
   "cell_type": "code",
   "execution_count": null,
   "metadata": {
    "colab": {
     "base_uri": "https://localhost:8080/"
    },
    "id": "lnB7ia_V619I",
    "outputId": "dbb9fad6-8499-4de6-d61c-9e64753cee10"
   },
   "outputs": [],
   "source": [
    "df = dataset.copy()\n",
    "# Create a new column 'Label' based on the values in 'Email Type'\n",
    "df['Email Category'] = df['Email Type'].apply(lambda x: 0 if x == 'Safe Email' else 1)\n",
    "\n",
    "# Print the modified DataFrame\n",
    "print(df.head())"
   ]
  },
  {
   "cell_type": "code",
   "execution_count": null,
   "metadata": {
    "id": "Z0UFEfCJ7N1P"
   },
   "outputs": [],
   "source": [
    "df_new = df.drop(['Email Type'], axis=1)"
   ]
  },
  {
   "cell_type": "code",
   "execution_count": null,
   "metadata": {
    "colab": {
     "base_uri": "https://localhost:8080/"
    },
    "id": "vBgB8v2J8Lm8",
    "outputId": "d1e6eb02-6507-460c-fd59-64e1a16bb657"
   },
   "outputs": [],
   "source": [
    "# Rename the 'Email Category' column to 'Email Type'\n",
    "df_new.rename(columns={'Email Category': 'Email Type'}, inplace=True)\n",
    "dataset = df_new.copy()\n",
    "data = df_new.copy()\n",
    "print(data.head())"
   ]
  },
  {
   "cell_type": "code",
   "execution_count": null,
   "metadata": {
    "id": "Qyl9-XpcX9SO"
   },
   "outputs": [],
   "source": [
    "def read_data(file_path):\n",
    "    data = pd.read_csv(file_path, encoding='latin-1')\n",
    "    data.dropna(inplace=True)\n",
    "\n",
    "    label_encoder = LabelEncoder()\n",
    "    T_vectorizer = TfidfVectorizer(sublinear_tf=True, ngram_range=(1, 2), max_features=5000)\n",
    "\n",
    "    X = data['Email Text'].values\n",
    "    y = data['Email Type'].values\n",
    "\n",
    "    for i in range(len(y)):\n",
    "        if y[i] == 'Phishing Email':\n",
    "            y[i] = 1\n",
    "        else:\n",
    "            y[i] = 0\n",
    "\n",
    "    X = T_vectorizer.fit_transform(X)\n",
    "    y = label_encoder.fit_transform(y)\n",
    "    return X, y\n",
    "\n",
    "\n",
    "def print_report(y_val, y_pred, fold):\n",
    "    print(f'Fold: {fold}')\n",
    "    print(f'Accuracy Score: {accuracy_score(y_val, y_pred)}')\n",
    "    print(f'Confusion Matrix: \\n {confusion_matrix(y_val, y_pred)}')\n",
    "    print(f'Classification Report: \\n {classification_report(y_val, y_pred)}')"
   ]
  },
  {
   "cell_type": "code",
   "execution_count": null,
   "metadata": {
    "colab": {
     "base_uri": "https://localhost:8080/"
    },
    "id": "6hoCNCDoYkuc",
    "outputId": "8f5ce4b6-386a-47e9-be37-64d5bcdded60"
   },
   "outputs": [],
   "source": [
    "# data set preview\n",
    "data = dataset.copy()\n",
    "print(data.head())\n",
    "print(data['Email Type'].value_counts())"
   ]
  },
  {
   "cell_type": "code",
   "execution_count": null,
   "metadata": {
    "colab": {
     "base_uri": "https://localhost:8080/",
     "height": 304
    },
    "id": "AP26oqRwaJ_0",
    "outputId": "ec9a3711-959f-41a3-9852-b73b2f8471ef"
   },
   "outputs": [],
   "source": [
    "!pip install numpy==1.22.3"
   ]
  },
  {
   "cell_type": "code",
   "execution_count": null,
   "metadata": {
    "colab": {
     "base_uri": "https://localhost:8080/"
    },
    "id": "mEeD47kAaVRS",
    "outputId": "6387772f-64ca-444d-f43a-b86d97340ecd"
   },
   "outputs": [],
   "source": [
    "import nltk\n",
    "import re\n",
    "from nltk.corpus import stopwords\n",
    "nltk.download('stopwords')\n",
    "stop_words = set(stopwords.words('english'))"
   ]
  },
  {
   "cell_type": "code",
   "execution_count": null,
   "metadata": {
    "colab": {
     "base_uri": "https://localhost:8080/"
    },
    "id": "ycTvcBcqaWAV",
    "outputId": "a6ff7975-918e-44b8-9eec-b26270ef99f2"
   },
   "outputs": [],
   "source": [
    "dataset['Email Text'].isnull().sum()"
   ]
  },
  {
   "cell_type": "code",
   "execution_count": null,
   "metadata": {
    "colab": {
     "base_uri": "https://localhost:8080/"
    },
    "id": "N3CAOqoeaZq4",
    "outputId": "854af546-daa5-4ab2-bf6b-8e4b5e7841cf"
   },
   "outputs": [],
   "source": [
    "dataset['Email Type'].isnull().sum()"
   ]
  },
  {
   "cell_type": "code",
   "execution_count": null,
   "metadata": {
    "colab": {
     "base_uri": "https://localhost:8080/"
    },
    "id": "XEypwWd8am-o",
    "outputId": "5f328f0b-c56e-4a06-acef-8d3272ba750b"
   },
   "outputs": [],
   "source": [
    "print(dataset.head())"
   ]
  },
  {
   "cell_type": "code",
   "execution_count": null,
   "metadata": {
    "id": "Dtgt73SOadmO"
   },
   "outputs": [],
   "source": [
    "from nltk.stem.porter import PorterStemmer\n",
    "corpus = []\n",
    "for i in range(0, 18650):\n",
    "    email = re.sub('[^a-zA-Z]', ' ', str(dataset['Email Text'][i]))\n",
    "    email = email.lower()\n",
    "    email = email.split()\n",
    "    ps = PorterStemmer()\n",
    "    email = [ps.stem(word) for word in email if word not in set(stop_words)]\n",
    "    email = ' '.join(email)\n",
    "    corpus.append(email)"
   ]
  },
  {
   "cell_type": "code",
   "execution_count": null,
   "metadata": {
    "id": "TiS-yc8Ya3Zb"
   },
   "outputs": [],
   "source": [
    "from sklearn.feature_extraction.text import CountVectorizer\n",
    "cv = CountVectorizer(max_features = 18000)\n",
    "X = cv.fit_transform(corpus).toarray()\n",
    "y = dataset.iloc[:, -1].values"
   ]
  },
  {
   "cell_type": "code",
   "execution_count": null,
   "metadata": {
    "colab": {
     "base_uri": "https://localhost:8080/"
    },
    "id": "nYhpcZYZa8qZ",
    "outputId": "0458a545-8fe3-4c63-e875-a6e73a9763f1"
   },
   "outputs": [],
   "source": [
    "y"
   ]
  },
  {
   "cell_type": "code",
   "execution_count": 5,
   "metadata": {
    "colab": {
     "base_uri": "https://localhost:8080/"
    },
    "id": "9azl6pCUbCw6",
    "outputId": "686bd7f4-355b-46ff-ecac-7bc0452bf24f"
   },
   "outputs": [
    {
     "ename": "NameError",
     "evalue": "name 'X' is not defined",
     "output_type": "error",
     "traceback": [
      "\u001b[1;31m---------------------------------------------------------------------------\u001b[0m",
      "\u001b[1;31mNameError\u001b[0m                                 Traceback (most recent call last)",
      "\u001b[1;32m~\\AppData\\Local\\Temp\\ipykernel_11296\\3777217377.py\u001b[0m in \u001b[0;36m<module>\u001b[1;34m\u001b[0m\n\u001b[1;32m----> 1\u001b[1;33m \u001b[0mX\u001b[0m\u001b[1;33m\u001b[0m\u001b[1;33m\u001b[0m\u001b[0m\n\u001b[0m",
      "\u001b[1;31mNameError\u001b[0m: name 'X' is not defined"
     ]
    }
   ],
   "source": [
    "X"
   ]
  },
  {
   "cell_type": "code",
   "execution_count": 6,
   "metadata": {
    "id": "dIvA4eI7bCkN"
   },
   "outputs": [
    {
     "ename": "NameError",
     "evalue": "name 'X' is not defined",
     "output_type": "error",
     "traceback": [
      "\u001b[1;31m---------------------------------------------------------------------------\u001b[0m",
      "\u001b[1;31mNameError\u001b[0m                                 Traceback (most recent call last)",
      "\u001b[1;32m~\\AppData\\Local\\Temp\\ipykernel_11296\\3618643530.py\u001b[0m in \u001b[0;36m<module>\u001b[1;34m\u001b[0m\n\u001b[0;32m      1\u001b[0m \u001b[1;32mfrom\u001b[0m \u001b[0msklearn\u001b[0m\u001b[1;33m.\u001b[0m\u001b[0mmodel_selection\u001b[0m \u001b[1;32mimport\u001b[0m \u001b[0mtrain_test_split\u001b[0m\u001b[1;33m\u001b[0m\u001b[1;33m\u001b[0m\u001b[0m\n\u001b[1;32m----> 2\u001b[1;33m \u001b[0mX_train\u001b[0m\u001b[1;33m,\u001b[0m \u001b[0mX_test\u001b[0m\u001b[1;33m,\u001b[0m \u001b[0my_train\u001b[0m\u001b[1;33m,\u001b[0m \u001b[0my_test\u001b[0m \u001b[1;33m=\u001b[0m \u001b[0mtrain_test_split\u001b[0m\u001b[1;33m(\u001b[0m\u001b[0mX\u001b[0m\u001b[1;33m,\u001b[0m \u001b[0my\u001b[0m\u001b[1;33m,\u001b[0m \u001b[0mtest_size\u001b[0m \u001b[1;33m=\u001b[0m \u001b[1;36m0.20\u001b[0m\u001b[1;33m,\u001b[0m \u001b[0mrandom_state\u001b[0m \u001b[1;33m=\u001b[0m \u001b[1;36m40\u001b[0m\u001b[1;33m)\u001b[0m\u001b[1;33m\u001b[0m\u001b[1;33m\u001b[0m\u001b[0m\n\u001b[0m",
      "\u001b[1;31mNameError\u001b[0m: name 'X' is not defined"
     ]
    }
   ],
   "source": [
    "from sklearn.model_selection import train_test_split\n",
    "X_train, X_test, y_train, y_test = train_test_split(X, y, test_size = 0.20, random_state = 40)"
   ]
  },
  {
   "cell_type": "markdown",
   "metadata": {
    "id": "dWb0IajeBOKl"
   },
   "source": [
    "Naive Bayes"
   ]
  },
  {
   "cell_type": "code",
   "execution_count": 7,
   "metadata": {
    "colab": {
     "base_uri": "https://localhost:8080/",
     "height": 75
    },
    "id": "B3KbBuzvc0jm",
    "outputId": "0e08a6df-1e36-4e87-81e2-28e4231ef4b7"
   },
   "outputs": [
    {
     "ename": "NameError",
     "evalue": "name 'X_train' is not defined",
     "output_type": "error",
     "traceback": [
      "\u001b[1;31m---------------------------------------------------------------------------\u001b[0m",
      "\u001b[1;31mNameError\u001b[0m                                 Traceback (most recent call last)",
      "\u001b[1;32m~\\AppData\\Local\\Temp\\ipykernel_11296\\2679336349.py\u001b[0m in \u001b[0;36m<module>\u001b[1;34m\u001b[0m\n\u001b[0;32m      1\u001b[0m \u001b[1;32mfrom\u001b[0m \u001b[0msklearn\u001b[0m\u001b[1;33m.\u001b[0m\u001b[0mnaive_bayes\u001b[0m \u001b[1;32mimport\u001b[0m \u001b[0mGaussianNB\u001b[0m\u001b[1;33m\u001b[0m\u001b[1;33m\u001b[0m\u001b[0m\n\u001b[0;32m      2\u001b[0m \u001b[0mclassifier\u001b[0m \u001b[1;33m=\u001b[0m \u001b[0mGaussianNB\u001b[0m\u001b[1;33m(\u001b[0m\u001b[1;33m)\u001b[0m\u001b[1;33m\u001b[0m\u001b[1;33m\u001b[0m\u001b[0m\n\u001b[1;32m----> 3\u001b[1;33m \u001b[0mclassifier\u001b[0m\u001b[1;33m.\u001b[0m\u001b[0mfit\u001b[0m\u001b[1;33m(\u001b[0m\u001b[0mX_train\u001b[0m\u001b[1;33m,\u001b[0m \u001b[0my_train\u001b[0m\u001b[1;33m)\u001b[0m\u001b[1;33m\u001b[0m\u001b[1;33m\u001b[0m\u001b[0m\n\u001b[0m",
      "\u001b[1;31mNameError\u001b[0m: name 'X_train' is not defined"
     ]
    }
   ],
   "source": [
    "from sklearn.naive_bayes import GaussianNB\n",
    "classifier = GaussianNB()\n",
    "classifier.fit(X_train, y_train)"
   ]
  },
  {
   "cell_type": "code",
   "execution_count": 8,
   "metadata": {
    "colab": {
     "base_uri": "https://localhost:8080/"
    },
    "id": "UU2MHi7lc5NC",
    "outputId": "12dc56f6-20c8-4a5c-901c-77a0c4e2e137"
   },
   "outputs": [
    {
     "ename": "NameError",
     "evalue": "name 'X_test' is not defined",
     "output_type": "error",
     "traceback": [
      "\u001b[1;31m---------------------------------------------------------------------------\u001b[0m",
      "\u001b[1;31mNameError\u001b[0m                                 Traceback (most recent call last)",
      "\u001b[1;32m~\\AppData\\Local\\Temp\\ipykernel_11296\\1296342123.py\u001b[0m in \u001b[0;36m<module>\u001b[1;34m\u001b[0m\n\u001b[1;32m----> 1\u001b[1;33m \u001b[0my_pred\u001b[0m \u001b[1;33m=\u001b[0m \u001b[0mclassifier\u001b[0m\u001b[1;33m.\u001b[0m\u001b[0mpredict\u001b[0m\u001b[1;33m(\u001b[0m\u001b[0mX_test\u001b[0m\u001b[1;33m)\u001b[0m\u001b[1;33m\u001b[0m\u001b[1;33m\u001b[0m\u001b[0m\n\u001b[0m\u001b[0;32m      2\u001b[0m \u001b[0mprint\u001b[0m\u001b[1;33m(\u001b[0m\u001b[0mnp\u001b[0m\u001b[1;33m.\u001b[0m\u001b[0mconcatenate\u001b[0m\u001b[1;33m(\u001b[0m\u001b[1;33m(\u001b[0m\u001b[0my_pred\u001b[0m\u001b[1;33m.\u001b[0m\u001b[0mreshape\u001b[0m\u001b[1;33m(\u001b[0m\u001b[0mlen\u001b[0m\u001b[1;33m(\u001b[0m\u001b[0my_pred\u001b[0m\u001b[1;33m)\u001b[0m\u001b[1;33m,\u001b[0m\u001b[1;36m1\u001b[0m\u001b[1;33m)\u001b[0m\u001b[1;33m,\u001b[0m \u001b[0my_test\u001b[0m\u001b[1;33m.\u001b[0m\u001b[0mreshape\u001b[0m\u001b[1;33m(\u001b[0m\u001b[0mlen\u001b[0m\u001b[1;33m(\u001b[0m\u001b[0my_test\u001b[0m\u001b[1;33m)\u001b[0m\u001b[1;33m,\u001b[0m\u001b[1;36m1\u001b[0m\u001b[1;33m)\u001b[0m\u001b[1;33m)\u001b[0m\u001b[1;33m,\u001b[0m\u001b[1;36m1\u001b[0m\u001b[1;33m)\u001b[0m\u001b[1;33m)\u001b[0m\u001b[1;33m\u001b[0m\u001b[1;33m\u001b[0m\u001b[0m\n",
      "\u001b[1;31mNameError\u001b[0m: name 'X_test' is not defined"
     ]
    }
   ],
   "source": [
    "y_pred = classifier.predict(X_test)\n",
    "print(np.concatenate((y_pred.reshape(len(y_pred),1), y_test.reshape(len(y_test),1)),1))"
   ]
  },
  {
   "cell_type": "code",
   "execution_count": 9,
   "metadata": {
    "colab": {
     "base_uri": "https://localhost:8080/"
    },
    "id": "MnAtN-lHc-0Q",
    "outputId": "a9a39e38-d3c9-4035-a7cc-23084dbd34d8"
   },
   "outputs": [
    {
     "ename": "NameError",
     "evalue": "name 'y_test' is not defined",
     "output_type": "error",
     "traceback": [
      "\u001b[1;31m---------------------------------------------------------------------------\u001b[0m",
      "\u001b[1;31mNameError\u001b[0m                                 Traceback (most recent call last)",
      "\u001b[1;32m~\\AppData\\Local\\Temp\\ipykernel_11296\\3094676139.py\u001b[0m in \u001b[0;36m<module>\u001b[1;34m\u001b[0m\n\u001b[0;32m      1\u001b[0m \u001b[1;32mfrom\u001b[0m \u001b[0msklearn\u001b[0m\u001b[1;33m.\u001b[0m\u001b[0mmetrics\u001b[0m \u001b[1;32mimport\u001b[0m \u001b[0mconfusion_matrix\u001b[0m\u001b[1;33m,\u001b[0m \u001b[0maccuracy_score\u001b[0m\u001b[1;33m\u001b[0m\u001b[1;33m\u001b[0m\u001b[0m\n\u001b[1;32m----> 2\u001b[1;33m \u001b[0mcm\u001b[0m \u001b[1;33m=\u001b[0m \u001b[0mconfusion_matrix\u001b[0m\u001b[1;33m(\u001b[0m\u001b[0my_test\u001b[0m\u001b[1;33m,\u001b[0m \u001b[0my_pred\u001b[0m\u001b[1;33m)\u001b[0m\u001b[1;33m\u001b[0m\u001b[1;33m\u001b[0m\u001b[0m\n\u001b[0m\u001b[0;32m      3\u001b[0m \u001b[0mprint\u001b[0m\u001b[1;33m(\u001b[0m\u001b[0mcm\u001b[0m\u001b[1;33m)\u001b[0m\u001b[1;33m\u001b[0m\u001b[1;33m\u001b[0m\u001b[0m\n\u001b[0;32m      4\u001b[0m \u001b[0maccuracy_score\u001b[0m\u001b[1;33m(\u001b[0m\u001b[0my_test\u001b[0m\u001b[1;33m,\u001b[0m \u001b[0my_pred\u001b[0m\u001b[1;33m)\u001b[0m\u001b[1;33m\u001b[0m\u001b[1;33m\u001b[0m\u001b[0m\n",
      "\u001b[1;31mNameError\u001b[0m: name 'y_test' is not defined"
     ]
    }
   ],
   "source": [
    "from sklearn.metrics import confusion_matrix, accuracy_score\n",
    "cm = confusion_matrix(y_test, y_pred)\n",
    "print(cm)\n",
    "accuracy_score(y_test, y_pred)"
   ]
  },
  {
   "cell_type": "markdown",
   "metadata": {
    "id": "bu2YLW5QBRMh"
   },
   "source": [
    "Logistic Regression"
   ]
  },
  {
   "cell_type": "code",
   "execution_count": 10,
   "metadata": {
    "id": "LdXFkybQdki9"
   },
   "outputs": [
    {
     "ename": "NameError",
     "evalue": "name 'X_train' is not defined",
     "output_type": "error",
     "traceback": [
      "\u001b[1;31m---------------------------------------------------------------------------\u001b[0m",
      "\u001b[1;31mNameError\u001b[0m                                 Traceback (most recent call last)",
      "\u001b[1;32m~\\AppData\\Local\\Temp\\ipykernel_11296\\2776322127.py\u001b[0m in \u001b[0;36m<module>\u001b[1;34m\u001b[0m\n\u001b[0;32m      3\u001b[0m \u001b[0mlor\u001b[0m \u001b[1;33m=\u001b[0m \u001b[0mLogisticRegression\u001b[0m\u001b[1;33m(\u001b[0m\u001b[1;33m)\u001b[0m\u001b[1;33m\u001b[0m\u001b[1;33m\u001b[0m\u001b[0m\n\u001b[0;32m      4\u001b[0m \u001b[1;33m\u001b[0m\u001b[0m\n\u001b[1;32m----> 5\u001b[1;33m \u001b[0mlor\u001b[0m\u001b[1;33m.\u001b[0m\u001b[0mfit\u001b[0m\u001b[1;33m(\u001b[0m\u001b[0mX_train\u001b[0m\u001b[1;33m,\u001b[0m\u001b[0my_train\u001b[0m\u001b[1;33m)\u001b[0m\u001b[1;33m\u001b[0m\u001b[1;33m\u001b[0m\u001b[0m\n\u001b[0m\u001b[0;32m      6\u001b[0m \u001b[1;33m\u001b[0m\u001b[0m\n\u001b[0;32m      7\u001b[0m \u001b[0mY_pred_lor\u001b[0m \u001b[1;33m=\u001b[0m \u001b[0mlor\u001b[0m\u001b[1;33m.\u001b[0m\u001b[0mpredict\u001b[0m\u001b[1;33m(\u001b[0m\u001b[0mX_test\u001b[0m\u001b[1;33m)\u001b[0m\u001b[1;33m\u001b[0m\u001b[1;33m\u001b[0m\u001b[0m\n",
      "\u001b[1;31mNameError\u001b[0m: name 'X_train' is not defined"
     ]
    }
   ],
   "source": [
    "from sklearn.linear_model import LogisticRegression\n",
    "\n",
    "lor = LogisticRegression()\n",
    "\n",
    "lor.fit(X_train,y_train)\n",
    "\n",
    "Y_pred_lor = lor.predict(X_test)"
   ]
  },
  {
   "cell_type": "code",
   "execution_count": null,
   "metadata": {
    "colab": {
     "base_uri": "https://localhost:8080/"
    },
    "id": "cZZzmCtgd43l",
    "outputId": "cf8cfab1-ef7d-410d-9408-ca9e203178b3"
   },
   "outputs": [],
   "source": [
    "cm = confusion_matrix(y_test, Y_pred_lor)\n",
    "print(cm)\n",
    "accuracy_score(y_test, Y_pred_lor)"
   ]
  },
  {
   "cell_type": "code",
   "execution_count": 11,
   "metadata": {
    "colab": {
     "base_uri": "https://localhost:8080/"
    },
    "id": "-skE_4F7f9_W",
    "outputId": "64125d63-831a-402c-8b9d-a6bd658aa47c"
   },
   "outputs": [
    {
     "ename": "NameError",
     "evalue": "name 'y_test' is not defined",
     "output_type": "error",
     "traceback": [
      "\u001b[1;31m---------------------------------------------------------------------------\u001b[0m",
      "\u001b[1;31mNameError\u001b[0m                                 Traceback (most recent call last)",
      "\u001b[1;32m~\\AppData\\Local\\Temp\\ipykernel_11296\\2976964211.py\u001b[0m in \u001b[0;36m<module>\u001b[1;34m\u001b[0m\n\u001b[1;32m----> 1\u001b[1;33m \u001b[0mprint\u001b[0m\u001b[1;33m(\u001b[0m\u001b[0mclassification_report\u001b[0m\u001b[1;33m(\u001b[0m\u001b[0my_test\u001b[0m\u001b[1;33m,\u001b[0m \u001b[0mY_pred_lor\u001b[0m\u001b[1;33m)\u001b[0m\u001b[1;33m)\u001b[0m\u001b[1;33m\u001b[0m\u001b[1;33m\u001b[0m\u001b[0m\n\u001b[0m",
      "\u001b[1;31mNameError\u001b[0m: name 'y_test' is not defined"
     ]
    }
   ],
   "source": [
    "print(classification_report(y_test, Y_pred_lor))"
   ]
  },
  {
   "cell_type": "code",
   "execution_count": 12,
   "metadata": {
    "colab": {
     "base_uri": "https://localhost:8080/",
     "height": 449
    },
    "id": "SF1tpbTFg0Lm",
    "outputId": "e914ebe7-80a2-4a9b-845b-81d75bd4d73e"
   },
   "outputs": [
    {
     "ename": "NameError",
     "evalue": "name 'X_test' is not defined",
     "output_type": "error",
     "traceback": [
      "\u001b[1;31m---------------------------------------------------------------------------\u001b[0m",
      "\u001b[1;31mNameError\u001b[0m                                 Traceback (most recent call last)",
      "\u001b[1;32m~\\AppData\\Local\\Temp\\ipykernel_11296\\3914055020.py\u001b[0m in \u001b[0;36m<module>\u001b[1;34m\u001b[0m\n\u001b[0;32m      4\u001b[0m \u001b[1;33m\u001b[0m\u001b[0m\n\u001b[0;32m      5\u001b[0m \u001b[1;31m# predict on test set\u001b[0m\u001b[1;33m\u001b[0m\u001b[1;33m\u001b[0m\u001b[0m\n\u001b[1;32m----> 6\u001b[1;33m \u001b[0mY_pred_lor\u001b[0m \u001b[1;33m=\u001b[0m \u001b[0mlor\u001b[0m\u001b[1;33m.\u001b[0m\u001b[0mpredict\u001b[0m\u001b[1;33m(\u001b[0m\u001b[0mX_test\u001b[0m\u001b[1;33m)\u001b[0m\u001b[1;33m\u001b[0m\u001b[1;33m\u001b[0m\u001b[0m\n\u001b[0m\u001b[0;32m      7\u001b[0m \u001b[1;33m\u001b[0m\u001b[0m\n\u001b[0;32m      8\u001b[0m \u001b[1;31m# create confusion matrix\u001b[0m\u001b[1;33m\u001b[0m\u001b[1;33m\u001b[0m\u001b[0m\n",
      "\u001b[1;31mNameError\u001b[0m: name 'X_test' is not defined"
     ]
    }
   ],
   "source": [
    "from sklearn.metrics import confusion_matrix\n",
    "import seaborn as sns\n",
    "import matplotlib.pyplot as plt\n",
    "\n",
    "# predict on test set\n",
    "Y_pred_lor = lor.predict(X_test)\n",
    "\n",
    "# create confusion matrix\n",
    "cm = confusion_matrix(y_test, Y_pred_lor)\n",
    "\n",
    "# plot confusion matrix using seaborn heatmap\n",
    "sns.heatmap(cm, annot=True, cmap='Blues', fmt='g')\n",
    "plt.xlabel('Predicted')\n",
    "plt.ylabel('True')\n",
    "plt.show()\n"
   ]
  },
  {
   "cell_type": "markdown",
   "metadata": {
    "id": "q3Gas5gJL9J9"
   },
   "source": [
    "Gradient Boosting Machines"
   ]
  },
  {
   "cell_type": "code",
   "execution_count": null,
   "metadata": {
    "colab": {
     "base_uri": "https://localhost:8080/",
     "height": 75
    },
    "id": "SGVRLLhMm477",
    "outputId": "b170607a-06d8-4388-f9f2-ac3d3456d3eb"
   },
   "outputs": [
    {
     "data": {
      "text/html": [
       "<style>#sk-container-id-3 {color: black;background-color: white;}#sk-container-id-3 pre{padding: 0;}#sk-container-id-3 div.sk-toggleable {background-color: white;}#sk-container-id-3 label.sk-toggleable__label {cursor: pointer;display: block;width: 100%;margin-bottom: 0;padding: 0.3em;box-sizing: border-box;text-align: center;}#sk-container-id-3 label.sk-toggleable__label-arrow:before {content: \"▸\";float: left;margin-right: 0.25em;color: #696969;}#sk-container-id-3 label.sk-toggleable__label-arrow:hover:before {color: black;}#sk-container-id-3 div.sk-estimator:hover label.sk-toggleable__label-arrow:before {color: black;}#sk-container-id-3 div.sk-toggleable__content {max-height: 0;max-width: 0;overflow: hidden;text-align: left;background-color: #f0f8ff;}#sk-container-id-3 div.sk-toggleable__content pre {margin: 0.2em;color: black;border-radius: 0.25em;background-color: #f0f8ff;}#sk-container-id-3 input.sk-toggleable__control:checked~div.sk-toggleable__content {max-height: 200px;max-width: 100%;overflow: auto;}#sk-container-id-3 input.sk-toggleable__control:checked~label.sk-toggleable__label-arrow:before {content: \"▾\";}#sk-container-id-3 div.sk-estimator input.sk-toggleable__control:checked~label.sk-toggleable__label {background-color: #d4ebff;}#sk-container-id-3 div.sk-label input.sk-toggleable__control:checked~label.sk-toggleable__label {background-color: #d4ebff;}#sk-container-id-3 input.sk-hidden--visually {border: 0;clip: rect(1px 1px 1px 1px);clip: rect(1px, 1px, 1px, 1px);height: 1px;margin: -1px;overflow: hidden;padding: 0;position: absolute;width: 1px;}#sk-container-id-3 div.sk-estimator {font-family: monospace;background-color: #f0f8ff;border: 1px dotted black;border-radius: 0.25em;box-sizing: border-box;margin-bottom: 0.5em;}#sk-container-id-3 div.sk-estimator:hover {background-color: #d4ebff;}#sk-container-id-3 div.sk-parallel-item::after {content: \"\";width: 100%;border-bottom: 1px solid gray;flex-grow: 1;}#sk-container-id-3 div.sk-label:hover label.sk-toggleable__label {background-color: #d4ebff;}#sk-container-id-3 div.sk-serial::before {content: \"\";position: absolute;border-left: 1px solid gray;box-sizing: border-box;top: 0;bottom: 0;left: 50%;z-index: 0;}#sk-container-id-3 div.sk-serial {display: flex;flex-direction: column;align-items: center;background-color: white;padding-right: 0.2em;padding-left: 0.2em;position: relative;}#sk-container-id-3 div.sk-item {position: relative;z-index: 1;}#sk-container-id-3 div.sk-parallel {display: flex;align-items: stretch;justify-content: center;background-color: white;position: relative;}#sk-container-id-3 div.sk-item::before, #sk-container-id-3 div.sk-parallel-item::before {content: \"\";position: absolute;border-left: 1px solid gray;box-sizing: border-box;top: 0;bottom: 0;left: 50%;z-index: -1;}#sk-container-id-3 div.sk-parallel-item {display: flex;flex-direction: column;z-index: 1;position: relative;background-color: white;}#sk-container-id-3 div.sk-parallel-item:first-child::after {align-self: flex-end;width: 50%;}#sk-container-id-3 div.sk-parallel-item:last-child::after {align-self: flex-start;width: 50%;}#sk-container-id-3 div.sk-parallel-item:only-child::after {width: 0;}#sk-container-id-3 div.sk-dashed-wrapped {border: 1px dashed gray;margin: 0 0.4em 0.5em 0.4em;box-sizing: border-box;padding-bottom: 0.4em;background-color: white;}#sk-container-id-3 div.sk-label label {font-family: monospace;font-weight: bold;display: inline-block;line-height: 1.2em;}#sk-container-id-3 div.sk-label-container {text-align: center;}#sk-container-id-3 div.sk-container {/* jupyter's `normalize.less` sets `[hidden] { display: none; }` but bootstrap.min.css set `[hidden] { display: none !important; }` so we also need the `!important` here to be able to override the default hidden behavior on the sphinx rendered scikit-learn.org. See: https://github.com/scikit-learn/scikit-learn/issues/21755 */display: inline-block !important;position: relative;}#sk-container-id-3 div.sk-text-repr-fallback {display: none;}</style><div id=\"sk-container-id-3\" class=\"sk-top-container\"><div class=\"sk-text-repr-fallback\"><pre>GradientBoostingClassifier()</pre><b>In a Jupyter environment, please rerun this cell to show the HTML representation or trust the notebook. <br />On GitHub, the HTML representation is unable to render, please try loading this page with nbviewer.org.</b></div><div class=\"sk-container\" hidden><div class=\"sk-item\"><div class=\"sk-estimator sk-toggleable\"><input class=\"sk-toggleable__control sk-hidden--visually\" id=\"sk-estimator-id-3\" type=\"checkbox\" checked><label for=\"sk-estimator-id-3\" class=\"sk-toggleable__label sk-toggleable__label-arrow\">GradientBoostingClassifier</label><div class=\"sk-toggleable__content\"><pre>GradientBoostingClassifier()</pre></div></div></div></div></div>"
      ],
      "text/plain": [
       "GradientBoostingClassifier()"
      ]
     },
     "execution_count": 42,
     "metadata": {},
     "output_type": "execute_result"
    }
   ],
   "source": [
    "from sklearn.ensemble import GradientBoostingClassifier\n",
    "from sklearn.metrics import accuracy_score, classification_report\n",
    "\n",
    "gbm = GradientBoostingClassifier()\n",
    "\n",
    "gbm.fit(X_train, y_train)"
   ]
  },
  {
   "cell_type": "code",
   "execution_count": null,
   "metadata": {
    "colab": {
     "base_uri": "https://localhost:8080/"
    },
    "id": "upeUxMPSL3qQ",
    "outputId": "cde103fc-80b4-4782-eb5b-8338a271353b"
   },
   "outputs": [
    {
     "name": "stdout",
     "output_type": "stream",
     "text": [
      "Accuracy score: 0.93\n",
      "              precision    recall  f1-score   support\n",
      "\n",
      "           0       0.96      0.93      0.95      2273\n",
      "           1       0.90      0.94      0.92      1457\n",
      "\n",
      "    accuracy                           0.93      3730\n",
      "   macro avg       0.93      0.93      0.93      3730\n",
      "weighted avg       0.94      0.93      0.93      3730\n",
      "\n"
     ]
    }
   ],
   "source": [
    "\n",
    "Y_pred_gbm = gbm.predict(X_test)\n",
    "\n",
    "print(\"Accuracy score: {:.2f}\".format(accuracy_score(y_test, Y_pred_gbm)))\n",
    "print(classification_report(y_test, Y_pred_gbm))\n"
   ]
  },
  {
   "cell_type": "code",
   "execution_count": null,
   "metadata": {
    "colab": {
     "base_uri": "https://localhost:8080/",
     "height": 449
    },
    "id": "7ufHE5UjSxUE",
    "outputId": "e7fa92d9-ed43-4c38-8c3c-90c930e4726f"
   },
   "outputs": [
    {
     "data": {
      "image/png": "[encoded data removed]",
      "text/plain": [
       "<Figure size 640x480 with 2 Axes>"
      ]
     },
     "metadata": {},
     "output_type": "display_data"
    }
   ],
   "source": [
    "from sklearn.metrics import confusion_matrix\n",
    "import seaborn as sns\n",
    "import matplotlib.pyplot as plt\n",
    "\n",
    "# predict on test set\n",
    "Y_pred_gbm = gbm.predict(X_test)\n",
    "\n",
    "# create confusion matrix\n",
    "cm = confusion_matrix(y_test, Y_pred_gbm)\n",
    "\n",
    "# plot confusion matrix using seaborn heatmap\n",
    "sns.heatmap(cm, annot=True, cmap='Blues', fmt='g')\n",
    "plt.xlabel('Predicted')\n",
    "plt.ylabel('True')\n",
    "plt.show()\n"
   ]
  },
  {
   "cell_type": "markdown",
   "metadata": {
    "id": "EwNBgGTrrWmn"
   },
   "source": [
    "Xgboost"
   ]
  },
  {
   "cell_type": "code",
   "execution_count": null,
   "metadata": {
    "colab": {
     "base_uri": "https://localhost:8080/",
     "height": 248
    },
    "id": "tMPiPzaXpLy5",
    "outputId": "3dd983c4-d638-452f-b388-a35d32cf7244"
   },
   "outputs": [
    {
     "data": {
      "text/html": [
       "<style>#sk-container-id-2 {color: black;background-color: white;}#sk-container-id-2 pre{padding: 0;}#sk-container-id-2 div.sk-toggleable {background-color: white;}#sk-container-id-2 label.sk-toggleable__label {cursor: pointer;display: block;width: 100%;margin-bottom: 0;padding: 0.3em;box-sizing: border-box;text-align: center;}#sk-container-id-2 label.sk-toggleable__label-arrow:before {content: \"▸\";float: left;margin-right: 0.25em;color: #696969;}#sk-container-id-2 label.sk-toggleable__label-arrow:hover:before {color: black;}#sk-container-id-2 div.sk-estimator:hover label.sk-toggleable__label-arrow:before {color: black;}#sk-container-id-2 div.sk-toggleable__content {max-height: 0;max-width: 0;overflow: hidden;text-align: left;background-color: #f0f8ff;}#sk-container-id-2 div.sk-toggleable__content pre {margin: 0.2em;color: black;border-radius: 0.25em;background-color: #f0f8ff;}#sk-container-id-2 input.sk-toggleable__control:checked~div.sk-toggleable__content {max-height: 200px;max-width: 100%;overflow: auto;}#sk-container-id-2 input.sk-toggleable__control:checked~label.sk-toggleable__label-arrow:before {content: \"▾\";}#sk-container-id-2 div.sk-estimator input.sk-toggleable__control:checked~label.sk-toggleable__label {background-color: #d4ebff;}#sk-container-id-2 div.sk-label input.sk-toggleable__control:checked~label.sk-toggleable__label {background-color: #d4ebff;}#sk-container-id-2 input.sk-hidden--visually {border: 0;clip: rect(1px 1px 1px 1px);clip: rect(1px, 1px, 1px, 1px);height: 1px;margin: -1px;overflow: hidden;padding: 0;position: absolute;width: 1px;}#sk-container-id-2 div.sk-estimator {font-family: monospace;background-color: #f0f8ff;border: 1px dotted black;border-radius: 0.25em;box-sizing: border-box;margin-bottom: 0.5em;}#sk-container-id-2 div.sk-estimator:hover {background-color: #d4ebff;}#sk-container-id-2 div.sk-parallel-item::after {content: \"\";width: 100%;border-bottom: 1px solid gray;flex-grow: 1;}#sk-container-id-2 div.sk-label:hover label.sk-toggleable__label {background-color: #d4ebff;}#sk-container-id-2 div.sk-serial::before {content: \"\";position: absolute;border-left: 1px solid gray;box-sizing: border-box;top: 0;bottom: 0;left: 50%;z-index: 0;}#sk-container-id-2 div.sk-serial {display: flex;flex-direction: column;align-items: center;background-color: white;padding-right: 0.2em;padding-left: 0.2em;position: relative;}#sk-container-id-2 div.sk-item {position: relative;z-index: 1;}#sk-container-id-2 div.sk-parallel {display: flex;align-items: stretch;justify-content: center;background-color: white;position: relative;}#sk-container-id-2 div.sk-item::before, #sk-container-id-2 div.sk-parallel-item::before {content: \"\";position: absolute;border-left: 1px solid gray;box-sizing: border-box;top: 0;bottom: 0;left: 50%;z-index: -1;}#sk-container-id-2 div.sk-parallel-item {display: flex;flex-direction: column;z-index: 1;position: relative;background-color: white;}#sk-container-id-2 div.sk-parallel-item:first-child::after {align-self: flex-end;width: 50%;}#sk-container-id-2 div.sk-parallel-item:last-child::after {align-self: flex-start;width: 50%;}#sk-container-id-2 div.sk-parallel-item:only-child::after {width: 0;}#sk-container-id-2 div.sk-dashed-wrapped {border: 1px dashed gray;margin: 0 0.4em 0.5em 0.4em;box-sizing: border-box;padding-bottom: 0.4em;background-color: white;}#sk-container-id-2 div.sk-label label {font-family: monospace;font-weight: bold;display: inline-block;line-height: 1.2em;}#sk-container-id-2 div.sk-label-container {text-align: center;}#sk-container-id-2 div.sk-container {/* jupyter's `normalize.less` sets `[hidden] { display: none; }` but bootstrap.min.css set `[hidden] { display: none !important; }` so we also need the `!important` here to be able to override the default hidden behavior on the sphinx rendered scikit-learn.org. See: https://github.com/scikit-learn/scikit-learn/issues/21755 */display: inline-block !important;position: relative;}#sk-container-id-2 div.sk-text-repr-fallback {display: none;}</style><div id=\"sk-container-id-2\" class=\"sk-top-container\"><div class=\"sk-text-repr-fallback\"><pre>XGBClassifier(base_score=None, booster=None, callbacks=None,\n",
       "              colsample_bylevel=None, colsample_bynode=None,\n",
       "              colsample_bytree=None, early_stopping_rounds=None,\n",
       "              enable_categorical=False, eval_metric=None, feature_types=None,\n",
       "              gamma=None, gpu_id=None, grow_policy=None, importance_type=None,\n",
       "              interaction_constraints=None, learning_rate=None, max_bin=None,\n",
       "              max_cat_threshold=None, max_cat_to_onehot=None,\n",
       "              max_delta_step=None, max_depth=None, max_leaves=None,\n",
       "              min_child_weight=None, missing=nan, monotone_constraints=None,\n",
       "              n_estimators=100, n_jobs=None, num_parallel_tree=None,\n",
       "              predictor=None, random_state=42, ...)</pre><b>In a Jupyter environment, please rerun this cell to show the HTML representation or trust the notebook. <br />On GitHub, the HTML representation is unable to render, please try loading this page with nbviewer.org.</b></div><div class=\"sk-container\" hidden><div class=\"sk-item\"><div class=\"sk-estimator sk-toggleable\"><input class=\"sk-toggleable__control sk-hidden--visually\" id=\"sk-estimator-id-2\" type=\"checkbox\" checked><label for=\"sk-estimator-id-2\" class=\"sk-toggleable__label sk-toggleable__label-arrow\">XGBClassifier</label><div class=\"sk-toggleable__content\"><pre>XGBClassifier(base_score=None, booster=None, callbacks=None,\n",
       "              colsample_bylevel=None, colsample_bynode=None,\n",
       "              colsample_bytree=None, early_stopping_rounds=None,\n",
       "              enable_categorical=False, eval_metric=None, feature_types=None,\n",
       "              gamma=None, gpu_id=None, grow_policy=None, importance_type=None,\n",
       "              interaction_constraints=None, learning_rate=None, max_bin=None,\n",
       "              max_cat_threshold=None, max_cat_to_onehot=None,\n",
       "              max_delta_step=None, max_depth=None, max_leaves=None,\n",
       "              min_child_weight=None, missing=nan, monotone_constraints=None,\n",
       "              n_estimators=100, n_jobs=None, num_parallel_tree=None,\n",
       "              predictor=None, random_state=42, ...)</pre></div></div></div></div></div>"
      ],
      "text/plain": [
       "XGBClassifier(base_score=None, booster=None, callbacks=None,\n",
       "              colsample_bylevel=None, colsample_bynode=None,\n",
       "              colsample_bytree=None, early_stopping_rounds=None,\n",
       "              enable_categorical=False, eval_metric=None, feature_types=None,\n",
       "              gamma=None, gpu_id=None, grow_policy=None, importance_type=None,\n",
       "              interaction_constraints=None, learning_rate=None, max_bin=None,\n",
       "              max_cat_threshold=None, max_cat_to_onehot=None,\n",
       "              max_delta_step=None, max_depth=None, max_leaves=None,\n",
       "              min_child_weight=None, missing=nan, monotone_constraints=None,\n",
       "              n_estimators=100, n_jobs=None, num_parallel_tree=None,\n",
       "              predictor=None, random_state=42, ...)"
      ]
     },
     "execution_count": 38,
     "metadata": {},
     "output_type": "execute_result"
    }
   ],
   "source": [
    "import xgboost as xgb\n",
    "\n",
    "xgb_model = xgb.XGBClassifier(objective=\"binary:logistic\", random_state=42)\n",
    "xgb_model.fit(X_train, y_train)"
   ]
  },
  {
   "cell_type": "code",
   "execution_count": null,
   "metadata": {
    "colab": {
     "base_uri": "https://localhost:8080/"
    },
    "id": "EXEPfASJrbdU",
    "outputId": "6d83573c-a9a4-48ff-d83a-38c24133de58"
   },
   "outputs": [
    {
     "name": "stdout",
     "output_type": "stream",
     "text": [
      "              precision    recall  f1-score   support\n",
      "\n",
      "           0       0.99      0.95      0.97      2273\n",
      "           1       0.93      0.98      0.95      1457\n",
      "\n",
      "    accuracy                           0.96      3730\n",
      "   macro avg       0.96      0.97      0.96      3730\n",
      "weighted avg       0.96      0.96      0.96      3730\n",
      "\n"
     ]
    }
   ],
   "source": [
    "\n",
    "Y_pred_xgb = xgb_model.predict(X_test)\n",
    "print(classification_report(y_test, Y_pred_xgb))"
   ]
  },
  {
   "cell_type": "code",
   "execution_count": null,
   "metadata": {
    "colab": {
     "base_uri": "https://localhost:8080/",
     "height": 449
    },
    "id": "wngOSZu4TSZ6",
    "outputId": "16e04e53-b135-4a12-f471-6079027eed0c"
   },
   "outputs": [
    {
     "data": {
      "image/png": "[encoded data removed]",
      "text/plain": [
       "<Figure size 640x480 with 2 Axes>"
      ]
     },
     "metadata": {},
     "output_type": "display_data"
    }
   ],
   "source": [
    "from sklearn.metrics import confusion_matrix\n",
    "import seaborn as sns\n",
    "import matplotlib.pyplot as plt\n",
    "\n",
    "# predict on test set\n",
    "Y_pred_xgb = xgb_model.predict(X_test)\n",
    "\n",
    "# create confusion matrix\n",
    "cm = confusion_matrix(y_test, Y_pred_xgb)\n",
    "\n",
    "# plot confusion matrix using seaborn heatmap\n",
    "sns.heatmap(cm, annot=True, cmap='Blues', fmt='g')\n",
    "plt.xlabel('Predicted')\n",
    "plt.ylabel('True')\n",
    "plt.show()\n"
   ]
  },
  {
   "cell_type": "markdown",
   "metadata": {
    "id": "ZXvGXbzJHoJ6"
   },
   "source": [
    "SVM"
   ]
  },
  {
   "cell_type": "code",
   "execution_count": null,
   "metadata": {
    "colab": {
     "base_uri": "https://localhost:8080/",
     "height": 75
    },
    "id": "iujgjuB9r36Z",
    "outputId": "3f254662-b5b5-4bcf-f505-5c53fc40cc5f"
   },
   "outputs": [
    {
     "data": {
      "text/html": [
       "<style>#sk-container-id-4 {color: black;background-color: white;}#sk-container-id-4 pre{padding: 0;}#sk-container-id-4 div.sk-toggleable {background-color: white;}#sk-container-id-4 label.sk-toggleable__label {cursor: pointer;display: block;width: 100%;margin-bottom: 0;padding: 0.3em;box-sizing: border-box;text-align: center;}#sk-container-id-4 label.sk-toggleable__label-arrow:before {content: \"▸\";float: left;margin-right: 0.25em;color: #696969;}#sk-container-id-4 label.sk-toggleable__label-arrow:hover:before {color: black;}#sk-container-id-4 div.sk-estimator:hover label.sk-toggleable__label-arrow:before {color: black;}#sk-container-id-4 div.sk-toggleable__content {max-height: 0;max-width: 0;overflow: hidden;text-align: left;background-color: #f0f8ff;}#sk-container-id-4 div.sk-toggleable__content pre {margin: 0.2em;color: black;border-radius: 0.25em;background-color: #f0f8ff;}#sk-container-id-4 input.sk-toggleable__control:checked~div.sk-toggleable__content {max-height: 200px;max-width: 100%;overflow: auto;}#sk-container-id-4 input.sk-toggleable__control:checked~label.sk-toggleable__label-arrow:before {content: \"▾\";}#sk-container-id-4 div.sk-estimator input.sk-toggleable__control:checked~label.sk-toggleable__label {background-color: #d4ebff;}#sk-container-id-4 div.sk-label input.sk-toggleable__control:checked~label.sk-toggleable__label {background-color: #d4ebff;}#sk-container-id-4 input.sk-hidden--visually {border: 0;clip: rect(1px 1px 1px 1px);clip: rect(1px, 1px, 1px, 1px);height: 1px;margin: -1px;overflow: hidden;padding: 0;position: absolute;width: 1px;}#sk-container-id-4 div.sk-estimator {font-family: monospace;background-color: #f0f8ff;border: 1px dotted black;border-radius: 0.25em;box-sizing: border-box;margin-bottom: 0.5em;}#sk-container-id-4 div.sk-estimator:hover {background-color: #d4ebff;}#sk-container-id-4 div.sk-parallel-item::after {content: \"\";width: 100%;border-bottom: 1px solid gray;flex-grow: 1;}#sk-container-id-4 div.sk-label:hover label.sk-toggleable__label {background-color: #d4ebff;}#sk-container-id-4 div.sk-serial::before {content: \"\";position: absolute;border-left: 1px solid gray;box-sizing: border-box;top: 0;bottom: 0;left: 50%;z-index: 0;}#sk-container-id-4 div.sk-serial {display: flex;flex-direction: column;align-items: center;background-color: white;padding-right: 0.2em;padding-left: 0.2em;position: relative;}#sk-container-id-4 div.sk-item {position: relative;z-index: 1;}#sk-container-id-4 div.sk-parallel {display: flex;align-items: stretch;justify-content: center;background-color: white;position: relative;}#sk-container-id-4 div.sk-item::before, #sk-container-id-4 div.sk-parallel-item::before {content: \"\";position: absolute;border-left: 1px solid gray;box-sizing: border-box;top: 0;bottom: 0;left: 50%;z-index: -1;}#sk-container-id-4 div.sk-parallel-item {display: flex;flex-direction: column;z-index: 1;position: relative;background-color: white;}#sk-container-id-4 div.sk-parallel-item:first-child::after {align-self: flex-end;width: 50%;}#sk-container-id-4 div.sk-parallel-item:last-child::after {align-self: flex-start;width: 50%;}#sk-container-id-4 div.sk-parallel-item:only-child::after {width: 0;}#sk-container-id-4 div.sk-dashed-wrapped {border: 1px dashed gray;margin: 0 0.4em 0.5em 0.4em;box-sizing: border-box;padding-bottom: 0.4em;background-color: white;}#sk-container-id-4 div.sk-label label {font-family: monospace;font-weight: bold;display: inline-block;line-height: 1.2em;}#sk-container-id-4 div.sk-label-container {text-align: center;}#sk-container-id-4 div.sk-container {/* jupyter's `normalize.less` sets `[hidden] { display: none; }` but bootstrap.min.css set `[hidden] { display: none !important; }` so we also need the `!important` here to be able to override the default hidden behavior on the sphinx rendered scikit-learn.org. See: https://github.com/scikit-learn/scikit-learn/issues/21755 */display: inline-block !important;position: relative;}#sk-container-id-4 div.sk-text-repr-fallback {display: none;}</style><div id=\"sk-container-id-4\" class=\"sk-top-container\"><div class=\"sk-text-repr-fallback\"><pre>SVC(kernel=&#x27;linear&#x27;)</pre><b>In a Jupyter environment, please rerun this cell to show the HTML representation or trust the notebook. <br />On GitHub, the HTML representation is unable to render, please try loading this page with nbviewer.org.</b></div><div class=\"sk-container\" hidden><div class=\"sk-item\"><div class=\"sk-estimator sk-toggleable\"><input class=\"sk-toggleable__control sk-hidden--visually\" id=\"sk-estimator-id-4\" type=\"checkbox\" checked><label for=\"sk-estimator-id-4\" class=\"sk-toggleable__label sk-toggleable__label-arrow\">SVC</label><div class=\"sk-toggleable__content\"><pre>SVC(kernel=&#x27;linear&#x27;)</pre></div></div></div></div></div>"
      ],
      "text/plain": [
       "SVC(kernel='linear')"
      ]
     },
     "execution_count": 45,
     "metadata": {},
     "output_type": "execute_result"
    }
   ],
   "source": [
    "from sklearn import svm\n",
    "\n",
    "svm = svm.SVC(kernel='linear')\n",
    "\n",
    "svm.fit(X_train, y_train)"
   ]
  },
  {
   "cell_type": "code",
   "execution_count": null,
   "metadata": {
    "colab": {
     "base_uri": "https://localhost:8080/"
    },
    "id": "FWmm-ZBgHhXE",
    "outputId": "3333325d-d3b9-4a62-d7f9-41f02d7c8614"
   },
   "outputs": [
    {
     "name": "stdout",
     "output_type": "stream",
     "text": [
      "              precision    recall  f1-score   support\n",
      "\n",
      "           0       0.98      0.96      0.97      2273\n",
      "           1       0.93      0.97      0.95      1457\n",
      "\n",
      "    accuracy                           0.96      3730\n",
      "   macro avg       0.96      0.96      0.96      3730\n",
      "weighted avg       0.96      0.96      0.96      3730\n",
      "\n"
     ]
    }
   ],
   "source": [
    "Y_pred_svm = svm.predict(X_test)\n",
    "print(classification_report(y_test, Y_pred_svm))"
   ]
  },
  {
   "cell_type": "code",
   "execution_count": null,
   "metadata": {
    "colab": {
     "base_uri": "https://localhost:8080/",
     "height": 449
    },
    "id": "-n1WkTceTfYe",
    "outputId": "c0c46ade-c9c8-4797-f93e-85dbab4715fc"
   },
   "outputs": [
    {
     "data": {
      "image/png": "[encoded data removed]",
      "text/plain": [
       "<Figure size 640x480 with 2 Axes>"
      ]
     },
     "metadata": {},
     "output_type": "display_data"
    }
   ],
   "source": [
    "from sklearn.metrics import confusion_matrix\n",
    "import seaborn as sns\n",
    "import matplotlib.pyplot as plt\n",
    "\n",
    "# predict on test set\n",
    "Y_pred_svm = svm.predict(X_test)\n",
    "\n",
    "# create confusion matrix\n",
    "cm = confusion_matrix(y_test, Y_pred_svm)\n",
    "\n",
    "# plot confusion matrix using seaborn heatmap\n",
    "sns.heatmap(cm, annot=True, cmap='Blues', fmt='g')\n",
    "plt.xlabel('Predicted')\n",
    "plt.ylabel('True')\n",
    "plt.show()\n"
   ]
  },
  {
   "cell_type": "markdown",
   "metadata": {
    "id": "k9XWSfzaQ_9G"
   },
   "source": [
    "DT"
   ]
  },
  {
   "cell_type": "code",
   "execution_count": null,
   "metadata": {
    "colab": {
     "base_uri": "https://localhost:8080/",
     "height": 75
    },
    "id": "fimPWO1wLQr1",
    "outputId": "5faff31a-e043-4050-ad41-d83b10778719"
   },
   "outputs": [
    {
     "data": {
      "text/html": [
       "<style>#sk-container-id-1 {color: black;background-color: white;}#sk-container-id-1 pre{padding: 0;}#sk-container-id-1 div.sk-toggleable {background-color: white;}#sk-container-id-1 label.sk-toggleable__label {cursor: pointer;display: block;width: 100%;margin-bottom: 0;padding: 0.3em;box-sizing: border-box;text-align: center;}#sk-container-id-1 label.sk-toggleable__label-arrow:before {content: \"▸\";float: left;margin-right: 0.25em;color: #696969;}#sk-container-id-1 label.sk-toggleable__label-arrow:hover:before {color: black;}#sk-container-id-1 div.sk-estimator:hover label.sk-toggleable__label-arrow:before {color: black;}#sk-container-id-1 div.sk-toggleable__content {max-height: 0;max-width: 0;overflow: hidden;text-align: left;background-color: #f0f8ff;}#sk-container-id-1 div.sk-toggleable__content pre {margin: 0.2em;color: black;border-radius: 0.25em;background-color: #f0f8ff;}#sk-container-id-1 input.sk-toggleable__control:checked~div.sk-toggleable__content {max-height: 200px;max-width: 100%;overflow: auto;}#sk-container-id-1 input.sk-toggleable__control:checked~label.sk-toggleable__label-arrow:before {content: \"▾\";}#sk-container-id-1 div.sk-estimator input.sk-toggleable__control:checked~label.sk-toggleable__label {background-color: #d4ebff;}#sk-container-id-1 div.sk-label input.sk-toggleable__control:checked~label.sk-toggleable__label {background-color: #d4ebff;}#sk-container-id-1 input.sk-hidden--visually {border: 0;clip: rect(1px 1px 1px 1px);clip: rect(1px, 1px, 1px, 1px);height: 1px;margin: -1px;overflow: hidden;padding: 0;position: absolute;width: 1px;}#sk-container-id-1 div.sk-estimator {font-family: monospace;background-color: #f0f8ff;border: 1px dotted black;border-radius: 0.25em;box-sizing: border-box;margin-bottom: 0.5em;}#sk-container-id-1 div.sk-estimator:hover {background-color: #d4ebff;}#sk-container-id-1 div.sk-parallel-item::after {content: \"\";width: 100%;border-bottom: 1px solid gray;flex-grow: 1;}#sk-container-id-1 div.sk-label:hover label.sk-toggleable__label {background-color: #d4ebff;}#sk-container-id-1 div.sk-serial::before {content: \"\";position: absolute;border-left: 1px solid gray;box-sizing: border-box;top: 0;bottom: 0;left: 50%;z-index: 0;}#sk-container-id-1 div.sk-serial {display: flex;flex-direction: column;align-items: center;background-color: white;padding-right: 0.2em;padding-left: 0.2em;position: relative;}#sk-container-id-1 div.sk-item {position: relative;z-index: 1;}#sk-container-id-1 div.sk-parallel {display: flex;align-items: stretch;justify-content: center;background-color: white;position: relative;}#sk-container-id-1 div.sk-item::before, #sk-container-id-1 div.sk-parallel-item::before {content: \"\";position: absolute;border-left: 1px solid gray;box-sizing: border-box;top: 0;bottom: 0;left: 50%;z-index: -1;}#sk-container-id-1 div.sk-parallel-item {display: flex;flex-direction: column;z-index: 1;position: relative;background-color: white;}#sk-container-id-1 div.sk-parallel-item:first-child::after {align-self: flex-end;width: 50%;}#sk-container-id-1 div.sk-parallel-item:last-child::after {align-self: flex-start;width: 50%;}#sk-container-id-1 div.sk-parallel-item:only-child::after {width: 0;}#sk-container-id-1 div.sk-dashed-wrapped {border: 1px dashed gray;margin: 0 0.4em 0.5em 0.4em;box-sizing: border-box;padding-bottom: 0.4em;background-color: white;}#sk-container-id-1 div.sk-label label {font-family: monospace;font-weight: bold;display: inline-block;line-height: 1.2em;}#sk-container-id-1 div.sk-label-container {text-align: center;}#sk-container-id-1 div.sk-container {/* jupyter's `normalize.less` sets `[hidden] { display: none; }` but bootstrap.min.css set `[hidden] { display: none !important; }` so we also need the `!important` here to be able to override the default hidden behavior on the sphinx rendered scikit-learn.org. See: https://github.com/scikit-learn/scikit-learn/issues/21755 */display: inline-block !important;position: relative;}#sk-container-id-1 div.sk-text-repr-fallback {display: none;}</style><div id=\"sk-container-id-1\" class=\"sk-top-container\"><div class=\"sk-text-repr-fallback\"><pre>DecisionTreeClassifier(random_state=3)</pre><b>In a Jupyter environment, please rerun this cell to show the HTML representation or trust the notebook. <br />On GitHub, the HTML representation is unable to render, please try loading this page with nbviewer.org.</b></div><div class=\"sk-container\" hidden><div class=\"sk-item\"><div class=\"sk-estimator sk-toggleable\"><input class=\"sk-toggleable__control sk-hidden--visually\" id=\"sk-estimator-id-1\" type=\"checkbox\" checked><label for=\"sk-estimator-id-1\" class=\"sk-toggleable__label sk-toggleable__label-arrow\">DecisionTreeClassifier</label><div class=\"sk-toggleable__content\"><pre>DecisionTreeClassifier(random_state=3)</pre></div></div></div></div></div>"
      ],
      "text/plain": [
       "DecisionTreeClassifier(random_state=3)"
      ]
     },
     "execution_count": 19,
     "metadata": {},
     "output_type": "execute_result"
    }
   ],
   "source": [
    "from sklearn.tree import DecisionTreeClassifier\n",
    "\n",
    "max_accuracy = 0\n",
    "\n",
    "\n",
    "for x in range(20):\n",
    "    dt = DecisionTreeClassifier(random_state=x)\n",
    "    dt.fit(X_train,y_train)\n",
    "    Y_pred_dt = dt.predict(X_test)\n",
    "    current_accuracy = round(accuracy_score(Y_pred_dt,y_test)*100,2)\n",
    "    if(current_accuracy>max_accuracy):\n",
    "        max_accuracy = current_accuracy\n",
    "        best_x = x\n",
    "\n",
    "#print(max_accuracy)\n",
    "#print(best_x)\n",
    "\n",
    "\n",
    "dt = DecisionTreeClassifier(random_state=best_x)\n",
    "dt.fit(X_train,y_train)"
   ]
  },
  {
   "cell_type": "code",
   "execution_count": null,
   "metadata": {
    "colab": {
     "base_uri": "https://localhost:8080/"
    },
    "id": "zNbj9M1ULRzs",
    "outputId": "7335dee7-963e-4a08-95fd-6285db794d78"
   },
   "outputs": [
    {
     "name": "stdout",
     "output_type": "stream",
     "text": [
      "              precision    recall  f1-score   support\n",
      "\n",
      "           0       0.95      0.93      0.94      2273\n",
      "           1       0.89      0.93      0.91      1457\n",
      "\n",
      "    accuracy                           0.93      3730\n",
      "   macro avg       0.92      0.93      0.92      3730\n",
      "weighted avg       0.93      0.93      0.93      3730\n",
      "\n"
     ]
    }
   ],
   "source": [
    "Y_pred_dt = dt.predict(X_test)\n",
    "print(classification_report(y_test, Y_pred_dt))"
   ]
  },
  {
   "cell_type": "code",
   "execution_count": null,
   "metadata": {
    "colab": {
     "base_uri": "https://localhost:8080/",
     "height": 449
    },
    "id": "iIPno8DWQ8aV",
    "outputId": "337d33c7-e92b-41bc-9f3d-cf1c618b5798"
   },
   "outputs": [
    {
     "data": {
      "image/png": "[encoded data removed]",
      "text/plain": [
       "<Figure size 640x480 with 2 Axes>"
      ]
     },
     "metadata": {},
     "output_type": "display_data"
    }
   ],
   "source": [
    "from sklearn.metrics import confusion_matrix\n",
    "import seaborn as sns\n",
    "import matplotlib.pyplot as plt\n",
    "\n",
    "# predict on test set\n",
    "Y_pred_dt = dt.predict(X_test)\n",
    "\n",
    "# create confusion matrix\n",
    "cm = confusion_matrix(y_test, Y_pred_dt)\n",
    "\n",
    "# plot confusion matrix using seaborn heatmap\n",
    "sns.heatmap(cm, annot=True, cmap='Blues', fmt='g')\n",
    "plt.xlabel('Predicted')\n",
    "plt.ylabel('True')\n",
    "plt.show()\n"
   ]
  },
  {
   "cell_type": "markdown",
   "metadata": {
    "id": "1k6aGOhDRB_z"
   },
   "source": [
    "RF"
   ]
  },
  {
   "cell_type": "code",
   "execution_count": null,
   "metadata": {
    "colab": {
     "base_uri": "https://localhost:8080/",
     "height": 75
    },
    "id": "XQPp4OTXRDIH",
    "outputId": "b480c6a3-e4ae-4553-e9b3-327c86e3dff5"
   },
   "outputs": [
    {
     "data": {
      "text/html": [
       "<style>#sk-container-id-2 {color: black;background-color: white;}#sk-container-id-2 pre{padding: 0;}#sk-container-id-2 div.sk-toggleable {background-color: white;}#sk-container-id-2 label.sk-toggleable__label {cursor: pointer;display: block;width: 100%;margin-bottom: 0;padding: 0.3em;box-sizing: border-box;text-align: center;}#sk-container-id-2 label.sk-toggleable__label-arrow:before {content: \"▸\";float: left;margin-right: 0.25em;color: #696969;}#sk-container-id-2 label.sk-toggleable__label-arrow:hover:before {color: black;}#sk-container-id-2 div.sk-estimator:hover label.sk-toggleable__label-arrow:before {color: black;}#sk-container-id-2 div.sk-toggleable__content {max-height: 0;max-width: 0;overflow: hidden;text-align: left;background-color: #f0f8ff;}#sk-container-id-2 div.sk-toggleable__content pre {margin: 0.2em;color: black;border-radius: 0.25em;background-color: #f0f8ff;}#sk-container-id-2 input.sk-toggleable__control:checked~div.sk-toggleable__content {max-height: 200px;max-width: 100%;overflow: auto;}#sk-container-id-2 input.sk-toggleable__control:checked~label.sk-toggleable__label-arrow:before {content: \"▾\";}#sk-container-id-2 div.sk-estimator input.sk-toggleable__control:checked~label.sk-toggleable__label {background-color: #d4ebff;}#sk-container-id-2 div.sk-label input.sk-toggleable__control:checked~label.sk-toggleable__label {background-color: #d4ebff;}#sk-container-id-2 input.sk-hidden--visually {border: 0;clip: rect(1px 1px 1px 1px);clip: rect(1px, 1px, 1px, 1px);height: 1px;margin: -1px;overflow: hidden;padding: 0;position: absolute;width: 1px;}#sk-container-id-2 div.sk-estimator {font-family: monospace;background-color: #f0f8ff;border: 1px dotted black;border-radius: 0.25em;box-sizing: border-box;margin-bottom: 0.5em;}#sk-container-id-2 div.sk-estimator:hover {background-color: #d4ebff;}#sk-container-id-2 div.sk-parallel-item::after {content: \"\";width: 100%;border-bottom: 1px solid gray;flex-grow: 1;}#sk-container-id-2 div.sk-label:hover label.sk-toggleable__label {background-color: #d4ebff;}#sk-container-id-2 div.sk-serial::before {content: \"\";position: absolute;border-left: 1px solid gray;box-sizing: border-box;top: 0;bottom: 0;left: 50%;z-index: 0;}#sk-container-id-2 div.sk-serial {display: flex;flex-direction: column;align-items: center;background-color: white;padding-right: 0.2em;padding-left: 0.2em;position: relative;}#sk-container-id-2 div.sk-item {position: relative;z-index: 1;}#sk-container-id-2 div.sk-parallel {display: flex;align-items: stretch;justify-content: center;background-color: white;position: relative;}#sk-container-id-2 div.sk-item::before, #sk-container-id-2 div.sk-parallel-item::before {content: \"\";position: absolute;border-left: 1px solid gray;box-sizing: border-box;top: 0;bottom: 0;left: 50%;z-index: -1;}#sk-container-id-2 div.sk-parallel-item {display: flex;flex-direction: column;z-index: 1;position: relative;background-color: white;}#sk-container-id-2 div.sk-parallel-item:first-child::after {align-self: flex-end;width: 50%;}#sk-container-id-2 div.sk-parallel-item:last-child::after {align-self: flex-start;width: 50%;}#sk-container-id-2 div.sk-parallel-item:only-child::after {width: 0;}#sk-container-id-2 div.sk-dashed-wrapped {border: 1px dashed gray;margin: 0 0.4em 0.5em 0.4em;box-sizing: border-box;padding-bottom: 0.4em;background-color: white;}#sk-container-id-2 div.sk-label label {font-family: monospace;font-weight: bold;display: inline-block;line-height: 1.2em;}#sk-container-id-2 div.sk-label-container {text-align: center;}#sk-container-id-2 div.sk-container {/* jupyter's `normalize.less` sets `[hidden] { display: none; }` but bootstrap.min.css set `[hidden] { display: none !important; }` so we also need the `!important` here to be able to override the default hidden behavior on the sphinx rendered scikit-learn.org. See: https://github.com/scikit-learn/scikit-learn/issues/21755 */display: inline-block !important;position: relative;}#sk-container-id-2 div.sk-text-repr-fallback {display: none;}</style><div id=\"sk-container-id-2\" class=\"sk-top-container\"><div class=\"sk-text-repr-fallback\"><pre>RandomForestClassifier(random_state=17)</pre><b>In a Jupyter environment, please rerun this cell to show the HTML representation or trust the notebook. <br />On GitHub, the HTML representation is unable to render, please try loading this page with nbviewer.org.</b></div><div class=\"sk-container\" hidden><div class=\"sk-item\"><div class=\"sk-estimator sk-toggleable\"><input class=\"sk-toggleable__control sk-hidden--visually\" id=\"sk-estimator-id-2\" type=\"checkbox\" checked><label for=\"sk-estimator-id-2\" class=\"sk-toggleable__label sk-toggleable__label-arrow\">RandomForestClassifier</label><div class=\"sk-toggleable__content\"><pre>RandomForestClassifier(random_state=17)</pre></div></div></div></div></div>"
      ],
      "text/plain": [
       "RandomForestClassifier(random_state=17)"
      ]
     },
     "execution_count": 25,
     "metadata": {},
     "output_type": "execute_result"
    }
   ],
   "source": [
    "from sklearn.ensemble import RandomForestClassifier\n",
    "\n",
    "max_accuracy = 0\n",
    "\n",
    "\n",
    "for x in range(20):\n",
    "    rf = RandomForestClassifier(random_state=x)\n",
    "    rf.fit(X_train,y_train)\n",
    "    Y_pred_rf = rf.predict(X_test)\n",
    "    current_accuracy = round(accuracy_score(Y_pred_rf,y_test)*100,2)\n",
    "    if(current_accuracy>max_accuracy):\n",
    "        max_accuracy = current_accuracy\n",
    "        best_x = x\n",
    "\n",
    "#print(max_accuracy)\n",
    "#print(best_x)\n",
    "\n",
    "rf = RandomForestClassifier(random_state=best_x)\n",
    "rf.fit(X_train,y_train)"
   ]
  },
  {
   "cell_type": "code",
   "execution_count": null,
   "metadata": {
    "colab": {
     "base_uri": "https://localhost:8080/"
    },
    "id": "5FdZxE3nRYDn",
    "outputId": "be4e78d7-c2b9-4dc8-dde0-197dce4a163b"
   },
   "outputs": [
    {
     "name": "stdout",
     "output_type": "stream",
     "text": [
      "              precision    recall  f1-score   support\n",
      "\n",
      "           0       0.98      0.97      0.97      2273\n",
      "           1       0.95      0.97      0.96      1457\n",
      "\n",
      "    accuracy                           0.97      3730\n",
      "   macro avg       0.96      0.97      0.97      3730\n",
      "weighted avg       0.97      0.97      0.97      3730\n",
      "\n"
     ]
    }
   ],
   "source": [
    "Y_pred_rf = rf.predict(X_test)\n",
    "print(classification_report(y_test, Y_pred_rf))\n"
   ]
  },
  {
   "cell_type": "code",
   "execution_count": null,
   "metadata": {
    "colab": {
     "base_uri": "https://localhost:8080/",
     "height": 449
    },
    "id": "CFlxgEvHRbJl",
    "outputId": "2811e17d-bce5-4574-808c-18eeddc672f1"
   },
   "outputs": [
    {
     "data": {
      "image/png": "[encoded data removed]",
      "text/plain": [
       "<Figure size 640x480 with 2 Axes>"
      ]
     },
     "metadata": {},
     "output_type": "display_data"
    }
   ],
   "source": [
    "from sklearn.metrics import confusion_matrix\n",
    "import seaborn as sns\n",
    "import matplotlib.pyplot as plt\n",
    "\n",
    "# predict on test set\n",
    "Y_pred_rf = rf.predict(X_test)\n",
    "\n",
    "# create confusion matrix\n",
    "cm = confusion_matrix(y_test, Y_pred_rf)\n",
    "\n",
    "# plot confusion matrix using seaborn heatmap\n",
    "sns.heatmap(cm, annot=True, cmap='Blues', fmt='g')\n",
    "plt.xlabel('Predicted')\n",
    "plt.ylabel('True')\n",
    "plt.show()\n"
   ]
  },
  {
   "cell_type": "markdown",
   "metadata": {
    "id": "QledglFAqsja"
   },
   "source": [
    "AdaBoost"
   ]
  },
  {
   "cell_type": "code",
   "execution_count": null,
   "metadata": {
    "colab": {
     "base_uri": "https://localhost:8080/",
     "height": 75
    },
    "id": "6wsrWk8Fqtkk",
    "outputId": "8525284e-8f05-4e07-b519-53a197c55aec"
   },
   "outputs": [
    {
     "data": {
      "text/html": [
       "<style>#sk-container-id-1 {color: black;background-color: white;}#sk-container-id-1 pre{padding: 0;}#sk-container-id-1 div.sk-toggleable {background-color: white;}#sk-container-id-1 label.sk-toggleable__label {cursor: pointer;display: block;width: 100%;margin-bottom: 0;padding: 0.3em;box-sizing: border-box;text-align: center;}#sk-container-id-1 label.sk-toggleable__label-arrow:before {content: \"▸\";float: left;margin-right: 0.25em;color: #696969;}#sk-container-id-1 label.sk-toggleable__label-arrow:hover:before {color: black;}#sk-container-id-1 div.sk-estimator:hover label.sk-toggleable__label-arrow:before {color: black;}#sk-container-id-1 div.sk-toggleable__content {max-height: 0;max-width: 0;overflow: hidden;text-align: left;background-color: #f0f8ff;}#sk-container-id-1 div.sk-toggleable__content pre {margin: 0.2em;color: black;border-radius: 0.25em;background-color: #f0f8ff;}#sk-container-id-1 input.sk-toggleable__control:checked~div.sk-toggleable__content {max-height: 200px;max-width: 100%;overflow: auto;}#sk-container-id-1 input.sk-toggleable__control:checked~label.sk-toggleable__label-arrow:before {content: \"▾\";}#sk-container-id-1 div.sk-estimator input.sk-toggleable__control:checked~label.sk-toggleable__label {background-color: #d4ebff;}#sk-container-id-1 div.sk-label input.sk-toggleable__control:checked~label.sk-toggleable__label {background-color: #d4ebff;}#sk-container-id-1 input.sk-hidden--visually {border: 0;clip: rect(1px 1px 1px 1px);clip: rect(1px, 1px, 1px, 1px);height: 1px;margin: -1px;overflow: hidden;padding: 0;position: absolute;width: 1px;}#sk-container-id-1 div.sk-estimator {font-family: monospace;background-color: #f0f8ff;border: 1px dotted black;border-radius: 0.25em;box-sizing: border-box;margin-bottom: 0.5em;}#sk-container-id-1 div.sk-estimator:hover {background-color: #d4ebff;}#sk-container-id-1 div.sk-parallel-item::after {content: \"\";width: 100%;border-bottom: 1px solid gray;flex-grow: 1;}#sk-container-id-1 div.sk-label:hover label.sk-toggleable__label {background-color: #d4ebff;}#sk-container-id-1 div.sk-serial::before {content: \"\";position: absolute;border-left: 1px solid gray;box-sizing: border-box;top: 0;bottom: 0;left: 50%;z-index: 0;}#sk-container-id-1 div.sk-serial {display: flex;flex-direction: column;align-items: center;background-color: white;padding-right: 0.2em;padding-left: 0.2em;position: relative;}#sk-container-id-1 div.sk-item {position: relative;z-index: 1;}#sk-container-id-1 div.sk-parallel {display: flex;align-items: stretch;justify-content: center;background-color: white;position: relative;}#sk-container-id-1 div.sk-item::before, #sk-container-id-1 div.sk-parallel-item::before {content: \"\";position: absolute;border-left: 1px solid gray;box-sizing: border-box;top: 0;bottom: 0;left: 50%;z-index: -1;}#sk-container-id-1 div.sk-parallel-item {display: flex;flex-direction: column;z-index: 1;position: relative;background-color: white;}#sk-container-id-1 div.sk-parallel-item:first-child::after {align-self: flex-end;width: 50%;}#sk-container-id-1 div.sk-parallel-item:last-child::after {align-self: flex-start;width: 50%;}#sk-container-id-1 div.sk-parallel-item:only-child::after {width: 0;}#sk-container-id-1 div.sk-dashed-wrapped {border: 1px dashed gray;margin: 0 0.4em 0.5em 0.4em;box-sizing: border-box;padding-bottom: 0.4em;background-color: white;}#sk-container-id-1 div.sk-label label {font-family: monospace;font-weight: bold;display: inline-block;line-height: 1.2em;}#sk-container-id-1 div.sk-label-container {text-align: center;}#sk-container-id-1 div.sk-container {/* jupyter's `normalize.less` sets `[hidden] { display: none; }` but bootstrap.min.css set `[hidden] { display: none !important; }` so we also need the `!important` here to be able to override the default hidden behavior on the sphinx rendered scikit-learn.org. See: https://github.com/scikit-learn/scikit-learn/issues/21755 */display: inline-block !important;position: relative;}#sk-container-id-1 div.sk-text-repr-fallback {display: none;}</style><div id=\"sk-container-id-1\" class=\"sk-top-container\"><div class=\"sk-text-repr-fallback\"><pre>AdaBoostClassifier()</pre><b>In a Jupyter environment, please rerun this cell to show the HTML representation or trust the notebook. <br />On GitHub, the HTML representation is unable to render, please try loading this page with nbviewer.org.</b></div><div class=\"sk-container\" hidden><div class=\"sk-item\"><div class=\"sk-estimator sk-toggleable\"><input class=\"sk-toggleable__control sk-hidden--visually\" id=\"sk-estimator-id-1\" type=\"checkbox\" checked><label for=\"sk-estimator-id-1\" class=\"sk-toggleable__label sk-toggleable__label-arrow\">AdaBoostClassifier</label><div class=\"sk-toggleable__content\"><pre>AdaBoostClassifier()</pre></div></div></div></div></div>"
      ],
      "text/plain": [
       "AdaBoostClassifier()"
      ]
     },
     "execution_count": 15,
     "metadata": {},
     "output_type": "execute_result"
    }
   ],
   "source": [
    "from sklearn.ensemble import AdaBoostClassifier\n",
    "from sklearn.metrics import accuracy_score, classification_report\n",
    "\n",
    "# create AdaBoost model\n",
    "adaboost = AdaBoostClassifier()\n",
    "\n",
    "# train the model on the training set\n",
    "adaboost.fit(X_train, y_train)"
   ]
  },
  {
   "cell_type": "code",
   "execution_count": null,
   "metadata": {
    "colab": {
     "base_uri": "https://localhost:8080/"
    },
    "id": "meznvVy4q1-u",
    "outputId": "88fa81a7-0406-4bab-a707-62021dc39727"
   },
   "outputs": [
    {
     "name": "stdout",
     "output_type": "stream",
     "text": [
      "Accuracy: 0.9061662198391421\n",
      "classification_report\n",
      "\n",
      "               precision    recall  f1-score   support\n",
      "\n",
      "           0       0.95      0.90      0.92      2273\n",
      "           1       0.85      0.92      0.88      1457\n",
      "\n",
      "    accuracy                           0.91      3730\n",
      "   macro avg       0.90      0.91      0.90      3730\n",
      "weighted avg       0.91      0.91      0.91      3730\n",
      "\n"
     ]
    }
   ],
   "source": [
    "# predict on the test set\n",
    "Y_pred_adaboost = adaboost.predict(X_test)\n",
    "\n",
    "# print accuracy score\n",
    "accuracy = accuracy_score(y_test, Y_pred_adaboost)\n",
    "print(\"Accuracy:\", accuracy)\n",
    "\n",
    "# print classification report\n",
    "report = classification_report(y_test, Y_pred_adaboost)\n",
    "print(\"classification_report\\n\\n\", report)"
   ]
  },
  {
   "cell_type": "code",
   "execution_count": null,
   "metadata": {
    "colab": {
     "base_uri": "https://localhost:8080/",
     "height": 449
    },
    "id": "DJwGinbdq-Va",
    "outputId": "a18e97a6-a234-48ae-c130-74ceb7fde6a3"
   },
   "outputs": [
    {
     "data": {
      "image/png": "[encoded data removed]",
      "text/plain": [
       "<Figure size 640x480 with 2 Axes>"
      ]
     },
     "metadata": {},
     "output_type": "display_data"
    }
   ],
   "source": [
    "from sklearn.metrics import confusion_matrix\n",
    "import seaborn as sns\n",
    "import matplotlib.pyplot as plt\n",
    "\n",
    "# predict on test set\n",
    "Y_pred_adaboost = adaboost.predict(X_test)\n",
    "\n",
    "# create confusion matrix\n",
    "cm = confusion_matrix(y_test, Y_pred_adaboost )\n",
    "\n",
    "# plot confusion matrix using seaborn heatmap\n",
    "sns.heatmap(cm, annot=True, cmap='Blues', fmt='g')\n",
    "plt.xlabel('Predicted')\n",
    "plt.ylabel('True')\n",
    "plt.show()\n"
   ]
  },
  {
   "cell_type": "markdown",
   "metadata": {
    "id": "715hDQDWq_zk"
   },
   "source": [
    "CatBoost"
   ]
  },
  {
   "cell_type": "code",
   "execution_count": null,
   "metadata": {
    "colab": {
     "base_uri": "https://localhost:8080/"
    },
    "id": "WElYXsGPrBNn",
    "outputId": "663b30c3-a6b5-43fb-f876-688321e7503b"
   },
   "outputs": [
    {
     "name": "stdout",
     "output_type": "stream",
     "text": [
      "Collecting catboost\n",
      "  Downloading catboost-1.2-cp310-cp310-manylinux2014_x86_64.whl (98.6 MB)\n",
      "\u001b[2K     \u001b[90m━━━━━━━━━━━━━━━━━━━━━━━━━━━━━━━━━━━━━━━━\u001b[0m \u001b[32m98.6/98.6 MB\u001b[0m \u001b[31m3.7 MB/s\u001b[0m eta \u001b[36m0:00:00\u001b[0m\n",
      "\u001b[?25hRequirement already satisfied: graphviz in /usr/local/lib/python3.10/dist-packages (from catboost) (0.20.1)\n",
      "Requirement already satisfied: matplotlib in /usr/local/lib/python3.10/dist-packages (from catboost) (3.7.1)\n",
      "Requirement already satisfied: numpy>=1.16.0 in /usr/local/lib/python3.10/dist-packages (from catboost) (1.23.5)\n",
      "Requirement already satisfied: pandas>=0.24 in /usr/local/lib/python3.10/dist-packages (from catboost) (1.5.3)\n",
      "Requirement already satisfied: scipy in /usr/local/lib/python3.10/dist-packages (from catboost) (1.10.1)\n",
      "Requirement already satisfied: plotly in /usr/local/lib/python3.10/dist-packages (from catboost) (5.15.0)\n",
      "Requirement already satisfied: six in /usr/local/lib/python3.10/dist-packages (from catboost) (1.16.0)\n",
      "Requirement already satisfied: python-dateutil>=2.8.1 in /usr/local/lib/python3.10/dist-packages (from pandas>=0.24->catboost) (2.8.2)\n",
      "Requirement already satisfied: pytz>=2020.1 in /usr/local/lib/python3.10/dist-packages (from pandas>=0.24->catboost) (2023.3)\n",
      "Requirement already satisfied: contourpy>=1.0.1 in /usr/local/lib/python3.10/dist-packages (from matplotlib->catboost) (1.1.0)\n",
      "Requirement already satisfied: cycler>=0.10 in /usr/local/lib/python3.10/dist-packages (from matplotlib->catboost) (0.11.0)\n",
      "Requirement already satisfied: fonttools>=4.22.0 in /usr/local/lib/python3.10/dist-packages (from matplotlib->catboost) (4.42.1)\n",
      "Requirement already satisfied: kiwisolver>=1.0.1 in /usr/local/lib/python3.10/dist-packages (from matplotlib->catboost) (1.4.4)\n",
      "Requirement already satisfied: packaging>=20.0 in /usr/local/lib/python3.10/dist-packages (from matplotlib->catboost) (23.1)\n",
      "Requirement already satisfied: pillow>=6.2.0 in /usr/local/lib/python3.10/dist-packages (from matplotlib->catboost) (9.4.0)\n",
      "Requirement already satisfied: pyparsing>=2.3.1 in /usr/local/lib/python3.10/dist-packages (from matplotlib->catboost) (3.1.1)\n",
      "Requirement already satisfied: tenacity>=6.2.0 in /usr/local/lib/python3.10/dist-packages (from plotly->catboost) (8.2.3)\n",
      "Installing collected packages: catboost\n",
      "Successfully installed catboost-1.2\n"
     ]
    }
   ],
   "source": [
    "pip install catboost"
   ]
  },
  {
   "cell_type": "code",
   "execution_count": null,
   "metadata": {
    "colab": {
     "base_uri": "https://localhost:8080/"
    },
    "id": "ngj1t5msrDfZ",
    "outputId": "b8e7aa89-33cc-4b4e-ed37-6277f7a6493c"
   },
   "outputs": [
    {
     "name": "stdout",
     "output_type": "stream",
     "text": [
      "Learning rate set to 0.061777\n",
      "0:\tlearn: 0.6371745\ttest: 0.6371160\tbest: 0.6371160 (0)\ttotal: 391ms\tremaining: 6m 31s\n",
      "1:\tlearn: 0.5960558\ttest: 0.5963183\tbest: 0.5963183 (1)\ttotal: 770ms\tremaining: 6m 24s\n",
      "2:\tlearn: 0.5733611\ttest: 0.5726777\tbest: 0.5726777 (2)\ttotal: 1.19s\tremaining: 6m 35s\n",
      "3:\tlearn: 0.5467099\ttest: 0.5460761\tbest: 0.5460761 (3)\ttotal: 1.6s\tremaining: 6m 39s\n",
      "4:\tlearn: 0.5265447\ttest: 0.5259247\tbest: 0.5259247 (4)\ttotal: 2.04s\tremaining: 6m 45s\n",
      "5:\tlearn: 0.5143170\ttest: 0.5139946\tbest: 0.5139946 (5)\ttotal: 2.47s\tremaining: 6m 49s\n",
      "6:\tlearn: 0.5025903\ttest: 0.5023742\tbest: 0.5023742 (6)\ttotal: 2.88s\tremaining: 6m 49s\n",
      "7:\tlearn: 0.4874526\ttest: 0.4867927\tbest: 0.4867927 (7)\ttotal: 3.29s\tremaining: 6m 48s\n",
      "8:\tlearn: 0.4770608\ttest: 0.4758915\tbest: 0.4758915 (8)\ttotal: 3.69s\tremaining: 6m 46s\n",
      "9:\tlearn: 0.4615021\ttest: 0.4609650\tbest: 0.4609650 (9)\ttotal: 4.09s\tremaining: 6m 44s\n",
      "10:\tlearn: 0.4521679\ttest: 0.4513133\tbest: 0.4513133 (10)\ttotal: 4.47s\tremaining: 6m 41s\n",
      "11:\tlearn: 0.4453092\ttest: 0.4445548\tbest: 0.4445548 (11)\ttotal: 4.8s\tremaining: 6m 35s\n",
      "12:\tlearn: 0.4358640\ttest: 0.4348218\tbest: 0.4348218 (12)\ttotal: 5.03s\tremaining: 6m 22s\n",
      "13:\tlearn: 0.4284032\ttest: 0.4280046\tbest: 0.4280046 (13)\ttotal: 5.25s\tremaining: 6m 9s\n",
      "14:\tlearn: 0.4204261\ttest: 0.4204532\tbest: 0.4204532 (14)\ttotal: 5.48s\tremaining: 6m\n",
      "15:\tlearn: 0.4129555\ttest: 0.4129252\tbest: 0.4129252 (15)\ttotal: 5.72s\tremaining: 5m 51s\n",
      "16:\tlearn: 0.4074155\ttest: 0.4077918\tbest: 0.4077918 (16)\ttotal: 5.96s\tremaining: 5m 44s\n",
      "17:\tlearn: 0.3975928\ttest: 0.3981483\tbest: 0.3981483 (17)\ttotal: 6.17s\tremaining: 5m 36s\n",
      "18:\tlearn: 0.3910117\ttest: 0.3921414\tbest: 0.3921414 (18)\ttotal: 6.4s\tremaining: 5m 30s\n",
      "19:\tlearn: 0.3857426\ttest: 0.3869266\tbest: 0.3869266 (19)\ttotal: 6.62s\tremaining: 5m 24s\n",
      "20:\tlearn: 0.3813606\ttest: 0.3828283\tbest: 0.3828283 (20)\ttotal: 6.85s\tremaining: 5m 19s\n",
      "21:\tlearn: 0.3756496\ttest: 0.3773906\tbest: 0.3773906 (21)\ttotal: 7.06s\tremaining: 5m 14s\n",
      "22:\tlearn: 0.3709828\ttest: 0.3728509\tbest: 0.3728509 (22)\ttotal: 7.3s\tremaining: 5m 10s\n",
      "23:\tlearn: 0.3670733\ttest: 0.3695178\tbest: 0.3695178 (23)\ttotal: 7.52s\tremaining: 5m 5s\n",
      "24:\tlearn: 0.3633865\ttest: 0.3660899\tbest: 0.3660899 (24)\ttotal: 7.74s\tremaining: 5m 1s\n",
      "25:\tlearn: 0.3558455\ttest: 0.3589995\tbest: 0.3589995 (25)\ttotal: 7.96s\tremaining: 4m 58s\n",
      "26:\tlearn: 0.3523529\ttest: 0.3556034\tbest: 0.3556034 (26)\ttotal: 8.18s\tremaining: 4m 54s\n",
      "27:\tlearn: 0.3481101\ttest: 0.3514165\tbest: 0.3514165 (27)\ttotal: 8.4s\tremaining: 4m 51s\n",
      "28:\tlearn: 0.3444879\ttest: 0.3474590\tbest: 0.3474590 (28)\ttotal: 8.65s\tremaining: 4m 49s\n",
      "29:\tlearn: 0.3410320\ttest: 0.3439861\tbest: 0.3439861 (29)\ttotal: 8.9s\tremaining: 4m 47s\n",
      "30:\tlearn: 0.3362935\ttest: 0.3399182\tbest: 0.3399182 (30)\ttotal: 9.13s\tremaining: 4m 45s\n",
      "31:\tlearn: 0.3334704\ttest: 0.3371352\tbest: 0.3371352 (31)\ttotal: 9.36s\tremaining: 4m 43s\n",
      "32:\tlearn: 0.3299181\ttest: 0.3338656\tbest: 0.3338656 (32)\ttotal: 9.57s\tremaining: 4m 40s\n",
      "33:\tlearn: 0.3265023\ttest: 0.3307258\tbest: 0.3307258 (33)\ttotal: 9.8s\tremaining: 4m 38s\n",
      "34:\tlearn: 0.3233354\ttest: 0.3274580\tbest: 0.3274580 (34)\ttotal: 10s\tremaining: 4m 36s\n",
      "35:\tlearn: 0.3191507\ttest: 0.3232001\tbest: 0.3232001 (35)\ttotal: 10.2s\tremaining: 4m 33s\n",
      "36:\tlearn: 0.3164921\ttest: 0.3206462\tbest: 0.3206462 (36)\ttotal: 10.4s\tremaining: 4m 31s\n",
      "37:\tlearn: 0.3123663\ttest: 0.3166371\tbest: 0.3166371 (37)\ttotal: 10.7s\tremaining: 4m 29s\n",
      "38:\tlearn: 0.3095285\ttest: 0.3139076\tbest: 0.3139076 (38)\ttotal: 10.9s\tremaining: 4m 28s\n",
      "39:\tlearn: 0.3069749\ttest: 0.3116790\tbest: 0.3116790 (39)\ttotal: 11.1s\tremaining: 4m 26s\n",
      "40:\tlearn: 0.3042184\ttest: 0.3089902\tbest: 0.3089902 (40)\ttotal: 11.3s\tremaining: 4m 25s\n",
      "41:\tlearn: 0.3009194\ttest: 0.3055484\tbest: 0.3055484 (41)\ttotal: 11.6s\tremaining: 4m 23s\n",
      "42:\tlearn: 0.2981811\ttest: 0.3029881\tbest: 0.3029881 (42)\ttotal: 11.8s\tremaining: 4m 22s\n",
      "43:\tlearn: 0.2958928\ttest: 0.3007151\tbest: 0.3007151 (43)\ttotal: 12s\tremaining: 4m 21s\n",
      "44:\tlearn: 0.2940639\ttest: 0.2989732\tbest: 0.2989732 (44)\ttotal: 12.3s\tremaining: 4m 20s\n",
      "45:\tlearn: 0.2919957\ttest: 0.2971403\tbest: 0.2971403 (45)\ttotal: 12.5s\tremaining: 4m 18s\n",
      "46:\tlearn: 0.2895149\ttest: 0.2945522\tbest: 0.2945522 (46)\ttotal: 12.7s\tremaining: 4m 17s\n",
      "47:\tlearn: 0.2871977\ttest: 0.2923009\tbest: 0.2923009 (47)\ttotal: 12.9s\tremaining: 4m 15s\n",
      "48:\tlearn: 0.2852181\ttest: 0.2905979\tbest: 0.2905979 (48)\ttotal: 13.1s\tremaining: 4m 14s\n",
      "49:\tlearn: 0.2829285\ttest: 0.2884356\tbest: 0.2884356 (49)\ttotal: 13.4s\tremaining: 4m 13s\n",
      "50:\tlearn: 0.2812447\ttest: 0.2868842\tbest: 0.2868842 (50)\ttotal: 13.6s\tremaining: 4m 12s\n",
      "51:\tlearn: 0.2792195\ttest: 0.2848453\tbest: 0.2848453 (51)\ttotal: 13.8s\tremaining: 4m 11s\n",
      "52:\tlearn: 0.2770156\ttest: 0.2828949\tbest: 0.2828949 (52)\ttotal: 14s\tremaining: 4m 10s\n",
      "53:\tlearn: 0.2748702\ttest: 0.2805361\tbest: 0.2805361 (53)\ttotal: 14.3s\tremaining: 4m 9s\n",
      "54:\tlearn: 0.2721588\ttest: 0.2780247\tbest: 0.2780247 (54)\ttotal: 14.5s\tremaining: 4m 8s\n",
      "55:\tlearn: 0.2705594\ttest: 0.2766718\tbest: 0.2766718 (55)\ttotal: 14.7s\tremaining: 4m 8s\n",
      "56:\tlearn: 0.2688092\ttest: 0.2750205\tbest: 0.2750205 (56)\ttotal: 15.1s\tremaining: 4m 9s\n",
      "57:\tlearn: 0.2669041\ttest: 0.2729892\tbest: 0.2729892 (57)\ttotal: 15.5s\tremaining: 4m 11s\n",
      "58:\tlearn: 0.2649962\ttest: 0.2712512\tbest: 0.2712512 (58)\ttotal: 15.9s\tremaining: 4m 13s\n",
      "59:\tlearn: 0.2628911\ttest: 0.2693119\tbest: 0.2693119 (59)\ttotal: 16.3s\tremaining: 4m 15s\n",
      "60:\tlearn: 0.2611794\ttest: 0.2674680\tbest: 0.2674680 (60)\ttotal: 16.7s\tremaining: 4m 17s\n",
      "61:\tlearn: 0.2585479\ttest: 0.2650476\tbest: 0.2650476 (61)\ttotal: 17s\tremaining: 4m 17s\n",
      "62:\tlearn: 0.2568574\ttest: 0.2634015\tbest: 0.2634015 (62)\ttotal: 17.4s\tremaining: 4m 19s\n",
      "63:\tlearn: 0.2551466\ttest: 0.2617299\tbest: 0.2617299 (63)\ttotal: 17.8s\tremaining: 4m 20s\n",
      "64:\tlearn: 0.2535098\ttest: 0.2601391\tbest: 0.2601391 (64)\ttotal: 18.2s\tremaining: 4m 22s\n",
      "65:\tlearn: 0.2515523\ttest: 0.2580969\tbest: 0.2580969 (65)\ttotal: 18.7s\tremaining: 4m 23s\n",
      "66:\tlearn: 0.2497474\ttest: 0.2562982\tbest: 0.2562982 (66)\ttotal: 19s\tremaining: 4m 25s\n",
      "67:\tlearn: 0.2483606\ttest: 0.2548689\tbest: 0.2548689 (67)\ttotal: 19.3s\tremaining: 4m 23s\n",
      "68:\tlearn: 0.2468983\ttest: 0.2532395\tbest: 0.2532395 (68)\ttotal: 19.5s\tremaining: 4m 23s\n",
      "69:\tlearn: 0.2451396\ttest: 0.2514684\tbest: 0.2514684 (69)\ttotal: 19.7s\tremaining: 4m 22s\n",
      "70:\tlearn: 0.2438176\ttest: 0.2500417\tbest: 0.2500417 (70)\ttotal: 19.9s\tremaining: 4m 20s\n",
      "71:\tlearn: 0.2428344\ttest: 0.2492963\tbest: 0.2492963 (71)\ttotal: 20.2s\tremaining: 4m 19s\n",
      "72:\tlearn: 0.2418236\ttest: 0.2484105\tbest: 0.2484105 (72)\ttotal: 20.4s\tremaining: 4m 18s\n",
      "73:\tlearn: 0.2403845\ttest: 0.2469924\tbest: 0.2469924 (73)\ttotal: 20.6s\tremaining: 4m 17s\n",
      "74:\tlearn: 0.2395282\ttest: 0.2462807\tbest: 0.2462807 (74)\ttotal: 20.8s\tremaining: 4m 16s\n",
      "75:\tlearn: 0.2377562\ttest: 0.2447165\tbest: 0.2447165 (75)\ttotal: 21.1s\tremaining: 4m 16s\n",
      "76:\tlearn: 0.2365126\ttest: 0.2433972\tbest: 0.2433972 (76)\ttotal: 21.3s\tremaining: 4m 15s\n",
      "77:\tlearn: 0.2351527\ttest: 0.2418853\tbest: 0.2418853 (77)\ttotal: 21.5s\tremaining: 4m 14s\n",
      "78:\tlearn: 0.2341674\ttest: 0.2408869\tbest: 0.2408869 (78)\ttotal: 21.7s\tremaining: 4m 13s\n",
      "79:\tlearn: 0.2333593\ttest: 0.2402034\tbest: 0.2402034 (79)\ttotal: 21.9s\tremaining: 4m 12s\n",
      "80:\tlearn: 0.2324997\ttest: 0.2394600\tbest: 0.2394600 (80)\ttotal: 22.1s\tremaining: 4m 11s\n",
      "81:\tlearn: 0.2317156\ttest: 0.2387942\tbest: 0.2387942 (81)\ttotal: 22.4s\tremaining: 4m 10s\n",
      "82:\tlearn: 0.2305811\ttest: 0.2374947\tbest: 0.2374947 (82)\ttotal: 22.6s\tremaining: 4m 9s\n",
      "83:\tlearn: 0.2298247\ttest: 0.2367670\tbest: 0.2367670 (83)\ttotal: 22.8s\tremaining: 4m 8s\n",
      "84:\tlearn: 0.2288521\ttest: 0.2360632\tbest: 0.2360632 (84)\ttotal: 23s\tremaining: 4m 7s\n",
      "85:\tlearn: 0.2280300\ttest: 0.2353093\tbest: 0.2353093 (85)\ttotal: 23.2s\tremaining: 4m 7s\n",
      "86:\tlearn: 0.2271861\ttest: 0.2346041\tbest: 0.2346041 (86)\ttotal: 23.5s\tremaining: 4m 6s\n",
      "87:\tlearn: 0.2260593\ttest: 0.2334905\tbest: 0.2334905 (87)\ttotal: 23.7s\tremaining: 4m 5s\n",
      "88:\tlearn: 0.2250711\ttest: 0.2327134\tbest: 0.2327134 (88)\ttotal: 23.9s\tremaining: 4m 4s\n",
      "89:\tlearn: 0.2238129\ttest: 0.2315153\tbest: 0.2315153 (89)\ttotal: 24.1s\tremaining: 4m 3s\n",
      "90:\tlearn: 0.2227905\ttest: 0.2304094\tbest: 0.2304094 (90)\ttotal: 24.3s\tremaining: 4m 2s\n",
      "91:\tlearn: 0.2219404\ttest: 0.2295880\tbest: 0.2295880 (91)\ttotal: 24.5s\tremaining: 4m 2s\n",
      "92:\tlearn: 0.2207976\ttest: 0.2283722\tbest: 0.2283722 (92)\ttotal: 24.8s\tremaining: 4m 1s\n",
      "93:\tlearn: 0.2190036\ttest: 0.2267717\tbest: 0.2267717 (93)\ttotal: 25s\tremaining: 4m\n",
      "94:\tlearn: 0.2178472\ttest: 0.2255503\tbest: 0.2255503 (94)\ttotal: 25.2s\tremaining: 3m 59s\n",
      "95:\tlearn: 0.2172071\ttest: 0.2250718\tbest: 0.2250718 (95)\ttotal: 25.4s\tremaining: 3m 59s\n",
      "96:\tlearn: 0.2164273\ttest: 0.2244327\tbest: 0.2244327 (96)\ttotal: 25.8s\tremaining: 3m 59s\n",
      "97:\tlearn: 0.2157104\ttest: 0.2237084\tbest: 0.2237084 (97)\ttotal: 26.2s\tremaining: 4m\n",
      "98:\tlearn: 0.2147846\ttest: 0.2227219\tbest: 0.2227219 (98)\ttotal: 26.5s\tremaining: 4m 1s\n",
      "99:\tlearn: 0.2139403\ttest: 0.2218079\tbest: 0.2218079 (99)\ttotal: 26.7s\tremaining: 4m\n",
      "100:\tlearn: 0.2127865\ttest: 0.2207001\tbest: 0.2207001 (100)\ttotal: 26.9s\tremaining: 3m 59s\n",
      "101:\tlearn: 0.2117726\ttest: 0.2199047\tbest: 0.2199047 (101)\ttotal: 27.2s\tremaining: 3m 59s\n",
      "102:\tlearn: 0.2109656\ttest: 0.2190314\tbest: 0.2190314 (102)\ttotal: 27.4s\tremaining: 3m 58s\n",
      "103:\tlearn: 0.2097784\ttest: 0.2179260\tbest: 0.2179260 (103)\ttotal: 27.6s\tremaining: 3m 58s\n",
      "104:\tlearn: 0.2087630\ttest: 0.2170694\tbest: 0.2170694 (104)\ttotal: 27.9s\tremaining: 3m 57s\n",
      "105:\tlearn: 0.2082799\ttest: 0.2166058\tbest: 0.2166058 (105)\ttotal: 28.1s\tremaining: 3m 56s\n",
      "106:\tlearn: 0.2078557\ttest: 0.2161270\tbest: 0.2161270 (106)\ttotal: 28.3s\tremaining: 3m 55s\n",
      "107:\tlearn: 0.2072986\ttest: 0.2157452\tbest: 0.2157452 (107)\ttotal: 28.5s\tremaining: 3m 55s\n",
      "108:\tlearn: 0.2061995\ttest: 0.2145827\tbest: 0.2145827 (108)\ttotal: 28.7s\tremaining: 3m 54s\n",
      "109:\tlearn: 0.2054386\ttest: 0.2137747\tbest: 0.2137747 (109)\ttotal: 28.9s\tremaining: 3m 53s\n",
      "110:\tlearn: 0.2044904\ttest: 0.2129553\tbest: 0.2129553 (110)\ttotal: 29.2s\tremaining: 3m 53s\n",
      "111:\tlearn: 0.2033190\ttest: 0.2117847\tbest: 0.2117847 (111)\ttotal: 29.6s\tremaining: 3m 54s\n",
      "112:\tlearn: 0.2026856\ttest: 0.2112258\tbest: 0.2112258 (112)\ttotal: 30s\tremaining: 3m 55s\n",
      "113:\tlearn: 0.2019306\ttest: 0.2104347\tbest: 0.2104347 (113)\ttotal: 30.3s\tremaining: 3m 55s\n",
      "114:\tlearn: 0.2014066\ttest: 0.2099294\tbest: 0.2099294 (114)\ttotal: 30.7s\tremaining: 3m 56s\n",
      "115:\tlearn: 0.2000965\ttest: 0.2087338\tbest: 0.2087338 (115)\ttotal: 31.2s\tremaining: 3m 57s\n",
      "116:\tlearn: 0.1996075\ttest: 0.2083242\tbest: 0.2083242 (116)\ttotal: 31.5s\tremaining: 3m 58s\n",
      "117:\tlearn: 0.1989241\ttest: 0.2075736\tbest: 0.2075736 (117)\ttotal: 31.9s\tremaining: 3m 58s\n",
      "118:\tlearn: 0.1981570\ttest: 0.2067995\tbest: 0.2067995 (118)\ttotal: 32.3s\tremaining: 3m 59s\n",
      "119:\tlearn: 0.1975674\ttest: 0.2062710\tbest: 0.2062710 (119)\ttotal: 32.7s\tremaining: 3m 59s\n",
      "120:\tlearn: 0.1966658\ttest: 0.2056147\tbest: 0.2056147 (120)\ttotal: 33.2s\tremaining: 4m\n",
      "121:\tlearn: 0.1958109\ttest: 0.2047858\tbest: 0.2047858 (121)\ttotal: 33.4s\tremaining: 4m\n",
      "122:\tlearn: 0.1953523\ttest: 0.2044057\tbest: 0.2044057 (122)\ttotal: 33.6s\tremaining: 3m 59s\n",
      "123:\tlearn: 0.1946518\ttest: 0.2037472\tbest: 0.2037472 (123)\ttotal: 33.8s\tremaining: 3m 59s\n",
      "124:\tlearn: 0.1938114\ttest: 0.2029107\tbest: 0.2029107 (124)\ttotal: 34.1s\tremaining: 3m 58s\n",
      "125:\tlearn: 0.1931794\ttest: 0.2023107\tbest: 0.2023107 (125)\ttotal: 34.3s\tremaining: 3m 57s\n",
      "126:\tlearn: 0.1923670\ttest: 0.2015662\tbest: 0.2015662 (126)\ttotal: 34.5s\tremaining: 3m 57s\n",
      "127:\tlearn: 0.1918688\ttest: 0.2012336\tbest: 0.2012336 (127)\ttotal: 34.7s\tremaining: 3m 56s\n",
      "128:\tlearn: 0.1910654\ttest: 0.2004150\tbest: 0.2004150 (128)\ttotal: 34.9s\tremaining: 3m 55s\n",
      "129:\tlearn: 0.1904298\ttest: 0.1995457\tbest: 0.1995457 (129)\ttotal: 35.2s\tremaining: 3m 55s\n",
      "130:\tlearn: 0.1898757\ttest: 0.1991474\tbest: 0.1991474 (130)\ttotal: 35.4s\tremaining: 3m 54s\n",
      "131:\tlearn: 0.1891397\ttest: 0.1984205\tbest: 0.1984205 (131)\ttotal: 35.6s\tremaining: 3m 53s\n",
      "132:\tlearn: 0.1884096\ttest: 0.1978374\tbest: 0.1978374 (132)\ttotal: 35.8s\tremaining: 3m 53s\n",
      "133:\tlearn: 0.1877353\ttest: 0.1972744\tbest: 0.1972744 (133)\ttotal: 36s\tremaining: 3m 52s\n",
      "134:\tlearn: 0.1870162\ttest: 0.1964400\tbest: 0.1964400 (134)\ttotal: 36.3s\tremaining: 3m 52s\n",
      "135:\tlearn: 0.1864699\ttest: 0.1960634\tbest: 0.1960634 (135)\ttotal: 36.5s\tremaining: 3m 51s\n",
      "136:\tlearn: 0.1858170\ttest: 0.1956067\tbest: 0.1956067 (136)\ttotal: 36.7s\tremaining: 3m 51s\n",
      "137:\tlearn: 0.1850948\ttest: 0.1949397\tbest: 0.1949397 (137)\ttotal: 36.9s\tremaining: 3m 50s\n",
      "138:\tlearn: 0.1845637\ttest: 0.1944659\tbest: 0.1944659 (138)\ttotal: 37.2s\tremaining: 3m 50s\n",
      "139:\tlearn: 0.1839550\ttest: 0.1939101\tbest: 0.1939101 (139)\ttotal: 37.4s\tremaining: 3m 49s\n",
      "140:\tlearn: 0.1833595\ttest: 0.1934430\tbest: 0.1934430 (140)\ttotal: 37.6s\tremaining: 3m 48s\n",
      "141:\tlearn: 0.1824322\ttest: 0.1926509\tbest: 0.1926509 (141)\ttotal: 37.8s\tremaining: 3m 48s\n",
      "142:\tlearn: 0.1819480\ttest: 0.1921842\tbest: 0.1921842 (142)\ttotal: 38s\tremaining: 3m 47s\n",
      "143:\tlearn: 0.1811671\ttest: 0.1915747\tbest: 0.1915747 (143)\ttotal: 38.3s\tremaining: 3m 47s\n",
      "144:\tlearn: 0.1803874\ttest: 0.1908772\tbest: 0.1908772 (144)\ttotal: 38.5s\tremaining: 3m 46s\n",
      "145:\tlearn: 0.1798129\ttest: 0.1903288\tbest: 0.1903288 (145)\ttotal: 38.7s\tremaining: 3m 46s\n",
      "146:\tlearn: 0.1791287\ttest: 0.1896929\tbest: 0.1896929 (146)\ttotal: 38.9s\tremaining: 3m 45s\n",
      "147:\tlearn: 0.1784513\ttest: 0.1889820\tbest: 0.1889820 (147)\ttotal: 39.1s\tremaining: 3m 45s\n",
      "148:\tlearn: 0.1778262\ttest: 0.1885459\tbest: 0.1885459 (148)\ttotal: 39.4s\tremaining: 3m 44s\n",
      "149:\tlearn: 0.1772595\ttest: 0.1878680\tbest: 0.1878680 (149)\ttotal: 39.6s\tremaining: 3m 44s\n",
      "150:\tlearn: 0.1766751\ttest: 0.1873423\tbest: 0.1873423 (150)\ttotal: 39.8s\tremaining: 3m 43s\n",
      "151:\tlearn: 0.1762206\ttest: 0.1869297\tbest: 0.1869297 (151)\ttotal: 40s\tremaining: 3m 43s\n",
      "152:\tlearn: 0.1752928\ttest: 0.1860602\tbest: 0.1860602 (152)\ttotal: 40.2s\tremaining: 3m 42s\n",
      "153:\tlearn: 0.1742730\ttest: 0.1850677\tbest: 0.1850677 (153)\ttotal: 40.4s\tremaining: 3m 42s\n",
      "154:\tlearn: 0.1738515\ttest: 0.1847575\tbest: 0.1847575 (154)\ttotal: 40.7s\tremaining: 3m 41s\n",
      "155:\tlearn: 0.1733382\ttest: 0.1841667\tbest: 0.1841667 (155)\ttotal: 40.9s\tremaining: 3m 41s\n",
      "156:\tlearn: 0.1727547\ttest: 0.1837702\tbest: 0.1837702 (156)\ttotal: 41.1s\tremaining: 3m 40s\n",
      "157:\tlearn: 0.1720801\ttest: 0.1830131\tbest: 0.1830131 (157)\ttotal: 41.3s\tremaining: 3m 40s\n",
      "158:\tlearn: 0.1715779\ttest: 0.1825758\tbest: 0.1825758 (158)\ttotal: 41.6s\tremaining: 3m 39s\n",
      "159:\tlearn: 0.1706667\ttest: 0.1817140\tbest: 0.1817140 (159)\ttotal: 41.8s\tremaining: 3m 39s\n",
      "160:\tlearn: 0.1703664\ttest: 0.1814589\tbest: 0.1814589 (160)\ttotal: 42s\tremaining: 3m 38s\n",
      "161:\tlearn: 0.1696021\ttest: 0.1807723\tbest: 0.1807723 (161)\ttotal: 42.2s\tremaining: 3m 38s\n",
      "162:\tlearn: 0.1690536\ttest: 0.1801705\tbest: 0.1801705 (162)\ttotal: 42.4s\tremaining: 3m 37s\n",
      "163:\tlearn: 0.1685570\ttest: 0.1797667\tbest: 0.1797667 (163)\ttotal: 42.7s\tremaining: 3m 37s\n",
      "164:\tlearn: 0.1680332\ttest: 0.1792970\tbest: 0.1792970 (164)\ttotal: 42.9s\tremaining: 3m 37s\n",
      "165:\tlearn: 0.1674463\ttest: 0.1787833\tbest: 0.1787833 (165)\ttotal: 43.1s\tremaining: 3m 36s\n",
      "166:\tlearn: 0.1666470\ttest: 0.1781159\tbest: 0.1781159 (166)\ttotal: 43.5s\tremaining: 3m 37s\n",
      "167:\tlearn: 0.1658473\ttest: 0.1773837\tbest: 0.1773837 (167)\ttotal: 43.9s\tremaining: 3m 37s\n",
      "168:\tlearn: 0.1653256\ttest: 0.1769460\tbest: 0.1769460 (168)\ttotal: 44.3s\tremaining: 3m 37s\n",
      "169:\tlearn: 0.1649937\ttest: 0.1767183\tbest: 0.1767183 (169)\ttotal: 44.7s\tremaining: 3m 38s\n",
      "170:\tlearn: 0.1645359\ttest: 0.1764337\tbest: 0.1764337 (170)\ttotal: 45.1s\tremaining: 3m 38s\n",
      "171:\tlearn: 0.1644563\ttest: 0.1764124\tbest: 0.1764124 (171)\ttotal: 45.4s\tremaining: 3m 38s\n",
      "172:\tlearn: 0.1639561\ttest: 0.1759531\tbest: 0.1759531 (172)\ttotal: 45.8s\tremaining: 3m 38s\n",
      "173:\tlearn: 0.1633215\ttest: 0.1753506\tbest: 0.1753506 (173)\ttotal: 46.2s\tremaining: 3m 39s\n",
      "174:\tlearn: 0.1629509\ttest: 0.1749584\tbest: 0.1749584 (174)\ttotal: 46.6s\tremaining: 3m 39s\n",
      "175:\tlearn: 0.1628822\ttest: 0.1749383\tbest: 0.1749383 (175)\ttotal: 46.9s\tremaining: 3m 39s\n",
      "176:\tlearn: 0.1623871\ttest: 0.1745047\tbest: 0.1745047 (176)\ttotal: 47.3s\tremaining: 3m 39s\n",
      "177:\tlearn: 0.1617519\ttest: 0.1738524\tbest: 0.1738524 (177)\ttotal: 47.6s\tremaining: 3m 39s\n",
      "178:\tlearn: 0.1613066\ttest: 0.1735996\tbest: 0.1735996 (178)\ttotal: 47.8s\tremaining: 3m 39s\n",
      "179:\tlearn: 0.1608470\ttest: 0.1731951\tbest: 0.1731951 (179)\ttotal: 48.1s\tremaining: 3m 38s\n",
      "180:\tlearn: 0.1605855\ttest: 0.1731119\tbest: 0.1731119 (180)\ttotal: 48.3s\tremaining: 3m 38s\n",
      "181:\tlearn: 0.1603182\ttest: 0.1729317\tbest: 0.1729317 (181)\ttotal: 48.5s\tremaining: 3m 37s\n",
      "182:\tlearn: 0.1597754\ttest: 0.1723727\tbest: 0.1723727 (182)\ttotal: 48.7s\tremaining: 3m 37s\n",
      "183:\tlearn: 0.1591373\ttest: 0.1718557\tbest: 0.1718557 (183)\ttotal: 48.9s\tremaining: 3m 37s\n",
      "184:\tlearn: 0.1585846\ttest: 0.1714220\tbest: 0.1714220 (184)\ttotal: 49.2s\tremaining: 3m 36s\n",
      "185:\tlearn: 0.1576715\ttest: 0.1705380\tbest: 0.1705380 (185)\ttotal: 49.4s\tremaining: 3m 36s\n",
      "186:\tlearn: 0.1572460\ttest: 0.1702644\tbest: 0.1702644 (186)\ttotal: 49.6s\tremaining: 3m 35s\n",
      "187:\tlearn: 0.1567932\ttest: 0.1700307\tbest: 0.1700307 (187)\ttotal: 49.9s\tremaining: 3m 35s\n",
      "188:\tlearn: 0.1567446\ttest: 0.1699838\tbest: 0.1699838 (188)\ttotal: 50s\tremaining: 3m 34s\n",
      "189:\tlearn: 0.1561625\ttest: 0.1695098\tbest: 0.1695098 (189)\ttotal: 50.3s\tremaining: 3m 34s\n",
      "190:\tlearn: 0.1558825\ttest: 0.1693213\tbest: 0.1693213 (190)\ttotal: 50.5s\tremaining: 3m 33s\n",
      "191:\tlearn: 0.1553877\ttest: 0.1688569\tbest: 0.1688569 (191)\ttotal: 50.7s\tremaining: 3m 33s\n",
      "192:\tlearn: 0.1553366\ttest: 0.1688565\tbest: 0.1688565 (192)\ttotal: 50.9s\tremaining: 3m 32s\n",
      "193:\tlearn: 0.1547576\ttest: 0.1683934\tbest: 0.1683934 (193)\ttotal: 51.1s\tremaining: 3m 32s\n",
      "194:\tlearn: 0.1547130\ttest: 0.1683786\tbest: 0.1683786 (194)\ttotal: 51.3s\tremaining: 3m 31s\n",
      "195:\tlearn: 0.1542892\ttest: 0.1679500\tbest: 0.1679500 (195)\ttotal: 51.5s\tremaining: 3m 31s\n",
      "196:\tlearn: 0.1537688\ttest: 0.1674150\tbest: 0.1674150 (196)\ttotal: 51.7s\tremaining: 3m 30s\n",
      "197:\tlearn: 0.1534256\ttest: 0.1671267\tbest: 0.1671267 (197)\ttotal: 51.9s\tremaining: 3m 30s\n",
      "198:\tlearn: 0.1530043\ttest: 0.1666230\tbest: 0.1666230 (198)\ttotal: 52.2s\tremaining: 3m 29s\n",
      "199:\tlearn: 0.1529628\ttest: 0.1665830\tbest: 0.1665830 (199)\ttotal: 52.3s\tremaining: 3m 29s\n",
      "200:\tlearn: 0.1526281\ttest: 0.1663427\tbest: 0.1663427 (200)\ttotal: 52.6s\tremaining: 3m 29s\n",
      "201:\tlearn: 0.1523092\ttest: 0.1661624\tbest: 0.1661624 (201)\ttotal: 52.8s\tremaining: 3m 28s\n",
      "202:\tlearn: 0.1517851\ttest: 0.1656421\tbest: 0.1656421 (202)\ttotal: 53s\tremaining: 3m 28s\n",
      "203:\tlearn: 0.1517397\ttest: 0.1656419\tbest: 0.1656419 (203)\ttotal: 53.2s\tremaining: 3m 27s\n",
      "204:\tlearn: 0.1514097\ttest: 0.1653770\tbest: 0.1653770 (204)\ttotal: 53.5s\tremaining: 3m 27s\n",
      "205:\tlearn: 0.1509186\ttest: 0.1649854\tbest: 0.1649854 (205)\ttotal: 53.7s\tremaining: 3m 26s\n",
      "206:\tlearn: 0.1507452\ttest: 0.1648573\tbest: 0.1648573 (206)\ttotal: 53.9s\tremaining: 3m 26s\n",
      "207:\tlearn: 0.1503021\ttest: 0.1644626\tbest: 0.1644626 (207)\ttotal: 54.1s\tremaining: 3m 26s\n",
      "208:\tlearn: 0.1497937\ttest: 0.1638358\tbest: 0.1638358 (208)\ttotal: 54.3s\tremaining: 3m 25s\n",
      "209:\tlearn: 0.1494137\ttest: 0.1635322\tbest: 0.1635322 (209)\ttotal: 54.6s\tremaining: 3m 25s\n",
      "210:\tlearn: 0.1490096\ttest: 0.1631672\tbest: 0.1631672 (210)\ttotal: 54.8s\tremaining: 3m 25s\n",
      "211:\tlearn: 0.1489470\ttest: 0.1631561\tbest: 0.1631561 (211)\ttotal: 55.2s\tremaining: 3m 25s\n",
      "212:\tlearn: 0.1485566\ttest: 0.1628886\tbest: 0.1628886 (212)\ttotal: 55.6s\tremaining: 3m 25s\n",
      "213:\tlearn: 0.1482210\ttest: 0.1625226\tbest: 0.1625226 (213)\ttotal: 56s\tremaining: 3m 25s\n",
      "214:\tlearn: 0.1477419\ttest: 0.1621283\tbest: 0.1621283 (214)\ttotal: 56.4s\tremaining: 3m 25s\n",
      "215:\tlearn: 0.1473972\ttest: 0.1619427\tbest: 0.1619427 (215)\ttotal: 56.8s\tremaining: 3m 26s\n",
      "216:\tlearn: 0.1468839\ttest: 0.1615888\tbest: 0.1615888 (216)\ttotal: 57.2s\tremaining: 3m 26s\n",
      "217:\tlearn: 0.1464518\ttest: 0.1610747\tbest: 0.1610747 (217)\ttotal: 57.7s\tremaining: 3m 26s\n",
      "218:\tlearn: 0.1459650\ttest: 0.1605838\tbest: 0.1605838 (218)\ttotal: 58.1s\tremaining: 3m 27s\n",
      "219:\tlearn: 0.1456372\ttest: 0.1603877\tbest: 0.1603877 (219)\ttotal: 58.5s\tremaining: 3m 27s\n",
      "220:\tlearn: 0.1451872\ttest: 0.1599261\tbest: 0.1599261 (220)\ttotal: 58.9s\tremaining: 3m 27s\n",
      "221:\tlearn: 0.1448483\ttest: 0.1596922\tbest: 0.1596922 (221)\ttotal: 59.3s\tremaining: 3m 27s\n",
      "222:\tlearn: 0.1447986\ttest: 0.1596696\tbest: 0.1596696 (222)\ttotal: 59.6s\tremaining: 3m 27s\n",
      "223:\tlearn: 0.1444740\ttest: 0.1593353\tbest: 0.1593353 (223)\ttotal: 60s\tremaining: 3m 27s\n",
      "224:\tlearn: 0.1439559\ttest: 0.1588375\tbest: 0.1588375 (224)\ttotal: 1m\tremaining: 3m 27s\n",
      "225:\tlearn: 0.1436145\ttest: 0.1585652\tbest: 0.1585652 (225)\ttotal: 1m\tremaining: 3m 28s\n",
      "226:\tlearn: 0.1435771\ttest: 0.1585650\tbest: 0.1585650 (226)\ttotal: 1m 1s\tremaining: 3m 28s\n",
      "227:\tlearn: 0.1431786\ttest: 0.1582525\tbest: 0.1582525 (227)\ttotal: 1m 1s\tremaining: 3m 28s\n",
      "228:\tlearn: 0.1431435\ttest: 0.1582524\tbest: 0.1582524 (228)\ttotal: 1m 1s\tremaining: 3m 28s\n",
      "229:\tlearn: 0.1428267\ttest: 0.1578714\tbest: 0.1578714 (229)\ttotal: 1m 2s\tremaining: 3m 28s\n",
      "230:\tlearn: 0.1427485\ttest: 0.1578844\tbest: 0.1578714 (229)\ttotal: 1m 2s\tremaining: 3m 28s\n",
      "231:\tlearn: 0.1425260\ttest: 0.1577066\tbest: 0.1577066 (231)\ttotal: 1m 3s\tremaining: 3m 28s\n",
      "232:\tlearn: 0.1423907\ttest: 0.1576504\tbest: 0.1576504 (232)\ttotal: 1m 3s\tremaining: 3m 29s\n",
      "233:\tlearn: 0.1423573\ttest: 0.1576502\tbest: 0.1576502 (233)\ttotal: 1m 3s\tremaining: 3m 29s\n",
      "234:\tlearn: 0.1423237\ttest: 0.1576500\tbest: 0.1576500 (234)\ttotal: 1m 4s\tremaining: 3m 29s\n",
      "235:\tlearn: 0.1419671\ttest: 0.1572718\tbest: 0.1572718 (235)\ttotal: 1m 4s\tremaining: 3m 29s\n",
      "236:\tlearn: 0.1416253\ttest: 0.1570455\tbest: 0.1570455 (236)\ttotal: 1m 5s\tremaining: 3m 29s\n",
      "237:\tlearn: 0.1411410\ttest: 0.1565950\tbest: 0.1565950 (237)\ttotal: 1m 5s\tremaining: 3m 29s\n",
      "238:\tlearn: 0.1411090\ttest: 0.1565708\tbest: 0.1565708 (238)\ttotal: 1m 5s\tremaining: 3m 29s\n",
      "239:\tlearn: 0.1407503\ttest: 0.1562080\tbest: 0.1562080 (239)\ttotal: 1m 6s\tremaining: 3m 29s\n",
      "240:\tlearn: 0.1403416\ttest: 0.1558754\tbest: 0.1558754 (240)\ttotal: 1m 6s\tremaining: 3m 30s\n",
      "241:\tlearn: 0.1402008\ttest: 0.1557207\tbest: 0.1557207 (241)\ttotal: 1m 7s\tremaining: 3m 30s\n",
      "242:\tlearn: 0.1398927\ttest: 0.1554668\tbest: 0.1554668 (242)\ttotal: 1m 7s\tremaining: 3m 29s\n",
      "243:\tlearn: 0.1394813\ttest: 0.1551293\tbest: 0.1551293 (243)\ttotal: 1m 7s\tremaining: 3m 29s\n",
      "244:\tlearn: 0.1390355\ttest: 0.1546858\tbest: 0.1546858 (244)\ttotal: 1m 7s\tremaining: 3m 28s\n",
      "245:\tlearn: 0.1390036\ttest: 0.1546587\tbest: 0.1546587 (245)\ttotal: 1m 7s\tremaining: 3m 28s\n",
      "246:\tlearn: 0.1386952\ttest: 0.1544121\tbest: 0.1544121 (246)\ttotal: 1m 8s\tremaining: 3m 27s\n",
      "247:\tlearn: 0.1384887\ttest: 0.1542567\tbest: 0.1542567 (247)\ttotal: 1m 8s\tremaining: 3m 27s\n",
      "248:\tlearn: 0.1381459\ttest: 0.1539301\tbest: 0.1539301 (248)\ttotal: 1m 8s\tremaining: 3m 26s\n",
      "249:\tlearn: 0.1378702\ttest: 0.1536491\tbest: 0.1536491 (249)\ttotal: 1m 8s\tremaining: 3m 26s\n",
      "250:\tlearn: 0.1378382\ttest: 0.1536165\tbest: 0.1536165 (250)\ttotal: 1m 8s\tremaining: 3m 25s\n",
      "251:\tlearn: 0.1377852\ttest: 0.1535768\tbest: 0.1535768 (251)\ttotal: 1m 9s\tremaining: 3m 25s\n",
      "252:\tlearn: 0.1377561\ttest: 0.1535534\tbest: 0.1535534 (252)\ttotal: 1m 9s\tremaining: 3m 24s\n",
      "253:\tlearn: 0.1374521\ttest: 0.1533098\tbest: 0.1533098 (253)\ttotal: 1m 9s\tremaining: 3m 24s\n",
      "254:\tlearn: 0.1372211\ttest: 0.1531300\tbest: 0.1531300 (254)\ttotal: 1m 9s\tremaining: 3m 23s\n",
      "255:\tlearn: 0.1369483\ttest: 0.1529451\tbest: 0.1529451 (255)\ttotal: 1m 9s\tremaining: 3m 23s\n",
      "256:\tlearn: 0.1368343\ttest: 0.1528776\tbest: 0.1528776 (256)\ttotal: 1m 10s\tremaining: 3m 22s\n",
      "257:\tlearn: 0.1367076\ttest: 0.1528193\tbest: 0.1528193 (257)\ttotal: 1m 10s\tremaining: 3m 22s\n",
      "258:\tlearn: 0.1363684\ttest: 0.1524980\tbest: 0.1524980 (258)\ttotal: 1m 10s\tremaining: 3m 21s\n",
      "259:\tlearn: 0.1363407\ttest: 0.1524754\tbest: 0.1524754 (259)\ttotal: 1m 10s\tremaining: 3m 21s\n",
      "260:\tlearn: 0.1360502\ttest: 0.1521444\tbest: 0.1521444 (260)\ttotal: 1m 10s\tremaining: 3m 20s\n",
      "261:\tlearn: 0.1358638\ttest: 0.1520054\tbest: 0.1520054 (261)\ttotal: 1m 11s\tremaining: 3m 20s\n",
      "262:\tlearn: 0.1355317\ttest: 0.1517361\tbest: 0.1517361 (262)\ttotal: 1m 11s\tremaining: 3m 20s\n",
      "263:\tlearn: 0.1354859\ttest: 0.1517078\tbest: 0.1517078 (263)\ttotal: 1m 11s\tremaining: 3m 19s\n",
      "264:\tlearn: 0.1350610\ttest: 0.1513509\tbest: 0.1513509 (264)\ttotal: 1m 11s\tremaining: 3m 19s\n",
      "265:\tlearn: 0.1347858\ttest: 0.1511233\tbest: 0.1511233 (265)\ttotal: 1m 12s\tremaining: 3m 18s\n",
      "266:\tlearn: 0.1347577\ttest: 0.1511232\tbest: 0.1511232 (266)\ttotal: 1m 12s\tremaining: 3m 18s\n",
      "267:\tlearn: 0.1345257\ttest: 0.1509660\tbest: 0.1509660 (267)\ttotal: 1m 12s\tremaining: 3m 17s\n",
      "268:\tlearn: 0.1340722\ttest: 0.1505976\tbest: 0.1505976 (268)\ttotal: 1m 12s\tremaining: 3m 17s\n",
      "269:\tlearn: 0.1340384\ttest: 0.1505971\tbest: 0.1505971 (269)\ttotal: 1m 12s\tremaining: 3m 17s\n",
      "270:\tlearn: 0.1335704\ttest: 0.1501915\tbest: 0.1501915 (270)\ttotal: 1m 13s\tremaining: 3m 16s\n",
      "271:\tlearn: 0.1335430\ttest: 0.1501700\tbest: 0.1501700 (271)\ttotal: 1m 13s\tremaining: 3m 16s\n",
      "272:\tlearn: 0.1335162\ttest: 0.1501569\tbest: 0.1501569 (272)\ttotal: 1m 13s\tremaining: 3m 15s\n",
      "273:\tlearn: 0.1333367\ttest: 0.1500513\tbest: 0.1500513 (273)\ttotal: 1m 13s\tremaining: 3m 15s\n",
      "274:\tlearn: 0.1330562\ttest: 0.1497623\tbest: 0.1497623 (274)\ttotal: 1m 13s\tremaining: 3m 14s\n",
      "275:\tlearn: 0.1330308\ttest: 0.1497433\tbest: 0.1497433 (275)\ttotal: 1m 14s\tremaining: 3m 14s\n",
      "276:\tlearn: 0.1327428\ttest: 0.1495232\tbest: 0.1495232 (276)\ttotal: 1m 14s\tremaining: 3m 14s\n",
      "277:\tlearn: 0.1324950\ttest: 0.1494240\tbest: 0.1494240 (277)\ttotal: 1m 14s\tremaining: 3m 13s\n",
      "278:\tlearn: 0.1324695\ttest: 0.1493877\tbest: 0.1493877 (278)\ttotal: 1m 14s\tremaining: 3m 13s\n",
      "279:\tlearn: 0.1320446\ttest: 0.1488838\tbest: 0.1488838 (279)\ttotal: 1m 14s\tremaining: 3m 12s\n",
      "280:\tlearn: 0.1315856\ttest: 0.1485408\tbest: 0.1485408 (280)\ttotal: 1m 15s\tremaining: 3m 12s\n",
      "281:\tlearn: 0.1314224\ttest: 0.1484494\tbest: 0.1484494 (281)\ttotal: 1m 15s\tremaining: 3m 12s\n",
      "282:\tlearn: 0.1311838\ttest: 0.1482046\tbest: 0.1482046 (282)\ttotal: 1m 15s\tremaining: 3m 11s\n",
      "283:\tlearn: 0.1307456\ttest: 0.1477961\tbest: 0.1477961 (283)\ttotal: 1m 15s\tremaining: 3m 11s\n",
      "284:\tlearn: 0.1305248\ttest: 0.1475996\tbest: 0.1475996 (284)\ttotal: 1m 16s\tremaining: 3m 10s\n",
      "285:\tlearn: 0.1302255\ttest: 0.1473390\tbest: 0.1473390 (285)\ttotal: 1m 16s\tremaining: 3m 10s\n",
      "286:\tlearn: 0.1301590\ttest: 0.1473396\tbest: 0.1473390 (285)\ttotal: 1m 16s\tremaining: 3m 10s\n",
      "287:\tlearn: 0.1298106\ttest: 0.1469881\tbest: 0.1469881 (287)\ttotal: 1m 16s\tremaining: 3m 10s\n",
      "288:\tlearn: 0.1295559\ttest: 0.1467944\tbest: 0.1467944 (288)\ttotal: 1m 17s\tremaining: 3m 10s\n",
      "289:\tlearn: 0.1292956\ttest: 0.1466218\tbest: 0.1466218 (289)\ttotal: 1m 17s\tremaining: 3m 10s\n",
      "290:\tlearn: 0.1288076\ttest: 0.1461510\tbest: 0.1461510 (290)\ttotal: 1m 18s\tremaining: 3m 10s\n",
      "291:\tlearn: 0.1284802\ttest: 0.1459389\tbest: 0.1459389 (291)\ttotal: 1m 18s\tremaining: 3m 10s\n",
      "292:\tlearn: 0.1284551\ttest: 0.1459371\tbest: 0.1459371 (292)\ttotal: 1m 18s\tremaining: 3m 10s\n",
      "293:\tlearn: 0.1283624\ttest: 0.1458919\tbest: 0.1458919 (293)\ttotal: 1m 19s\tremaining: 3m 10s\n",
      "294:\tlearn: 0.1280475\ttest: 0.1456744\tbest: 0.1456744 (294)\ttotal: 1m 19s\tremaining: 3m 10s\n",
      "295:\tlearn: 0.1280248\ttest: 0.1456751\tbest: 0.1456744 (294)\ttotal: 1m 19s\tremaining: 3m 10s\n",
      "296:\tlearn: 0.1279062\ttest: 0.1455729\tbest: 0.1455729 (296)\ttotal: 1m 20s\tremaining: 3m 10s\n",
      "297:\tlearn: 0.1276389\ttest: 0.1453779\tbest: 0.1453779 (297)\ttotal: 1m 20s\tremaining: 3m 10s\n",
      "298:\tlearn: 0.1275922\ttest: 0.1453835\tbest: 0.1453779 (297)\ttotal: 1m 20s\tremaining: 3m 9s\n",
      "299:\tlearn: 0.1273734\ttest: 0.1452021\tbest: 0.1452021 (299)\ttotal: 1m 21s\tremaining: 3m 9s\n",
      "300:\tlearn: 0.1271331\ttest: 0.1449737\tbest: 0.1449737 (300)\ttotal: 1m 21s\tremaining: 3m 8s\n",
      "301:\tlearn: 0.1271092\ttest: 0.1449566\tbest: 0.1449566 (301)\ttotal: 1m 21s\tremaining: 3m 8s\n",
      "302:\tlearn: 0.1269465\ttest: 0.1448784\tbest: 0.1448784 (302)\ttotal: 1m 21s\tremaining: 3m 7s\n",
      "303:\tlearn: 0.1267561\ttest: 0.1447067\tbest: 0.1447067 (303)\ttotal: 1m 21s\tremaining: 3m 7s\n",
      "304:\tlearn: 0.1264814\ttest: 0.1445692\tbest: 0.1445692 (304)\ttotal: 1m 22s\tremaining: 3m 7s\n",
      "305:\tlearn: 0.1264376\ttest: 0.1445677\tbest: 0.1445677 (305)\ttotal: 1m 22s\tremaining: 3m 6s\n",
      "306:\tlearn: 0.1262584\ttest: 0.1444327\tbest: 0.1444327 (306)\ttotal: 1m 22s\tremaining: 3m 6s\n",
      "307:\tlearn: 0.1262317\ttest: 0.1444173\tbest: 0.1444173 (307)\ttotal: 1m 22s\tremaining: 3m 5s\n",
      "308:\tlearn: 0.1260478\ttest: 0.1442399\tbest: 0.1442399 (308)\ttotal: 1m 22s\tremaining: 3m 5s\n",
      "309:\tlearn: 0.1256037\ttest: 0.1439151\tbest: 0.1439151 (309)\ttotal: 1m 23s\tremaining: 3m 5s\n",
      "310:\tlearn: 0.1254199\ttest: 0.1437719\tbest: 0.1437719 (310)\ttotal: 1m 23s\tremaining: 3m 4s\n",
      "311:\tlearn: 0.1251827\ttest: 0.1435979\tbest: 0.1435979 (311)\ttotal: 1m 23s\tremaining: 3m 4s\n",
      "312:\tlearn: 0.1249666\ttest: 0.1433401\tbest: 0.1433401 (312)\ttotal: 1m 23s\tremaining: 3m 3s\n",
      "313:\tlearn: 0.1247278\ttest: 0.1431928\tbest: 0.1431928 (313)\ttotal: 1m 24s\tremaining: 3m 3s\n",
      "314:\tlearn: 0.1245353\ttest: 0.1430301\tbest: 0.1430301 (314)\ttotal: 1m 24s\tremaining: 3m 3s\n",
      "315:\tlearn: 0.1242625\ttest: 0.1428082\tbest: 0.1428082 (315)\ttotal: 1m 24s\tremaining: 3m 2s\n",
      "316:\tlearn: 0.1242248\ttest: 0.1427934\tbest: 0.1427934 (316)\ttotal: 1m 24s\tremaining: 3m 2s\n",
      "317:\tlearn: 0.1238917\ttest: 0.1424869\tbest: 0.1424869 (317)\ttotal: 1m 24s\tremaining: 3m 1s\n",
      "318:\tlearn: 0.1235525\ttest: 0.1422806\tbest: 0.1422806 (318)\ttotal: 1m 25s\tremaining: 3m 1s\n",
      "319:\tlearn: 0.1234380\ttest: 0.1422036\tbest: 0.1422036 (319)\ttotal: 1m 25s\tremaining: 3m 1s\n",
      "320:\tlearn: 0.1234150\ttest: 0.1422032\tbest: 0.1422032 (320)\ttotal: 1m 25s\tremaining: 3m\n",
      "321:\tlearn: 0.1229919\ttest: 0.1417218\tbest: 0.1417218 (321)\ttotal: 1m 25s\tremaining: 3m\n",
      "322:\tlearn: 0.1227673\ttest: 0.1415244\tbest: 0.1415244 (322)\ttotal: 1m 25s\tremaining: 3m\n",
      "323:\tlearn: 0.1227097\ttest: 0.1414973\tbest: 0.1414973 (323)\ttotal: 1m 26s\tremaining: 2m 59s\n",
      "324:\tlearn: 0.1224835\ttest: 0.1412776\tbest: 0.1412776 (324)\ttotal: 1m 26s\tremaining: 2m 59s\n",
      "325:\tlearn: 0.1221981\ttest: 0.1410603\tbest: 0.1410603 (325)\ttotal: 1m 26s\tremaining: 2m 59s\n",
      "326:\tlearn: 0.1221760\ttest: 0.1410457\tbest: 0.1410457 (326)\ttotal: 1m 26s\tremaining: 2m 58s\n",
      "327:\tlearn: 0.1220727\ttest: 0.1409556\tbest: 0.1409556 (327)\ttotal: 1m 26s\tremaining: 2m 58s\n",
      "328:\tlearn: 0.1219683\ttest: 0.1409147\tbest: 0.1409147 (328)\ttotal: 1m 27s\tremaining: 2m 57s\n",
      "329:\tlearn: 0.1218360\ttest: 0.1408825\tbest: 0.1408825 (329)\ttotal: 1m 27s\tremaining: 2m 57s\n",
      "330:\tlearn: 0.1217987\ttest: 0.1408690\tbest: 0.1408690 (330)\ttotal: 1m 27s\tremaining: 2m 57s\n",
      "331:\tlearn: 0.1215739\ttest: 0.1407421\tbest: 0.1407421 (331)\ttotal: 1m 27s\tremaining: 2m 56s\n",
      "332:\tlearn: 0.1212467\ttest: 0.1404361\tbest: 0.1404361 (332)\ttotal: 1m 28s\tremaining: 2m 56s\n",
      "333:\tlearn: 0.1209208\ttest: 0.1401448\tbest: 0.1401448 (333)\ttotal: 1m 28s\tremaining: 2m 56s\n",
      "334:\tlearn: 0.1208987\ttest: 0.1401279\tbest: 0.1401279 (334)\ttotal: 1m 28s\tremaining: 2m 55s\n",
      "335:\tlearn: 0.1207161\ttest: 0.1400693\tbest: 0.1400693 (335)\ttotal: 1m 28s\tremaining: 2m 55s\n",
      "336:\tlearn: 0.1206948\ttest: 0.1400691\tbest: 0.1400691 (336)\ttotal: 1m 28s\tremaining: 2m 54s\n",
      "337:\tlearn: 0.1204257\ttest: 0.1397960\tbest: 0.1397960 (337)\ttotal: 1m 29s\tremaining: 2m 54s\n",
      "338:\tlearn: 0.1202207\ttest: 0.1395141\tbest: 0.1395141 (338)\ttotal: 1m 29s\tremaining: 2m 54s\n",
      "339:\tlearn: 0.1201392\ttest: 0.1395069\tbest: 0.1395069 (339)\ttotal: 1m 29s\tremaining: 2m 53s\n",
      "340:\tlearn: 0.1199602\ttest: 0.1394236\tbest: 0.1394236 (340)\ttotal: 1m 29s\tremaining: 2m 53s\n",
      "341:\tlearn: 0.1199266\ttest: 0.1394199\tbest: 0.1394199 (341)\ttotal: 1m 29s\tremaining: 2m 52s\n",
      "342:\tlearn: 0.1199046\ttest: 0.1393919\tbest: 0.1393919 (342)\ttotal: 1m 30s\tremaining: 2m 52s\n",
      "343:\tlearn: 0.1195330\ttest: 0.1389663\tbest: 0.1389663 (343)\ttotal: 1m 30s\tremaining: 2m 52s\n",
      "344:\tlearn: 0.1193735\ttest: 0.1388400\tbest: 0.1388400 (344)\ttotal: 1m 30s\tremaining: 2m 51s\n",
      "345:\tlearn: 0.1193500\ttest: 0.1388393\tbest: 0.1388393 (345)\ttotal: 1m 30s\tremaining: 2m 51s\n",
      "346:\tlearn: 0.1190486\ttest: 0.1385395\tbest: 0.1385395 (346)\ttotal: 1m 31s\tremaining: 2m 51s\n",
      "347:\tlearn: 0.1188153\ttest: 0.1383459\tbest: 0.1383459 (347)\ttotal: 1m 31s\tremaining: 2m 51s\n",
      "348:\tlearn: 0.1185533\ttest: 0.1381414\tbest: 0.1381414 (348)\ttotal: 1m 32s\tremaining: 2m 51s\n",
      "349:\tlearn: 0.1183843\ttest: 0.1379051\tbest: 0.1379051 (349)\ttotal: 1m 32s\tremaining: 2m 51s\n",
      "350:\tlearn: 0.1181417\ttest: 0.1376931\tbest: 0.1376931 (350)\ttotal: 1m 32s\tremaining: 2m 51s\n",
      "351:\tlearn: 0.1179461\ttest: 0.1375773\tbest: 0.1375773 (351)\ttotal: 1m 33s\tremaining: 2m 51s\n",
      "352:\tlearn: 0.1176903\ttest: 0.1373391\tbest: 0.1373391 (352)\ttotal: 1m 33s\tremaining: 2m 51s\n",
      "353:\tlearn: 0.1175458\ttest: 0.1371798\tbest: 0.1371798 (353)\ttotal: 1m 34s\tremaining: 2m 51s\n",
      "354:\tlearn: 0.1174175\ttest: 0.1370865\tbest: 0.1370865 (354)\ttotal: 1m 34s\tremaining: 2m 51s\n",
      "355:\tlearn: 0.1172484\ttest: 0.1369459\tbest: 0.1369459 (355)\ttotal: 1m 34s\tremaining: 2m 51s\n",
      "356:\tlearn: 0.1172161\ttest: 0.1369325\tbest: 0.1369325 (356)\ttotal: 1m 34s\tremaining: 2m 51s\n",
      "357:\tlearn: 0.1171061\ttest: 0.1368136\tbest: 0.1368136 (357)\ttotal: 1m 35s\tremaining: 2m 50s\n",
      "358:\tlearn: 0.1169611\ttest: 0.1367467\tbest: 0.1367467 (358)\ttotal: 1m 35s\tremaining: 2m 50s\n",
      "359:\tlearn: 0.1167231\ttest: 0.1365329\tbest: 0.1365329 (359)\ttotal: 1m 35s\tremaining: 2m 50s\n",
      "360:\tlearn: 0.1166874\ttest: 0.1365086\tbest: 0.1365086 (360)\ttotal: 1m 35s\tremaining: 2m 49s\n",
      "361:\tlearn: 0.1165358\ttest: 0.1364087\tbest: 0.1364087 (361)\ttotal: 1m 36s\tremaining: 2m 49s\n",
      "362:\tlearn: 0.1165158\ttest: 0.1363953\tbest: 0.1363953 (362)\ttotal: 1m 36s\tremaining: 2m 48s\n",
      "363:\tlearn: 0.1162938\ttest: 0.1362169\tbest: 0.1362169 (363)\ttotal: 1m 36s\tremaining: 2m 48s\n",
      "364:\tlearn: 0.1162188\ttest: 0.1362004\tbest: 0.1362004 (364)\ttotal: 1m 36s\tremaining: 2m 48s\n",
      "365:\tlearn: 0.1161930\ttest: 0.1362021\tbest: 0.1362004 (364)\ttotal: 1m 36s\tremaining: 2m 47s\n",
      "366:\tlearn: 0.1157557\ttest: 0.1357951\tbest: 0.1357951 (366)\ttotal: 1m 37s\tremaining: 2m 47s\n",
      "367:\tlearn: 0.1157366\ttest: 0.1357855\tbest: 0.1357855 (367)\ttotal: 1m 37s\tremaining: 2m 47s\n",
      "368:\tlearn: 0.1155576\ttest: 0.1355754\tbest: 0.1355754 (368)\ttotal: 1m 37s\tremaining: 2m 46s\n",
      "369:\tlearn: 0.1154081\ttest: 0.1354641\tbest: 0.1354641 (369)\ttotal: 1m 37s\tremaining: 2m 46s\n",
      "370:\tlearn: 0.1152951\ttest: 0.1353846\tbest: 0.1353846 (370)\ttotal: 1m 37s\tremaining: 2m 45s\n",
      "371:\tlearn: 0.1152645\ttest: 0.1353834\tbest: 0.1353834 (371)\ttotal: 1m 38s\tremaining: 2m 45s\n",
      "372:\tlearn: 0.1150710\ttest: 0.1352500\tbest: 0.1352500 (372)\ttotal: 1m 38s\tremaining: 2m 45s\n",
      "373:\tlearn: 0.1148804\ttest: 0.1350977\tbest: 0.1350977 (373)\ttotal: 1m 38s\tremaining: 2m 44s\n",
      "374:\tlearn: 0.1148617\ttest: 0.1350975\tbest: 0.1350975 (374)\ttotal: 1m 38s\tremaining: 2m 44s\n",
      "375:\tlearn: 0.1147058\ttest: 0.1349339\tbest: 0.1349339 (375)\ttotal: 1m 38s\tremaining: 2m 44s\n",
      "376:\tlearn: 0.1146717\ttest: 0.1349291\tbest: 0.1349291 (376)\ttotal: 1m 39s\tremaining: 2m 43s\n",
      "377:\tlearn: 0.1145015\ttest: 0.1347908\tbest: 0.1347908 (377)\ttotal: 1m 39s\tremaining: 2m 43s\n",
      "378:\tlearn: 0.1143124\ttest: 0.1346487\tbest: 0.1346487 (378)\ttotal: 1m 39s\tremaining: 2m 43s\n",
      "379:\tlearn: 0.1142139\ttest: 0.1345339\tbest: 0.1345339 (379)\ttotal: 1m 39s\tremaining: 2m 42s\n",
      "380:\tlearn: 0.1141954\ttest: 0.1345218\tbest: 0.1345218 (380)\ttotal: 1m 39s\tremaining: 2m 42s\n",
      "381:\tlearn: 0.1139576\ttest: 0.1342477\tbest: 0.1342477 (381)\ttotal: 1m 40s\tremaining: 2m 42s\n",
      "382:\tlearn: 0.1138540\ttest: 0.1342357\tbest: 0.1342357 (382)\ttotal: 1m 40s\tremaining: 2m 41s\n",
      "383:\tlearn: 0.1135947\ttest: 0.1340279\tbest: 0.1340279 (383)\ttotal: 1m 40s\tremaining: 2m 41s\n",
      "384:\tlearn: 0.1135674\ttest: 0.1340277\tbest: 0.1340277 (384)\ttotal: 1m 40s\tremaining: 2m 41s\n",
      "385:\tlearn: 0.1135490\ttest: 0.1340277\tbest: 0.1340277 (384)\ttotal: 1m 40s\tremaining: 2m 40s\n",
      "386:\tlearn: 0.1135147\ttest: 0.1340152\tbest: 0.1340152 (386)\ttotal: 1m 41s\tremaining: 2m 40s\n",
      "387:\tlearn: 0.1131852\ttest: 0.1336801\tbest: 0.1336801 (387)\ttotal: 1m 41s\tremaining: 2m 39s\n",
      "388:\tlearn: 0.1131573\ttest: 0.1336911\tbest: 0.1336801 (387)\ttotal: 1m 41s\tremaining: 2m 39s\n",
      "389:\tlearn: 0.1128925\ttest: 0.1333713\tbest: 0.1333713 (389)\ttotal: 1m 41s\tremaining: 2m 39s\n",
      "390:\tlearn: 0.1128742\ttest: 0.1333481\tbest: 0.1333481 (390)\ttotal: 1m 42s\tremaining: 2m 38s\n",
      "391:\tlearn: 0.1128563\ttest: 0.1333479\tbest: 0.1333479 (391)\ttotal: 1m 42s\tremaining: 2m 38s\n",
      "392:\tlearn: 0.1128388\ttest: 0.1333276\tbest: 0.1333276 (392)\ttotal: 1m 42s\tremaining: 2m 38s\n",
      "393:\tlearn: 0.1128099\ttest: 0.1332901\tbest: 0.1332901 (393)\ttotal: 1m 42s\tremaining: 2m 37s\n",
      "394:\tlearn: 0.1127830\ttest: 0.1332777\tbest: 0.1332777 (394)\ttotal: 1m 42s\tremaining: 2m 37s\n",
      "395:\tlearn: 0.1125817\ttest: 0.1330694\tbest: 0.1330694 (395)\ttotal: 1m 42s\tremaining: 2m 37s\n",
      "396:\tlearn: 0.1125150\ttest: 0.1330777\tbest: 0.1330694 (395)\ttotal: 1m 43s\tremaining: 2m 36s\n",
      "397:\tlearn: 0.1122137\ttest: 0.1327962\tbest: 0.1327962 (397)\ttotal: 1m 43s\tremaining: 2m 36s\n",
      "398:\tlearn: 0.1121953\ttest: 0.1327797\tbest: 0.1327797 (398)\ttotal: 1m 43s\tremaining: 2m 36s\n",
      "399:\tlearn: 0.1119691\ttest: 0.1326711\tbest: 0.1326711 (399)\ttotal: 1m 43s\tremaining: 2m 35s\n",
      "400:\tlearn: 0.1119393\ttest: 0.1326585\tbest: 0.1326585 (400)\ttotal: 1m 44s\tremaining: 2m 35s\n",
      "401:\tlearn: 0.1119225\ttest: 0.1326583\tbest: 0.1326583 (401)\ttotal: 1m 44s\tremaining: 2m 35s\n",
      "402:\tlearn: 0.1116970\ttest: 0.1324695\tbest: 0.1324695 (402)\ttotal: 1m 44s\tremaining: 2m 34s\n",
      "403:\tlearn: 0.1116803\ttest: 0.1324493\tbest: 0.1324493 (403)\ttotal: 1m 44s\tremaining: 2m 34s\n",
      "404:\tlearn: 0.1115956\ttest: 0.1323669\tbest: 0.1323669 (404)\ttotal: 1m 44s\tremaining: 2m 34s\n",
      "405:\tlearn: 0.1115791\ttest: 0.1323668\tbest: 0.1323668 (405)\ttotal: 1m 45s\tremaining: 2m 33s\n",
      "406:\tlearn: 0.1115624\ttest: 0.1323728\tbest: 0.1323668 (405)\ttotal: 1m 45s\tremaining: 2m 33s\n",
      "407:\tlearn: 0.1113998\ttest: 0.1322703\tbest: 0.1322703 (407)\ttotal: 1m 45s\tremaining: 2m 33s\n",
      "408:\tlearn: 0.1112714\ttest: 0.1321978\tbest: 0.1321978 (408)\ttotal: 1m 46s\tremaining: 2m 33s\n",
      "409:\tlearn: 0.1111488\ttest: 0.1321736\tbest: 0.1321736 (409)\ttotal: 1m 46s\tremaining: 2m 33s\n",
      "410:\tlearn: 0.1111322\ttest: 0.1321808\tbest: 0.1321736 (409)\ttotal: 1m 47s\tremaining: 2m 33s\n",
      "411:\tlearn: 0.1110673\ttest: 0.1321194\tbest: 0.1321194 (411)\ttotal: 1m 47s\tremaining: 2m 33s\n",
      "412:\tlearn: 0.1108734\ttest: 0.1319511\tbest: 0.1319511 (412)\ttotal: 1m 47s\tremaining: 2m 33s\n",
      "413:\tlearn: 0.1108581\ttest: 0.1319397\tbest: 0.1319397 (413)\ttotal: 1m 48s\tremaining: 2m 33s\n",
      "414:\tlearn: 0.1106165\ttest: 0.1317692\tbest: 0.1317692 (414)\ttotal: 1m 48s\tremaining: 2m 33s\n",
      "415:\tlearn: 0.1105999\ttest: 0.1317532\tbest: 0.1317532 (415)\ttotal: 1m 48s\tremaining: 2m 32s\n",
      "416:\tlearn: 0.1105849\ttest: 0.1317534\tbest: 0.1317532 (415)\ttotal: 1m 49s\tremaining: 2m 32s\n",
      "417:\tlearn: 0.1104131\ttest: 0.1315395\tbest: 0.1315395 (417)\ttotal: 1m 49s\tremaining: 2m 32s\n",
      "418:\tlearn: 0.1102767\ttest: 0.1314977\tbest: 0.1314977 (418)\ttotal: 1m 49s\tremaining: 2m 32s\n",
      "419:\tlearn: 0.1099666\ttest: 0.1312470\tbest: 0.1312470 (419)\ttotal: 1m 49s\tremaining: 2m 31s\n",
      "420:\tlearn: 0.1098332\ttest: 0.1311641\tbest: 0.1311641 (420)\ttotal: 1m 50s\tremaining: 2m 31s\n",
      "421:\tlearn: 0.1096826\ttest: 0.1310491\tbest: 0.1310491 (421)\ttotal: 1m 50s\tremaining: 2m 31s\n",
      "422:\tlearn: 0.1096674\ttest: 0.1310506\tbest: 0.1310491 (421)\ttotal: 1m 50s\tremaining: 2m 30s\n",
      "423:\tlearn: 0.1094947\ttest: 0.1309194\tbest: 0.1309194 (423)\ttotal: 1m 50s\tremaining: 2m 30s\n",
      "424:\tlearn: 0.1094091\ttest: 0.1308103\tbest: 0.1308103 (424)\ttotal: 1m 50s\tremaining: 2m 30s\n",
      "425:\tlearn: 0.1093133\ttest: 0.1307639\tbest: 0.1307639 (425)\ttotal: 1m 51s\tremaining: 2m 29s\n",
      "426:\tlearn: 0.1092741\ttest: 0.1307129\tbest: 0.1307129 (426)\ttotal: 1m 51s\tremaining: 2m 29s\n",
      "427:\tlearn: 0.1092169\ttest: 0.1306676\tbest: 0.1306676 (427)\ttotal: 1m 51s\tremaining: 2m 28s\n",
      "428:\tlearn: 0.1090115\ttest: 0.1305196\tbest: 0.1305196 (428)\ttotal: 1m 51s\tremaining: 2m 28s\n",
      "429:\tlearn: 0.1089039\ttest: 0.1304270\tbest: 0.1304270 (429)\ttotal: 1m 51s\tremaining: 2m 28s\n",
      "430:\tlearn: 0.1088098\ttest: 0.1303522\tbest: 0.1303522 (430)\ttotal: 1m 52s\tremaining: 2m 27s\n",
      "431:\tlearn: 0.1087732\ttest: 0.1303376\tbest: 0.1303376 (431)\ttotal: 1m 52s\tremaining: 2m 27s\n",
      "432:\tlearn: 0.1086655\ttest: 0.1302918\tbest: 0.1302918 (432)\ttotal: 1m 52s\tremaining: 2m 27s\n",
      "433:\tlearn: 0.1084625\ttest: 0.1301648\tbest: 0.1301648 (433)\ttotal: 1m 52s\tremaining: 2m 26s\n",
      "434:\tlearn: 0.1082185\ttest: 0.1299287\tbest: 0.1299287 (434)\ttotal: 1m 52s\tremaining: 2m 26s\n",
      "435:\tlearn: 0.1082039\ttest: 0.1299293\tbest: 0.1299287 (434)\ttotal: 1m 53s\tremaining: 2m 26s\n",
      "436:\tlearn: 0.1080171\ttest: 0.1298377\tbest: 0.1298377 (436)\ttotal: 1m 53s\tremaining: 2m 26s\n",
      "437:\tlearn: 0.1080010\ttest: 0.1298021\tbest: 0.1298021 (437)\ttotal: 1m 53s\tremaining: 2m 25s\n",
      "438:\tlearn: 0.1079858\ttest: 0.1297941\tbest: 0.1297941 (438)\ttotal: 1m 53s\tremaining: 2m 25s\n",
      "439:\tlearn: 0.1077296\ttest: 0.1294987\tbest: 0.1294987 (439)\ttotal: 1m 53s\tremaining: 2m 25s\n",
      "440:\tlearn: 0.1077051\ttest: 0.1294887\tbest: 0.1294887 (440)\ttotal: 1m 54s\tremaining: 2m 24s\n",
      "441:\tlearn: 0.1073940\ttest: 0.1292114\tbest: 0.1292114 (441)\ttotal: 1m 54s\tremaining: 2m 24s\n",
      "442:\tlearn: 0.1072193\ttest: 0.1290558\tbest: 0.1290558 (442)\ttotal: 1m 54s\tremaining: 2m 24s\n",
      "443:\tlearn: 0.1072029\ttest: 0.1290410\tbest: 0.1290410 (443)\ttotal: 1m 54s\tremaining: 2m 23s\n",
      "444:\tlearn: 0.1071882\ttest: 0.1290333\tbest: 0.1290333 (444)\ttotal: 1m 54s\tremaining: 2m 23s\n",
      "445:\tlearn: 0.1071741\ttest: 0.1290333\tbest: 0.1290333 (445)\ttotal: 1m 55s\tremaining: 2m 23s\n",
      "446:\tlearn: 0.1071584\ttest: 0.1290326\tbest: 0.1290326 (446)\ttotal: 1m 55s\tremaining: 2m 22s\n",
      "447:\tlearn: 0.1070755\ttest: 0.1289524\tbest: 0.1289524 (447)\ttotal: 1m 55s\tremaining: 2m 22s\n",
      "448:\tlearn: 0.1070476\ttest: 0.1289433\tbest: 0.1289433 (448)\ttotal: 1m 55s\tremaining: 2m 22s\n",
      "449:\tlearn: 0.1069779\ttest: 0.1288835\tbest: 0.1288835 (449)\ttotal: 1m 55s\tremaining: 2m 21s\n",
      "450:\tlearn: 0.1069137\ttest: 0.1288517\tbest: 0.1288517 (450)\ttotal: 1m 56s\tremaining: 2m 21s\n",
      "451:\tlearn: 0.1067741\ttest: 0.1288269\tbest: 0.1288269 (451)\ttotal: 1m 56s\tremaining: 2m 21s\n",
      "452:\tlearn: 0.1066658\ttest: 0.1287561\tbest: 0.1287561 (452)\ttotal: 1m 56s\tremaining: 2m 20s\n",
      "453:\tlearn: 0.1065235\ttest: 0.1286235\tbest: 0.1286235 (453)\ttotal: 1m 56s\tremaining: 2m 20s\n",
      "454:\tlearn: 0.1063624\ttest: 0.1285208\tbest: 0.1285208 (454)\ttotal: 1m 57s\tremaining: 2m 20s\n",
      "455:\tlearn: 0.1062240\ttest: 0.1284109\tbest: 0.1284109 (455)\ttotal: 1m 57s\tremaining: 2m 19s\n",
      "456:\tlearn: 0.1061759\ttest: 0.1283923\tbest: 0.1283923 (456)\ttotal: 1m 57s\tremaining: 2m 19s\n",
      "457:\tlearn: 0.1060691\ttest: 0.1283168\tbest: 0.1283168 (457)\ttotal: 1m 57s\tremaining: 2m 19s\n",
      "458:\tlearn: 0.1060550\ttest: 0.1283097\tbest: 0.1283097 (458)\ttotal: 1m 57s\tremaining: 2m 18s\n",
      "459:\tlearn: 0.1058548\ttest: 0.1281493\tbest: 0.1281493 (459)\ttotal: 1m 58s\tremaining: 2m 18s\n",
      "460:\tlearn: 0.1058309\ttest: 0.1281311\tbest: 0.1281311 (460)\ttotal: 1m 58s\tremaining: 2m 18s\n",
      "461:\tlearn: 0.1058071\ttest: 0.1281185\tbest: 0.1281185 (461)\ttotal: 1m 58s\tremaining: 2m 17s\n",
      "462:\tlearn: 0.1056372\ttest: 0.1279423\tbest: 0.1279423 (462)\ttotal: 1m 58s\tremaining: 2m 17s\n",
      "463:\tlearn: 0.1056132\ttest: 0.1279349\tbest: 0.1279349 (463)\ttotal: 1m 58s\tremaining: 2m 17s\n",
      "464:\tlearn: 0.1054825\ttest: 0.1278083\tbest: 0.1278083 (464)\ttotal: 1m 59s\tremaining: 2m 16s\n",
      "465:\tlearn: 0.1052655\ttest: 0.1276841\tbest: 0.1276841 (465)\ttotal: 1m 59s\tremaining: 2m 16s\n",
      "466:\tlearn: 0.1052328\ttest: 0.1276738\tbest: 0.1276738 (466)\ttotal: 1m 59s\tremaining: 2m 16s\n",
      "467:\tlearn: 0.1051334\ttest: 0.1276186\tbest: 0.1276186 (467)\ttotal: 2m\tremaining: 2m 16s\n",
      "468:\tlearn: 0.1049822\ttest: 0.1274494\tbest: 0.1274494 (468)\ttotal: 2m\tremaining: 2m 16s\n",
      "469:\tlearn: 0.1047458\ttest: 0.1272973\tbest: 0.1272973 (469)\ttotal: 2m\tremaining: 2m 16s\n",
      "470:\tlearn: 0.1047311\ttest: 0.1272870\tbest: 0.1272870 (470)\ttotal: 2m 1s\tremaining: 2m 16s\n",
      "471:\tlearn: 0.1047070\ttest: 0.1272855\tbest: 0.1272855 (471)\ttotal: 2m 1s\tremaining: 2m 15s\n",
      "472:\tlearn: 0.1044957\ttest: 0.1271583\tbest: 0.1271583 (472)\ttotal: 2m 1s\tremaining: 2m 15s\n",
      "473:\tlearn: 0.1044817\ttest: 0.1271580\tbest: 0.1271580 (473)\ttotal: 2m 2s\tremaining: 2m 15s\n",
      "474:\tlearn: 0.1043260\ttest: 0.1269857\tbest: 0.1269857 (474)\ttotal: 2m 2s\tremaining: 2m 15s\n",
      "475:\tlearn: 0.1041441\ttest: 0.1268903\tbest: 0.1268903 (475)\ttotal: 2m 3s\tremaining: 2m 15s\n",
      "476:\tlearn: 0.1040303\ttest: 0.1269102\tbest: 0.1268903 (475)\ttotal: 2m 3s\tremaining: 2m 15s\n",
      "477:\tlearn: 0.1038944\ttest: 0.1268044\tbest: 0.1268044 (477)\ttotal: 2m 3s\tremaining: 2m 15s\n",
      "478:\tlearn: 0.1036684\ttest: 0.1266241\tbest: 0.1266241 (478)\ttotal: 2m 3s\tremaining: 2m 14s\n",
      "479:\tlearn: 0.1036518\ttest: 0.1266278\tbest: 0.1266241 (478)\ttotal: 2m 4s\tremaining: 2m 14s\n",
      "480:\tlearn: 0.1033595\ttest: 0.1264663\tbest: 0.1264663 (480)\ttotal: 2m 4s\tremaining: 2m 14s\n",
      "481:\tlearn: 0.1033464\ttest: 0.1264663\tbest: 0.1264663 (480)\ttotal: 2m 4s\tremaining: 2m 13s\n",
      "482:\tlearn: 0.1033251\ttest: 0.1264604\tbest: 0.1264604 (482)\ttotal: 2m 4s\tremaining: 2m 13s\n",
      "483:\tlearn: 0.1032037\ttest: 0.1263725\tbest: 0.1263725 (483)\ttotal: 2m 4s\tremaining: 2m 13s\n",
      "484:\tlearn: 0.1031902\ttest: 0.1263384\tbest: 0.1263384 (484)\ttotal: 2m 5s\tremaining: 2m 12s\n",
      "485:\tlearn: 0.1030835\ttest: 0.1263047\tbest: 0.1263047 (485)\ttotal: 2m 5s\tremaining: 2m 12s\n",
      "486:\tlearn: 0.1029599\ttest: 0.1261977\tbest: 0.1261977 (486)\ttotal: 2m 5s\tremaining: 2m 12s\n",
      "487:\tlearn: 0.1027372\ttest: 0.1259450\tbest: 0.1259450 (487)\ttotal: 2m 5s\tremaining: 2m 11s\n",
      "488:\tlearn: 0.1026345\ttest: 0.1259220\tbest: 0.1259220 (488)\ttotal: 2m 5s\tremaining: 2m 11s\n",
      "489:\tlearn: 0.1026217\ttest: 0.1259213\tbest: 0.1259213 (489)\ttotal: 2m 6s\tremaining: 2m 11s\n",
      "490:\tlearn: 0.1026089\ttest: 0.1259211\tbest: 0.1259211 (490)\ttotal: 2m 6s\tremaining: 2m 11s\n",
      "491:\tlearn: 0.1025842\ttest: 0.1259219\tbest: 0.1259211 (490)\ttotal: 2m 6s\tremaining: 2m 10s\n",
      "492:\tlearn: 0.1024934\ttest: 0.1258475\tbest: 0.1258475 (492)\ttotal: 2m 6s\tremaining: 2m 10s\n",
      "493:\tlearn: 0.1024683\ttest: 0.1257999\tbest: 0.1257999 (493)\ttotal: 2m 6s\tremaining: 2m 10s\n",
      "494:\tlearn: 0.1023435\ttest: 0.1256993\tbest: 0.1256993 (494)\ttotal: 2m 7s\tremaining: 2m 9s\n",
      "495:\tlearn: 0.1022483\ttest: 0.1256087\tbest: 0.1256087 (495)\ttotal: 2m 7s\tremaining: 2m 9s\n",
      "496:\tlearn: 0.1020861\ttest: 0.1254544\tbest: 0.1254544 (496)\ttotal: 2m 7s\tremaining: 2m 9s\n",
      "497:\tlearn: 0.1020591\ttest: 0.1254535\tbest: 0.1254535 (497)\ttotal: 2m 7s\tremaining: 2m 8s\n",
      "498:\tlearn: 0.1019118\ttest: 0.1253578\tbest: 0.1253578 (498)\ttotal: 2m 8s\tremaining: 2m 8s\n",
      "499:\tlearn: 0.1018922\ttest: 0.1253476\tbest: 0.1253476 (499)\ttotal: 2m 8s\tremaining: 2m 8s\n",
      "500:\tlearn: 0.1017427\ttest: 0.1252548\tbest: 0.1252548 (500)\ttotal: 2m 8s\tremaining: 2m 7s\n",
      "501:\tlearn: 0.1017266\ttest: 0.1252605\tbest: 0.1252548 (500)\ttotal: 2m 8s\tremaining: 2m 7s\n",
      "502:\tlearn: 0.1017137\ttest: 0.1252640\tbest: 0.1252548 (500)\ttotal: 2m 8s\tremaining: 2m 7s\n",
      "503:\tlearn: 0.1014906\ttest: 0.1251099\tbest: 0.1251099 (503)\ttotal: 2m 9s\tremaining: 2m 6s\n",
      "504:\tlearn: 0.1013189\ttest: 0.1249264\tbest: 0.1249264 (504)\ttotal: 2m 9s\tremaining: 2m 6s\n",
      "505:\tlearn: 0.1010045\ttest: 0.1245678\tbest: 0.1245678 (505)\ttotal: 2m 9s\tremaining: 2m 6s\n",
      "506:\tlearn: 0.1009913\ttest: 0.1245673\tbest: 0.1245673 (506)\ttotal: 2m 9s\tremaining: 2m 6s\n",
      "507:\tlearn: 0.1008864\ttest: 0.1244902\tbest: 0.1244902 (507)\ttotal: 2m 9s\tremaining: 2m 5s\n",
      "508:\tlearn: 0.1008597\ttest: 0.1244709\tbest: 0.1244709 (508)\ttotal: 2m 10s\tremaining: 2m 5s\n",
      "509:\tlearn: 0.1007139\ttest: 0.1243347\tbest: 0.1243347 (509)\ttotal: 2m 10s\tremaining: 2m 5s\n",
      "510:\tlearn: 0.1005460\ttest: 0.1241624\tbest: 0.1241624 (510)\ttotal: 2m 10s\tremaining: 2m 4s\n",
      "511:\tlearn: 0.1005228\ttest: 0.1241647\tbest: 0.1241624 (510)\ttotal: 2m 10s\tremaining: 2m 4s\n",
      "512:\tlearn: 0.1004785\ttest: 0.1241467\tbest: 0.1241467 (512)\ttotal: 2m 10s\tremaining: 2m 4s\n",
      "513:\tlearn: 0.1001760\ttest: 0.1238260\tbest: 0.1238260 (513)\ttotal: 2m 11s\tremaining: 2m 3s\n",
      "514:\tlearn: 0.1001639\ttest: 0.1238201\tbest: 0.1238201 (514)\ttotal: 2m 11s\tremaining: 2m 3s\n",
      "515:\tlearn: 0.0999904\ttest: 0.1236521\tbest: 0.1236521 (515)\ttotal: 2m 11s\tremaining: 2m 3s\n",
      "516:\tlearn: 0.0999680\ttest: 0.1236432\tbest: 0.1236432 (516)\ttotal: 2m 11s\tremaining: 2m 3s\n",
      "517:\tlearn: 0.0999558\ttest: 0.1236430\tbest: 0.1236430 (517)\ttotal: 2m 11s\tremaining: 2m 2s\n",
      "518:\tlearn: 0.0999434\ttest: 0.1236466\tbest: 0.1236430 (517)\ttotal: 2m 12s\tremaining: 2m 2s\n",
      "519:\tlearn: 0.0998152\ttest: 0.1235532\tbest: 0.1235532 (519)\ttotal: 2m 12s\tremaining: 2m 2s\n",
      "520:\tlearn: 0.0997996\ttest: 0.1235522\tbest: 0.1235522 (520)\ttotal: 2m 12s\tremaining: 2m 1s\n",
      "521:\tlearn: 0.0996887\ttest: 0.1234937\tbest: 0.1234937 (521)\ttotal: 2m 12s\tremaining: 2m 1s\n",
      "522:\tlearn: 0.0996313\ttest: 0.1234576\tbest: 0.1234576 (522)\ttotal: 2m 12s\tremaining: 2m 1s\n",
      "523:\tlearn: 0.0995155\ttest: 0.1234466\tbest: 0.1234466 (523)\ttotal: 2m 13s\tremaining: 2m\n",
      "524:\tlearn: 0.0995027\ttest: 0.1234423\tbest: 0.1234423 (524)\ttotal: 2m 13s\tremaining: 2m\n",
      "525:\tlearn: 0.0994873\ttest: 0.1234364\tbest: 0.1234364 (525)\ttotal: 2m 13s\tremaining: 2m\n",
      "526:\tlearn: 0.0994749\ttest: 0.1234364\tbest: 0.1234364 (526)\ttotal: 2m 13s\tremaining: 2m\n",
      "527:\tlearn: 0.0994208\ttest: 0.1234011\tbest: 0.1234011 (527)\ttotal: 2m 14s\tremaining: 2m\n",
      "528:\tlearn: 0.0993988\ttest: 0.1234045\tbest: 0.1234011 (527)\ttotal: 2m 14s\tremaining: 1m 59s\n",
      "529:\tlearn: 0.0993875\ttest: 0.1233957\tbest: 0.1233957 (529)\ttotal: 2m 15s\tremaining: 1m 59s\n",
      "530:\tlearn: 0.0992913\ttest: 0.1233114\tbest: 0.1233114 (530)\ttotal: 2m 15s\tremaining: 1m 59s\n",
      "531:\tlearn: 0.0992801\ttest: 0.1233146\tbest: 0.1233114 (530)\ttotal: 2m 15s\tremaining: 1m 59s\n",
      "532:\tlearn: 0.0990880\ttest: 0.1231889\tbest: 0.1231889 (532)\ttotal: 2m 16s\tremaining: 1m 59s\n",
      "533:\tlearn: 0.0990755\ttest: 0.1231774\tbest: 0.1231774 (533)\ttotal: 2m 16s\tremaining: 1m 59s\n",
      "534:\tlearn: 0.0989031\ttest: 0.1230321\tbest: 0.1230321 (534)\ttotal: 2m 17s\tremaining: 1m 59s\n",
      "535:\tlearn: 0.0988108\ttest: 0.1229719\tbest: 0.1229719 (535)\ttotal: 2m 17s\tremaining: 1m 59s\n",
      "536:\tlearn: 0.0986727\ttest: 0.1228455\tbest: 0.1228455 (536)\ttotal: 2m 17s\tremaining: 1m 58s\n",
      "537:\tlearn: 0.0986585\ttest: 0.1228344\tbest: 0.1228344 (537)\ttotal: 2m 18s\tremaining: 1m 58s\n",
      "538:\tlearn: 0.0984427\ttest: 0.1226263\tbest: 0.1226263 (538)\ttotal: 2m 18s\tremaining: 1m 58s\n",
      "539:\tlearn: 0.0984309\ttest: 0.1226269\tbest: 0.1226263 (538)\ttotal: 2m 18s\tremaining: 1m 58s\n",
      "540:\tlearn: 0.0982391\ttest: 0.1225218\tbest: 0.1225218 (540)\ttotal: 2m 19s\tremaining: 1m 58s\n",
      "541:\tlearn: 0.0981001\ttest: 0.1224339\tbest: 0.1224339 (541)\ttotal: 2m 19s\tremaining: 1m 58s\n",
      "542:\tlearn: 0.0980888\ttest: 0.1224350\tbest: 0.1224339 (541)\ttotal: 2m 20s\tremaining: 1m 57s\n",
      "543:\tlearn: 0.0979569\ttest: 0.1222700\tbest: 0.1222700 (543)\ttotal: 2m 20s\tremaining: 1m 57s\n",
      "544:\tlearn: 0.0977424\ttest: 0.1220824\tbest: 0.1220824 (544)\ttotal: 2m 20s\tremaining: 1m 57s\n",
      "545:\tlearn: 0.0977312\ttest: 0.1220830\tbest: 0.1220824 (544)\ttotal: 2m 21s\tremaining: 1m 57s\n",
      "546:\tlearn: 0.0975650\ttest: 0.1219361\tbest: 0.1219361 (546)\ttotal: 2m 21s\tremaining: 1m 57s\n",
      "547:\tlearn: 0.0975507\ttest: 0.1219383\tbest: 0.1219361 (546)\ttotal: 2m 22s\tremaining: 1m 57s\n",
      "548:\tlearn: 0.0974794\ttest: 0.1218532\tbest: 0.1218532 (548)\ttotal: 2m 22s\tremaining: 1m 57s\n",
      "549:\tlearn: 0.0974191\ttest: 0.1218648\tbest: 0.1218532 (548)\ttotal: 2m 22s\tremaining: 1m 56s\n",
      "550:\tlearn: 0.0974078\ttest: 0.1218499\tbest: 0.1218499 (550)\ttotal: 2m 23s\tremaining: 1m 56s\n",
      "551:\tlearn: 0.0971625\ttest: 0.1215806\tbest: 0.1215806 (551)\ttotal: 2m 23s\tremaining: 1m 56s\n",
      "552:\tlearn: 0.0970494\ttest: 0.1214756\tbest: 0.1214756 (552)\ttotal: 2m 24s\tremaining: 1m 56s\n",
      "553:\tlearn: 0.0969105\ttest: 0.1213264\tbest: 0.1213264 (553)\ttotal: 2m 24s\tremaining: 1m 56s\n",
      "554:\tlearn: 0.0968905\ttest: 0.1213200\tbest: 0.1213200 (554)\ttotal: 2m 24s\tremaining: 1m 56s\n",
      "555:\tlearn: 0.0968789\ttest: 0.1213199\tbest: 0.1213199 (555)\ttotal: 2m 25s\tremaining: 1m 55s\n",
      "556:\tlearn: 0.0967818\ttest: 0.1212439\tbest: 0.1212439 (556)\ttotal: 2m 25s\tremaining: 1m 55s\n",
      "557:\tlearn: 0.0966020\ttest: 0.1211530\tbest: 0.1211530 (557)\ttotal: 2m 25s\tremaining: 1m 55s\n",
      "558:\tlearn: 0.0965900\ttest: 0.1211566\tbest: 0.1211530 (557)\ttotal: 2m 26s\tremaining: 1m 55s\n",
      "559:\tlearn: 0.0965797\ttest: 0.1211494\tbest: 0.1211494 (559)\ttotal: 2m 26s\tremaining: 1m 55s\n",
      "560:\tlearn: 0.0964504\ttest: 0.1210006\tbest: 0.1210006 (560)\ttotal: 2m 26s\tremaining: 1m 54s\n",
      "561:\tlearn: 0.0963449\ttest: 0.1209096\tbest: 0.1209096 (561)\ttotal: 2m 26s\tremaining: 1m 54s\n",
      "562:\tlearn: 0.0962750\ttest: 0.1208649\tbest: 0.1208649 (562)\ttotal: 2m 27s\tremaining: 1m 54s\n",
      "563:\tlearn: 0.0961952\ttest: 0.1208099\tbest: 0.1208099 (563)\ttotal: 2m 27s\tremaining: 1m 53s\n",
      "564:\tlearn: 0.0961544\ttest: 0.1207743\tbest: 0.1207743 (564)\ttotal: 2m 27s\tremaining: 1m 53s\n",
      "565:\tlearn: 0.0961437\ttest: 0.1207739\tbest: 0.1207739 (565)\ttotal: 2m 27s\tremaining: 1m 53s\n",
      "566:\tlearn: 0.0961253\ttest: 0.1207715\tbest: 0.1207715 (566)\ttotal: 2m 27s\tremaining: 1m 52s\n",
      "567:\tlearn: 0.0960739\ttest: 0.1207478\tbest: 0.1207478 (567)\ttotal: 2m 28s\tremaining: 1m 52s\n",
      "568:\tlearn: 0.0960631\ttest: 0.1207478\tbest: 0.1207478 (568)\ttotal: 2m 28s\tremaining: 1m 52s\n",
      "569:\tlearn: 0.0958909\ttest: 0.1205576\tbest: 0.1205576 (569)\ttotal: 2m 28s\tremaining: 1m 51s\n",
      "570:\tlearn: 0.0958725\ttest: 0.1205548\tbest: 0.1205548 (570)\ttotal: 2m 28s\tremaining: 1m 51s\n",
      "571:\tlearn: 0.0956994\ttest: 0.1203863\tbest: 0.1203863 (571)\ttotal: 2m 28s\tremaining: 1m 51s\n",
      "572:\tlearn: 0.0956621\ttest: 0.1203574\tbest: 0.1203574 (572)\ttotal: 2m 29s\tremaining: 1m 51s\n",
      "573:\tlearn: 0.0956445\ttest: 0.1203592\tbest: 0.1203574 (572)\ttotal: 2m 29s\tremaining: 1m 50s\n",
      "574:\tlearn: 0.0956042\ttest: 0.1203438\tbest: 0.1203438 (574)\ttotal: 2m 29s\tremaining: 1m 50s\n",
      "575:\tlearn: 0.0954434\ttest: 0.1202395\tbest: 0.1202395 (575)\ttotal: 2m 29s\tremaining: 1m 50s\n",
      "576:\tlearn: 0.0953362\ttest: 0.1201834\tbest: 0.1201834 (576)\ttotal: 2m 29s\tremaining: 1m 49s\n",
      "577:\tlearn: 0.0951998\ttest: 0.1200988\tbest: 0.1200988 (577)\ttotal: 2m 30s\tremaining: 1m 49s\n",
      "578:\tlearn: 0.0951893\ttest: 0.1200990\tbest: 0.1200988 (577)\ttotal: 2m 30s\tremaining: 1m 49s\n",
      "579:\tlearn: 0.0951267\ttest: 0.1200503\tbest: 0.1200503 (579)\ttotal: 2m 30s\tremaining: 1m 49s\n",
      "580:\tlearn: 0.0950368\ttest: 0.1199928\tbest: 0.1199928 (580)\ttotal: 2m 30s\tremaining: 1m 48s\n",
      "581:\tlearn: 0.0950222\ttest: 0.1199811\tbest: 0.1199811 (581)\ttotal: 2m 31s\tremaining: 1m 48s\n",
      "582:\tlearn: 0.0949728\ttest: 0.1199344\tbest: 0.1199344 (582)\ttotal: 2m 31s\tremaining: 1m 48s\n",
      "583:\tlearn: 0.0949624\ttest: 0.1199253\tbest: 0.1199253 (583)\ttotal: 2m 32s\tremaining: 1m 48s\n",
      "584:\tlearn: 0.0949474\ttest: 0.1199222\tbest: 0.1199222 (584)\ttotal: 2m 32s\tremaining: 1m 48s\n",
      "585:\tlearn: 0.0948218\ttest: 0.1197843\tbest: 0.1197843 (585)\ttotal: 2m 32s\tremaining: 1m 47s\n",
      "586:\tlearn: 0.0947634\ttest: 0.1197272\tbest: 0.1197272 (586)\ttotal: 2m 33s\tremaining: 1m 47s\n",
      "587:\tlearn: 0.0947350\ttest: 0.1197026\tbest: 0.1197026 (587)\ttotal: 2m 33s\tremaining: 1m 47s\n",
      "588:\tlearn: 0.0947135\ttest: 0.1196545\tbest: 0.1196545 (588)\ttotal: 2m 33s\tremaining: 1m 47s\n",
      "589:\tlearn: 0.0945712\ttest: 0.1194817\tbest: 0.1194817 (589)\ttotal: 2m 34s\tremaining: 1m 47s\n",
      "590:\tlearn: 0.0945521\ttest: 0.1194816\tbest: 0.1194816 (590)\ttotal: 2m 34s\tremaining: 1m 47s\n",
      "591:\tlearn: 0.0945416\ttest: 0.1194816\tbest: 0.1194816 (591)\ttotal: 2m 34s\tremaining: 1m 46s\n",
      "592:\tlearn: 0.0944904\ttest: 0.1194614\tbest: 0.1194614 (592)\ttotal: 2m 35s\tremaining: 1m 46s\n",
      "593:\tlearn: 0.0943416\ttest: 0.1193523\tbest: 0.1193523 (593)\ttotal: 2m 35s\tremaining: 1m 46s\n",
      "594:\tlearn: 0.0941940\ttest: 0.1191985\tbest: 0.1191985 (594)\ttotal: 2m 35s\tremaining: 1m 45s\n",
      "595:\tlearn: 0.0941779\ttest: 0.1191966\tbest: 0.1191966 (595)\ttotal: 2m 35s\tremaining: 1m 45s\n",
      "596:\tlearn: 0.0941656\ttest: 0.1191819\tbest: 0.1191819 (596)\ttotal: 2m 36s\tremaining: 1m 45s\n",
      "597:\tlearn: 0.0941556\ttest: 0.1191817\tbest: 0.1191817 (597)\ttotal: 2m 36s\tremaining: 1m 45s\n",
      "598:\tlearn: 0.0940647\ttest: 0.1191191\tbest: 0.1191191 (598)\ttotal: 2m 36s\tremaining: 1m 44s\n",
      "599:\tlearn: 0.0940551\ttest: 0.1191260\tbest: 0.1191191 (598)\ttotal: 2m 36s\tremaining: 1m 44s\n",
      "600:\tlearn: 0.0939001\ttest: 0.1189167\tbest: 0.1189167 (600)\ttotal: 2m 36s\tremaining: 1m 44s\n",
      "601:\tlearn: 0.0937994\ttest: 0.1188024\tbest: 0.1188024 (601)\ttotal: 2m 37s\tremaining: 1m 43s\n",
      "602:\tlearn: 0.0935809\ttest: 0.1186784\tbest: 0.1186784 (602)\ttotal: 2m 37s\tremaining: 1m 43s\n",
      "603:\tlearn: 0.0935098\ttest: 0.1186105\tbest: 0.1186105 (603)\ttotal: 2m 37s\tremaining: 1m 43s\n",
      "604:\tlearn: 0.0934994\ttest: 0.1186067\tbest: 0.1186067 (604)\ttotal: 2m 37s\tremaining: 1m 42s\n",
      "605:\tlearn: 0.0933975\ttest: 0.1185446\tbest: 0.1185446 (605)\ttotal: 2m 37s\tremaining: 1m 42s\n",
      "606:\tlearn: 0.0933878\ttest: 0.1185482\tbest: 0.1185446 (605)\ttotal: 2m 38s\tremaining: 1m 42s\n",
      "607:\tlearn: 0.0933689\ttest: 0.1185475\tbest: 0.1185446 (605)\ttotal: 2m 38s\tremaining: 1m 42s\n",
      "608:\tlearn: 0.0932045\ttest: 0.1184491\tbest: 0.1184491 (608)\ttotal: 2m 38s\tremaining: 1m 41s\n",
      "609:\tlearn: 0.0931941\ttest: 0.1184502\tbest: 0.1184491 (608)\ttotal: 2m 38s\tremaining: 1m 41s\n",
      "610:\tlearn: 0.0931755\ttest: 0.1184529\tbest: 0.1184491 (608)\ttotal: 2m 38s\tremaining: 1m 41s\n",
      "611:\tlearn: 0.0930435\ttest: 0.1183738\tbest: 0.1183738 (611)\ttotal: 2m 39s\tremaining: 1m 40s\n",
      "612:\tlearn: 0.0929938\ttest: 0.1183375\tbest: 0.1183375 (612)\ttotal: 2m 39s\tremaining: 1m 40s\n",
      "613:\tlearn: 0.0929781\ttest: 0.1183374\tbest: 0.1183374 (613)\ttotal: 2m 39s\tremaining: 1m 40s\n",
      "614:\tlearn: 0.0927894\ttest: 0.1182510\tbest: 0.1182510 (614)\ttotal: 2m 39s\tremaining: 1m 40s\n",
      "615:\tlearn: 0.0927333\ttest: 0.1182594\tbest: 0.1182510 (614)\ttotal: 2m 39s\tremaining: 1m 39s\n",
      "616:\tlearn: 0.0927151\ttest: 0.1182573\tbest: 0.1182510 (614)\ttotal: 2m 40s\tremaining: 1m 39s\n",
      "617:\tlearn: 0.0926660\ttest: 0.1181865\tbest: 0.1181865 (617)\ttotal: 2m 40s\tremaining: 1m 39s\n",
      "618:\tlearn: 0.0925389\ttest: 0.1181157\tbest: 0.1181157 (618)\ttotal: 2m 40s\tremaining: 1m 38s\n",
      "619:\tlearn: 0.0924550\ttest: 0.1180533\tbest: 0.1180533 (619)\ttotal: 2m 40s\tremaining: 1m 38s\n",
      "620:\tlearn: 0.0924364\ttest: 0.1180383\tbest: 0.1180383 (620)\ttotal: 2m 40s\tremaining: 1m 38s\n",
      "621:\tlearn: 0.0923109\ttest: 0.1179181\tbest: 0.1179181 (621)\ttotal: 2m 41s\tremaining: 1m 37s\n",
      "622:\tlearn: 0.0923012\ttest: 0.1179178\tbest: 0.1179178 (622)\ttotal: 2m 41s\tremaining: 1m 37s\n",
      "623:\tlearn: 0.0922906\ttest: 0.1178816\tbest: 0.1178816 (623)\ttotal: 2m 41s\tremaining: 1m 37s\n",
      "624:\tlearn: 0.0922805\ttest: 0.1178814\tbest: 0.1178814 (624)\ttotal: 2m 41s\tremaining: 1m 37s\n",
      "625:\tlearn: 0.0921381\ttest: 0.1177457\tbest: 0.1177457 (625)\ttotal: 2m 41s\tremaining: 1m 36s\n",
      "626:\tlearn: 0.0921284\ttest: 0.1177457\tbest: 0.1177457 (625)\ttotal: 2m 42s\tremaining: 1m 36s\n",
      "627:\tlearn: 0.0919906\ttest: 0.1176303\tbest: 0.1176303 (627)\ttotal: 2m 42s\tremaining: 1m 36s\n",
      "628:\tlearn: 0.0919704\ttest: 0.1176252\tbest: 0.1176252 (628)\ttotal: 2m 42s\tremaining: 1m 35s\n",
      "629:\tlearn: 0.0918798\ttest: 0.1175285\tbest: 0.1175285 (629)\ttotal: 2m 42s\tremaining: 1m 35s\n",
      "630:\tlearn: 0.0917240\ttest: 0.1173652\tbest: 0.1173652 (630)\ttotal: 2m 42s\tremaining: 1m 35s\n",
      "631:\tlearn: 0.0916360\ttest: 0.1173387\tbest: 0.1173387 (631)\ttotal: 2m 43s\tremaining: 1m 35s\n",
      "632:\tlearn: 0.0916256\ttest: 0.1173354\tbest: 0.1173354 (632)\ttotal: 2m 43s\tremaining: 1m 34s\n",
      "633:\tlearn: 0.0914975\ttest: 0.1172576\tbest: 0.1172576 (633)\ttotal: 2m 43s\tremaining: 1m 34s\n",
      "634:\tlearn: 0.0913955\ttest: 0.1171508\tbest: 0.1171508 (634)\ttotal: 2m 43s\tremaining: 1m 34s\n",
      "635:\tlearn: 0.0913865\ttest: 0.1171501\tbest: 0.1171501 (635)\ttotal: 2m 43s\tremaining: 1m 33s\n",
      "636:\tlearn: 0.0911642\ttest: 0.1169087\tbest: 0.1169087 (636)\ttotal: 2m 44s\tremaining: 1m 33s\n",
      "637:\tlearn: 0.0911543\ttest: 0.1169106\tbest: 0.1169087 (636)\ttotal: 2m 44s\tremaining: 1m 33s\n",
      "638:\tlearn: 0.0911449\ttest: 0.1169076\tbest: 0.1169076 (638)\ttotal: 2m 44s\tremaining: 1m 32s\n",
      "639:\tlearn: 0.0911356\ttest: 0.1169076\tbest: 0.1169076 (639)\ttotal: 2m 44s\tremaining: 1m 32s\n",
      "640:\tlearn: 0.0911157\ttest: 0.1169114\tbest: 0.1169076 (639)\ttotal: 2m 45s\tremaining: 1m 32s\n",
      "641:\tlearn: 0.0911006\ttest: 0.1169116\tbest: 0.1169076 (639)\ttotal: 2m 45s\tremaining: 1m 32s\n",
      "642:\tlearn: 0.0910851\ttest: 0.1168893\tbest: 0.1168893 (642)\ttotal: 2m 45s\tremaining: 1m 32s\n",
      "643:\tlearn: 0.0909289\ttest: 0.1168142\tbest: 0.1168142 (643)\ttotal: 2m 46s\tremaining: 1m 31s\n",
      "644:\tlearn: 0.0909189\ttest: 0.1168140\tbest: 0.1168140 (644)\ttotal: 2m 46s\tremaining: 1m 31s\n",
      "645:\tlearn: 0.0909097\ttest: 0.1168075\tbest: 0.1168075 (645)\ttotal: 2m 46s\tremaining: 1m 31s\n",
      "646:\tlearn: 0.0908435\ttest: 0.1167665\tbest: 0.1167665 (646)\ttotal: 2m 47s\tremaining: 1m 31s\n",
      "647:\tlearn: 0.0907809\ttest: 0.1167236\tbest: 0.1167236 (647)\ttotal: 2m 47s\tremaining: 1m 31s\n",
      "648:\tlearn: 0.0906760\ttest: 0.1166655\tbest: 0.1166655 (648)\ttotal: 2m 47s\tremaining: 1m 30s\n",
      "649:\tlearn: 0.0905938\ttest: 0.1165993\tbest: 0.1165993 (649)\ttotal: 2m 48s\tremaining: 1m 30s\n",
      "650:\tlearn: 0.0905127\ttest: 0.1165359\tbest: 0.1165359 (650)\ttotal: 2m 48s\tremaining: 1m 30s\n",
      "651:\tlearn: 0.0904841\ttest: 0.1165238\tbest: 0.1165238 (651)\ttotal: 2m 49s\tremaining: 1m 30s\n",
      "652:\tlearn: 0.0904167\ttest: 0.1164998\tbest: 0.1164998 (652)\ttotal: 2m 49s\tremaining: 1m 29s\n",
      "653:\tlearn: 0.0903412\ttest: 0.1163980\tbest: 0.1163980 (653)\ttotal: 2m 49s\tremaining: 1m 29s\n",
      "654:\tlearn: 0.0903173\ttest: 0.1163915\tbest: 0.1163915 (654)\ttotal: 2m 49s\tremaining: 1m 29s\n",
      "655:\tlearn: 0.0903012\ttest: 0.1163885\tbest: 0.1163885 (655)\ttotal: 2m 49s\tremaining: 1m 29s\n",
      "656:\tlearn: 0.0902920\ttest: 0.1163882\tbest: 0.1163882 (656)\ttotal: 2m 50s\tremaining: 1m 28s\n",
      "657:\tlearn: 0.0901225\ttest: 0.1162238\tbest: 0.1162238 (657)\ttotal: 2m 50s\tremaining: 1m 28s\n",
      "658:\tlearn: 0.0901126\ttest: 0.1162093\tbest: 0.1162093 (658)\ttotal: 2m 50s\tremaining: 1m 28s\n",
      "659:\tlearn: 0.0898729\ttest: 0.1159871\tbest: 0.1159871 (659)\ttotal: 2m 50s\tremaining: 1m 27s\n",
      "660:\tlearn: 0.0898633\ttest: 0.1159871\tbest: 0.1159871 (659)\ttotal: 2m 50s\tremaining: 1m 27s\n",
      "661:\tlearn: 0.0898541\ttest: 0.1159833\tbest: 0.1159833 (661)\ttotal: 2m 51s\tremaining: 1m 27s\n",
      "662:\tlearn: 0.0896364\ttest: 0.1158080\tbest: 0.1158080 (662)\ttotal: 2m 51s\tremaining: 1m 27s\n",
      "663:\tlearn: 0.0895863\ttest: 0.1157901\tbest: 0.1157901 (663)\ttotal: 2m 51s\tremaining: 1m 26s\n",
      "664:\tlearn: 0.0895682\ttest: 0.1157960\tbest: 0.1157901 (663)\ttotal: 2m 51s\tremaining: 1m 26s\n",
      "665:\tlearn: 0.0895036\ttest: 0.1157787\tbest: 0.1157787 (665)\ttotal: 2m 51s\tremaining: 1m 26s\n",
      "666:\tlearn: 0.0894861\ttest: 0.1157656\tbest: 0.1157656 (666)\ttotal: 2m 52s\tremaining: 1m 25s\n",
      "667:\tlearn: 0.0893986\ttest: 0.1157072\tbest: 0.1157072 (667)\ttotal: 2m 52s\tremaining: 1m 25s\n",
      "668:\tlearn: 0.0893898\ttest: 0.1157072\tbest: 0.1157072 (668)\ttotal: 2m 52s\tremaining: 1m 25s\n",
      "669:\tlearn: 0.0891762\ttest: 0.1155091\tbest: 0.1155091 (669)\ttotal: 2m 52s\tremaining: 1m 25s\n",
      "670:\tlearn: 0.0891638\ttest: 0.1155099\tbest: 0.1155091 (669)\ttotal: 2m 53s\tremaining: 1m 24s\n",
      "671:\tlearn: 0.0890321\ttest: 0.1153146\tbest: 0.1153146 (671)\ttotal: 2m 53s\tremaining: 1m 24s\n",
      "672:\tlearn: 0.0890228\ttest: 0.1152875\tbest: 0.1152875 (672)\ttotal: 2m 53s\tremaining: 1m 24s\n",
      "673:\tlearn: 0.0890025\ttest: 0.1152888\tbest: 0.1152875 (672)\ttotal: 2m 53s\tremaining: 1m 23s\n",
      "674:\tlearn: 0.0889200\ttest: 0.1152618\tbest: 0.1152618 (674)\ttotal: 2m 53s\tremaining: 1m 23s\n",
      "675:\tlearn: 0.0889075\ttest: 0.1152478\tbest: 0.1152478 (675)\ttotal: 2m 54s\tremaining: 1m 23s\n",
      "676:\tlearn: 0.0888987\ttest: 0.1152477\tbest: 0.1152477 (676)\ttotal: 2m 54s\tremaining: 1m 23s\n",
      "677:\tlearn: 0.0888809\ttest: 0.1152498\tbest: 0.1152477 (676)\ttotal: 2m 54s\tremaining: 1m 22s\n",
      "678:\tlearn: 0.0888714\ttest: 0.1152497\tbest: 0.1152477 (676)\ttotal: 2m 54s\tremaining: 1m 22s\n",
      "679:\tlearn: 0.0888529\ttest: 0.1152459\tbest: 0.1152459 (679)\ttotal: 2m 54s\tremaining: 1m 22s\n",
      "680:\tlearn: 0.0888442\ttest: 0.1152457\tbest: 0.1152457 (680)\ttotal: 2m 55s\tremaining: 1m 21s\n",
      "681:\tlearn: 0.0887669\ttest: 0.1151433\tbest: 0.1151433 (681)\ttotal: 2m 55s\tremaining: 1m 21s\n",
      "682:\tlearn: 0.0887580\ttest: 0.1151431\tbest: 0.1151431 (682)\ttotal: 2m 55s\tremaining: 1m 21s\n",
      "683:\tlearn: 0.0887493\ttest: 0.1151508\tbest: 0.1151431 (682)\ttotal: 2m 55s\tremaining: 1m 21s\n",
      "684:\tlearn: 0.0887408\ttest: 0.1151389\tbest: 0.1151389 (684)\ttotal: 2m 55s\tremaining: 1m 20s\n",
      "685:\tlearn: 0.0887323\ttest: 0.1151387\tbest: 0.1151387 (685)\ttotal: 2m 56s\tremaining: 1m 20s\n",
      "686:\tlearn: 0.0887121\ttest: 0.1151112\tbest: 0.1151112 (686)\ttotal: 2m 56s\tremaining: 1m 20s\n",
      "687:\tlearn: 0.0887036\ttest: 0.1151112\tbest: 0.1151112 (687)\ttotal: 2m 56s\tremaining: 1m 20s\n",
      "688:\tlearn: 0.0886854\ttest: 0.1150905\tbest: 0.1150905 (688)\ttotal: 2m 56s\tremaining: 1m 19s\n",
      "689:\tlearn: 0.0886762\ttest: 0.1150640\tbest: 0.1150640 (689)\ttotal: 2m 56s\tremaining: 1m 19s\n",
      "690:\tlearn: 0.0886023\ttest: 0.1149651\tbest: 0.1149651 (690)\ttotal: 2m 57s\tremaining: 1m 19s\n",
      "691:\tlearn: 0.0885409\ttest: 0.1149216\tbest: 0.1149216 (691)\ttotal: 2m 57s\tremaining: 1m 18s\n",
      "692:\tlearn: 0.0885277\ttest: 0.1149214\tbest: 0.1149214 (692)\ttotal: 2m 57s\tremaining: 1m 18s\n",
      "693:\tlearn: 0.0883864\ttest: 0.1147190\tbest: 0.1147190 (693)\ttotal: 2m 57s\tremaining: 1m 18s\n",
      "694:\tlearn: 0.0882897\ttest: 0.1146293\tbest: 0.1146293 (694)\ttotal: 2m 57s\tremaining: 1m 18s\n",
      "695:\tlearn: 0.0882751\ttest: 0.1146269\tbest: 0.1146269 (695)\ttotal: 2m 58s\tremaining: 1m 17s\n",
      "696:\tlearn: 0.0882609\ttest: 0.1146308\tbest: 0.1146269 (695)\ttotal: 2m 58s\tremaining: 1m 17s\n",
      "697:\tlearn: 0.0882519\ttest: 0.1146304\tbest: 0.1146269 (695)\ttotal: 2m 58s\tremaining: 1m 17s\n",
      "698:\tlearn: 0.0881950\ttest: 0.1145626\tbest: 0.1145626 (698)\ttotal: 2m 58s\tremaining: 1m 16s\n",
      "699:\tlearn: 0.0881087\ttest: 0.1145017\tbest: 0.1145017 (699)\ttotal: 2m 58s\tremaining: 1m 16s\n",
      "700:\tlearn: 0.0880786\ttest: 0.1144961\tbest: 0.1144961 (700)\ttotal: 2m 59s\tremaining: 1m 16s\n",
      "701:\tlearn: 0.0879894\ttest: 0.1144837\tbest: 0.1144837 (701)\ttotal: 2m 59s\tremaining: 1m 16s\n",
      "702:\tlearn: 0.0879811\ttest: 0.1144835\tbest: 0.1144835 (702)\ttotal: 2m 59s\tremaining: 1m 15s\n",
      "703:\tlearn: 0.0879708\ttest: 0.1144871\tbest: 0.1144835 (702)\ttotal: 3m\tremaining: 1m 15s\n",
      "704:\tlearn: 0.0879462\ttest: 0.1144716\tbest: 0.1144716 (704)\ttotal: 3m\tremaining: 1m 15s\n",
      "705:\tlearn: 0.0878675\ttest: 0.1143643\tbest: 0.1143643 (705)\ttotal: 3m\tremaining: 1m 15s\n",
      "706:\tlearn: 0.0878586\ttest: 0.1143645\tbest: 0.1143643 (705)\ttotal: 3m 1s\tremaining: 1m 15s\n",
      "707:\tlearn: 0.0877694\ttest: 0.1142379\tbest: 0.1142379 (707)\ttotal: 3m 1s\tremaining: 1m 14s\n",
      "708:\tlearn: 0.0876826\ttest: 0.1141843\tbest: 0.1141843 (708)\ttotal: 3m 1s\tremaining: 1m 14s\n",
      "709:\tlearn: 0.0875785\ttest: 0.1141744\tbest: 0.1141744 (709)\ttotal: 3m 2s\tremaining: 1m 14s\n",
      "710:\tlearn: 0.0874881\ttest: 0.1140776\tbest: 0.1140776 (710)\ttotal: 3m 2s\tremaining: 1m 14s\n",
      "711:\tlearn: 0.0874082\ttest: 0.1140626\tbest: 0.1140626 (711)\ttotal: 3m 3s\tremaining: 1m 14s\n",
      "712:\tlearn: 0.0873993\ttest: 0.1140530\tbest: 0.1140530 (712)\ttotal: 3m 3s\tremaining: 1m 13s\n",
      "713:\tlearn: 0.0873242\ttest: 0.1140080\tbest: 0.1140080 (713)\ttotal: 3m 3s\tremaining: 1m 13s\n",
      "714:\tlearn: 0.0873153\ttest: 0.1140152\tbest: 0.1140080 (713)\ttotal: 3m 3s\tremaining: 1m 13s\n",
      "715:\tlearn: 0.0872943\ttest: 0.1140030\tbest: 0.1140030 (715)\ttotal: 3m 4s\tremaining: 1m 12s\n",
      "716:\tlearn: 0.0872858\ttest: 0.1140003\tbest: 0.1140003 (716)\ttotal: 3m 4s\tremaining: 1m 12s\n",
      "717:\tlearn: 0.0872780\ttest: 0.1139922\tbest: 0.1139922 (717)\ttotal: 3m 4s\tremaining: 1m 12s\n",
      "718:\tlearn: 0.0871924\ttest: 0.1139173\tbest: 0.1139173 (718)\ttotal: 3m 4s\tremaining: 1m 12s\n",
      "719:\tlearn: 0.0871779\ttest: 0.1139162\tbest: 0.1139162 (719)\ttotal: 3m 4s\tremaining: 1m 11s\n",
      "720:\tlearn: 0.0871346\ttest: 0.1138832\tbest: 0.1138832 (720)\ttotal: 3m 5s\tremaining: 1m 11s\n",
      "721:\tlearn: 0.0869716\ttest: 0.1137428\tbest: 0.1137428 (721)\ttotal: 3m 5s\tremaining: 1m 11s\n",
      "722:\tlearn: 0.0868649\ttest: 0.1137240\tbest: 0.1137240 (722)\ttotal: 3m 5s\tremaining: 1m 11s\n",
      "723:\tlearn: 0.0867107\ttest: 0.1135098\tbest: 0.1135098 (723)\ttotal: 3m 5s\tremaining: 1m 10s\n",
      "724:\tlearn: 0.0867024\ttest: 0.1135096\tbest: 0.1135096 (724)\ttotal: 3m 5s\tremaining: 1m 10s\n",
      "725:\tlearn: 0.0866478\ttest: 0.1134856\tbest: 0.1134856 (725)\ttotal: 3m 6s\tremaining: 1m 10s\n",
      "726:\tlearn: 0.0864741\ttest: 0.1133746\tbest: 0.1133746 (726)\ttotal: 3m 6s\tremaining: 1m 9s\n",
      "727:\tlearn: 0.0864656\ttest: 0.1133743\tbest: 0.1133743 (727)\ttotal: 3m 6s\tremaining: 1m 9s\n",
      "728:\tlearn: 0.0863230\ttest: 0.1132843\tbest: 0.1132843 (728)\ttotal: 3m 6s\tremaining: 1m 9s\n",
      "729:\tlearn: 0.0863141\ttest: 0.1132761\tbest: 0.1132761 (729)\ttotal: 3m 6s\tremaining: 1m 9s\n",
      "730:\tlearn: 0.0862722\ttest: 0.1132582\tbest: 0.1132582 (730)\ttotal: 3m 7s\tremaining: 1m 8s\n",
      "731:\tlearn: 0.0862640\ttest: 0.1132582\tbest: 0.1132582 (731)\ttotal: 3m 7s\tremaining: 1m 8s\n",
      "732:\tlearn: 0.0861911\ttest: 0.1131964\tbest: 0.1131964 (732)\ttotal: 3m 7s\tremaining: 1m 8s\n",
      "733:\tlearn: 0.0860688\ttest: 0.1130647\tbest: 0.1130647 (733)\ttotal: 3m 7s\tremaining: 1m 8s\n",
      "734:\tlearn: 0.0860597\ttest: 0.1130562\tbest: 0.1130562 (734)\ttotal: 3m 7s\tremaining: 1m 7s\n",
      "735:\tlearn: 0.0860465\ttest: 0.1130554\tbest: 0.1130554 (735)\ttotal: 3m 8s\tremaining: 1m 7s\n",
      "736:\tlearn: 0.0859153\ttest: 0.1129319\tbest: 0.1129319 (736)\ttotal: 3m 8s\tremaining: 1m 7s\n",
      "737:\tlearn: 0.0859077\ttest: 0.1129323\tbest: 0.1129319 (736)\ttotal: 3m 8s\tremaining: 1m 6s\n",
      "738:\tlearn: 0.0858894\ttest: 0.1129219\tbest: 0.1129219 (738)\ttotal: 3m 8s\tremaining: 1m 6s\n",
      "739:\tlearn: 0.0858266\ttest: 0.1128939\tbest: 0.1128939 (739)\ttotal: 3m 8s\tremaining: 1m 6s\n",
      "740:\tlearn: 0.0857720\ttest: 0.1128157\tbest: 0.1128157 (740)\ttotal: 3m 9s\tremaining: 1m 6s\n",
      "741:\tlearn: 0.0857641\ttest: 0.1128120\tbest: 0.1128120 (741)\ttotal: 3m 9s\tremaining: 1m 5s\n",
      "742:\tlearn: 0.0857561\ttest: 0.1128120\tbest: 0.1128120 (742)\ttotal: 3m 9s\tremaining: 1m 5s\n",
      "743:\tlearn: 0.0856495\ttest: 0.1126340\tbest: 0.1126340 (743)\ttotal: 3m 9s\tremaining: 1m 5s\n",
      "744:\tlearn: 0.0856411\ttest: 0.1126235\tbest: 0.1126235 (744)\ttotal: 3m 9s\tremaining: 1m 5s\n",
      "745:\tlearn: 0.0855399\ttest: 0.1125288\tbest: 0.1125288 (745)\ttotal: 3m 10s\tremaining: 1m 4s\n",
      "746:\tlearn: 0.0854547\ttest: 0.1124449\tbest: 0.1124449 (746)\ttotal: 3m 10s\tremaining: 1m 4s\n",
      "747:\tlearn: 0.0854411\ttest: 0.1124407\tbest: 0.1124407 (747)\ttotal: 3m 10s\tremaining: 1m 4s\n",
      "748:\tlearn: 0.0853399\ttest: 0.1124079\tbest: 0.1124079 (748)\ttotal: 3m 10s\tremaining: 1m 3s\n",
      "749:\tlearn: 0.0852278\ttest: 0.1122997\tbest: 0.1122997 (749)\ttotal: 3m 11s\tremaining: 1m 3s\n",
      "750:\tlearn: 0.0851334\ttest: 0.1122498\tbest: 0.1122498 (750)\ttotal: 3m 11s\tremaining: 1m 3s\n",
      "751:\tlearn: 0.0851208\ttest: 0.1122447\tbest: 0.1122447 (751)\ttotal: 3m 11s\tremaining: 1m 3s\n",
      "752:\tlearn: 0.0850929\ttest: 0.1122252\tbest: 0.1122252 (752)\ttotal: 3m 11s\tremaining: 1m 2s\n",
      "753:\tlearn: 0.0850176\ttest: 0.1121820\tbest: 0.1121820 (753)\ttotal: 3m 11s\tremaining: 1m 2s\n",
      "754:\tlearn: 0.0850091\ttest: 0.1121791\tbest: 0.1121791 (754)\ttotal: 3m 12s\tremaining: 1m 2s\n",
      "755:\tlearn: 0.0849524\ttest: 0.1121128\tbest: 0.1121128 (755)\ttotal: 3m 12s\tremaining: 1m 2s\n",
      "756:\tlearn: 0.0849203\ttest: 0.1120966\tbest: 0.1120966 (756)\ttotal: 3m 12s\tremaining: 1m 1s\n",
      "757:\tlearn: 0.0849125\ttest: 0.1120995\tbest: 0.1120966 (756)\ttotal: 3m 12s\tremaining: 1m 1s\n",
      "758:\tlearn: 0.0849047\ttest: 0.1120995\tbest: 0.1120966 (756)\ttotal: 3m 12s\tremaining: 1m 1s\n",
      "759:\tlearn: 0.0848740\ttest: 0.1121051\tbest: 0.1120966 (756)\ttotal: 3m 13s\tremaining: 1m\n",
      "760:\tlearn: 0.0847669\ttest: 0.1120480\tbest: 0.1120480 (760)\ttotal: 3m 13s\tremaining: 1m\n",
      "761:\tlearn: 0.0847591\ttest: 0.1120432\tbest: 0.1120432 (761)\ttotal: 3m 13s\tremaining: 1m\n",
      "762:\tlearn: 0.0846481\ttest: 0.1120117\tbest: 0.1120117 (762)\ttotal: 3m 13s\tremaining: 1m\n",
      "763:\tlearn: 0.0846405\ttest: 0.1120119\tbest: 0.1120117 (762)\ttotal: 3m 14s\tremaining: 60s\n",
      "764:\tlearn: 0.0845098\ttest: 0.1119288\tbest: 0.1119288 (764)\ttotal: 3m 14s\tremaining: 59.7s\n",
      "765:\tlearn: 0.0845022\ttest: 0.1119290\tbest: 0.1119288 (764)\ttotal: 3m 14s\tremaining: 59.5s\n",
      "766:\tlearn: 0.0844891\ttest: 0.1119281\tbest: 0.1119281 (766)\ttotal: 3m 15s\tremaining: 59.3s\n",
      "767:\tlearn: 0.0844530\ttest: 0.1119067\tbest: 0.1119067 (767)\ttotal: 3m 15s\tremaining: 59.1s\n",
      "768:\tlearn: 0.0844063\ttest: 0.1118599\tbest: 0.1118599 (768)\ttotal: 3m 15s\tremaining: 58.9s\n",
      "769:\tlearn: 0.0843071\ttest: 0.1118083\tbest: 0.1118083 (769)\ttotal: 3m 16s\tremaining: 58.6s\n",
      "770:\tlearn: 0.0842993\ttest: 0.1118083\tbest: 0.1118083 (769)\ttotal: 3m 16s\tremaining: 58.4s\n",
      "771:\tlearn: 0.0841950\ttest: 0.1116813\tbest: 0.1116813 (771)\ttotal: 3m 17s\tremaining: 58.2s\n",
      "772:\tlearn: 0.0841874\ttest: 0.1116812\tbest: 0.1116812 (772)\ttotal: 3m 17s\tremaining: 58s\n",
      "773:\tlearn: 0.0841801\ttest: 0.1116813\tbest: 0.1116812 (772)\ttotal: 3m 17s\tremaining: 57.7s\n",
      "774:\tlearn: 0.0841642\ttest: 0.1116826\tbest: 0.1116812 (772)\ttotal: 3m 17s\tremaining: 57.5s\n",
      "775:\tlearn: 0.0840614\ttest: 0.1115700\tbest: 0.1115700 (775)\ttotal: 3m 18s\tremaining: 57.2s\n",
      "776:\tlearn: 0.0839754\ttest: 0.1115603\tbest: 0.1115603 (776)\ttotal: 3m 18s\tremaining: 56.9s\n",
      "777:\tlearn: 0.0839624\ttest: 0.1115613\tbest: 0.1115603 (776)\ttotal: 3m 18s\tremaining: 56.7s\n",
      "778:\tlearn: 0.0839211\ttest: 0.1114908\tbest: 0.1114908 (778)\ttotal: 3m 18s\tremaining: 56.4s\n",
      "779:\tlearn: 0.0838729\ttest: 0.1114388\tbest: 0.1114388 (779)\ttotal: 3m 18s\tremaining: 56.1s\n",
      "780:\tlearn: 0.0838595\ttest: 0.1114327\tbest: 0.1114327 (780)\ttotal: 3m 19s\tremaining: 55.9s\n",
      "781:\tlearn: 0.0837094\ttest: 0.1112615\tbest: 0.1112615 (781)\ttotal: 3m 19s\tremaining: 55.6s\n",
      "782:\tlearn: 0.0837006\ttest: 0.1112598\tbest: 0.1112598 (782)\ttotal: 3m 19s\tremaining: 55.3s\n",
      "783:\tlearn: 0.0836928\ttest: 0.1112598\tbest: 0.1112598 (782)\ttotal: 3m 19s\tremaining: 55s\n",
      "784:\tlearn: 0.0835825\ttest: 0.1111818\tbest: 0.1111818 (784)\ttotal: 3m 20s\tremaining: 54.8s\n",
      "785:\tlearn: 0.0835743\ttest: 0.1111741\tbest: 0.1111741 (785)\ttotal: 3m 20s\tremaining: 54.5s\n",
      "786:\tlearn: 0.0835665\ttest: 0.1111698\tbest: 0.1111698 (786)\ttotal: 3m 20s\tremaining: 54.2s\n",
      "787:\tlearn: 0.0835253\ttest: 0.1111654\tbest: 0.1111654 (787)\ttotal: 3m 20s\tremaining: 54s\n",
      "788:\tlearn: 0.0834753\ttest: 0.1111127\tbest: 0.1111127 (788)\ttotal: 3m 20s\tremaining: 53.7s\n",
      "789:\tlearn: 0.0834343\ttest: 0.1110941\tbest: 0.1110941 (789)\ttotal: 3m 21s\tremaining: 53.4s\n",
      "790:\tlearn: 0.0834232\ttest: 0.1110998\tbest: 0.1110941 (789)\ttotal: 3m 21s\tremaining: 53.2s\n",
      "791:\tlearn: 0.0834158\ttest: 0.1110998\tbest: 0.1110941 (789)\ttotal: 3m 21s\tremaining: 52.9s\n",
      "792:\tlearn: 0.0834045\ttest: 0.1110913\tbest: 0.1110913 (792)\ttotal: 3m 21s\tremaining: 52.6s\n",
      "793:\tlearn: 0.0833972\ttest: 0.1110913\tbest: 0.1110913 (792)\ttotal: 3m 21s\tremaining: 52.4s\n",
      "794:\tlearn: 0.0833566\ttest: 0.1110563\tbest: 0.1110563 (794)\ttotal: 3m 22s\tremaining: 52.1s\n",
      "795:\tlearn: 0.0833494\ttest: 0.1110324\tbest: 0.1110324 (795)\ttotal: 3m 22s\tremaining: 51.8s\n",
      "796:\tlearn: 0.0833424\ttest: 0.1110234\tbest: 0.1110234 (796)\ttotal: 3m 22s\tremaining: 51.6s\n",
      "797:\tlearn: 0.0833348\ttest: 0.1110234\tbest: 0.1110234 (796)\ttotal: 3m 22s\tremaining: 51.3s\n",
      "798:\tlearn: 0.0833226\ttest: 0.1110112\tbest: 0.1110112 (798)\ttotal: 3m 22s\tremaining: 51s\n",
      "799:\tlearn: 0.0831627\ttest: 0.1108712\tbest: 0.1108712 (799)\ttotal: 3m 23s\tremaining: 50.8s\n",
      "800:\tlearn: 0.0831555\ttest: 0.1108736\tbest: 0.1108712 (799)\ttotal: 3m 23s\tremaining: 50.5s\n",
      "801:\tlearn: 0.0830659\ttest: 0.1108417\tbest: 0.1108417 (801)\ttotal: 3m 23s\tremaining: 50.2s\n",
      "802:\tlearn: 0.0830356\ttest: 0.1108001\tbest: 0.1108001 (802)\ttotal: 3m 23s\tremaining: 50s\n",
      "803:\tlearn: 0.0830080\ttest: 0.1107504\tbest: 0.1107504 (803)\ttotal: 3m 23s\tremaining: 49.7s\n",
      "804:\tlearn: 0.0829583\ttest: 0.1107415\tbest: 0.1107415 (804)\ttotal: 3m 24s\tremaining: 49.4s\n",
      "805:\tlearn: 0.0829510\ttest: 0.1107351\tbest: 0.1107351 (805)\ttotal: 3m 24s\tremaining: 49.2s\n",
      "806:\tlearn: 0.0829389\ttest: 0.1107286\tbest: 0.1107286 (806)\ttotal: 3m 24s\tremaining: 48.9s\n",
      "807:\tlearn: 0.0829255\ttest: 0.1107163\tbest: 0.1107163 (807)\ttotal: 3m 24s\tremaining: 48.6s\n",
      "808:\tlearn: 0.0829185\ttest: 0.1107162\tbest: 0.1107162 (808)\ttotal: 3m 24s\tremaining: 48.4s\n",
      "809:\tlearn: 0.0829063\ttest: 0.1107150\tbest: 0.1107150 (809)\ttotal: 3m 24s\tremaining: 48.1s\n",
      "810:\tlearn: 0.0828469\ttest: 0.1106664\tbest: 0.1106664 (810)\ttotal: 3m 25s\tremaining: 47.8s\n",
      "811:\tlearn: 0.0827331\ttest: 0.1105941\tbest: 0.1105941 (811)\ttotal: 3m 25s\tremaining: 47.6s\n",
      "812:\tlearn: 0.0827250\ttest: 0.1105936\tbest: 0.1105936 (812)\ttotal: 3m 25s\tremaining: 47.3s\n",
      "813:\tlearn: 0.0827182\ttest: 0.1105941\tbest: 0.1105936 (812)\ttotal: 3m 25s\tremaining: 47s\n",
      "814:\tlearn: 0.0827073\ttest: 0.1105964\tbest: 0.1105936 (812)\ttotal: 3m 25s\tremaining: 46.8s\n",
      "815:\tlearn: 0.0826974\ttest: 0.1106007\tbest: 0.1105936 (812)\ttotal: 3m 26s\tremaining: 46.5s\n",
      "816:\tlearn: 0.0825598\ttest: 0.1104659\tbest: 0.1104659 (816)\ttotal: 3m 26s\tremaining: 46.2s\n",
      "817:\tlearn: 0.0825530\ttest: 0.1104662\tbest: 0.1104659 (816)\ttotal: 3m 26s\tremaining: 46s\n",
      "818:\tlearn: 0.0825461\ttest: 0.1104642\tbest: 0.1104642 (818)\ttotal: 3m 26s\tremaining: 45.7s\n",
      "819:\tlearn: 0.0825323\ttest: 0.1104621\tbest: 0.1104621 (819)\ttotal: 3m 26s\tremaining: 45.4s\n",
      "820:\tlearn: 0.0824635\ttest: 0.1103847\tbest: 0.1103847 (820)\ttotal: 3m 27s\tremaining: 45.2s\n",
      "821:\tlearn: 0.0824508\ttest: 0.1103814\tbest: 0.1103814 (821)\ttotal: 3m 27s\tremaining: 44.9s\n",
      "822:\tlearn: 0.0824436\ttest: 0.1103814\tbest: 0.1103814 (821)\ttotal: 3m 27s\tremaining: 44.6s\n",
      "823:\tlearn: 0.0824327\ttest: 0.1103737\tbest: 0.1103737 (823)\ttotal: 3m 27s\tremaining: 44.4s\n",
      "824:\tlearn: 0.0823271\ttest: 0.1102964\tbest: 0.1102964 (824)\ttotal: 3m 28s\tremaining: 44.2s\n",
      "825:\tlearn: 0.0822840\ttest: 0.1102806\tbest: 0.1102806 (825)\ttotal: 3m 28s\tremaining: 44s\n",
      "826:\tlearn: 0.0821702\ttest: 0.1102189\tbest: 0.1102189 (826)\ttotal: 3m 29s\tremaining: 43.7s\n",
      "827:\tlearn: 0.0821628\ttest: 0.1102194\tbest: 0.1102189 (826)\ttotal: 3m 29s\tremaining: 43.5s\n",
      "828:\tlearn: 0.0820768\ttest: 0.1101378\tbest: 0.1101378 (828)\ttotal: 3m 29s\tremaining: 43.3s\n",
      "829:\tlearn: 0.0819978\ttest: 0.1101008\tbest: 0.1101008 (829)\ttotal: 3m 30s\tremaining: 43s\n",
      "830:\tlearn: 0.0818901\ttest: 0.1100899\tbest: 0.1100899 (830)\ttotal: 3m 30s\tremaining: 42.8s\n",
      "831:\tlearn: 0.0818818\ttest: 0.1100838\tbest: 0.1100838 (831)\ttotal: 3m 30s\tremaining: 42.6s\n",
      "832:\tlearn: 0.0818423\ttest: 0.1100710\tbest: 0.1100710 (832)\ttotal: 3m 31s\tremaining: 42.3s\n",
      "833:\tlearn: 0.0818233\ttest: 0.1100603\tbest: 0.1100603 (833)\ttotal: 3m 31s\tremaining: 42.1s\n",
      "834:\tlearn: 0.0818169\ttest: 0.1100631\tbest: 0.1100603 (833)\ttotal: 3m 31s\tremaining: 41.9s\n",
      "835:\tlearn: 0.0817591\ttest: 0.1099809\tbest: 0.1099809 (835)\ttotal: 3m 32s\tremaining: 41.6s\n",
      "836:\tlearn: 0.0817224\ttest: 0.1099162\tbest: 0.1099162 (836)\ttotal: 3m 32s\tremaining: 41.3s\n",
      "837:\tlearn: 0.0816171\ttest: 0.1098047\tbest: 0.1098047 (837)\ttotal: 3m 32s\tremaining: 41.1s\n",
      "838:\tlearn: 0.0816057\ttest: 0.1097956\tbest: 0.1097956 (838)\ttotal: 3m 32s\tremaining: 40.8s\n",
      "839:\tlearn: 0.0815978\ttest: 0.1098008\tbest: 0.1097956 (838)\ttotal: 3m 32s\tremaining: 40.6s\n",
      "840:\tlearn: 0.0814969\ttest: 0.1097347\tbest: 0.1097347 (840)\ttotal: 3m 33s\tremaining: 40.3s\n",
      "841:\tlearn: 0.0814905\ttest: 0.1097348\tbest: 0.1097347 (840)\ttotal: 3m 33s\tremaining: 40s\n",
      "842:\tlearn: 0.0814834\ttest: 0.1097230\tbest: 0.1097230 (842)\ttotal: 3m 33s\tremaining: 39.8s\n",
      "843:\tlearn: 0.0814459\ttest: 0.1097246\tbest: 0.1097230 (842)\ttotal: 3m 33s\tremaining: 39.5s\n",
      "844:\tlearn: 0.0813594\ttest: 0.1096105\tbest: 0.1096105 (844)\ttotal: 3m 33s\tremaining: 39.2s\n",
      "845:\tlearn: 0.0813459\ttest: 0.1096164\tbest: 0.1096105 (844)\ttotal: 3m 34s\tremaining: 39s\n",
      "846:\tlearn: 0.0813389\ttest: 0.1096095\tbest: 0.1096095 (846)\ttotal: 3m 34s\tremaining: 38.7s\n",
      "847:\tlearn: 0.0812600\ttest: 0.1094944\tbest: 0.1094944 (847)\ttotal: 3m 34s\tremaining: 38.5s\n",
      "848:\tlearn: 0.0812032\ttest: 0.1094502\tbest: 0.1094502 (848)\ttotal: 3m 34s\tremaining: 38.2s\n",
      "849:\tlearn: 0.0810841\ttest: 0.1093904\tbest: 0.1093904 (849)\ttotal: 3m 34s\tremaining: 37.9s\n",
      "850:\tlearn: 0.0810774\ttest: 0.1093904\tbest: 0.1093904 (850)\ttotal: 3m 35s\tremaining: 37.7s\n",
      "851:\tlearn: 0.0810649\ttest: 0.1093889\tbest: 0.1093889 (851)\ttotal: 3m 35s\tremaining: 37.4s\n",
      "852:\tlearn: 0.0809688\ttest: 0.1092856\tbest: 0.1092856 (852)\ttotal: 3m 35s\tremaining: 37.2s\n",
      "853:\tlearn: 0.0809622\ttest: 0.1092710\tbest: 0.1092710 (853)\ttotal: 3m 36s\tremaining: 36.9s\n",
      "854:\tlearn: 0.0809294\ttest: 0.1092385\tbest: 0.1092385 (854)\ttotal: 3m 36s\tremaining: 36.7s\n",
      "855:\tlearn: 0.0809108\ttest: 0.1092287\tbest: 0.1092287 (855)\ttotal: 3m 36s\tremaining: 36.5s\n",
      "856:\tlearn: 0.0808864\ttest: 0.1092024\tbest: 0.1092024 (856)\ttotal: 3m 37s\tremaining: 36.2s\n",
      "857:\tlearn: 0.0807784\ttest: 0.1091721\tbest: 0.1091721 (857)\ttotal: 3m 37s\tremaining: 36s\n",
      "858:\tlearn: 0.0807663\ttest: 0.1091726\tbest: 0.1091721 (857)\ttotal: 3m 37s\tremaining: 35.8s\n",
      "859:\tlearn: 0.0807053\ttest: 0.1091331\tbest: 0.1091331 (859)\ttotal: 3m 38s\tremaining: 35.5s\n",
      "860:\tlearn: 0.0806987\ttest: 0.1091331\tbest: 0.1091331 (859)\ttotal: 3m 38s\tremaining: 35.3s\n",
      "861:\tlearn: 0.0806706\ttest: 0.1091218\tbest: 0.1091218 (861)\ttotal: 3m 38s\tremaining: 35.1s\n",
      "862:\tlearn: 0.0806587\ttest: 0.1091032\tbest: 0.1091032 (862)\ttotal: 3m 39s\tremaining: 34.8s\n",
      "863:\tlearn: 0.0806416\ttest: 0.1091191\tbest: 0.1091032 (862)\ttotal: 3m 39s\tremaining: 34.6s\n",
      "864:\tlearn: 0.0805672\ttest: 0.1090250\tbest: 0.1090250 (864)\ttotal: 3m 40s\tremaining: 34.4s\n",
      "865:\tlearn: 0.0805598\ttest: 0.1090229\tbest: 0.1090229 (865)\ttotal: 3m 40s\tremaining: 34.1s\n",
      "866:\tlearn: 0.0805527\ttest: 0.1090234\tbest: 0.1090229 (865)\ttotal: 3m 40s\tremaining: 33.9s\n",
      "867:\tlearn: 0.0805448\ttest: 0.1090195\tbest: 0.1090195 (867)\ttotal: 3m 41s\tremaining: 33.6s\n",
      "868:\tlearn: 0.0805371\ttest: 0.1090196\tbest: 0.1090195 (867)\ttotal: 3m 41s\tremaining: 33.4s\n",
      "869:\tlearn: 0.0805255\ttest: 0.1090170\tbest: 0.1090170 (869)\ttotal: 3m 41s\tremaining: 33.2s\n",
      "870:\tlearn: 0.0804148\ttest: 0.1089341\tbest: 0.1089341 (870)\ttotal: 3m 42s\tremaining: 32.9s\n",
      "871:\tlearn: 0.0804057\ttest: 0.1089287\tbest: 0.1089287 (871)\ttotal: 3m 42s\tremaining: 32.7s\n",
      "872:\tlearn: 0.0803635\ttest: 0.1089042\tbest: 0.1089042 (872)\ttotal: 3m 43s\tremaining: 32.5s\n",
      "873:\tlearn: 0.0803523\ttest: 0.1089101\tbest: 0.1089042 (872)\ttotal: 3m 43s\tremaining: 32.2s\n",
      "874:\tlearn: 0.0803111\ttest: 0.1088767\tbest: 0.1088767 (874)\ttotal: 3m 43s\tremaining: 32s\n",
      "875:\tlearn: 0.0803047\ttest: 0.1088652\tbest: 0.1088652 (875)\ttotal: 3m 44s\tremaining: 31.8s\n",
      "876:\tlearn: 0.0801914\ttest: 0.1087439\tbest: 0.1087439 (876)\ttotal: 3m 44s\tremaining: 31.5s\n",
      "877:\tlearn: 0.0801843\ttest: 0.1087418\tbest: 0.1087418 (877)\ttotal: 3m 45s\tremaining: 31.3s\n",
      "878:\tlearn: 0.0801755\ttest: 0.1087426\tbest: 0.1087418 (877)\ttotal: 3m 45s\tremaining: 31s\n",
      "879:\tlearn: 0.0801692\ttest: 0.1087436\tbest: 0.1087418 (877)\ttotal: 3m 45s\tremaining: 30.8s\n",
      "880:\tlearn: 0.0801300\ttest: 0.1086830\tbest: 0.1086830 (880)\ttotal: 3m 46s\tremaining: 30.5s\n",
      "881:\tlearn: 0.0800368\ttest: 0.1086501\tbest: 0.1086501 (881)\ttotal: 3m 46s\tremaining: 30.3s\n",
      "882:\tlearn: 0.0800307\ttest: 0.1086489\tbest: 0.1086489 (882)\ttotal: 3m 46s\tremaining: 30.1s\n",
      "883:\tlearn: 0.0798976\ttest: 0.1084830\tbest: 0.1084830 (883)\ttotal: 3m 47s\tremaining: 29.8s\n",
      "884:\tlearn: 0.0798911\ttest: 0.1084830\tbest: 0.1084830 (884)\ttotal: 3m 47s\tremaining: 29.6s\n",
      "885:\tlearn: 0.0798848\ttest: 0.1084831\tbest: 0.1084830 (884)\ttotal: 3m 48s\tremaining: 29.3s\n",
      "886:\tlearn: 0.0798714\ttest: 0.1084843\tbest: 0.1084830 (884)\ttotal: 3m 48s\tremaining: 29.1s\n",
      "887:\tlearn: 0.0798230\ttest: 0.1084449\tbest: 0.1084449 (887)\ttotal: 3m 48s\tremaining: 28.8s\n",
      "888:\tlearn: 0.0798160\ttest: 0.1084515\tbest: 0.1084449 (887)\ttotal: 3m 48s\tremaining: 28.5s\n",
      "889:\tlearn: 0.0797810\ttest: 0.1084037\tbest: 0.1084037 (889)\ttotal: 3m 48s\tremaining: 28.3s\n",
      "890:\tlearn: 0.0797703\ttest: 0.1084001\tbest: 0.1084001 (890)\ttotal: 3m 49s\tremaining: 28s\n",
      "891:\tlearn: 0.0797313\ttest: 0.1083738\tbest: 0.1083738 (891)\ttotal: 3m 49s\tremaining: 27.8s\n",
      "892:\tlearn: 0.0796850\ttest: 0.1083483\tbest: 0.1083483 (892)\ttotal: 3m 49s\tremaining: 27.5s\n",
      "893:\tlearn: 0.0795950\ttest: 0.1082634\tbest: 0.1082634 (893)\ttotal: 3m 49s\tremaining: 27.2s\n",
      "894:\tlearn: 0.0795779\ttest: 0.1082546\tbest: 0.1082546 (894)\ttotal: 3m 49s\tremaining: 27s\n",
      "895:\tlearn: 0.0795669\ttest: 0.1082537\tbest: 0.1082537 (895)\ttotal: 3m 50s\tremaining: 26.7s\n",
      "896:\tlearn: 0.0795607\ttest: 0.1082537\tbest: 0.1082537 (896)\ttotal: 3m 50s\tremaining: 26.4s\n",
      "897:\tlearn: 0.0795506\ttest: 0.1082531\tbest: 0.1082531 (897)\ttotal: 3m 50s\tremaining: 26.2s\n",
      "898:\tlearn: 0.0795241\ttest: 0.1082457\tbest: 0.1082457 (898)\ttotal: 3m 50s\tremaining: 25.9s\n",
      "899:\tlearn: 0.0795117\ttest: 0.1082424\tbest: 0.1082424 (899)\ttotal: 3m 50s\tremaining: 25.7s\n",
      "900:\tlearn: 0.0795043\ttest: 0.1082397\tbest: 0.1082397 (900)\ttotal: 3m 51s\tremaining: 25.4s\n",
      "901:\tlearn: 0.0794077\ttest: 0.1081482\tbest: 0.1081482 (901)\ttotal: 3m 51s\tremaining: 25.1s\n",
      "902:\tlearn: 0.0794017\ttest: 0.1081286\tbest: 0.1081286 (902)\ttotal: 3m 51s\tremaining: 24.9s\n",
      "903:\tlearn: 0.0793871\ttest: 0.1081172\tbest: 0.1081172 (903)\ttotal: 3m 51s\tremaining: 24.6s\n",
      "904:\tlearn: 0.0792522\ttest: 0.1080268\tbest: 0.1080268 (904)\ttotal: 3m 51s\tremaining: 24.3s\n",
      "905:\tlearn: 0.0792464\ttest: 0.1080239\tbest: 0.1080239 (905)\ttotal: 3m 52s\tremaining: 24.1s\n",
      "906:\tlearn: 0.0792319\ttest: 0.1080196\tbest: 0.1080196 (906)\ttotal: 3m 52s\tremaining: 23.8s\n",
      "907:\tlearn: 0.0792214\ttest: 0.1080183\tbest: 0.1080183 (907)\ttotal: 3m 52s\tremaining: 23.6s\n",
      "908:\tlearn: 0.0791733\ttest: 0.1079849\tbest: 0.1079849 (908)\ttotal: 3m 52s\tremaining: 23.3s\n",
      "909:\tlearn: 0.0790664\ttest: 0.1079065\tbest: 0.1079065 (909)\ttotal: 3m 52s\tremaining: 23s\n",
      "910:\tlearn: 0.0790599\ttest: 0.1079066\tbest: 0.1079065 (909)\ttotal: 3m 53s\tremaining: 22.8s\n",
      "911:\tlearn: 0.0789836\ttest: 0.1078754\tbest: 0.1078754 (911)\ttotal: 3m 53s\tremaining: 22.5s\n",
      "912:\tlearn: 0.0789767\ttest: 0.1078755\tbest: 0.1078754 (911)\ttotal: 3m 53s\tremaining: 22.3s\n",
      "913:\tlearn: 0.0789706\ttest: 0.1078756\tbest: 0.1078754 (911)\ttotal: 3m 53s\tremaining: 22s\n",
      "914:\tlearn: 0.0788866\ttest: 0.1078733\tbest: 0.1078733 (914)\ttotal: 3m 53s\tremaining: 21.7s\n",
      "915:\tlearn: 0.0788644\ttest: 0.1078839\tbest: 0.1078733 (914)\ttotal: 3m 54s\tremaining: 21.5s\n",
      "916:\tlearn: 0.0788515\ttest: 0.1078755\tbest: 0.1078733 (914)\ttotal: 3m 54s\tremaining: 21.2s\n",
      "917:\tlearn: 0.0788374\ttest: 0.1078805\tbest: 0.1078733 (914)\ttotal: 3m 54s\tremaining: 21s\n",
      "918:\tlearn: 0.0788304\ttest: 0.1078805\tbest: 0.1078733 (914)\ttotal: 3m 54s\tremaining: 20.7s\n",
      "919:\tlearn: 0.0787336\ttest: 0.1078290\tbest: 0.1078290 (919)\ttotal: 3m 54s\tremaining: 20.4s\n",
      "920:\tlearn: 0.0786954\ttest: 0.1078272\tbest: 0.1078272 (920)\ttotal: 3m 55s\tremaining: 20.2s\n",
      "921:\tlearn: 0.0786892\ttest: 0.1078267\tbest: 0.1078267 (921)\ttotal: 3m 55s\tremaining: 19.9s\n",
      "922:\tlearn: 0.0786787\ttest: 0.1078138\tbest: 0.1078138 (922)\ttotal: 3m 55s\tremaining: 19.6s\n",
      "923:\tlearn: 0.0785516\ttest: 0.1077094\tbest: 0.1077094 (923)\ttotal: 3m 55s\tremaining: 19.4s\n",
      "924:\tlearn: 0.0785439\ttest: 0.1077077\tbest: 0.1077077 (924)\ttotal: 3m 55s\tremaining: 19.1s\n",
      "925:\tlearn: 0.0785313\ttest: 0.1077066\tbest: 0.1077066 (925)\ttotal: 3m 56s\tremaining: 18.9s\n",
      "926:\tlearn: 0.0785191\ttest: 0.1076995\tbest: 0.1076995 (926)\ttotal: 3m 56s\tremaining: 18.6s\n",
      "927:\tlearn: 0.0785132\ttest: 0.1076934\tbest: 0.1076934 (927)\ttotal: 3m 56s\tremaining: 18.4s\n",
      "928:\tlearn: 0.0784798\ttest: 0.1076475\tbest: 0.1076475 (928)\ttotal: 3m 56s\tremaining: 18.1s\n",
      "929:\tlearn: 0.0784740\ttest: 0.1076476\tbest: 0.1076475 (928)\ttotal: 3m 56s\tremaining: 17.8s\n",
      "930:\tlearn: 0.0784103\ttest: 0.1076217\tbest: 0.1076217 (930)\ttotal: 3m 57s\tremaining: 17.6s\n",
      "931:\tlearn: 0.0784011\ttest: 0.1076383\tbest: 0.1076217 (930)\ttotal: 3m 57s\tremaining: 17.3s\n",
      "932:\tlearn: 0.0783899\ttest: 0.1076286\tbest: 0.1076217 (930)\ttotal: 3m 57s\tremaining: 17.1s\n",
      "933:\tlearn: 0.0783840\ttest: 0.1076282\tbest: 0.1076217 (930)\ttotal: 3m 57s\tremaining: 16.8s\n",
      "934:\tlearn: 0.0783779\ttest: 0.1076230\tbest: 0.1076217 (930)\ttotal: 3m 57s\tremaining: 16.5s\n",
      "935:\tlearn: 0.0783313\ttest: 0.1075981\tbest: 0.1075981 (935)\ttotal: 3m 58s\tremaining: 16.3s\n",
      "936:\tlearn: 0.0782709\ttest: 0.1075654\tbest: 0.1075654 (936)\ttotal: 3m 58s\tremaining: 16s\n",
      "937:\tlearn: 0.0782648\ttest: 0.1075658\tbest: 0.1075654 (936)\ttotal: 3m 59s\tremaining: 15.8s\n",
      "938:\tlearn: 0.0782552\ttest: 0.1075704\tbest: 0.1075654 (936)\ttotal: 3m 59s\tremaining: 15.6s\n",
      "939:\tlearn: 0.0782209\ttest: 0.1075442\tbest: 0.1075442 (939)\ttotal: 3m 59s\tremaining: 15.3s\n",
      "940:\tlearn: 0.0782110\ttest: 0.1075383\tbest: 0.1075383 (940)\ttotal: 4m\tremaining: 15.1s\n",
      "941:\tlearn: 0.0780006\ttest: 0.1073420\tbest: 0.1073420 (941)\ttotal: 4m\tremaining: 14.8s\n",
      "942:\tlearn: 0.0779947\ttest: 0.1073422\tbest: 0.1073420 (941)\ttotal: 4m\tremaining: 14.6s\n",
      "943:\tlearn: 0.0779848\ttest: 0.1073415\tbest: 0.1073415 (943)\ttotal: 4m 1s\tremaining: 14.3s\n",
      "944:\tlearn: 0.0778437\ttest: 0.1071855\tbest: 0.1071855 (944)\ttotal: 4m 1s\tremaining: 14.1s\n",
      "945:\tlearn: 0.0777933\ttest: 0.1071050\tbest: 0.1071050 (945)\ttotal: 4m 1s\tremaining: 13.8s\n",
      "946:\tlearn: 0.0777872\ttest: 0.1071048\tbest: 0.1071048 (946)\ttotal: 4m 2s\tremaining: 13.6s\n",
      "947:\tlearn: 0.0777135\ttest: 0.1071021\tbest: 0.1071021 (947)\ttotal: 4m 2s\tremaining: 13.3s\n",
      "948:\tlearn: 0.0777077\ttest: 0.1070913\tbest: 0.1070913 (948)\ttotal: 4m 2s\tremaining: 13s\n",
      "949:\tlearn: 0.0777018\ttest: 0.1070900\tbest: 0.1070900 (949)\ttotal: 4m 2s\tremaining: 12.8s\n",
      "950:\tlearn: 0.0776959\ttest: 0.1070900\tbest: 0.1070900 (949)\ttotal: 4m 3s\tremaining: 12.5s\n",
      "951:\tlearn: 0.0776643\ttest: 0.1070613\tbest: 0.1070613 (951)\ttotal: 4m 3s\tremaining: 12.3s\n",
      "952:\tlearn: 0.0776351\ttest: 0.1070214\tbest: 0.1070214 (952)\ttotal: 4m 3s\tremaining: 12s\n",
      "953:\tlearn: 0.0776254\ttest: 0.1070206\tbest: 0.1070206 (953)\ttotal: 4m 3s\tremaining: 11.8s\n",
      "954:\tlearn: 0.0775836\ttest: 0.1069927\tbest: 0.1069927 (954)\ttotal: 4m 3s\tremaining: 11.5s\n",
      "955:\tlearn: 0.0775776\ttest: 0.1069947\tbest: 0.1069927 (954)\ttotal: 4m 4s\tremaining: 11.2s\n",
      "956:\tlearn: 0.0775189\ttest: 0.1069510\tbest: 0.1069510 (956)\ttotal: 4m 4s\tremaining: 11s\n",
      "957:\tlearn: 0.0775131\ttest: 0.1069512\tbest: 0.1069510 (956)\ttotal: 4m 4s\tremaining: 10.7s\n",
      "958:\tlearn: 0.0775071\ttest: 0.1069456\tbest: 0.1069456 (958)\ttotal: 4m 4s\tremaining: 10.5s\n",
      "959:\tlearn: 0.0774975\ttest: 0.1069461\tbest: 0.1069456 (958)\ttotal: 4m 4s\tremaining: 10.2s\n",
      "960:\tlearn: 0.0774291\ttest: 0.1069236\tbest: 0.1069236 (960)\ttotal: 4m 5s\tremaining: 9.95s\n",
      "961:\tlearn: 0.0773805\ttest: 0.1069067\tbest: 0.1069067 (961)\ttotal: 4m 5s\tremaining: 9.69s\n",
      "962:\tlearn: 0.0773747\ttest: 0.1069067\tbest: 0.1069067 (961)\ttotal: 4m 5s\tremaining: 9.43s\n",
      "963:\tlearn: 0.0773197\ttest: 0.1068750\tbest: 0.1068750 (963)\ttotal: 4m 5s\tremaining: 9.18s\n",
      "964:\tlearn: 0.0772262\ttest: 0.1068393\tbest: 0.1068393 (964)\ttotal: 4m 5s\tremaining: 8.92s\n",
      "965:\tlearn: 0.0772195\ttest: 0.1068394\tbest: 0.1068393 (964)\ttotal: 4m 6s\tremaining: 8.66s\n",
      "966:\tlearn: 0.0772105\ttest: 0.1068438\tbest: 0.1068393 (964)\ttotal: 4m 6s\tremaining: 8.41s\n",
      "967:\tlearn: 0.0771989\ttest: 0.1068379\tbest: 0.1068379 (967)\ttotal: 4m 6s\tremaining: 8.15s\n",
      "968:\tlearn: 0.0771203\ttest: 0.1067927\tbest: 0.1067927 (968)\ttotal: 4m 6s\tremaining: 7.89s\n",
      "969:\tlearn: 0.0771147\ttest: 0.1067877\tbest: 0.1067877 (969)\ttotal: 4m 6s\tremaining: 7.64s\n",
      "970:\tlearn: 0.0771092\ttest: 0.1067877\tbest: 0.1067877 (969)\ttotal: 4m 7s\tremaining: 7.38s\n",
      "971:\tlearn: 0.0770992\ttest: 0.1067829\tbest: 0.1067829 (971)\ttotal: 4m 7s\tremaining: 7.13s\n",
      "972:\tlearn: 0.0770035\ttest: 0.1066613\tbest: 0.1066613 (972)\ttotal: 4m 7s\tremaining: 6.87s\n",
      "973:\tlearn: 0.0769934\ttest: 0.1066560\tbest: 0.1066560 (973)\ttotal: 4m 7s\tremaining: 6.62s\n",
      "974:\tlearn: 0.0769863\ttest: 0.1066556\tbest: 0.1066556 (974)\ttotal: 4m 8s\tremaining: 6.36s\n",
      "975:\tlearn: 0.0769807\ttest: 0.1066339\tbest: 0.1066339 (975)\ttotal: 4m 8s\tremaining: 6.1s\n",
      "976:\tlearn: 0.0769298\ttest: 0.1065702\tbest: 0.1065702 (976)\ttotal: 4m 8s\tremaining: 5.85s\n",
      "977:\tlearn: 0.0768808\ttest: 0.1065356\tbest: 0.1065356 (977)\ttotal: 4m 8s\tremaining: 5.59s\n",
      "978:\tlearn: 0.0768752\ttest: 0.1065329\tbest: 0.1065329 (978)\ttotal: 4m 8s\tremaining: 5.34s\n",
      "979:\tlearn: 0.0768698\ttest: 0.1065275\tbest: 0.1065275 (979)\ttotal: 4m 9s\tremaining: 5.08s\n",
      "980:\tlearn: 0.0768622\ttest: 0.1065266\tbest: 0.1065266 (980)\ttotal: 4m 9s\tremaining: 4.83s\n",
      "981:\tlearn: 0.0768389\ttest: 0.1065182\tbest: 0.1065182 (981)\ttotal: 4m 9s\tremaining: 4.57s\n",
      "982:\tlearn: 0.0767563\ttest: 0.1064662\tbest: 0.1064662 (982)\ttotal: 4m 9s\tremaining: 4.32s\n",
      "983:\tlearn: 0.0767504\ttest: 0.1064554\tbest: 0.1064554 (983)\ttotal: 4m 9s\tremaining: 4.06s\n",
      "984:\tlearn: 0.0767436\ttest: 0.1064551\tbest: 0.1064551 (984)\ttotal: 4m 10s\tremaining: 3.81s\n",
      "985:\tlearn: 0.0766848\ttest: 0.1064380\tbest: 0.1064380 (985)\ttotal: 4m 10s\tremaining: 3.55s\n",
      "986:\tlearn: 0.0766787\ttest: 0.1064380\tbest: 0.1064380 (986)\ttotal: 4m 10s\tremaining: 3.3s\n",
      "987:\tlearn: 0.0765684\ttest: 0.1063783\tbest: 0.1063783 (987)\ttotal: 4m 10s\tremaining: 3.04s\n",
      "988:\tlearn: 0.0765628\ttest: 0.1063770\tbest: 0.1063770 (988)\ttotal: 4m 10s\tremaining: 2.79s\n",
      "989:\tlearn: 0.0765558\ttest: 0.1063775\tbest: 0.1063770 (988)\ttotal: 4m 11s\tremaining: 2.54s\n",
      "990:\tlearn: 0.0765491\ttest: 0.1063737\tbest: 0.1063737 (990)\ttotal: 4m 11s\tremaining: 2.28s\n",
      "991:\tlearn: 0.0765404\ttest: 0.1063657\tbest: 0.1063657 (991)\ttotal: 4m 11s\tremaining: 2.03s\n",
      "992:\tlearn: 0.0764690\ttest: 0.1062864\tbest: 0.1062864 (992)\ttotal: 4m 11s\tremaining: 1.77s\n",
      "993:\tlearn: 0.0764613\ttest: 0.1062834\tbest: 0.1062834 (993)\ttotal: 4m 11s\tremaining: 1.52s\n",
      "994:\tlearn: 0.0764523\ttest: 0.1062839\tbest: 0.1062834 (993)\ttotal: 4m 12s\tremaining: 1.27s\n",
      "995:\tlearn: 0.0764380\ttest: 0.1062817\tbest: 0.1062817 (995)\ttotal: 4m 12s\tremaining: 1.01s\n",
      "996:\tlearn: 0.0764028\ttest: 0.1062799\tbest: 0.1062799 (996)\ttotal: 4m 12s\tremaining: 760ms\n",
      "997:\tlearn: 0.0763052\ttest: 0.1061341\tbest: 0.1061341 (997)\ttotal: 4m 12s\tremaining: 507ms\n",
      "998:\tlearn: 0.0763000\ttest: 0.1061359\tbest: 0.1061341 (997)\ttotal: 4m 13s\tremaining: 254ms\n",
      "999:\tlearn: 0.0762945\ttest: 0.1061257\tbest: 0.1061257 (999)\ttotal: 4m 13s\tremaining: 0us\n",
      "\n",
      "bestTest = 0.1061257369\n",
      "bestIteration = 999\n",
      "\n"
     ]
    },
    {
     "data": {
      "text/plain": [
       "<catboost.core.CatBoostClassifier at 0x7dac60936fb0>"
      ]
     },
     "execution_count": 19,
     "metadata": {},
     "output_type": "execute_result"
    }
   ],
   "source": [
    "from catboost import CatBoostClassifier\n",
    "from sklearn.metrics import classification_report\n",
    "\n",
    "# create an instance of the model\n",
    "cat = CatBoostClassifier()\n",
    "\n",
    "# train the model\n",
    "cat.fit(X_train, y_train, eval_set=(X_test, y_test))"
   ]
  },
  {
   "cell_type": "code",
   "execution_count": null,
   "metadata": {
    "colab": {
     "base_uri": "https://localhost:8080/"
    },
    "id": "BQSRFTOIrQid",
    "outputId": "5b05abfc-3b9d-4f49-c01c-c87940a34d41"
   },
   "outputs": [
    {
     "name": "stdout",
     "output_type": "stream",
     "text": [
      "Accuracy score: 0.9662198391420912\n",
      "              precision    recall  f1-score   support\n",
      "\n",
      "           0       0.99      0.96      0.97      2273\n",
      "           1       0.94      0.98      0.96      1457\n",
      "\n",
      "    accuracy                           0.97      3730\n",
      "   macro avg       0.96      0.97      0.96      3730\n",
      "weighted avg       0.97      0.97      0.97      3730\n",
      "\n"
     ]
    }
   ],
   "source": [
    "# make predictions\n",
    "Y_pred_cat = cat.predict(X_test)\n",
    "\n",
    "# print the accuracy score and classification report\n",
    "print(\"Accuracy score:\", cat.score(X_test, y_test))\n",
    "print(classification_report(y_test, Y_pred_cat))"
   ]
  },
  {
   "cell_type": "code",
   "execution_count": null,
   "metadata": {
    "colab": {
     "base_uri": "https://localhost:8080/",
     "height": 449
    },
    "id": "TS-EcUthrmIW",
    "outputId": "fac8731f-5b8d-4404-e721-331d7a13d917"
   },
   "outputs": [
    {
     "data": {
      "image/png": "[encoded data removed]",
      "text/plain": [
       "<Figure size 640x480 with 2 Axes>"
      ]
     },
     "metadata": {},
     "output_type": "display_data"
    }
   ],
   "source": [
    "from sklearn.metrics import confusion_matrix\n",
    "import seaborn as sns\n",
    "import matplotlib.pyplot as plt\n",
    "\n",
    "# predict on test set\n",
    "Y_pred_cat = cat.predict(X_test)\n",
    "\n",
    "# create confusion matrix\n",
    "cm = confusion_matrix(y_test, Y_pred_cat)\n",
    "\n",
    "# plot confusion matrix using seaborn heatmap\n",
    "sns.heatmap(cm, annot=True, cmap='Blues', fmt='g')\n",
    "plt.xlabel('Predicted')\n",
    "plt.ylabel('True')\n",
    "plt.show()\n"
   ]
  },
  {
   "cell_type": "code",
   "execution_count": null,
   "metadata": {
    "colab": {
     "base_uri": "https://localhost:8080/"
    },
    "id": "IqJytTYBKjq1",
    "outputId": "5cd502ea-0b9f-4223-c3cb-a8b13caf8f23"
   },
   "outputs": [
    {
     "name": "stdout",
     "output_type": "stream",
     "text": [
      "The accuracy score achieved using Logistic Regression is: 97.2386 %\n",
      "The accuracy score achieved using Support Vector Machine is: 96.1394 %\n",
      "The accuracy score achieved using Random Forest is: 96.756 %\n",
      "The accuracy score achieved using Xgboost is: 96.2198 %\n",
      "The accuracy score achieved using CatBoost is: 96.622 %\n"
     ]
    }
   ],
   "source": [
    "score_lor = 97.2386\n",
    "score_svm = 96.1394\n",
    "score_rf = 96.756\n",
    "score_xgb = 96.2198\n",
    "score_cat = 96.622\n",
    "\n",
    "# Define the data\n",
    "scores = [score_lor, score_svm, score_rf, score_xgb, score_cat]\n",
    "algorithms = [\"Logistic Regression\", \"Support Vector Machine\", \"Random Forest\", \"Xgboost\", \"CatBoost\"]\n",
    "\n",
    "for i in range(len(algorithms)):\n",
    "    print(\"The accuracy score achieved using \" + algorithms[i] + \" is: \" + str(scores[i]) + \" %\")\n"
   ]
  },
  {
   "cell_type": "code",
   "execution_count": null,
   "metadata": {
    "colab": {
     "base_uri": "https://localhost:8080/",
     "height": 556
    },
    "id": "IkuM9raBKkw3",
    "outputId": "823cc03d-b775-4fe2-a8ae-fc5e8cc01180"
   },
   "outputs": [
    {
     "data": {
      "image/png": "[encoded data removed]",
      "text/plain": [
       "<Figure size 640x480 with 1 Axes>"
      ]
     },
     "metadata": {},
     "output_type": "display_data"
    }
   ],
   "source": [
    "import matplotlib.pyplot as plt\n",
    "import numpy as np\n",
    "\n",
    "# Define the data\n",
    "scores = [score_lor, score_svm, score_rf, score_xgb, score_cat]\n",
    "algorithms = [\"LR\", \"SVM\", \"RF\", \"Xgboost\", \"CatBoost\"]\n",
    "\n",
    "# Sort the scores in descending order\n",
    "sorted_scores, sorted_algorithms = zip(*sorted(zip(scores, algorithms), reverse=False))\n",
    "\n",
    "# Define the colors\n",
    "colors = plt.cm.tab20(np.linspace(0, 1, len(algorithms)))\n",
    "\n",
    "# Set the style to use a dark grid\n",
    "sns.set_style(\"darkgrid\")\n",
    "\n",
    "# Create the vertical bar plot\n",
    "fig, ax = plt.subplots()\n",
    "ax.bar(sorted_algorithms, sorted_scores, color=colors, width=0.8)\n",
    "\n",
    "# Set the x-axis label and the y-axis label\n",
    "ax.set_xlabel('\\nAlgorithm')\n",
    "ax.set_ylabel('Accuracy Score')\n",
    "\n",
    "# Set the title of the plot\n",
    "ax.set_title('Accuracy Scores for Different Classification Algorithms\\n')\n",
    "\n",
    "# Rotate the x-axis labels for better readability\n",
    "plt.xticks(rotation=60)\n",
    "\n",
    "# Show the plot\n",
    "plt.show()\n"
   ]
  },
  {
   "cell_type": "code",
   "execution_count": null,
   "metadata": {
    "colab": {
     "base_uri": "https://localhost:8080/",
     "height": 556
    },
    "id": "WVXeycKKKptQ",
    "outputId": "7c09fb80-e824-41f0-ccbb-81255ac6b42e"
   },
   "outputs": [
    {
     "data": {
      "image/png": "[encoded data removed]",
      "text/plain": [
       "<Figure size 640x480 with 1 Axes>"
      ]
     },
     "metadata": {},
     "output_type": "display_data"
    }
   ],
   "source": [
    "import matplotlib.pyplot as plt\n",
    "import numpy as np\n",
    "\n",
    "# Define the data\n",
    "scores = [score_lor, score_svm, score_rf, score_xgb, score_cat]\n",
    "algorithms = [\"LR\", \"SVM\", \"RF\", \"Xgboost\", \"CatBoost\"]\n",
    "\n",
    "# Sort the scores in descending order\n",
    "sorted_scores, sorted_algorithms = zip(*sorted(zip(scores, algorithms), reverse=False))\n",
    "\n",
    "# Define the colors\n",
    "colors = plt.cm.tab10(np.linspace(0, 1, len(algorithms)))\n",
    "\n",
    "# Set the style to use no grid\n",
    "sns.set_style(\"darkgrid\")\n",
    "\n",
    "# Create the first bar plot with hollow bars\n",
    "fig, ax = plt.subplots()\n",
    "bars = ax.bar(sorted_algorithms, sorted_scores, color='none', edgecolor=colors, width=0.8, linewidth=7)\n",
    "\n",
    "# Add text labels with the scores on top of each bar\n",
    "for bar, score in zip(bars, sorted_scores):\n",
    "    ax.text(bar.get_x() + bar.get_width() / 2, bar.get_height() + 1.4, round(score, 2), ha='center', va='bottom', fontsize=8)\n",
    "\n",
    "# Set the x-axis label and the y-axis label\n",
    "ax.set_xlabel('\\nAlgorithm')\n",
    "ax.set_ylabel('Accuracy Score')\n",
    "\n",
    "# Set the title of the plot\n",
    "ax.set_title('Accuracy Scores for Different Classification Algorithms\\n')\n",
    "\n",
    "# Rotate the x-axis labels for better readability\n",
    "plt.xticks(rotation=60)\n",
    "\n",
    "# Show the plot\n",
    "plt.show()\n"
   ]
  },
  {
   "cell_type": "code",
   "execution_count": null,
   "metadata": {
    "colab": {
     "base_uri": "https://localhost:8080/",
     "height": 481
    },
    "id": "SuPW_hCygku-",
    "outputId": "bac6e509-6f2e-49b4-cc0d-47a6de38bac3"
   },
   "outputs": [
    {
     "data": {
      "image/png": "[encoded data removed]",
      "text/plain": [
       "<Figure size 640x480 with 1 Axes>"
      ]
     },
     "metadata": {},
     "output_type": "display_data"
    }
   ],
   "source": [
    "import numpy as np\n",
    "import matplotlib.pyplot as plt\n",
    "\n",
    "# Performance measures for each model and class\n",
    "models = ['Xgboost', 'SVM', 'CatBoost', 'RF', 'LR']\n",
    "# classes = ['Normal', 'Mild', 'Moderate', 'Severe']\n",
    "accuracy = [96.1394, 96.2198, 96.622, 96.756, 97.2386]\n",
    "precision = [96, 95.5, 96.5, 96.5, 96.5]\n",
    "recall = [96.5, 96.5, 97, 97, 97.5]\n",
    "f1_score = [96, 96, 96.5, 96.5, 97.5]\n",
    "\n",
    "# Set the width of the bars\n",
    "bar_width = 0.15\n",
    "\n",
    "# Set the positions of the bars on the x-axis\n",
    "r1 = np.arange(len(models))\n",
    "r2 = [x + bar_width + 0.05 for x in r1]\n",
    "r3 = [x + 2*bar_width + 0.1 for x in r1]\n",
    "r4 = [x + 3*bar_width + 0.15 for x in r1]  # Adjust the offset here\n",
    "\n",
    "# Create the bar chart\n",
    "plt.bar(r1, accuracy, color='b', width=bar_width, edgecolor='white', linewidth=2.2, label='Accuracy')\n",
    "plt.bar(r2, precision, width=bar_width, color='g', edgecolor='white', linewidth=2.2, label='Precision')\n",
    "plt.bar(r3, recall, color='r', width=bar_width, edgecolor='white', linewidth=2.2, label='Recall')\n",
    "plt.bar(r4, f1_score, color='y', width=bar_width, edgecolor='white', linewidth=2.2, label='F1-score')\n",
    "\n",
    "# Add x-axis labels and tick labels\n",
    "plt.xlabel('')\n",
    "plt.ylabel('')\n",
    "plt.title('Model Evaluation Metrics\\n')\n",
    "\n",
    "# Customize x-axis tick labels\n",
    "plt.xticks(r1 + 1.5*bar_width + 0.025, models)  # Adjust the offset here\n",
    "\n",
    "# Add a legend as a horizontal line below the plot\n",
    "legend = plt.legend(loc='lower center', bbox_to_anchor=(0.5, -0.2), ncol=4, handlelength=1, handletextpad=0.5)\n",
    "\n",
    "# Set the size of the bars in the legend to make them square\n",
    "for handle in legend.legendHandles:\n",
    "    handle.set_height(10)  # Adjust the size here\n",
    "    handle.set_width(10)  # Adjust the size here\n",
    "\n",
    "# Display the chart\n",
    "plt.tight_layout()\n",
    "plt.show()\n"
   ]
  },
  {
   "cell_type": "code",
   "execution_count": null,
   "metadata": {
    "colab": {
     "base_uri": "https://localhost:8080/",
     "height": 481
    },
    "id": "0a19mgEXe53b",
    "outputId": "e0e5e999-2648-439c-b1f1-b7806a32aadb"
   },
   "outputs": [
    {
     "data": {
      "image/png": "[encoded data removed]",
      "text/plain": [
       "<Figure size 640x480 with 1 Axes>"
      ]
     },
     "metadata": {},
     "output_type": "display_data"
    }
   ],
   "source": [
    "import numpy as np\n",
    "import matplotlib.pyplot as plt\n",
    "\n",
    "# Performance measures for each model and class\n",
    "models = ['Xgboost', 'SVM', 'CatBoost', 'RF', 'LR']\n",
    "# classes = ['Normal', 'Mild', 'Moderate', 'Severe']\n",
    "accuracy = [96.1394, 96.2198, 96.622, 96.756, 97.2386]\n",
    "precision = [96, 95.5, 96.5, 96.5, 96.5]\n",
    "recall = [96.5, 96.5, 97, 97, 97.5]\n",
    "f1_score = [96, 96, 96.5, 96.5, 97.5]\n",
    "\n",
    "# Set the width of the bars\n",
    "bar_width = 0.15\n",
    "\n",
    "# Set the positions of the bars on the x-axis\n",
    "r1 = np.arange(len(models))\n",
    "r2 = [x + bar_width + 0.05 for x in r1]\n",
    "r3 = [x + 2*bar_width + 0.1 for x in r1]\n",
    "r4 = [x + 3*bar_width + 0.15 for x in r1]  # Adjust the offset here\n",
    "\n",
    "# Create the bar chart\n",
    "plt.bar(r1, accuracy, color='none', width=bar_width, edgecolor='b', linewidth=2.2, label='Accuracy')\n",
    "plt.bar(r2, precision, width=bar_width, color='none', edgecolor='black', linewidth=2.2, label='Precision')\n",
    "plt.bar(r3, recall, color='none', width=bar_width, edgecolor='r', linewidth=2.2, label='Recall')\n",
    "plt.bar(r4, f1_score, color='none', width=bar_width, edgecolor='darkgreen', linewidth=2.2, label='F1-score')\n",
    "\n",
    "# Add x-axis labels and tick labels\n",
    "plt.xlabel('')\n",
    "plt.ylabel('')\n",
    "plt.title('Model Evaluation Metrics\\n')\n",
    "\n",
    "# Customize x-axis tick labels\n",
    "plt.xticks(r1 + 1.5*bar_width + 0.025, models)  # Adjust the offset here\n",
    "\n",
    "# Add a legend as a horizontal line below the plot\n",
    "legend = plt.legend(loc='lower center', bbox_to_anchor=(0.5, -0.2), ncol=4, handlelength=1, handletextpad=0.5)\n",
    "\n",
    "# Set the size of the bars in the legend to make them square\n",
    "for handle in legend.legendHandles:\n",
    "    handle.set_height(10)  # Adjust the size here\n",
    "    handle.set_width(10)  # Adjust the size here\n",
    "\n",
    "# Display the chart\n",
    "plt.tight_layout()\n",
    "plt.show()\n"
   ]
  },
  {
   "cell_type": "code",
   "execution_count": null,
   "metadata": {
    "colab": {
     "base_uri": "https://localhost:8080/",
     "height": 472
    },
    "id": "FgvhwBiIiDAO",
    "outputId": "98147174-ecb2-48ef-ff3b-c04601eee2f7"
   },
   "outputs": [
    {
     "data": {
      "image/png": "[encoded data removed]",
      "text/plain": [
       "<Figure size 640x480 with 1 Axes>"
      ]
     },
     "metadata": {},
     "output_type": "display_data"
    }
   ],
   "source": [
    "import numpy as np\n",
    "import matplotlib.pyplot as plt\n",
    "\n",
    "# Performance measures for each model and class\n",
    "models = ['Xgboost', 'SVM', 'CatBoost', 'RF', 'LR']\n",
    "# classes = ['Normal', 'Mild', 'Moderate', 'Severe']\n",
    "accuracy = [96.1394, 96.2198, 96.622, 96.756, 97.2386]\n",
    "precision = [96, 95.5, 96.5, 96.5, 96.5]\n",
    "recall = [96.5, 96.5, 97, 97, 97.5]\n",
    "f1_score = [96, 96, 96.5, 96.5, 97.5]\n",
    "\n",
    "\n",
    "# Set the width of the bars\n",
    "bar_width = 0.2\n",
    "\n",
    "# Set the positions of the bars on the x-axis\n",
    "r1 = range(len(models))\n",
    "r2 = [x + bar_width for x in r1]\n",
    "r3 = [x + 2*bar_width for x in r1]\n",
    "r4 = [x + 3*bar_width for x in r1]\n",
    "\n",
    "# Create the bar chart\n",
    "plt.bar(r1, accuracy, color='b', width=bar_width, edgecolor='white', label='Accuracy')\n",
    "plt.bar(r2, precision, color='g', width=bar_width, edgecolor='white', label='Precision')\n",
    "plt.bar(r3, recall, color='r', width=bar_width, edgecolor='white', label='Recall')\n",
    "plt.bar(r4, f1_score, color='y', width=bar_width, edgecolor='white', label='F1-score')\n",
    "\n",
    "# Add x-axis labels and tick labels\n",
    "plt.xlabel('Models')\n",
    "plt.ylabel('Scores')\n",
    "plt.title('Model Evaluation Metrics')\n",
    "\n",
    "# Customize x-axis tick labels\n",
    "plt.xticks([r + 1.5*bar_width for r in range(len(models))], models)\n",
    "\n",
    "# Add a legend\n",
    "plt.legend()\n",
    "\n",
    "# Display the chart\n",
    "plt.show()"
   ]
  },
  {
   "cell_type": "code",
   "execution_count": null,
   "metadata": {
    "colab": {
     "base_uri": "https://localhost:8080/",
     "height": 481
    },
    "id": "cpknDFSrimPX",
    "outputId": "b1ac6a0d-06c1-439a-ebf9-7e83b3dabe32"
   },
   "outputs": [
    {
     "data": {
      "image/png": "[encoded data removed]",
      "text/plain": [
       "<Figure size 640x480 with 1 Axes>"
      ]
     },
     "metadata": {},
     "output_type": "display_data"
    }
   ],
   "source": [
    "import numpy as np\n",
    "import matplotlib.pyplot as plt\n",
    "\n",
    "# Performance measures for each model and class\n",
    "models = ['Xgboost', 'SVM', 'CatBoost', 'RF', 'LR']\n",
    "# classes = ['Normal', 'Mild', 'Moderate', 'Severe']\n",
    "accuracy = [96.1394, 96.2198, 96.622, 96.756, 97.2386]\n",
    "precision = [89, 81, 90, 89, 91]\n",
    "recall = [88, 69, 84, 87, 90]\n",
    "f1_score = [88, 73, 86, 88, 90]\n",
    "\n",
    "# Set the width of the bars\n",
    "bar_width = 0.15\n",
    "\n",
    "# Set the positions of the bars on the x-axis\n",
    "r1 = np.arange(len(models))\n",
    "r2 = [x + bar_width + 0.05 for x in r1]\n",
    "r3 = [x + 2*bar_width + 0.1 for x in r1]\n",
    "r4 = [x + 3*bar_width + 0.15 for x in r1]  # Adjust the offset here\n",
    "\n",
    "# Create the bar chart\n",
    "plt.bar(r1, accuracy, color='none', width=bar_width, edgecolor='b', linewidth=2.2, label='Accuracy')\n",
    "plt.bar(r2, precision, width=bar_width, color='none', edgecolor='black', linewidth=2.2, label='Precision')\n",
    "plt.bar(r3, recall, color='none', width=bar_width, edgecolor='r', linewidth=2.2, label='Recall')\n",
    "plt.bar(r4, f1_score, color='none', width=bar_width, edgecolor='darkgreen', linewidth=2.2, label='F1-score')\n",
    "\n",
    "# Add x-axis labels and tick labels\n",
    "plt.xlabel('')\n",
    "plt.ylabel('')\n",
    "plt.title('Model Evaluation Metrics\\n')\n",
    "\n",
    "# Customize x-axis tick labels\n",
    "plt.xticks(r1 + 1.5*bar_width + 0.025, models)  # Adjust the offset here\n",
    "\n",
    "# Add a legend as a horizontal line below the plot\n",
    "legend = plt.legend(loc='lower center', bbox_to_anchor=(0.5, -0.2), ncol=4, handlelength=1, handletextpad=0.5)\n",
    "\n",
    "# Set the size of the bars in the legend to make them square\n",
    "for handle in legend.legendHandles:\n",
    "    handle.set_height(10)  # Adjust the size here\n",
    "    handle.set_width(10)  # Adjust the size here\n",
    "\n",
    "# Display the chart\n",
    "plt.tight_layout()\n",
    "plt.show()\n"
   ]
  },
  {
   "cell_type": "code",
   "execution_count": null,
   "metadata": {
    "colab": {
     "base_uri": "https://localhost:8080/",
     "height": 472
    },
    "id": "m93pS3EgaMAh",
    "outputId": "884d0ba7-d4e2-433e-9c59-bd9fb264ebea"
   },
   "outputs": [
    {
     "data": {
      "image/png": "[encoded data removed]",
      "text/plain": [
       "<Figure size 640x480 with 1 Axes>"
      ]
     },
     "metadata": {},
     "output_type": "display_data"
    }
   ],
   "source": [
    "import numpy as np\n",
    "import matplotlib.pyplot as plt\n",
    "\n",
    "# Performance measures for each model and class\n",
    "models = ['Xgboost', 'SVM', 'CatBoost', 'RF', 'LR']\n",
    "# classes = ['Normal', 'Mild', 'Moderate', 'Severe']\n",
    "accuracy = [96.1394, 96.2198, 96.622, 96.756, 97.2386]\n",
    "precision = [96, 95.5, 96.5, 96.5, 96.5]\n",
    "recall = [96.5, 96.5, 97, 97, 97.5]\n",
    "f1_score = [96, 96, 96.5, 96.5, 97.5]\n",
    "\n",
    "\n",
    "# Set the width of the bars\n",
    "bar_width = 0.2\n",
    "\n",
    "# Set the positions of the bars on the x-axis\n",
    "r1 = range(len(models))\n",
    "r2 = [x + bar_width for x in r1]\n",
    "r3 = [x + 2*bar_width for x in r1]\n",
    "r4 = [x + 3*bar_width for x in r1]\n",
    "\n",
    "# Create the bar chart\n",
    "plt.bar(r1, accuracy, color='b', width=bar_width, edgecolor='white', label='Accuracy')\n",
    "plt.bar(r2, precision, color='g', width=bar_width, edgecolor='white', label='Precision')\n",
    "plt.bar(r3, recall, color='r', width=bar_width, edgecolor='white', label='Recall')\n",
    "plt.bar(r4, f1_score, color='y', width=bar_width, edgecolor='white', label='F1-score')\n",
    "\n",
    "# Add x-axis labels and tick labels\n",
    "plt.xlabel('Models')\n",
    "plt.ylabel('Scores')\n",
    "plt.title('Model Evaluation Metrics')\n",
    "\n",
    "# Customize x-axis tick labels\n",
    "plt.xticks([r + 1.5*bar_width for r in range(len(models))], models)\n",
    "\n",
    "# Add a legend\n",
    "plt.legend()\n",
    "\n",
    "# Display the chart\n",
    "plt.show()"
   ]
  },
  {
   "cell_type": "code",
   "execution_count": null,
   "metadata": {
    "colab": {
     "base_uri": "https://localhost:8080/"
    },
    "id": "LM9gExsttVAB",
    "outputId": "13cb7871-7390-44e0-ee84-3f97f25f9100"
   },
   "outputs": [
    {
     "data": {
      "text/plain": [
       "['phishing_model.pkl']"
      ]
     },
     "execution_count": 15,
     "metadata": {},
     "output_type": "execute_result"
    }
   ],
   "source": [
    "import joblib\n",
    "\n",
    "# Assuming 'lor' is your trained LogisticRegression model\n",
    "joblib.dump(lor, 'phishing_model.pkl')\n"
   ]
  },
  {
   "cell_type": "code",
   "execution_count": null,
   "metadata": {
    "id": "fAADyHA4tqny"
   },
   "outputs": [],
   "source": [
    "# Load the trained model\n",
    "loaded_model = joblib.load('phishing_model.pkl')\n",
    "\n",
    "# Now you can use 'loaded_model' to make predictions\n"
   ]
  },
  {
   "cell_type": "code",
   "execution_count": null,
   "metadata": {
    "colab": {
     "base_uri": "https://localhost:8080/"
    },
    "id": "f_jX3zTYw0ec",
    "outputId": "63761df1-c865-46a0-d991-a1ade6381020"
   },
   "outputs": [
    {
     "name": "stdout",
     "output_type": "stream",
     "text": [
      "========================================\n",
      "Email Text:\n",
      "webcam dating is hot - - - - - - - - - - - - - - - - please no more\n",
      "========================================\n",
      "Preprocessed Email:\n",
      "webcam date hot pleas\n",
      "========================================\n",
      "Classification: Phishing Email\n",
      "========================================\n"
     ]
    },
    {
     "name": "stderr",
     "output_type": "stream",
     "text": [
      "[nltk_data] Downloading package stopwords to /root/nltk_data...\n",
      "[nltk_data]   Package stopwords is already up-to-date!\n"
     ]
    }
   ],
   "source": [
    "import nltk\n",
    "import re\n",
    "from nltk.corpus import stopwords\n",
    "from nltk.stem.porter import PorterStemmer\n",
    "from sklearn.feature_extraction.text import CountVectorizer\n",
    "from sklearn.linear_model import LogisticRegression\n",
    "import joblib\n",
    "\n",
    "# Download NLTK stopwords (only needs to be done once)\n",
    "nltk.download('stopwords')\n",
    "\n",
    "# Load the trained Logistic Regression model\n",
    "model = joblib.load('phishing_model.pkl')\n",
    "\n",
    "# Preprocessing function\n",
    "def preprocess_email(email_text):\n",
    "    stop_words = set(stopwords.words('english'))\n",
    "    ps = PorterStemmer()\n",
    "    email = re.sub('[^a-zA-Z]', ' ', email_text)\n",
    "    email = email.lower()\n",
    "    email = email.split()\n",
    "    email = [ps.stem(word) for word in email if word not in stop_words]\n",
    "    email = ' '.join(email)\n",
    "    return email\n",
    "\n",
    "# Example new email text\n",
    "new_email_text = \"webcam dating is hot - - - - - - - - - - - - - - - - please no more\"\n",
    "preprocessed_email = preprocess_email(new_email_text)\n",
    "\n",
    "# Load CountVectorizer and transform preprocessed email\n",
    "cv = CountVectorizer(vocabulary=cv.vocabulary_)  # Use the same vocabulary as in training\n",
    "X_new = cv.transform([preprocessed_email]).toarray()\n",
    "\n",
    "# Make a prediction using the trained model\n",
    "predicted_prob = model.predict_proba(X_new)[:, 1]  # Probability of being a phishing email\n",
    "\n",
    "# Set a threshold (adjust as needed)\n",
    "threshold = 0.5\n",
    "\n",
    "# Determine email classification\n",
    "classification = \"Phishing Email\" if predicted_prob > threshold else \"Safe Email\"\n",
    "\n",
    "# Print the formatted output\n",
    "print(\"=\" * 40)\n",
    "print(\"Email Text:\")\n",
    "print(new_email_text)\n",
    "print(\"=\" * 40)\n",
    "print(\"Preprocessed Email:\")\n",
    "print(preprocessed_email)\n",
    "print(\"=\" * 40)\n",
    "print(\"Classification:\", classification)\n",
    "print(\"=\" * 40)\n"
   ]
  },
  {
   "cell_type": "code",
   "execution_count": null,
   "metadata": {
    "colab": {
     "base_uri": "https://localhost:8080/"
    },
    "id": "ayE8UYgJxj45",
    "outputId": "9279daf7-2297-4fbd-f599-0865cd7ca392"
   },
   "outputs": [
    {
     "name": "stdout",
     "output_type": "stream",
     "text": [
      "============================================================\n",
      "Email Text\n",
      "webcam dating is hot - - - - - - - - - - - - - - - - please no more\n",
      "============================================================\n",
      "Classification: Phishing Email\n",
      "============================================================\n"
     ]
    },
    {
     "name": "stderr",
     "output_type": "stream",
     "text": [
      "[nltk_data] Downloading package stopwords to /root/nltk_data...\n",
      "[nltk_data]   Package stopwords is already up-to-date!\n"
     ]
    }
   ],
   "source": [
    "import nltk\n",
    "import re\n",
    "from nltk.corpus import stopwords\n",
    "from nltk.stem.porter import PorterStemmer\n",
    "from sklearn.feature_extraction.text import CountVectorizer\n",
    "from sklearn.linear_model import LogisticRegression\n",
    "import joblib\n",
    "\n",
    "# Download NLTK stopwords (only needs to be done once)\n",
    "nltk.download('stopwords')\n",
    "\n",
    "# Load the trained Logistic Regression model\n",
    "model = joblib.load('phishing_model.pkl')\n",
    "\n",
    "# Preprocessing function\n",
    "def preprocess_email(email_text):\n",
    "    stop_words = set(stopwords.words('english'))\n",
    "    ps = PorterStemmer()\n",
    "    email = re.sub('[^a-zA-Z]', ' ', email_text)\n",
    "    email = email.lower()\n",
    "    email = email.split()\n",
    "    email = [ps.stem(word) for word in email if word not in stop_words]\n",
    "    email = ' '.join(email)\n",
    "    return email\n",
    "\n",
    "# Example new email text\n",
    "new_email_text = \"webcam dating is hot - - - - - - - - - - - - - - - - please no more\"\n",
    "preprocessed_email = preprocess_email(new_email_text)\n",
    "\n",
    "# Load CountVectorizer and transform preprocessed email\n",
    "cv = CountVectorizer(vocabulary=cv.vocabulary_)  # Use the same vocabulary as in training\n",
    "X_new = cv.transform([preprocessed_email]).toarray()\n",
    "\n",
    "# Make a prediction using the trained model\n",
    "predicted_prob = model.predict_proba(X_new)[:, 1]  # Probability of being a phishing email\n",
    "\n",
    "# Set a threshold (adjust as needed)\n",
    "threshold = 0.5\n",
    "\n",
    "# Determine email classification\n",
    "classification = \"Phishing Email\" if predicted_prob > threshold else \"Safe Email\"\n",
    "\n",
    "# Print the formatted output\n",
    "print(\"=\" * 60)\n",
    "print(\"Email Text\")\n",
    "print(new_email_text)\n",
    "print(\"=\" * 60)\n",
    "print(\"Classification:\", classification)\n",
    "print(\"=\" * 60)\n"
   ]
  },
  {
   "cell_type": "code",
   "execution_count": null,
   "metadata": {
    "colab": {
     "base_uri": "https://localhost:8080/"
    },
    "id": "6-xYjfCAyVqZ",
    "outputId": "b7b5dc45-b333-41e2-ee8b-2d8c12d6d674"
   },
   "outputs": [
    {
     "name": "stdout",
     "output_type": "stream",
     "text": [
      "============================================================\n",
      "Email Text\n",
      "pictures streamlined denizen ajar chased heavens hostesses stolid pinched saturated staten seventeens juggler abashed ice guts centrifugal bauxite wader shyness whirr ukrainian understandingly conditioner barges entitles vanderpoel preset wigwam storming alexei supergroup tab mare birthright brutalize tolerates depots bubbling - - phone : 439 - 120 - 6060 mobile : 590 - 203 - 5805 email : darden . audley @ houston . rr . com\n",
      "============================================================\n",
      "Classification: Phishing Email\n",
      "============================================================\n"
     ]
    },
    {
     "name": "stderr",
     "output_type": "stream",
     "text": [
      "[nltk_data] Downloading package stopwords to /root/nltk_data...\n",
      "[nltk_data]   Package stopwords is already up-to-date!\n"
     ]
    }
   ],
   "source": [
    "import nltk\n",
    "import re\n",
    "from nltk.corpus import stopwords\n",
    "from nltk.stem.porter import PorterStemmer\n",
    "from sklearn.feature_extraction.text import CountVectorizer\n",
    "from sklearn.linear_model import LogisticRegression\n",
    "import joblib\n",
    "\n",
    "# Download NLTK stopwords (only needs to be done once)\n",
    "nltk.download('stopwords')\n",
    "\n",
    "# Load the trained Logistic Regression model\n",
    "model = joblib.load('phishing_model.pkl')\n",
    "\n",
    "# Preprocessing function\n",
    "def preprocess_email(email_text):\n",
    "    stop_words = set(stopwords.words('english'))\n",
    "    ps = PorterStemmer()\n",
    "    email = re.sub('[^a-zA-Z]', ' ', email_text)\n",
    "    email = email.lower()\n",
    "    email = email.split()\n",
    "    email = [ps.stem(word) for word in email if word not in stop_words]\n",
    "    email = ' '.join(email)\n",
    "    return email\n",
    "\n",
    "# Example new email text\n",
    "new_email_text = \"pictures streamlined denizen ajar chased heavens hostesses stolid pinched saturated staten seventeens juggler abashed ice guts centrifugal bauxite wader shyness whirr ukrainian understandingly conditioner barges entitles vanderpoel preset wigwam storming alexei supergroup tab mare birthright brutalize tolerates depots bubbling - - phone : 439 - 120 - 6060 mobile : 590 - 203 - 5805 email : darden . audley @ houston . rr . com\"\n",
    "preprocessed_email = preprocess_email(new_email_text)\n",
    "\n",
    "# Load CountVectorizer and transform preprocessed email\n",
    "cv = CountVectorizer(vocabulary=cv.vocabulary_)  # Use the same vocabulary as in training\n",
    "X_new = cv.transform([preprocessed_email]).toarray()\n",
    "\n",
    "# Make a prediction using the trained model\n",
    "predicted_prob = model.predict_proba(X_new)[:, 1]  # Probability of being a phishing email\n",
    "\n",
    "# Set a threshold (adjust as needed)\n",
    "threshold = 0.5\n",
    "\n",
    "# Determine email classification\n",
    "classification = \"Phishing Email\" if predicted_prob > threshold else \"Safe Email\"\n",
    "\n",
    "# Print the formatted output\n",
    "print(\"=\" * 60)\n",
    "print(\"Email Text\")\n",
    "print(new_email_text)\n",
    "print(\"=\" * 60)\n",
    "print(\"Classification:\", classification)\n",
    "print(\"=\" * 60)\n"
   ]
  },
  {
   "cell_type": "code",
   "execution_count": null,
   "metadata": {
    "colab": {
     "base_uri": "https://localhost:8080/"
    },
    "id": "HjELs3WA1kFg",
    "outputId": "6e3ac70a-257a-4a93-d951-35b067fa8272"
   },
   "outputs": [
    {
     "name": "stdout",
     "output_type": "stream",
     "text": [
      "============================================================\n",
      "Email Text\n",
      "On Sat, 24 Aug 2002, Adam L. Beberg wrote:--]And yet STILL noone is out there creating _public domain_ content. Is there\n",
      "============================================================\n",
      "Classification: Safe Email\n",
      "============================================================\n"
     ]
    },
    {
     "name": "stderr",
     "output_type": "stream",
     "text": [
      "[nltk_data] Downloading package stopwords to /root/nltk_data...\n",
      "[nltk_data]   Package stopwords is already up-to-date!\n"
     ]
    }
   ],
   "source": [
    "import nltk\n",
    "import re\n",
    "from nltk.corpus import stopwords\n",
    "from nltk.stem.porter import PorterStemmer\n",
    "from sklearn.feature_extraction.text import CountVectorizer\n",
    "from sklearn.linear_model import LogisticRegression\n",
    "import joblib\n",
    "\n",
    "# Download NLTK stopwords (only needs to be done once)\n",
    "nltk.download('stopwords')\n",
    "\n",
    "# Load the trained Logistic Regression model\n",
    "model = joblib.load('phishing_model.pkl')\n",
    "\n",
    "# Preprocessing function\n",
    "def preprocess_email(email_text):\n",
    "    stop_words = set(stopwords.words('english'))\n",
    "    ps = PorterStemmer()\n",
    "    email = re.sub('[^a-zA-Z]', ' ', email_text)\n",
    "    email = email.lower()\n",
    "    email = email.split()\n",
    "    email = [ps.stem(word) for word in email if word not in stop_words]\n",
    "    email = ' '.join(email)\n",
    "    return email\n",
    "\n",
    "# Example new email text\n",
    "new_email_text = \"On Sat, 24 Aug 2002, Adam L. Beberg wrote:--]And yet STILL noone is out there creating _public domain_ content. Is there\"\n",
    "preprocessed_email = preprocess_email(new_email_text)\n",
    "\n",
    "# Load CountVectorizer and transform preprocessed email\n",
    "cv = CountVectorizer(vocabulary=cv.vocabulary_)  # Use the same vocabulary as in training\n",
    "X_new = cv.transform([preprocessed_email]).toarray()\n",
    "\n",
    "# Make a prediction using the trained model\n",
    "predicted_prob = model.predict_proba(X_new)[:, 1]  # Probability of being a phishing email\n",
    "\n",
    "# Set a threshold (adjust as needed)\n",
    "threshold = 0.5\n",
    "\n",
    "# Determine email classification\n",
    "classification = \"Phishing Email\" if predicted_prob > threshold else \"Safe Email\"\n",
    "\n",
    "# Print the formatted output\n",
    "print(\"=\" * 60)\n",
    "print(\"Email Text\")\n",
    "print(new_email_text)\n",
    "print(\"=\" * 60)\n",
    "print(\"Classification:\", classification)\n",
    "print(\"=\" * 60)\n"
   ]
  },
  {
   "cell_type": "code",
   "execution_count": null,
   "metadata": {
    "colab": {
     "base_uri": "https://localhost:8080/"
    },
    "id": "AQiaHqUE4aL2",
    "outputId": "4df99569-eb5a-444e-cd93-e6ab23b9ba5a"
   },
   "outputs": [
    {
     "name": "stdout",
     "output_type": "stream",
     "text": [
      "============================================================\n",
      "Email Text\n",
      "Actually, this is common. I've known a couple of people who have suffered this. Believe it or not, you were lucky. You were home, rather than on vacation, and so you didn't have the intake line flowing onto the floor for two weeks.\n",
      "============================================================\n",
      "Classification: Safe Email\n",
      "============================================================\n"
     ]
    },
    {
     "name": "stderr",
     "output_type": "stream",
     "text": [
      "[nltk_data] Downloading package stopwords to /root/nltk_data...\n",
      "[nltk_data]   Package stopwords is already up-to-date!\n"
     ]
    }
   ],
   "source": [
    "import nltk\n",
    "import re\n",
    "from nltk.corpus import stopwords\n",
    "from nltk.stem.porter import PorterStemmer\n",
    "from sklearn.feature_extraction.text import CountVectorizer\n",
    "from sklearn.linear_model import LogisticRegression\n",
    "import joblib\n",
    "\n",
    "# Download NLTK stopwords (only needs to be done once)\n",
    "nltk.download('stopwords')\n",
    "\n",
    "# Load the trained Logistic Regression model\n",
    "model = joblib.load('phishing_model.pkl')\n",
    "\n",
    "# Preprocessing function\n",
    "def preprocess_email(email_text):\n",
    "    stop_words = set(stopwords.words('english'))\n",
    "    ps = PorterStemmer()\n",
    "    email = re.sub('[^a-zA-Z]', ' ', email_text)\n",
    "    email = email.lower()\n",
    "    email = email.split()\n",
    "    email = [ps.stem(word) for word in email if word not in stop_words]\n",
    "    email = ' '.join(email)\n",
    "    return email\n",
    "\n",
    "# Example new email text\n",
    "new_email_text = \"Actually, this is common. I've known a couple of people who have suffered this. Believe it or not, you were lucky. You were home, rather than on vacation, and so you didn't have the intake line flowing onto the floor for two weeks.\"\n",
    "preprocessed_email = preprocess_email(new_email_text)\n",
    "\n",
    "# Load CountVectorizer and transform preprocessed email\n",
    "cv = CountVectorizer(vocabulary=cv.vocabulary_)  # Use the same vocabulary as in training\n",
    "X_new = cv.transform([preprocessed_email]).toarray()\n",
    "\n",
    "# Make a prediction using the trained model\n",
    "predicted_prob = model.predict_proba(X_new)[:, 1]  # Probability of being a phishing email\n",
    "\n",
    "# Set a threshold (adjust as needed)\n",
    "threshold = 0.5\n",
    "\n",
    "# Determine email classification\n",
    "classification = \"Phishing Email\" if predicted_prob > threshold else \"Safe Email\"\n",
    "\n",
    "# Print the formatted output\n",
    "print(\"=\" * 60)\n",
    "print(\"Email Text\")\n",
    "print(new_email_text)\n",
    "print(\"=\" * 60)\n",
    "print(\"Classification:\", classification)\n",
    "print(\"=\" * 60)\n"
   ]
  },
  {
   "cell_type": "code",
   "execution_count": null,
   "metadata": {
    "id": "SHMmaOlh2y_d"
   },
   "outputs": [],
   "source": []
  }
 ],
 "metadata": {
  "colab": {
   "provenance": []
  },
  "kernelspec": {
   "display_name": "Python 3 (ipykernel)",
   "language": "python",
   "name": "python3"
  },
  "language_info": {
   "codemirror_mode": {
    "name": "ipython",
    "version": 3
   },
   "file_extension": ".py",
   "mimetype": "text/x-python",
   "name": "python",
   "nbconvert_exporter": "python",
   "pygments_lexer": "ipython3",
   "version": "3.9.13"
  }
 },
 "nbformat": 4,
 "nbformat_minor": 1
}
